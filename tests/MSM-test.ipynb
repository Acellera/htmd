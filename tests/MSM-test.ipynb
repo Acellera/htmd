{
 "worksheets": [
  {
   "cells": [
    {
     "cell_type": "code",
     "execution_count": null,
     "metadata": {},
     "outputs": [],
     "input": [
      "from htmd import *\n",
      "import os\n",
      "from sklearn.cluster import MiniBatchKMeans"
     ],
     "language": "python"
    },
    {
     "cell_type": "code",
     "execution_count": null,
     "metadata": {},
     "outputs": [],
     "input": [
      "os.chdir('/webdata/li198ha8nfoiw90y2/')\n",
      "batches = glob('datasets/*/')\n",
      "sims = []\n",
      "for b in batches:\n",
      "    fsims = simlist(glob(b + '/filtered/*/'), glob(b + '/filtered/filtered.pdb'))\n",
      "    sims = simmerge(sims, fsims)\n",
      "\n",
      "for f in sims:\n",
      "    f.molfile = './datasets/1/filtered/filtered.pdb'"
     ],
     "language": "python"
    },
    {
     "cell_type": "code",
     "execution_count": null,
     "metadata": {},
     "outputs": [],
     "input": [
      "data = MetricDistance.project(sims, 'protein and name CA', 'resname MOL', metric='contacts')\n",
      "data.fstep = 0.1\n",
      "data.plotTrajSizes()\n",
      "data.cluster(MiniBatchKMeans(n_clusters=200))"
     ],
     "language": "python"
    },
    {
     "cell_type": "code",
     "execution_count": null,
     "metadata": {},
     "outputs": [],
     "input": [
      "#tica = TICA(data, 20)\n",
      "#dataTica = tica.project(3)\n",
      "#dataTica.cluster(MiniBatchKMeans(n_clusters=200))\n",
      "#Works nicer without TICA"
     ],
     "language": "python"
    },
    {
     "cell_type": "code",
     "execution_count": null,
     "metadata": {},
     "outputs": [],
     "input": [
      "model = Model(data)\n",
      "model.plotTimescales()\n",
      "model.markovModel(50, 5)\n",
      "model.eqDistribution()"
     ],
     "language": "python"
    },
    {
     "cell_type": "code",
     "execution_count": null,
     "metadata": {},
     "outputs": [],
     "input": [
      "kin = Kinetics(model, concentration=0.0037, temperature=298)\n",
      "r = kin.getRates()\n",
      "print(r)\n",
      "kin.rankMacro()"
     ],
     "language": "python"
    }
   ]
  }
 ],
 "cells": [],
 "metadata": {},
 "nbformat": 3,
 "nbformat_minor": 0
}