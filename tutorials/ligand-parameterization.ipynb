{
 "cells": [
  {
   "cell_type": "markdown",
   "metadata": {
    "slideshow": {
     "slide_type": "slide"
    }
   },
   "source": [
    "# Parameterize Ethanol with HTMD"
   ]
  },
  {
   "cell_type": "markdown",
   "metadata": {},
   "source": [
    "![](http://tiffanyhoang1.weebly.com/uploads/1/4/1/6/14165848/107796_orig.png)"
   ]
  },
  {
   "cell_type": "markdown",
   "metadata": {
    "slideshow": {
     "slide_type": "slide"
    }
   },
   "source": [
    "## Import HTMD"
   ]
  },
  {
   "cell_type": "markdown",
   "metadata": {},
   "source": [
    "HTMD has an in-built parameterization tool called `parameterize`. It has been going through some modifications lately, since it was a separate package and we have been integrating it into HTMD. Please be sure of having an HTMD version 1.0.26 or greater."
   ]
  },
  {
   "cell_type": "markdown",
   "metadata": {},
   "source": [
    "Let's start by importing HTMD:"
   ]
  },
  {
   "cell_type": "code",
   "execution_count": 1,
   "metadata": {
    "collapsed": false
   },
   "outputs": [
    {
     "name": "stdout",
     "output_type": "stream",
     "text": [
      "Please cite. HTMD: High-Throughput Molecular Dynamics for Molecular Discovery, J. Chem. Theory Comput., 2016, 12 (4), pp 1845-1852. http://pubs.acs.org/doi/abs/10.1021/acs.jctc.6b00049\n",
      "\n",
      "\n",
      "You are on the latest HTMD version (1.0.26).\n",
      "Populating the interactive namespace from numpy and matplotlib\n"
     ]
    },
    {
     "name": "stderr",
     "output_type": "stream",
     "text": [
      "WARNING: pylab import has clobbered these variables: ['random']\n",
      "`%matplotlib` prevents importing * from pylab and numpy\n"
     ]
    }
   ],
   "source": [
    "from htmd import *\n",
    "# so our plots remain in the notebook\n",
    "%pylab inline\n",
    "# utilities\n",
    "import re"
   ]
  },
  {
   "cell_type": "markdown",
   "metadata": {
    "slideshow": {
     "slide_type": "slide"
    }
   },
   "source": [
    "## Let's first look at Ethanol"
   ]
  },
  {
   "cell_type": "markdown",
   "metadata": {},
   "source": [
    "Using what we have learned previouly, we can look at the compound we will be parameterizing, **ethanol**. Let's first load it, and then visualize it:"
   ]
  },
  {
   "cell_type": "code",
   "execution_count": 2,
   "metadata": {
    "collapsed": true
   },
   "outputs": [],
   "source": [
    "ethanol = Molecule('./ethanol.mol2')\n",
    "ethanol.view(viewer='ngl')"
   ]
  },
  {
   "cell_type": "markdown",
   "metadata": {},
   "source": [
    "As you can see, it is a very simple molecule, with just 9 atoms. Since `parameterize` does quantum calculations, which are computationally demanding, the more particles and torsions the compound we want to parameterize has, the longer it takes."
   ]
  },
  {
   "cell_type": "markdown",
   "metadata": {
    "slideshow": {
     "slide_type": "slide"
    }
   },
   "source": [
    "## Why do we need `Parameterize`?"
   ]
  },
  {
   "cell_type": "markdown",
   "metadata": {
    "slideshow": {
     "slide_type": "-"
    }
   },
   "source": [
    "![](https://static1.squarespace.com/static/52f2cd27e4b00e69a8f53575/t/545c0968e4b00e059c13b0d5/1415317865874/force_field.jpg)"
   ]
  },
  {
   "cell_type": "markdown",
   "metadata": {
    "slideshow": {
     "slide_type": "slide"
    }
   },
   "source": [
    "* All molecules we want to simulate need parameters to describe their physical behaviour\n",
    "* Many biomolecules are constituted by building blocks (ex: aminoacids) and their parameters are already available\n",
    "* When we do `charmm.build`, we are basically fetching from a library of those parameters and assigning them to our molecules\n",
    "* What if the molecule we want to simulate does not have parameters? We need to get them, hence, `parameterize`"
   ]
  },
  {
   "cell_type": "markdown",
   "metadata": {
    "slideshow": {
     "slide_type": "slide"
    }
   },
   "source": [
    "## Import from Parameterize"
   ]
  },
  {
   "cell_type": "markdown",
   "metadata": {},
   "source": [
    "So let's start to parameterize our ethanol. First, we need to some import the `Configuration` and `Parameterisation` classes from the `parameterize` module:"
   ]
  },
  {
   "cell_type": "code",
   "execution_count": 3,
   "metadata": {
    "collapsed": false,
    "scrolled": true
   },
   "outputs": [
    {
     "name": "stderr",
     "output_type": "stream",
     "text": [
      "/home/joao/miniconda3/lib/python3.5/site-packages/matplotlib/__init__.py:1350: UserWarning:  This call to matplotlib.use() has no effect\n",
      "because the backend has already been chosen;\n",
      "matplotlib.use() must be called *before* pylab, matplotlib.pyplot,\n",
      "or matplotlib.backends is imported for the first time.\n",
      "\n",
      "  warnings.warn(_use_error_msg)\n"
     ]
    }
   ],
   "source": [
    "from htmd.parameterize import Configuration, Parameterisation"
   ]
  },
  {
   "cell_type": "markdown",
   "metadata": {
    "slideshow": {
     "slide_type": "slide"
    }
   },
   "source": [
    "## Configure our Parameterization"
   ]
  },
  {
   "cell_type": "markdown",
   "metadata": {},
   "source": [
    "`parameterize` works in a different way from other HTMD modules, since it can be called from outside python and it mainly runs a lot of routines (for QM calculation) which are managed by the python environment."
   ]
  },
  {
   "cell_type": "markdown",
   "metadata": {},
   "source": [
    "First, we need to configure our parameterization run using the `Configuration` class:"
   ]
  },
  {
   "cell_type": "code",
   "execution_count": 4,
   "metadata": {
    "collapsed": true
   },
   "outputs": [],
   "source": [
    "config = Configuration()\n",
    "config.FileName = \"./ethanol.mol2\"\n",
    "config.JobName = \"ethanol-1\"\n",
    "config.NetCharge = \"0\"\n",
    "#config.NCORES = 4 # if one wants to define them, otherwise it will use all resources available\n",
    "#config.MEMORY = 4 #"
   ]
  },
  {
   "cell_type": "markdown",
   "metadata": {
    "slideshow": {
     "slide_type": "slide"
    }
   },
   "source": [
    "## Let's Parameterize!"
   ]
  },
  {
   "cell_type": "code",
   "execution_count": 5,
   "metadata": {
    "collapsed": false,
    "scrolled": true
   },
   "outputs": [
    {
     "name": "stderr",
     "output_type": "stream",
     "text": [
      "2016-05-31 08:18:25,044 - htmd.parameterize - INFO - Staging in input mol2/pdb file\n",
      "2016-05-31 08:18:25,049 - htmd.parameterize - INFO - run(): Starting run in [/home/joao/.htmd/gaamp/ethanol-1]\n",
      "2016-05-31 08:18:25,050 - htmd.parameterize - INFO - run(): Step [input] in dir [/home/joao/.htmd/gaamp/ethanol-1/000-input]\n",
      "2016-05-31 08:18:25,051 - htmd.parameterize - INFO - completed(): Expected outputfile [ligand.xyz] not present\n",
      "2016-05-31 08:18:25,052 - htmd.parameterize - INFO - run(): Running step [input]\n",
      "2016-05-31 08:18:25,053 - htmd.parameterize - INFO -  Running step [0] \t[input] \n"
     ]
    },
    {
     "name": "stdout",
     "output_type": "stream",
     "text": [
      "Running step [000] [input]\n"
     ]
    },
    {
     "name": "stderr",
     "output_type": "stream",
     "text": [
      "2016-05-31 08:18:25,089 - htmd.parameterize - INFO - run(): Step [preoptimize] in dir [/home/joao/.htmd/gaamp/ethanol-1/010-preoptimize]\n",
      "2016-05-31 08:18:25,091 - htmd.parameterize - INFO - completed(): Expected outputfile [mol-opt.xyz] not present\n",
      "2016-05-31 08:18:25,093 - htmd.parameterize - INFO - run(): Running step [preoptimize]\n",
      "2016-05-31 08:18:25,093 - htmd.parameterize - INFO -  Running step [10] \t[preoptimize] \n"
     ]
    },
    {
     "name": "stdout",
     "output_type": "stream",
     "text": [
      "Running step [010] [preoptimize]\n",
      "Running QM Calculations: 100% (1/1) [##############################] eta --:-- -"
     ]
    },
    {
     "name": "stderr",
     "output_type": "stream",
     "text": [
      "2016-05-31 08:18:27,623 - htmd.parameterize - INFO - run(): Step [initial_parameters] in dir [/home/joao/.htmd/gaamp/ethanol-1/020-initial_parameters]\n",
      "2016-05-31 08:18:27,624 - htmd.parameterize - INFO - completed(): Expected outputfile [mol.rtf] not present\n",
      "2016-05-31 08:18:27,625 - htmd.parameterize - INFO - run(): Running step [initial_parameters]\n",
      "2016-05-31 08:18:27,626 - htmd.parameterize - INFO -  Running step [20] \t[initial_parameters] \n"
     ]
    },
    {
     "name": "stdout",
     "output_type": "stream",
     "text": [
      "\n",
      "Running step [020] [initial_parameters]\n"
     ]
    },
    {
     "name": "stderr",
     "output_type": "stream",
     "text": [
      "2016-05-31 08:18:29,256 - htmd.parameterize - INFO - run(): Step [generate_structure] in dir [/home/joao/.htmd/gaamp/ethanol-1/030-generate_structure]\n",
      "2016-05-31 08:18:29,261 - htmd.parameterize - INFO - completed(): Expected outputfile [mol.xpsf] not present\n",
      "2016-05-31 08:18:29,265 - htmd.parameterize - INFO - run(): Running step [generate_structure]\n",
      "2016-05-31 08:18:29,266 - htmd.parameterize - INFO -  Running step [30] \t[generate_structure] \n"
     ]
    },
    {
     "name": "stdout",
     "output_type": "stream",
     "text": [
      "Running step [030] [generate_structure]\n"
     ]
    },
    {
     "name": "stderr",
     "output_type": "stream",
     "text": [
      "2016-05-31 08:18:29,342 - htmd.parameterize - INFO - run(): Step [esp] in dir [/home/joao/.htmd/gaamp/ethanol-1/110-esp]\n",
      "2016-05-31 08:18:29,344 - htmd.parameterize - INFO - completed(): Expected outputfile [mol.xpsf] not present\n",
      "2016-05-31 08:18:29,347 - htmd.parameterize - INFO - run(): Running step [esp]\n",
      "2016-05-31 08:18:29,348 - htmd.parameterize - INFO -  Running step [110] \t[esp] \n"
     ]
    },
    {
     "name": "stdout",
     "output_type": "stream",
     "text": [
      "Running step [110] [esp]\n",
      "Running QM Calculations: 100% (1/1) [##############################] eta --:-- |"
     ]
    },
    {
     "name": "stderr",
     "output_type": "stream",
     "text": [
      "2016-05-31 08:18:36,834 - htmd.parameterize - INFO - run(): Step [fit_esp] in dir [/home/joao/.htmd/gaamp/ethanol-1/120-fit_esp]\n",
      "2016-05-31 08:18:36,837 - htmd.parameterize - INFO - completed(): Expected outputfile [cg-list.txt] not present\n",
      "2016-05-31 08:18:36,842 - htmd.parameterize - INFO - run(): Running step [fit_esp]\n",
      "2016-05-31 08:18:36,844 - htmd.parameterize - INFO -  Running step [120] \t[fit_esp] \n"
     ]
    },
    {
     "name": "stdout",
     "output_type": "stream",
     "text": [
      "\n",
      "Running step [120] [fit_esp]\n"
     ]
    },
    {
     "name": "stderr",
     "output_type": "stream",
     "text": [
      "2016-05-31 08:18:36,957 - htmd.parameterize - INFO - run(): Step [fit_water] in dir [/home/joao/.htmd/gaamp/ethanol-1/150-fit_water]\n",
      "2016-05-31 08:18:36,959 - htmd.parameterize - INFO - completed(): Expected outputfile [soft-dih-list.txt] not present\n",
      "2016-05-31 08:18:36,967 - htmd.parameterize - INFO - run(): Running step [fit_water]\n",
      "2016-05-31 08:18:36,968 - htmd.parameterize - INFO -  Running step [150] \t[fit_water] \n"
     ]
    },
    {
     "name": "stdout",
     "output_type": "stream",
     "text": [
      "Running step [150] [fit_water]\n",
      "Running QM Calculations: 100% (4/4) [##############################] eta 00:00 /\n"
     ]
    },
    {
     "name": "stderr",
     "output_type": "stream",
     "text": [
      "2016-05-31 08:18:47,810 - htmd.parameterize - INFO - run(): Step [pes] in dir [/home/joao/.htmd/gaamp/ethanol-1/220-pes]\n",
      "2016-05-31 08:18:47,813 - htmd.parameterize - INFO - completed(): Expected outputfile [mol.prm] not present\n",
      "2016-05-31 08:18:47,816 - htmd.parameterize - INFO - run(): Running step [pes]\n",
      "2016-05-31 08:18:47,817 - htmd.parameterize - INFO -  Running step [220] \t[pes] \n"
     ]
    },
    {
     "name": "stdout",
     "output_type": "stream",
     "text": [
      "Running step [220] [pes]\n"
     ]
    },
    {
     "name": "stderr",
     "output_type": "stream",
     "text": [
      "2016-05-31 08:18:47,884 - htmd.parameterize - INFO - run(): Step [qm_1d_scan] in dir [/home/joao/.htmd/gaamp/ethanol-1/230-qm_1d_scan]\n",
      "2016-05-31 08:18:47,886 - htmd.parameterize - INFO - completed(): Expected outputfile [mol.prm] not present\n",
      "2016-05-31 08:18:47,889 - htmd.parameterize - INFO - run(): Running step [qm_1d_scan]\n",
      "2016-05-31 08:18:47,890 - htmd.parameterize - INFO -  Running step [230] \t[qm_1d_scan] \n"
     ]
    },
    {
     "name": "stdout",
     "output_type": "stream",
     "text": [
      "Running step [230] [qm_1d_scan]\n",
      "Running QM Calculations: 100% (37/37) [############################] eta 00:01 \\"
     ]
    },
    {
     "name": "stderr",
     "output_type": "stream",
     "text": [
      "2016-05-31 08:33:46,745 - htmd.parameterize - INFO - run(): Step [1d-fitting] in dir [/home/joao/.htmd/gaamp/ethanol-1/240-1d-fitting]\n",
      "2016-05-31 08:33:46,748 - htmd.parameterize - INFO - completed(): Expected outputfile [soft-dih-list.txt] not present\n",
      "2016-05-31 08:33:46,754 - htmd.parameterize - INFO - run(): Running step [1d-fitting]\n",
      "2016-05-31 08:33:46,755 - htmd.parameterize - INFO -  Running step [240] \t[1d-fitting] \n"
     ]
    },
    {
     "name": "stdout",
     "output_type": "stream",
     "text": [
      "\n",
      "Running step [240] [1d-fitting]\n"
     ]
    },
    {
     "name": "stderr",
     "output_type": "stream",
     "text": [
      "2016-05-31 08:33:47,339 - htmd.parameterize - INFO - run(): Step [refitcharges] in dir [/home/joao/.htmd/gaamp/ethanol-1/250-refitcharges]\n",
      "2016-05-31 08:33:47,341 - htmd.parameterize - INFO - completed(): Expected outputfile [new-mol.xpsf] not present\n",
      "2016-05-31 08:33:47,347 - htmd.parameterize - INFO - run(): Running step [refitcharges]\n",
      "2016-05-31 08:33:47,348 - htmd.parameterize - INFO -  Running step [250] \t[refitcharges] \n"
     ]
    },
    {
     "name": "stdout",
     "output_type": "stream",
     "text": [
      "Running step [250] [refitcharges]\n"
     ]
    },
    {
     "name": "stderr",
     "output_type": "stream",
     "text": [
      "2016-05-31 08:33:47,464 - htmd.parameterize - INFO - run(): Step [refittorsions] in dir [/home/joao/.htmd/gaamp/ethanol-1/260-refittorsions]\n",
      "2016-05-31 08:33:47,466 - htmd.parameterize - INFO - completed(): Expected outputfile [torsion-para-*.dat] not present\n",
      "2016-05-31 08:33:47,470 - htmd.parameterize - INFO - run(): Running step [refittorsions]\n",
      "2016-05-31 08:33:47,471 - htmd.parameterize - INFO -  Running step [260] \t[refittorsions] \n"
     ]
    },
    {
     "name": "stdout",
     "output_type": "stream",
     "text": [
      "Running step [260] [refittorsions]\n"
     ]
    },
    {
     "name": "stderr",
     "output_type": "stream",
     "text": [
      "2016-05-31 08:33:47,571 - htmd.parameterize - INFO - run(): Step [rotamer] in dir [/home/joao/.htmd/gaamp/ethanol-1/270-rotamer]\n",
      "2016-05-31 08:33:47,573 - htmd.parameterize - INFO - completed(): Expected outputfile [all-rotamer.dat] not present\n",
      "2016-05-31 08:33:47,578 - htmd.parameterize - INFO - run(): Running step [rotamer]\n",
      "2016-05-31 08:33:47,579 - htmd.parameterize - INFO -  Running step [270] \t[rotamer] \n"
     ]
    },
    {
     "name": "stdout",
     "output_type": "stream",
     "text": [
      "Running step [270] [rotamer]\n",
      "Running QM Calculations: 100% (3/3) [##############################] eta 00:01 \\"
     ]
    },
    {
     "name": "stderr",
     "output_type": "stream",
     "text": [
      "2016-05-31 08:35:06,013 - htmd.parameterize - INFO - run(): Step [fit_rotamer] in dir [/home/joao/.htmd/gaamp/ethanol-1/280-fit_rotamer]\n",
      "2016-05-31 08:35:06,014 - htmd.parameterize - INFO - completed(): Expected outputfile [mol.rtf] not present\n",
      "2016-05-31 08:35:06,018 - htmd.parameterize - INFO - run(): Running step [fit_rotamer]\n",
      "2016-05-31 08:35:06,019 - htmd.parameterize - INFO -  Running step [280] \t[fit_rotamer] \n"
     ]
    },
    {
     "name": "stdout",
     "output_type": "stream",
     "text": [
      "\n",
      "Running step [280] [fit_rotamer]\n"
     ]
    },
    {
     "name": "stderr",
     "output_type": "stream",
     "text": [
      "2016-05-31 08:35:06,596 - htmd.parameterize - INFO - run(): Step [results] in dir [/home/joao/.htmd/gaamp/ethanol-1/999-results]\n",
      "2016-05-31 08:35:06,598 - htmd.parameterize - INFO - completed(): Expected outputfile [mol.rtf] not present\n",
      "2016-05-31 08:35:06,601 - htmd.parameterize - INFO - run(): Running step [results]\n",
      "2016-05-31 08:35:06,602 - htmd.parameterize - INFO -  Running step [999] \t[results] \n"
     ]
    },
    {
     "name": "stdout",
     "output_type": "stream",
     "text": [
      "Running step [999] [results]\n"
     ]
    }
   ],
   "source": [
    "param = Parameterisation(config=config)"
   ]
  },
  {
   "cell_type": "markdown",
   "metadata": {
    "slideshow": {
     "slide_type": "slide"
    }
   },
   "source": [
    "## `Parameterize` structure and organization"
   ]
  },
  {
   "cell_type": "markdown",
   "metadata": {},
   "source": [
    "As said before, `parameterize` works a bit different from HTMD, also in the way it stores the information it produces. Since a ligand parameterization can take days, the several steps of `parameterize` are \"checkpointed\" inside a directory:"
   ]
  },
  {
   "cell_type": "code",
   "execution_count": 7,
   "metadata": {
    "collapsed": false
   },
   "outputs": [
    {
     "data": {
      "text/plain": [
       "'/home/joao/.htmd/gaamp/ethanol-1'"
      ]
     },
     "execution_count": 7,
     "metadata": {},
     "output_type": "execute_result"
    }
   ],
   "source": [
    "param.directory"
   ]
  },
  {
   "cell_type": "markdown",
   "metadata": {},
   "source": [
    "We can list what is inside that directory:"
   ]
  },
  {
   "cell_type": "code",
   "execution_count": 8,
   "metadata": {
    "collapsed": false
   },
   "outputs": [
    {
     "name": "stdout",
     "output_type": "stream",
     "text": [
      "\u001b[0m\u001b[38;5;27m000-input\u001b[0m/               \u001b[38;5;27m120-fit_esp\u001b[0m/     \u001b[38;5;27m250-refitcharges\u001b[0m/   configuration\r\n",
      "\u001b[38;5;27m010-preoptimize\u001b[0m/         \u001b[38;5;27m150-fit_water\u001b[0m/   \u001b[38;5;27m260-refittorsions\u001b[0m/  configuration.sh\r\n",
      "\u001b[38;5;27m020-initial_parameters\u001b[0m/  \u001b[38;5;27m220-pes\u001b[0m/         \u001b[38;5;27m270-rotamer\u001b[0m/        QM-para.txt\r\n",
      "\u001b[38;5;27m030-generate_structure\u001b[0m/  \u001b[38;5;27m230-qm_1d_scan\u001b[0m/  \u001b[38;5;27m280-fit_rotamer\u001b[0m/    routines\r\n",
      "\u001b[38;5;27m110-esp\u001b[0m/                 \u001b[38;5;27m240-1d-fitting\u001b[0m/  \u001b[38;5;27m999-results\u001b[0m/\r\n"
     ]
    }
   ],
   "source": [
    "%ls /home/joao/.htmd/gaamp/ethanol-1"
   ]
  },
  {
   "cell_type": "markdown",
   "metadata": {
    "slideshow": {
     "slide_type": "slide"
    }
   },
   "source": [
    "## `Parameterize` Runs Management"
   ]
  },
  {
   "cell_type": "markdown",
   "metadata": {},
   "source": [
    "The structure of `parameterize` allows resuming previous jobs (not covered today) and multiple runs. As such, each `parameterize` run must have a different name. You can list which ones are already taken:"
   ]
  },
  {
   "cell_type": "code",
   "execution_count": 9,
   "metadata": {
    "collapsed": false
   },
   "outputs": [
    {
     "name": "stdout",
     "output_type": "stream",
     "text": [
      "\tparam_at\n",
      "\ttest_ethanol\n",
      "\ttest_benzamidine\n",
      "\tethanol-1\n"
     ]
    }
   ],
   "source": [
    "Parameterisation.listJobs()"
   ]
  },
  {
   "cell_type": "markdown",
   "metadata": {},
   "source": [
    "If you want to delete a run, you can use:"
   ]
  },
  {
   "cell_type": "code",
   "execution_count": 10,
   "metadata": {
    "collapsed": false
   },
   "outputs": [],
   "source": [
    "#Parameterisation.deleteJob('ethanol-1') # uncomment if you want to delete the job"
   ]
  },
  {
   "cell_type": "markdown",
   "metadata": {
    "slideshow": {
     "slide_type": "slide"
    }
   },
   "source": [
    "## Back to Ethanol: Minimized Structure"
   ]
  },
  {
   "cell_type": "markdown",
   "metadata": {},
   "source": [
    "During `parameterize`, the molecule is optimized/minimized using quantum mechanics. We can look at the end result molecule:"
   ]
  },
  {
   "cell_type": "code",
   "execution_count": 11,
   "metadata": {
    "collapsed": false
   },
   "outputs": [],
   "source": [
    "min_ethanol = param.getMolecule()\n",
    "min_ethanol.view(viewer='ngl')"
   ]
  },
  {
   "cell_type": "markdown",
   "metadata": {},
   "source": [
    "Look at how the alcohol group hydrogen moved."
   ]
  },
  {
   "cell_type": "markdown",
   "metadata": {
    "slideshow": {
     "slide_type": "slide"
    }
   },
   "source": [
    "## Torsions: MM vs. QM vs. Parameterize"
   ]
  },
  {
   "cell_type": "markdown",
   "metadata": {},
   "source": [
    "We can see which dihedrals were parameterized, either by the atom indexes:"
   ]
  },
  {
   "cell_type": "code",
   "execution_count": 12,
   "metadata": {
    "collapsed": false
   },
   "outputs": [
    {
     "data": {
      "text/plain": [
       "[[2, 1, 3, 9]]"
      ]
     },
     "execution_count": 12,
     "metadata": {},
     "output_type": "execute_result"
    }
   ],
   "source": [
    "param.getDihedralIndexes()"
   ]
  },
  {
   "cell_type": "markdown",
   "metadata": {},
   "source": [
    "Or by visualizing the dihedral (using a dihedral index):"
   ]
  },
  {
   "cell_type": "code",
   "execution_count": 13,
   "metadata": {
    "collapsed": true
   },
   "outputs": [],
   "source": [
    "param.showDihedral(0)"
   ]
  },
  {
   "cell_type": "markdown",
   "metadata": {
    "slideshow": {
     "slide_type": "slide"
    }
   },
   "source": [
    "## Plot Dihedral Energetics"
   ]
  },
  {
   "cell_type": "markdown",
   "metadata": {},
   "source": [
    "We can plot the dihedrals and compare the initial MM, QM, and parameterized MM:"
   ]
  },
  {
   "cell_type": "code",
   "execution_count": 14,
   "metadata": {
    "collapsed": false
   },
   "outputs": [
    {
     "name": "stderr",
     "output_type": "stream",
     "text": [
      "/home/joao/miniconda3/lib/python3.5/site-packages/matplotlib/__init__.py:1350: UserWarning:  This call to matplotlib.use() has no effect\n",
      "because the backend has already been chosen;\n",
      "matplotlib.use() must be called *before* pylab, matplotlib.pyplot,\n",
      "or matplotlib.backends is imported for the first time.\n",
      "\n",
      "  warnings.warn(_use_error_msg)\n"
     ]
    },
    {
     "data": {
      "image/png": "[encoded data removed]",
      "text/plain": [
       "<matplotlib.figure.Figure at 0x7fd1e36f7080>"
      ]
     },
     "metadata": {},
     "output_type": "display_data"
    }
   ],
   "source": [
    "(torsionfiles, torsionnames) = param.plotDihedrals(show=False)"
   ]
  },
  {
   "cell_type": "code",
   "execution_count": 15,
   "metadata": {
    "collapsed": false,
    "scrolled": true,
    "slideshow": {
     "slide_type": "slide"
    }
   },
   "outputs": [
    {
     "name": "stdout",
     "output_type": "stream",
     "text": [
      "['/tmp/tmpdtpps1dn.svg'] ['C2 C1 O1 H6']\n"
     ]
    }
   ],
   "source": [
    "print(torsionfiles, torsionnames)"
   ]
  },
  {
   "cell_type": "code",
   "execution_count": 16,
   "metadata": {
    "collapsed": false
   },
   "outputs": [],
   "source": [
    "for i  in range(len(torsionfiles)):\n",
    "    shutil.copyfile(torsionfiles[i], \"torsion-potential-\" + re.sub(\" \", \"-\", torsionnames[i]) + \".svg\" )"
   ]
  },
  {
   "cell_type": "markdown",
   "metadata": {
    "slideshow": {
     "slide_type": "slide"
    }
   },
   "source": [
    "## Get the Parameter files"
   ]
  },
  {
   "cell_type": "code",
   "execution_count": 17,
   "metadata": {
    "collapsed": false
   },
   "outputs": [
    {
     "data": {
      "text/plain": [
       "'ethanol-final.pdb'"
      ]
     },
     "execution_count": 17,
     "metadata": {},
     "output_type": "execute_result"
    }
   ],
   "source": [
    "paramfiles = param.getParameters()\n",
    "shutil.copyfile(paramfiles['RTF'], \"ethanol.rtf\")\n",
    "shutil.copyfile(paramfiles['PRM'], \"ethanol.prm\")\n",
    "shutil.copyfile(paramfiles['PDB'], \"ethanol-final.pdb\")"
   ]
  },
  {
   "cell_type": "markdown",
   "metadata": {},
   "source": [
    "These structure and parameter files are then compatible to use with CHARMM topologies and are ready to import into HTMD and simulate. You can see the protein ligand tutorial, where the .prm and .rtf files of the ligand are given to  `charmm.build`"
   ]
  },
  {
   "cell_type": "markdown",
   "metadata": {},
   "source": [
    "As an extra, you can try and parameterize benzamidine at home and check the more complex results. Note: it will take much longer..."
   ]
  }
 ],
 "metadata": {
  "celltoolbar": "Slideshow",
  "kernelspec": {
   "display_name": "Python 3",
   "language": "python",
   "name": "python3"
  },
  "language_info": {
   "codemirror_mode": {
    "name": "ipython",
    "version": 3
   },
   "file_extension": ".py",
   "mimetype": "text/x-python",
   "name": "python",
   "nbconvert_exporter": "python",
   "pygments_lexer": "ipython3",
   "version": "3.5.1"
  }
 },
 "nbformat": 4,
 "nbformat_minor": 0
}
