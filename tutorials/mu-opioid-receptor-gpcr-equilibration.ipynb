{
 "cells": [
  {
   "cell_type": "markdown",
   "metadata": {},
   "source": [
    "# Preparation of the $\\mu$ opioid receptor with ligand"
   ]
  },
  {
   "cell_type": "markdown",
   "metadata": {},
   "source": [
    "This is a complex build system as it has several components, the protein, a sodium ion, the ligand and of course the membrane."
   ]
  },
  {
   "cell_type": "code",
   "execution_count": 1,
   "metadata": {
    "collapsed": false,
    "jupyter": {
     "outputs_hidden": false
    }
   },
   "outputs": [
    {
     "name": "stderr",
     "output_type": "stream",
     "text": [
      "2024-06-12 13:36:44,454 - numexpr.utils - INFO - Note: NumExpr detected 20 cores but \"NUMEXPR_MAX_THREADS\" not set, so enforcing safe limit of 8.\n",
      "2024-06-12 13:36:44,454 - numexpr.utils - INFO - NumExpr defaulting to 8 threads.\n",
      "2024-06-12 13:36:44,569 - rdkit - INFO - Enabling RDKit 2022.09.1 jupyter extensions\n"
     ]
    },
    {
     "name": "stdout",
     "output_type": "stream",
     "text": [
      "\n",
      "Please cite HTMD: Doerr et al.(2016)JCTC,12,1845. https://dx.doi.org/10.1021/acs.jctc.6b00049\n",
      "HTMD Documentation at: https://software.acellera.com/htmd/\n",
      "\n",
      "You are on the latest HTMD version (2.3.28+20.g8b8902599).\n",
      "\n"
     ]
    }
   ],
   "source": [
    "from htmd.ui import *\n",
    "from htmd.home import home\n",
    "#get the files\n",
    "\n",
    "shutil.copytree(home(dataDir=\"mor\"),'/tmp/testmor/pdb')\n",
    "os.chdir('/tmp/testmor')\n",
    "path='./01_prepare/'"
   ]
  },
  {
   "cell_type": "code",
   "execution_count": 2,
   "metadata": {
    "collapsed": false,
    "jupyter": {
     "outputs_hidden": false
    }
   },
   "outputs": [
    {
     "name": "stdout",
     "output_type": "stream",
     "text": [
      "4dkl.pdb  ff.rtf                 MOL.cif     QM-min.pdb\n",
      "ff.prm    membrane80by80C36.pdb  MOL.frcmod  sod.pdb\n"
     ]
    }
   ],
   "source": [
    "%ls /tmp/testmor/pdb"
   ]
  },
  {
   "cell_type": "markdown",
   "metadata": {},
   "source": [
    "## Build"
   ]
  },
  {
   "cell_type": "code",
   "execution_count": 6,
   "metadata": {
    "collapsed": false,
    "jupyter": {
     "outputs_hidden": false
    }
   },
   "outputs": [
    {
     "name": "stderr",
     "output_type": "stream",
     "text": [
      "2024-06-12 13:38:49,041 - moleculekit.molecule - INFO - Removed 5120 atoms. 2262 atoms remaining in the molecule.\n",
      "2024-06-12 13:38:49,076 - moleculekit.tools.autosegment - INFO - Created segment P0 between resid 65 and 263.\n",
      "2024-06-12 13:38:49,077 - moleculekit.tools.autosegment - INFO - Created segment P1 between resid 270 and 352.\n",
      "2024-06-12 13:38:49,184 - moleculekit.tools.preparation - WARNING - Both chains and segments are defined in Molecule.chain / Molecule.segid, however they are inconsistent. Protein preparation will use the chain information.\n"
     ]
    },
    {
     "name": "stdout",
     "output_type": "stream",
     "text": [
      "\n",
      "---- Molecule chain report ----\n",
      "Chain A:\n",
      "    First residue: HOH   717  \n",
      "    Final residue: HOH   717  \n",
      "Chain B:\n",
      "    First residue: MET    65  \n",
      "    Final residue: HOH   735  \n",
      "---- End of chain report ----\n",
      "\n"
     ]
    },
    {
     "name": "stderr",
     "output_type": "stream",
     "text": [
      "2024-06-12 13:38:51,090 - moleculekit.tools.preparation - INFO - Modified residue ASP   114 B to ASH\n",
      "2024-06-12 13:38:51,091 - moleculekit.tools.preparation - INFO - Modified residue CYS   140 B to CYX\n",
      "2024-06-12 13:38:51,091 - moleculekit.tools.preparation - INFO - Modified residue HIS   171 B to HID\n",
      "2024-06-12 13:38:51,092 - moleculekit.tools.preparation - INFO - Modified residue CYS   217 B to CYX\n",
      "2024-06-12 13:38:51,092 - moleculekit.tools.preparation - INFO - Modified residue HIS   223 B to HID\n",
      "2024-06-12 13:38:51,092 - moleculekit.tools.preparation - INFO - Modified residue HIS   297 B to HID\n",
      "2024-06-12 13:38:51,093 - moleculekit.tools.preparation - INFO - Modified residue HIS   319 B to HIE\n",
      "2024-06-12 13:38:51,094 - moleculekit.tools.preparation - WARNING - Dubious protonation state: the pKa of 1 residues is within 1.0 units of pH 7.4.\n",
      "2024-06-12 13:38:51,094 - moleculekit.tools.preparation - WARNING - Dubious protonation state:    ASP   114 B (pKa= 7.85)\n"
     ]
    }
   ],
   "source": [
    "#Protein 4dkl is taken from opm\n",
    "prot = Molecule('pdb/4dkl.pdb')\n",
    "prot.filter('(protein and noh and chain B) or (water and within 5 of (chain B and protein))')\n",
    "pcenter = np.mean(prot.get('coords','protein'), axis=0)\n",
    "prot = autoSegment(prot, sel='protein') \n",
    "\n",
    "prot = systemPrepare(prot)"
   ]
  },
  {
   "cell_type": "code",
   "execution_count": 7,
   "metadata": {},
   "outputs": [],
   "source": [
    "prot.view()"
   ]
  },
  {
   "cell_type": "code",
   "execution_count": 8,
   "metadata": {
    "collapsed": false,
    "jupyter": {
     "outputs_hidden": false
    }
   },
   "outputs": [
    {
     "name": "stderr",
     "output_type": "stream",
     "text": [
      "2024-06-12 13:39:40,456 - moleculekit.molecule - INFO - Removed 327 residues from appended Molecule due to collisions.\n",
      "2024-06-12 13:39:40,768 - htmd.builder.solvate - INFO - Using water pdb file at: /home/sdoerr/Work/htmd/htmd/share/solvate/wat.pdb\n",
      "2024-06-12 13:39:41,223 - htmd.builder.solvate - INFO - Replicating 8 water segments, 2 by 2 by 2\n",
      "Solvating: 100%|█████████████████████████████████████████████████████████████████████████████████████████████████████████████████████████| 8/8 [00:10<00:00,  1.26s/it]\n",
      "2024-06-12 13:39:51,927 - htmd.builder.solvate - INFO - 9644 water molecules were added to the system.\n",
      "2024-06-12 13:39:54,236 - htmd.builder.amber - INFO - Detecting disulfide bonds.\n",
      "2024-06-12 13:39:54,245 - htmd.builder.builder - INFO - One disulfide bond was added\n"
     ]
    },
    {
     "name": "stdout",
     "output_type": "stream",
     "text": [
      "Disulfide Bond between: UniqueResidueID<resname: 'CYX', chain: 'B', resid: 78, insertion: '', segid: 'P0'>\n",
      "                   and: UniqueResidueID<resname: 'CYX', chain: 'B', resid: 155, insertion: '', segid: 'P0'>\n",
      "\n"
     ]
    },
    {
     "name": "stderr",
     "output_type": "stream",
     "text": [
      "2024-06-12 13:39:55,271 - htmd.builder.amber - INFO - Starting the build.\n",
      "2024-06-12 13:39:57,377 - htmd.builder.amber - INFO - Finished building.\n",
      "2024-06-12 13:39:58,428 - moleculekit.writers - WARNING - Field \"resid\" of PDB overflows. Your data will be truncated to 4 characters.\n",
      "2024-06-12 13:40:03,262 - htmd.builder.builder - WARNING - Found cis peptide bond in 1 frames: [0] in the omega diheral \"Angle of (HID 160 CA  ) (HID 160 C  ) (PRO 161 N  ) (PRO 161 CA  ) \" with indexes [2528, 2541, 2543, 2553]\n",
      "2024-06-12 13:40:03,614 - htmd.builder.ionize - INFO - Adding 15 anions + 0 cations for neutralizing and 68 ions for the given salt concentration 0.15 M.\n",
      "2024-06-12 13:40:13,210 - htmd.builder.amber - INFO - Starting the build.\n",
      "2024-06-12 13:40:15,339 - htmd.builder.amber - INFO - Finished building.\n",
      "2024-06-12 13:40:16,352 - moleculekit.writers - WARNING - Field \"resid\" of PDB overflows. Your data will be truncated to 4 characters.\n",
      "2024-06-12 13:40:20,922 - htmd.builder.builder - WARNING - Found cis peptide bond in 1 frames: [0] in the omega diheral \"Angle of (HID 160 CA  ) (HID 160 C  ) (PRO 161 N  ) (PRO 161 CA  ) \" with indexes [2528, 2541, 2543, 2553]\n",
      "2024-06-12 13:40:23,463 - moleculekit.tools.sequencestructuralalignment - INFO - Alignment #0 was done on 282 residues: 2-285\n"
     ]
    }
   ],
   "source": [
    "#Add sodium in the receptor\n",
    "sod = Molecule('pdb/sod.pdb')\n",
    "sod.set('segid','S1')\n",
    "prot.append(sod)\n",
    "\n",
    "#Use a POPC membrane created with vmd and C36\n",
    "memb = Molecule('pdb/membrane80by80C36.pdb')\n",
    "mcenter = np.mean(memb.get('coords'),axis=0)\n",
    "memb.moveBy(pcenter-mcenter)\n",
    "mol = prot.copy()\n",
    "mol.append(memb, collisions=True)  # Append membrane and remove colliding atoms\n",
    "\n",
    "#Add ligand, previously parametrized using gaamp\n",
    "lig = Molecule('pdb/MOL.cif') \n",
    "lig.set('segid','L')\n",
    "lcenter = np.mean(lig.get('coords'),axis=0)\n",
    "newlcenter = [np.random.uniform(-10, 10), np.random.uniform(-10, 10),  43]\n",
    "lig.rotateBy(uniformRandomRotation(), lcenter)\n",
    "lig.moveBy(newlcenter - lcenter)\n",
    "mol.append(lig) \n",
    "\n",
    "#Add water\n",
    "coo = mol.get('coords','lipids or protein')\n",
    "m = np.min(coo,axis=0) + [0,0,-5]\n",
    "M = np.max(coo,axis=0) + [0,0,20]\n",
    "mol = solvate(mol, minmax=np.vstack((m,M)))\n",
    "\n",
    "#Build\n",
    "topos  = amber.defaultTopo() + ['pdb/MOL.cif']\n",
    "params = amber.defaultParam() + ['pdb/MOL.frcmod']\n",
    "mol = amber.build(mol, topo=topos, param=params, outdir=os.path.join(path,'build'), saltconc=0.15)"
   ]
  },
  {
   "cell_type": "markdown",
   "metadata": {},
   "source": [
    "## Equilibrate"
   ]
  },
  {
   "cell_type": "code",
   "execution_count": 9,
   "metadata": {},
   "outputs": [
    {
     "name": "stderr",
     "output_type": "stream",
     "text": [
      "2024-06-12 13:40:35,913 - htmd.builder.builder - WARNING - Found cis peptide bond in 1 frames: [0] in the omega diheral \"Angle of (HID 160 CA  ) (HID 160 C  ) (PRO 161 N  ) (PRO 161 CA  ) \" with indexes [2528, 2541, 2543, 2553]\n"
     ]
    }
   ],
   "source": [
    "from htmd.protocols.equilibration_v3 import Equilibration\n",
    "from htmd.mdengine.acemd.acemd import GroupRestraint\n",
    "\n",
    "# Use a 10A flat bottom potential to prevent the ligand from diffusing from original position during equilibration\n",
    "width = np.array([10, 10, 10])\n",
    "flatbot = GroupRestraint('segname L and noh', width, [(5, '0ns')])\n",
    "\n",
    "md = Equilibration()\n",
    "md.runtime = 40\n",
    "md.timeunits = 'ns'\n",
    "md.temperature = 300\n",
    "md.restraints = [flatbot] + md.defaultEquilRestraints('20ns')\n",
    "md.useconstantratio = True\n",
    "md.write(os.path.join(path,'build'), os.path.join(path,'equil'))"
   ]
  },
  {
   "cell_type": "code",
   "execution_count": 10,
   "metadata": {},
   "outputs": [
    {
     "name": "stderr",
     "output_type": "stream",
     "text": [
      "2024-06-12 13:40:37,971 - py.warnings - WARNING - /tmp/ipykernel_388679/442516882.py:3: RuntimeWarning: Mean of empty slice.\n",
      "  fbcentre = mol.get('coords', sel='segid L').mean(axis=0).squeeze()\n",
      "\n",
      "2024-06-12 13:40:37,990 - py.warnings - WARNING - /home/sdoerr/miniforge3/envs/htmd/lib/python3.10/site-packages/numpy/core/_methods.py:184: RuntimeWarning: invalid value encountered in divide\n",
      "  ret = um.true_divide(\n",
      "\n",
      "/usr/local/lib/vmd/vmd_LINUXAMD64: /lib/x86_64-linux-gnu/libGL.so.1: no version information available (required by /usr/local/lib/vmd/vmd_LINUXAMD64)\n"
     ]
    }
   ],
   "source": [
    "# Visualize the flat bottom potential box\n",
    "mol.view('not water')\n",
    "fbcentre = mol.get('coords', sel='segid L').mean(axis=0).squeeze()\n",
    "b = VMDBox(np.vstack((fbcentre - width/2, fbcentre + width/2)).T.flatten())"
   ]
  },
  {
   "cell_type": "code",
   "execution_count": null,
   "metadata": {
    "collapsed": true,
    "jupyter": {
     "outputs_hidden": true
    }
   },
   "outputs": [],
   "source": [
    "mdx = LocalGPUQueue()\n",
    "mdx.submit(os.path.join(path, 'equil'))\n",
    "mdx.wait()"
   ]
  },
  {
   "cell_type": "markdown",
   "metadata": {},
   "source": [
    "\n",
    "## Production"
   ]
  },
  {
   "cell_type": "code",
   "execution_count": null,
   "metadata": {},
   "outputs": [],
   "source": [
    "# Read in the last frame of the equilibration\n",
    "mol = Molecule(os.path.join(path,'equil','structure.psf'))\n",
    "mol.read(os.path.join(path,'equil','output.xtc'))\n",
    "mol.dropFrames(keep=mol.numFrames-1)"
   ]
  },
  {
   "cell_type": "code",
   "execution_count": null,
   "metadata": {
    "collapsed": false,
    "jupyter": {
     "outputs_hidden": false
    }
   },
   "outputs": [],
   "source": [
    "from htmd.protocols.production_v6 import Production\n",
    "from htmd.mdengine.acemd.acemd import GroupRestraint\n",
    "\n",
    "# Apply a flat bottom potential to prevent the ligand from entering from periodic image of the protein\n",
    "width = np.array([70, 70, 60]) \n",
    "\n",
    "# Center the box at residue 218 which is on the upper side of the protein\n",
    "fbcentre = mol.get('coords', sel='protein and resid 218').mean(axis=0).squeeze()\n",
    "flatbot = GroupRestraint('segname L and noh', width, [(5, '0ns')], fbcentre=fbcentre)\n",
    "\n",
    "md = Production()\n",
    "md.runtime = 50\n",
    "md.timeunits = 'ns'\n",
    "md.temperature = 300\n",
    "md.restraints = flatbot\n",
    "md.write(os.path.join(path,'equil'), os.path.join(path,'prod'))"
   ]
  },
  {
   "cell_type": "code",
   "execution_count": null,
   "metadata": {
    "collapsed": true,
    "jupyter": {
     "outputs_hidden": true
    }
   },
   "outputs": [],
   "source": [
    "mol.view('not water')\n",
    "b = VMDBox(np.vstack((fbcentre - width/2, fbcentre + width/2)).T.flatten())"
   ]
  },
  {
   "cell_type": "code",
   "execution_count": null,
   "metadata": {},
   "outputs": [],
   "source": []
  }
 ],
 "metadata": {
  "kernelspec": {
   "display_name": "Python 3 (ipykernel)",
   "language": "python",
   "name": "python3"
  },
  "language_info": {
   "codemirror_mode": {
    "name": "ipython",
    "version": 3
   },
   "file_extension": ".py",
   "mimetype": "text/x-python",
   "name": "python",
   "nbconvert_exporter": "python",
   "pygments_lexer": "ipython3",
   "version": "3.10.13"
  }
 },
 "nbformat": 4,
 "nbformat_minor": 4
}
