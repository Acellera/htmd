{
 "cells": [
  {
   "cell_type": "markdown",
   "metadata": {
    "collapsed": false,
    "slideshow": {
     "slide_type": "slide"
    }
   },
   "source": [
    "# Conformational analysis of CXCL12\n",
    "by Gerard Martinez\n",
    "\n",
    "Download all the required files for the tutorial from this [link](http://pub.htmd.org/confana1036hbl2450olw/filtered.tar.gz)\n",
    "\n",
    "(warning: 2.6 Gb)\n",
    "\n",
    "You can watch the presentation [here](https://youtu.be/I9VISC29Gc4)"
   ]
  },
  {
   "cell_type": "code",
   "execution_count": 1,
   "metadata": {
    "collapsed": false,
    "slideshow": {
     "slide_type": "skip"
    }
   },
   "outputs": [
    {
     "name": "stdout",
     "output_type": "stream",
     "text": [
      "HTMD. All material of HTMD2015 will be soon made available\n",
      "\n",
      "New HTMD version (0.1.15) is available. You are currently on (0.1.13). Use 'conda update htmd' to update to the new version.\n",
      "Populating the interactive namespace from numpy and matplotlib\n"
     ]
    },
    {
     "name": "stderr",
     "output_type": "stream",
     "text": [
      "WARNING: pylab import has clobbered these variables: ['random']\n",
      "`%matplotlib` prevents importing * from pylab and numpy\n"
     ]
    }
   ],
   "source": [
    "%pylab inline\n",
    "from htmd import *\n",
    "htmd.config(viewer='ngl')\n",
    "os.chdir('/webdata/confana1036hbl2450olw/')  # Skip this command."
   ]
  },
  {
   "cell_type": "markdown",
   "metadata": {
    "slideshow": {
     "slide_type": "slide"
    }
   },
   "source": [
    "## 1. Introduction\n",
    "\n",
    "### CXCL12 is a chemokine involved in...\n",
    "*  many types of cancer \n",
    "*  inflammatory diseases \n",
    "*  early development events\n",
    "\n",
    "### We performed...\n",
    "* ~300 simulations x 200ns each (~60 microseconds in total)\n",
    "* we filtered out the water from our trajectories \n",
    "\n",
    "![](http://pub.htmd.org/confana1036hbl2450olw/system-protein2.png)"
   ]
  },
  {
   "cell_type": "markdown",
   "metadata": {
    "slideshow": {
     "slide_type": "slide"
    }
   },
   "source": [
    "## 2. Sampling major conformational states\n",
    "\n",
    "In our lab we have tried many different metrics to assess the overall conformational changes of a protein. From them all, phi and psi angles of the protein backbone (dihedrals) have been the most successful descriptors in \"blindly\" capturing the major protein conformations.\n",
    "\n",
    "In this section we will project our trajectories on the backbone dihedrals and, we will reduce the dimensionality by using tICA and then we will build a Markov Model to asses the major protein conformations in equilibrium. \n",
    "\n",
    "![](http://pub.htmd.org/confana1036hbl2450olw/conformations.png)"
   ]
  },
  {
   "cell_type": "markdown",
   "metadata": {
    "slideshow": {
     "slide_type": "subslide"
    }
   },
   "source": [
    "## Calculate metrics: protein backbone dihedrals"
   ]
  },
  {
   "cell_type": "code",
   "execution_count": 2,
   "metadata": {
    "collapsed": false,
    "slideshow": {
     "slide_type": "-"
    }
   },
   "outputs": [
    {
     "name": "stdout",
     "output_type": "stream",
     "text": [
      "2015-12-17 14:06:50,142 - htmd.simlist - INFO - Starting listing of simulations.\n",
      "Creating simlist: 100% (289/289) [#################################] eta 00:00 -\n",
      "2015-12-17 14:06:50,501 - htmd.simlist - INFO - Finished listing of simulations.\n"
     ]
    }
   ],
   "source": [
    "fsims = simlist(glob('./filtered/*/'), './filtered/filtered.pdb')"
   ]
  },
  {
   "cell_type": "markdown",
   "metadata": {},
   "source": [
    "CXCL12 has a very flexible C-terminus loop as well as a transiently disorderable N-terminal alfa helix. In this study we are not interested in them but in the core of the chemokine. For this reason, we will select residues from 10 to 54. "
   ]
  },
  {
   "cell_type": "code",
   "execution_count": 3,
   "metadata": {
    "collapsed": false,
    "slideshow": {
     "slide_type": "-"
    }
   },
   "outputs": [
    {
     "name": "stdout",
     "output_type": "stream",
     "text": [
      "2015-12-17 14:06:51,427 - htmd.projections.metricdiherdal - INFO - Precalculating phi and psi angle atom selections\n",
      "2015-12-17 14:06:52,316 - htmd.projections.metricdiherdal - INFO - Finished precalculating phi and psi.\n",
      "2015-12-17 14:06:52,332 - htmd.projections.metric - INFO - Metric: Starting projection of trajectories.\n"
     ]
    },
    {
     "name": "stderr",
     "output_type": "stream",
     "text": [
      "[Parallel(n_jobs=-2)]: Done   1 out of 289 | elapsed:    0.7s remaining:  3.5min\n",
      "[Parallel(n_jobs=-2)]: Done  21 out of 289 | elapsed:    1.7s remaining:   22.2s\n",
      "[Parallel(n_jobs=-2)]: Done  48 out of 289 | elapsed:    3.8s remaining:   19.1s\n",
      "[Parallel(n_jobs=-2)]: Done  75 out of 289 | elapsed:    5.7s remaining:   16.3s\n",
      "[Parallel(n_jobs=-2)]: Done 102 out of 289 | elapsed:    7.5s remaining:   13.7s\n",
      "[Parallel(n_jobs=-2)]: Done 129 out of 289 | elapsed:    9.3s remaining:   11.5s\n",
      "[Parallel(n_jobs=-2)]: Done 156 out of 289 | elapsed:   11.1s remaining:    9.4s\n",
      "[Parallel(n_jobs=-2)]: Done 183 out of 289 | elapsed:   13.2s remaining:    7.7s\n",
      "[Parallel(n_jobs=-2)]: Done 210 out of 289 | elapsed:   15.0s remaining:    5.6s\n",
      "[Parallel(n_jobs=-2)]: Done 237 out of 289 | elapsed:   16.9s remaining:    3.7s\n",
      "[Parallel(n_jobs=-2)]: Done 264 out of 289 | elapsed:   18.6s remaining:    1.8s\n",
      "[Parallel(n_jobs=-2)]: Done 289 out of 289 | elapsed:   20.5s finished\n"
     ]
    },
    {
     "name": "stdout",
     "output_type": "stream",
     "text": [
      "2015-12-17 14:07:13,086 - htmd.projections.metric - INFO - Finished projecting the trajectories.\n",
      "2015-12-17 14:07:13,088 - htmd.projections.metric - WARNING - Multiple framesteps were read from the simulations. Taking the statistical mode: 0.1ns. If it looks wrong, you can modify it by manually setting the MetricData.fstep property.\n"
     ]
    }
   ],
   "source": [
    "metr = Metric(fsims)\n",
    "metr.projection(MetricDihedral(protsel='protein and resid 10 to 54', sincos=True))\n",
    "data = metr.project()\n",
    "data.fstep = 0.1"
   ]
  },
  {
   "cell_type": "code",
   "execution_count": 4,
   "metadata": {
    "collapsed": false,
    "scrolled": true,
    "slideshow": {
     "slide_type": "subslide"
    }
   },
   "outputs": [
    {
     "data": {
      "image/png": "[encoded data removed]",
      "text/plain": [
       "<matplotlib.figure.Figure at 0x7fffd8f37400>"
      ]
     },
     "metadata": {},
     "output_type": "display_data"
    }
   ],
   "source": [
    "data.plotTrajSizes()"
   ]
  },
  {
   "cell_type": "markdown",
   "metadata": {
    "slideshow": {
     "slide_type": "subslide"
    }
   },
   "source": [
    "##  Dimensionality reduction"
   ]
  },
  {
   "cell_type": "code",
   "execution_count": 5,
   "metadata": {
    "collapsed": true,
    "slideshow": {
     "slide_type": "-"
    }
   },
   "outputs": [],
   "source": [
    "tica = TICA(data, 20)\n",
    "dataTica = tica.project(3)"
   ]
  },
  {
   "cell_type": "markdown",
   "metadata": {
    "collapsed": false,
    "slideshow": {
     "slide_type": "subslide"
    }
   },
   "source": [
    "## Clustering"
   ]
  },
  {
   "cell_type": "code",
   "execution_count": 6,
   "metadata": {
    "collapsed": false,
    "scrolled": true,
    "slideshow": {
     "slide_type": "-"
    }
   },
   "outputs": [],
   "source": [
    "dataTica.cluster(MiniBatchKMeans(n_clusters=200), mergesmall=5)"
   ]
  },
  {
   "cell_type": "markdown",
   "metadata": {
    "collapsed": true,
    "slideshow": {
     "slide_type": "subslide"
    }
   },
   "source": [
    "## MSM analysis and visualization"
   ]
  },
  {
   "cell_type": "code",
   "execution_count": 7,
   "metadata": {
    "collapsed": false,
    "slideshow": {
     "slide_type": "-"
    }
   },
   "outputs": [
    {
     "data": {
      "image/png": "[encoded data removed]",
      "text/plain": [
       "<matplotlib.figure.Figure at 0x7fff9178b390>"
      ]
     },
     "metadata": {},
     "output_type": "display_data"
    }
   ],
   "source": [
    "model = Model(dataTica)\n",
    "model.plotTimescales(lags=list(range(1,1000,50)))"
   ]
  },
  {
   "cell_type": "code",
   "execution_count": 8,
   "metadata": {
    "collapsed": false,
    "scrolled": true,
    "slideshow": {
     "slide_type": "subslide"
    }
   },
   "outputs": [
    {
     "data": {
      "image/png": "[encoded data removed]",
      "text/plain": [
       "<matplotlib.figure.Figure at 0x7fffd88c7e10>"
      ]
     },
     "metadata": {},
     "output_type": "display_data"
    },
    {
     "name": "stdout",
     "output_type": "stream",
     "text": [
      "[  3.62227653e-04   6.27850327e-03   9.81777963e-03   2.96818659e-02\n",
      "   3.44476993e-02   2.01180386e-01   3.78143163e-01   3.40088375e-01]\n"
     ]
    }
   ],
   "source": [
    "model.markovModel(600, 8)\n",
    "eqDist = model.eqDistribution()\n",
    "print(eqDist)"
   ]
  },
  {
   "cell_type": "code",
   "execution_count": 9,
   "metadata": {
    "collapsed": false,
    "slideshow": {
     "slide_type": "-"
    }
   },
   "outputs": [
    {
     "name": "stderr",
     "output_type": "stream",
     "text": [
      "[Parallel(n_jobs=-2)]: Done   1 out of   8 | elapsed:    6.5s remaining:   45.8s\n",
      "[Parallel(n_jobs=-2)]: Done   2 out of   8 | elapsed:   10.3s remaining:   31.0s\n",
      "[Parallel(n_jobs=-2)]: Done   3 out of   8 | elapsed:   14.2s remaining:   23.6s\n",
      "[Parallel(n_jobs=-2)]: Done   4 out of   8 | elapsed:   18.0s remaining:   18.0s\n",
      "[Parallel(n_jobs=-2)]: Done   5 out of   8 | elapsed:   21.8s remaining:   13.1s\n",
      "[Parallel(n_jobs=-2)]: Done   6 out of   8 | elapsed:   24.9s remaining:    8.3s\n",
      "[Parallel(n_jobs=-2)]: Done   7 out of   8 | elapsed:   29.3s remaining:    4.2s\n",
      "[Parallel(n_jobs=-2)]: Done   8 out of   8 | elapsed:   32.7s finished\n"
     ]
    }
   ],
   "source": [
    "#we can now visualize representatives for each of the equilibrium species \n",
    "model.numsamples=1\n",
    "model.viewStates(protein=True)"
   ]
  },
  {
   "cell_type": "markdown",
   "metadata": {
    "slideshow": {
     "slide_type": "subslide"
    }
   },
   "source": [
    "## Statistics\n",
    "### What are the major differences between the states X and Y?"
   ]
  },
  {
   "cell_type": "code",
   "execution_count": 10,
   "metadata": {
    "collapsed": false,
    "slideshow": {
     "slide_type": "-"
    }
   },
   "outputs": [
    {
     "name": "stdout",
     "output_type": "stream",
     "text": [
      "['Sine of angle of resid 16 atoms: N CA C resid 17 atoms: N '\n",
      " 'Cosine of angle of resid 16 atoms: N CA C resid 17 atoms: N '\n",
      " 'Sine of angle of resid 16 atoms: C resid 17 atoms: N CA C '\n",
      " 'Cosine of angle of resid 24 atoms: N CA C resid 25 atoms: N '\n",
      " 'Sine of angle of resid 32 atoms: N CA C resid 33 atoms: N '\n",
      " 'Cosine of angle of resid 32 atoms: N CA C resid 33 atoms: N '\n",
      " 'Sine of angle of resid 32 atoms: C resid 33 atoms: N CA C '\n",
      " 'Sine of angle of resid 44 atoms: N CA C resid 45 atoms: N '\n",
      " 'Cosine of angle of resid 44 atoms: N CA C resid 45 atoms: N '\n",
      " 'Sine of angle of resid 44 atoms: C resid 45 atoms: N CA C ']\n"
     ]
    },
    {
     "data": {
      "image/png": "[encoded data removed]",
      "text/plain": [
       "<matplotlib.figure.Figure at 0x7fff91750588>"
      ]
     },
     "metadata": {},
     "output_type": "display_data"
    }
   ],
   "source": [
    "means = getStateStatistic(model, data, range(model.macronum))\n",
    "plt.figure()\n",
    "plt.bar(range(len(means[0])), means[7] - means[6])\n",
    "idx = np.where(np.abs(means[7] - means[6]) > 0.6)[0]\n",
    "print(data.map[idx])"
   ]
  },
  {
   "cell_type": "code",
   "execution_count": 13,
   "metadata": {
    "collapsed": false,
    "slideshow": {
     "slide_type": "subslide"
    }
   },
   "outputs": [],
   "source": [
    "# we can visualize which residues are different between states\n",
    "filtered = Molecule('./filtered/filtered.pdb')\n",
    "filtered.view(sel='protein',style='NewCartoon',hold=True)\n",
    "filtered.view(sel='resid 16 17 24 25 32 33 44 45',style='Licorice')"
   ]
  },
  {
   "cell_type": "markdown",
   "metadata": {
    "slideshow": {
     "slide_type": "subslide"
    }
   },
   "source": [
    "## Mapping back\n",
    "### Which trajectory originated the state X?"
   ]
  },
  {
   "cell_type": "code",
   "execution_count": 14,
   "metadata": {
    "collapsed": false,
    "slideshow": {
     "slide_type": "-"
    }
   },
   "outputs": [
    {
     "data": {
      "text/plain": [
       "(array([11, 12]),)"
      ]
     },
     "execution_count": 14,
     "metadata": {},
     "output_type": "execute_result"
    }
   ],
   "source": [
    "np.where(model.macro_ofmicro == 6)"
   ]
  },
  {
   "cell_type": "code",
   "execution_count": 15,
   "metadata": {
    "collapsed": false,
    "slideshow": {
     "slide_type": "-"
    }
   },
   "outputs": [
    {
     "name": "stdout",
     "output_type": "stream",
     "text": [
      "[array([[ 64,  81],\n",
      "       [ 88,  53],\n",
      "       [ 52, 203],\n",
      "       [270, 482],\n",
      "       [186,  97],\n",
      "       [ 25,  30],\n",
      "       [196, 115],\n",
      "       [169, 178],\n",
      "       [  4, 736],\n",
      "       [175,  53]])]\n"
     ]
    }
   ],
   "source": [
    "_,rel = model.sampleStates([10],[10],statetype='micro')\n",
    "print(rel)"
   ]
  },
  {
   "cell_type": "code",
   "execution_count": 16,
   "metadata": {
    "collapsed": false,
    "slideshow": {
     "slide_type": "-"
    }
   },
   "outputs": [
    {
     "name": "stdout",
     "output_type": "stream",
     "text": [
      "id = 232\n",
      "parent = None\n",
      "input = []\n",
      "trajectory = ['./filtered/9x9/9x9-GERARD_VERYLONG_CXCL12_confAna-0-1-RND2283_9.filtered.xtc']\n",
      "molfile = ./filtered/filtered.pdb\n"
     ]
    }
   ],
   "source": [
    "print(model.data.simlist[232])"
   ]
  },
  {
   "cell_type": "markdown",
   "metadata": {
    "slideshow": {
     "slide_type": "slide"
    }
   },
   "source": [
    "## 3. Studying a defined reaction coordinate\n",
    "\n",
    "Revising the literature related to CXCL12, we find a paper published by Andrea Bernini et al. (2014) where they describe the opening of a pocket in CXCL12 located between the 2nd and 3rd beta sheet (see pictures attached). To try to capture this phenomenon in our simulations, we will project our trajectories along the 2nd and 3rd beta-sheet distance. \n",
    "\n",
    "![](http://pub.htmd.org/confana1036hbl2450olw/openclose_struc.jpg)\n",
    "![](http://pub.htmd.org/confana1036hbl2450olw/openclose_asa.png)\n",
    "\n",
    "*Figures extracted from \"Searching for protein binding sites from Molecular Dynamics simulations and paramagnetic fragment-based NMR studies\", Andrea bernini et al., 2014 Mar;1844(3):561-6. doi: 10.1016/j.bbapap.2013.12.012. Epub 2013 Dec 27*"
   ]
  },
  {
   "cell_type": "code",
   "execution_count": 17,
   "metadata": {
    "collapsed": false,
    "slideshow": {
     "slide_type": "-"
    }
   },
   "outputs": [
    {
     "name": "stderr",
     "output_type": "stream",
     "text": [
      "[Parallel(n_jobs=-2)]: Done   1 out of 289 | elapsed:    1.7s remaining:  8.2min\n",
      "[Parallel(n_jobs=-2)]: Done  21 out of 289 | elapsed:    3.3s remaining:   42.5s\n",
      "[Parallel(n_jobs=-2)]: Done  48 out of 289 | elapsed:    6.6s remaining:   33.0s\n",
      "[Parallel(n_jobs=-2)]: Done  75 out of 289 | elapsed:    8.9s remaining:   25.4s\n",
      "[Parallel(n_jobs=-2)]: Done 102 out of 289 | elapsed:   12.2s remaining:   22.4s\n",
      "[Parallel(n_jobs=-2)]: Done 129 out of 289 | elapsed:   15.4s remaining:   19.1s\n",
      "[Parallel(n_jobs=-2)]: Done 156 out of 289 | elapsed:   18.3s remaining:   15.6s\n",
      "[Parallel(n_jobs=-2)]: Done 183 out of 289 | elapsed:   21.3s remaining:   12.3s\n",
      "[Parallel(n_jobs=-2)]: Done 210 out of 289 | elapsed:   24.5s remaining:    9.2s\n",
      "[Parallel(n_jobs=-2)]: Done 237 out of 289 | elapsed:   27.9s remaining:    6.1s\n",
      "[Parallel(n_jobs=-2)]: Done 264 out of 289 | elapsed:   30.8s remaining:    2.9s\n",
      "[Parallel(n_jobs=-2)]: Done 289 out of 289 | elapsed:   33.6s finished\n"
     ]
    }
   ],
   "source": [
    "# The first selection corresponds to beta-sheet 2 carbons alpha, the second one to beta-sheet 3 CA.\n",
    "# We specify metric='contacts' to create contact maps instead of proper distances,\n",
    "# this means: create an interatom matrix and put 1 if the distance is below cutoff; 0 otherwise. \n",
    "data3 = MetricDistance.project(fsims, 'resid 38 to 42 and noh', \n",
    "                               'resid 22 to 28 and noh', metric='contacts')\n",
    "data3.fstep = 0.1"
   ]
  },
  {
   "cell_type": "code",
   "execution_count": 18,
   "metadata": {
    "collapsed": false,
    "slideshow": {
     "slide_type": "subslide"
    }
   },
   "outputs": [],
   "source": [
    "# tICA projection (dimensionality reduction along the slow process)\n",
    "tica3 = TICA(data3, 20)\n",
    "dataTica3 = tica3.project(3)"
   ]
  },
  {
   "cell_type": "code",
   "execution_count": 19,
   "metadata": {
    "collapsed": true,
    "slideshow": {
     "slide_type": "-"
    }
   },
   "outputs": [],
   "source": [
    "# Clustering\n",
    "dataTica3.cluster(MiniBatchKMeans(n_clusters=200), mergesmall=5)"
   ]
  },
  {
   "cell_type": "code",
   "execution_count": 20,
   "metadata": {
    "collapsed": false,
    "slideshow": {
     "slide_type": "-"
    }
   },
   "outputs": [
    {
     "data": {
      "image/png": "[encoded data removed]",
      "text/plain": [
       "<matplotlib.figure.Figure at 0x7fff917c1c88>"
      ]
     },
     "metadata": {},
     "output_type": "display_data"
    }
   ],
   "source": [
    "# Plot timescales\n",
    "model3 = Model(dataTica3)\n",
    "model3.plotTimescales(lags=list(range(1,1000,50)))"
   ]
  },
  {
   "cell_type": "code",
   "execution_count": 21,
   "metadata": {
    "collapsed": false,
    "slideshow": {
     "slide_type": "subslide"
    }
   },
   "outputs": [
    {
     "data": {
      "image/png": "[encoded data removed]",
      "text/plain": [
       "<matplotlib.figure.Figure at 0x7fffd8f3d7f0>"
      ]
     },
     "metadata": {},
     "output_type": "display_data"
    },
    {
     "name": "stdout",
     "output_type": "stream",
     "text": [
      "[ 0.02292385  0.06099237  0.14430835  0.77177542]\n"
     ]
    }
   ],
   "source": [
    "# Make Markov Model. we want to pick a lagtime where the timescales are converged (timescale is flat).\n",
    "# 600 is the lagtime we want to use (600 frames is equivalent to 60ns). 4 is the number of macrostates.\n",
    "model3.markovModel(600, 4)\n",
    "eqDist = model3.eqDistribution()\n",
    "print(eqDist)"
   ]
  },
  {
   "cell_type": "code",
   "execution_count": 22,
   "metadata": {
    "collapsed": false,
    "slideshow": {
     "slide_type": "-"
    }
   },
   "outputs": [
    {
     "name": "stderr",
     "output_type": "stream",
     "text": [
      "[Parallel(n_jobs=-2)]: Done   1 out of   4 | elapsed:   10.6s remaining:   31.8s\n",
      "[Parallel(n_jobs=-2)]: Done   2 out of   4 | elapsed:   16.5s remaining:   16.5s\n",
      "[Parallel(n_jobs=-2)]: Done   3 out of   4 | elapsed:   22.7s remaining:    7.6s\n",
      "[Parallel(n_jobs=-2)]: Done   4 out of   4 | elapsed:   27.2s finished\n"
     ]
    }
   ],
   "source": [
    "# Visualize states\n",
    "model3.numsamples = 1\n",
    "model3.viewStates(protein=True)"
   ]
  },
  {
   "cell_type": "markdown",
   "metadata": {},
   "source": [
    "![](http://pub.htmd.org/confana1036hbl2450olw/conformation_open.png)"
   ]
  },
  {
   "cell_type": "markdown",
   "metadata": {},
   "source": [
    "Did you see any macrostate where the pocket is open? what is the equilibrium population probability? Let's try to find the trajectory that produced the state..."
   ]
  },
  {
   "cell_type": "code",
   "execution_count": 23,
   "metadata": {
    "collapsed": false,
    "slideshow": {
     "slide_type": "-"
    }
   },
   "outputs": [
    {
     "data": {
      "text/plain": [
       "(array([ 2,  6, 23, 46]),)"
      ]
     },
     "execution_count": 23,
     "metadata": {},
     "output_type": "execute_result"
    }
   ],
   "source": [
    "# Map back the trajectory/ies that originated the macro. Substitute 1 for the macro that showed the pocket opening.\n",
    "# This function is giving you the microclusters that are inside a given macrocluster\n",
    "np.where(model3.macro_ofmicro ==1)"
   ]
  },
  {
   "cell_type": "code",
   "execution_count": 24,
   "metadata": {
    "collapsed": false,
    "slideshow": {
     "slide_type": "-"
    }
   },
   "outputs": [
    {
     "name": "stdout",
     "output_type": "stream",
     "text": [
      "[array([[ 228,  672],\n",
      "       [  23, 1016],\n",
      "       [ 159,  265],\n",
      "       [ 124,  739],\n",
      "       [ 124,  399]])]\n"
     ]
    }
   ],
   "source": [
    "# substitute 48 for the micro number from the previous step\n",
    "# This function gives you trajectory-frame pairs that visited a given micro\n",
    "_,rel = model3.sampleStates([48],[5],statetype='micro')\n",
    "print(rel)"
   ]
  },
  {
   "cell_type": "code",
   "execution_count": 25,
   "metadata": {
    "collapsed": false,
    "slideshow": {
     "slide_type": "-"
    }
   },
   "outputs": [
    {
     "name": "stdout",
     "output_type": "stream",
     "text": [
      "id = 277\n",
      "parent = None\n",
      "input = []\n",
      "trajectory = ['./filtered/10x23/10x23-GERARD_VERYLONG_CXCL12_confAna-0-1-RND9861_9.filtered.xtc']\n",
      "molfile = ./filtered/filtered.pdb\n"
     ]
    }
   ],
   "source": [
    "print(model3.data.simlist[277])"
   ]
  },
  {
   "cell_type": "code",
   "execution_count": 33,
   "metadata": {
    "collapsed": false,
    "slideshow": {
     "slide_type": "subslide"
    }
   },
   "outputs": [
    {
     "name": "stdout",
     "output_type": "stream",
     "text": [
      "Creating simlist: 100% (1/1) [#####################################] eta --:-- |\n"
     ]
    }
   ],
   "source": [
    "# Calculate RMSD of the site of interest for a selected trajectory\n",
    "simus = simlist(glob('./filtered/10x23/'), './filtered/filtered.pdb')"
   ]
  },
  {
   "cell_type": "code",
   "execution_count": 39,
   "metadata": {
    "collapsed": false,
    "slideshow": {
     "slide_type": "-"
    }
   },
   "outputs": [
    {
     "name": "stderr",
     "output_type": "stream",
     "text": [
      "[Parallel(n_jobs=-2)]: Done   1 out of   1 | elapsed:    1.9s remaining:    0.0s\n",
      "[Parallel(n_jobs=-2)]: Done   1 out of   1 | elapsed:    1.9s finished\n"
     ]
    }
   ],
   "source": [
    "refmol = Molecule('./filtered/filtered.pdb')\n",
    "rmsd = MetricRmsd.project(simus, refmol, 'resid 38 to 42 or resid 22 to 28 and noh', trajalnstr='protein')"
   ]
  },
  {
   "cell_type": "code",
   "execution_count": 40,
   "metadata": {
    "collapsed": false,
    "slideshow": {
     "slide_type": "-"
    }
   },
   "outputs": [
    {
     "data": {
      "text/plain": [
       "<matplotlib.text.Text at 0x7fffd8a0b320>"
      ]
     },
     "execution_count": 40,
     "metadata": {},
     "output_type": "execute_result"
    },
    {
     "data": {
      "image/png": "[encoded data removed]",
      "text/plain": [
       "<matplotlib.figure.Figure at 0x7fffd3fea828>"
      ]
     },
     "metadata": {},
     "output_type": "display_data"
    }
   ],
   "source": [
    "# Do you see the pocket opening at 50ns?\n",
    "plt.plot(rmsd.dat[0])\n",
    "plt.xlabel('Simulation length (frames; 0.1ns)', fontsize=10)\n",
    "plt.ylabel('RMSD (Angstroms)', fontsize=10)"
   ]
  },
  {
   "cell_type": "code",
   "execution_count": 41,
   "metadata": {
    "collapsed": true,
    "slideshow": {
     "slide_type": "-"
    }
   },
   "outputs": [],
   "source": [
    "# You can also visualize the trajectory from your browser\n",
    "refmol.read('./filtered/10x23/10x23-GERARD_VERYLONG_CXCL12_confAna-0-1-RND9861_9.filtered.xtc')\n",
    "refmol.align('protein')\n",
    "refmol.view()"
   ]
  },
  {
   "cell_type": "markdown",
   "metadata": {},
   "source": [
    "![](http://pub.htmd.org/confana1036hbl2450olw/view_trajectory.png)"
   ]
  }
 ],
 "metadata": {
  "celltoolbar": "Slideshow",
  "kernelspec": {
   "display_name": "Python 3",
   "language": "python",
   "name": "python3"
  },
  "language_info": {
   "codemirror_mode": {
    "name": "ipython",
    "version": 3
   },
   "file_extension": ".py",
   "mimetype": "text/x-python",
   "name": "python",
   "nbconvert_exporter": "python",
   "pygments_lexer": "ipython3",
   "version": "3.4.4"
  }
 },
 "nbformat": 4,
 "nbformat_minor": 0
}
