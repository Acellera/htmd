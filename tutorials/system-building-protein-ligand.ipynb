{
 "cells": [
  {
   "cell_type": "code",
   "execution_count": 1,
   "metadata": {
    "slideshow": {
     "slide_type": "skip"
    }
   },
   "outputs": [
    {
     "name": "stdout",
     "output_type": "stream",
     "text": [
      "\n",
      "Please cite HTMD: Doerr et al.(2016)JCTC,12,1845. https://dx.doi.org/10.1021/acs.jctc.6b00049\n",
      "\n",
      "HTMD Documentation at: https://www.htmd.org/docs/latest/\n",
      "\n",
      "You are on the latest HTMD version (unpackaged : /shared/sdoerr/Work/htmdacellera/htmd).\n",
      "\n",
      "Deprecation warning: \"from htmd import *\" will be deprecated. \n",
      "To import all HTMD shortcuts please from now on use \"from htmd.ui import *\"\n"
     ]
    }
   ],
   "source": [
    "from htmd.ui import *\n",
    "from htmd.home import home\n",
    "from os.path import join\n",
    "config(viewer='ngl')\n",
    "datadir = home(dataDir='building-protein-ligand')"
   ]
  },
  {
   "cell_type": "markdown",
   "metadata": {
    "slideshow": {
     "slide_type": "slide"
    }
   },
   "source": [
    "# System building: trypsin-benzamidine"
   ]
  },
  {
   "cell_type": "markdown",
   "metadata": {
    "slideshow": {
     "slide_type": "-"
    }
   },
   "source": [
    "(Download the required files for the tutorial from this [link](http://pub.htmd.org/73hboiwia98hdj209jq0/bentryp.tar.gz).)\n",
    "\n",
    "\n",
    "First we will download the crystal structure for 3PTB (Trypsin bound with Benzamidine) from the RCSB servers."
   ]
  },
  {
   "cell_type": "code",
   "execution_count": 2,
   "metadata": {},
   "outputs": [
    {
     "name": "stderr",
     "output_type": "stream",
     "text": [
      "2017-07-12 12:30:40,113 - htmd.molecule.readers - INFO - Using local copy for 3PTB: /shared/sdoerr/Work/htmdacellera/htmd/data/pdb/3ptb.pdb\n"
     ]
    }
   ],
   "source": [
    "# We can use the pdb file found in the HTMD data directory\n",
    "prot = Molecule(join(datadir, 'trypsin.pdb'))\n",
    "# Or we can download it directly from the RCSB servers\n",
    "prot = Molecule('3PTB')"
   ]
  },
  {
   "cell_type": "code",
   "execution_count": 3,
   "metadata": {},
   "outputs": [
    {
     "name": "stderr",
     "output_type": "stream",
     "text": [
      "The installed widget Javascript is the wrong version.\n"
     ]
    }
   ],
   "source": [
    "prot.view()"
   ]
  },
  {
   "cell_type": "markdown",
   "metadata": {
    "slideshow": {
     "slide_type": "slide"
    }
   },
   "source": [
    "## Clean the structures"
   ]
  },
  {
   "cell_type": "markdown",
   "metadata": {
    "slideshow": {
     "slide_type": "-"
    }
   },
   "source": [
    "The PDB crystal structure contains the protein as well as water molecules, a calcium ion and a ligand. Here we will start by removing the ligand from the protein Molecule as we will add it later to manipulate it separately."
   ]
  },
  {
   "cell_type": "code",
   "execution_count": 4,
   "metadata": {},
   "outputs": [
    {
     "name": "stderr",
     "output_type": "stream",
     "text": [
      "2017-07-12 12:30:40,576 - htmd.molecule.molecule - INFO - Removed 9 atoms. 1692 atoms remaining in the molecule.\n"
     ]
    },
    {
     "data": {
      "text/plain": [
       "array([1630, 1631, 1632, 1633, 1634, 1635, 1636, 1637, 1638], dtype=int32)"
      ]
     },
     "execution_count": 4,
     "metadata": {},
     "output_type": "execute_result"
    }
   ],
   "source": [
    "prot.remove('resname BEN')"
   ]
  },
  {
   "cell_type": "markdown",
   "metadata": {
    "slideshow": {
     "slide_type": "slide"
    }
   },
   "source": [
    "## Preparing the protein"
   ]
  },
  {
   "cell_type": "code",
   "execution_count": 5,
   "metadata": {
    "scrolled": true
   },
   "outputs": [
    {
     "name": "stderr",
     "output_type": "stream",
     "text": [
      "2017-07-12 12:30:40,749 - propka - INFO - No pdbfile provided\n",
      "2017-07-12 12:30:43,160 - htmd.builder.preparation - WARNING - The following residue has not been optimized: CA\n",
      "2017-07-12 12:30:49,013 - htmd.builder.preparationdata - INFO - The following residues are in a non-standard state: CYS    22  A (CYX), HIS    40  A (HIE), CYS    42  A (CYX), HIS    57  A (HIP), CYS    58  A (CYX), HIS    91  A (HID), CYS   128  A (CYX), CYS   136  A (CYX), CYS   157  A (CYX), CYS   168  A (CYX), CYS   182  A (CYX), CYS   191  A (CYX), CYS   201  A (CYX), CYS   220  A (CYX), CYS   232  A (CYX)\n",
      "2017-07-12 12:30:49,014 - htmd.builder.preparationdata - WARNING - Dubious protonation state: the pKa of 4 residues is within 1.0 units of pH 7.0.\n",
      "2017-07-12 12:30:49,016 - htmd.builder.preparationdata - WARNING - Dubious protonation state:    HIS    57  A (pKa= 7.46)\n",
      "2017-07-12 12:30:49,017 - htmd.builder.preparationdata - WARNING - Dubious protonation state:    GLU    70  A (pKa= 6.10)\n",
      "2017-07-12 12:30:49,017 - htmd.builder.preparationdata - WARNING - Dubious protonation state:    ASP   189  A (pKa= 6.49)\n",
      "2017-07-12 12:30:49,018 - htmd.builder.preparationdata - WARNING - Dubious protonation state:    N+     16T A (pKa= 7.49)\n",
      "2017-07-12 12:30:49,089 - htmd.builder.preparationdata - WARNING - Found N-terminus 80.7% buried (> 50.0% threshold)\n",
      "2017-07-12 12:30:49,089 - htmd.builder.preparationdata - WARNING - Found C-terminus involved in H bonds\n"
     ]
    }
   ],
   "source": [
    "prot = proteinPrepare(prot)"
   ]
  },
  {
   "cell_type": "markdown",
   "metadata": {
    "slideshow": {
     "slide_type": "slide"
    }
   },
   "source": [
    "## Define segments"
   ]
  },
  {
   "cell_type": "markdown",
   "metadata": {
    "slideshow": {
     "slide_type": "-"
    }
   },
   "source": [
    "To build a system in HTMD, we need to separate the chemical molecules into separate segments. This prevents the builder from accidentally bonding different chemical molecules and allows us to add caps to them."
   ]
  },
  {
   "cell_type": "code",
   "execution_count": 6,
   "metadata": {},
   "outputs": [
    {
     "name": "stderr",
     "output_type": "stream",
     "text": [
      "2017-07-12 12:30:49,479 - htmd.builder.builder - INFO - Created segment P0 between resid 16 and 245.\n"
     ]
    }
   ],
   "source": [
    "prot = autoSegment(prot, sel='protein')\n",
    "prot.set('segid', 'W', sel='water')\n",
    "prot.set('segid', 'CA', sel='resname CA')"
   ]
  },
  {
   "cell_type": "markdown",
   "metadata": {},
   "source": [
    "Center the protein to the origin"
   ]
  },
  {
   "cell_type": "code",
   "execution_count": 7,
   "metadata": {
    "collapsed": true
   },
   "outputs": [],
   "source": [
    "prot.center()"
   ]
  },
  {
   "cell_type": "markdown",
   "metadata": {
    "slideshow": {
     "slide_type": "slide"
    }
   },
   "source": [
    "## Let's work on the ligand!"
   ]
  },
  {
   "cell_type": "code",
   "execution_count": 8,
   "metadata": {},
   "outputs": [
    {
     "name": "stderr",
     "output_type": "stream",
     "text": [
      "The installed widget Javascript is the wrong version.\n"
     ]
    }
   ],
   "source": [
    "ligand = Molecule(join(datadir, 'benzamidine.mol2'))\n",
    "ligand.center()\n",
    "ligand.view()"
   ]
  },
  {
   "cell_type": "code",
   "execution_count": 9,
   "metadata": {
    "collapsed": true
   },
   "outputs": [],
   "source": [
    "# We can give a convenient segid and resname to the ligand\n",
    "# The resname should be MOL to match the parameters in the\n",
    "# rtf and prm files.\n",
    "ligand.set('segid','L')\n",
    "ligand.set('resname','MOL')"
   ]
  },
  {
   "cell_type": "markdown",
   "metadata": {},
   "source": [
    "But the ligand is located inside the protein...\n",
    "We would like the ligand to be:\n",
    "\n",
    "* At a certain distance from the protein\n",
    "* Rotated randomly, to provide different starting conditions"
   ]
  },
  {
   "cell_type": "markdown",
   "metadata": {
    "slideshow": {
     "slide_type": "slide"
    }
   },
   "source": [
    "## Let's randomize the ligand position"
   ]
  },
  {
   "cell_type": "code",
   "execution_count": 10,
   "metadata": {
    "collapsed": true
   },
   "outputs": [],
   "source": [
    "ligand.rotateBy(uniformRandomRotation())"
   ]
  },
  {
   "cell_type": "markdown",
   "metadata": {},
   "source": [
    "This took care of the ligand rotation around its own center. \n",
    "We still need to position it far from the protein.\n",
    "First, find out the radius of the protein:\n",
    "\n",
    "![](http://pub.htmd.org/73hboiwia98hdj209jq0/maxdist.png)"
   ]
  },
  {
   "cell_type": "code",
   "execution_count": 11,
   "metadata": {
    "slideshow": {
     "slide_type": "slide"
    }
   },
   "outputs": [
    {
     "name": "stdout",
     "output_type": "stream",
     "text": [
      "28.832803412\n"
     ]
    }
   ],
   "source": [
    "from htmd.molecule.util import maxDistance\n",
    "D = maxDistance(prot, 'all')\n",
    "print(D)"
   ]
  },
  {
   "cell_type": "code",
   "execution_count": 12,
   "metadata": {
    "collapsed": true
   },
   "outputs": [],
   "source": [
    "D += 10\n",
    "# Move the ligand 10 Angstrom away from the furthest protein atom in X dimension\n",
    "ligand.moveBy([D, 0, 0])  \n",
    "# rotateBy rotates by default around [0, 0, 0]. Since the ligand has been moved\n",
    "# away from the center it will be rotated in a sphere of radius D+10 around [0, 0, 0]\n",
    "ligand.rotateBy(uniformRandomRotation())"
   ]
  },
  {
   "cell_type": "markdown",
   "metadata": {
    "slideshow": {
     "slide_type": "slide"
    }
   },
   "source": [
    "### Mix it all together"
   ]
  },
  {
   "cell_type": "code",
   "execution_count": 14,
   "metadata": {},
   "outputs": [
    {
     "name": "stderr",
     "output_type": "stream",
     "text": [
      "The installed widget Javascript is the wrong version.\n"
     ]
    }
   ],
   "source": [
    "mol = Molecule(name='combo')\n",
    "mol.append(prot)\n",
    "mol.append(ligand)\n",
    "mol.reps.add(sel='protein', style='NewCartoon', color='Secondary Structure')\n",
    "mol.reps.add(sel='resname MOL', style='Licorice')\n",
    "mol.view()"
   ]
  },
  {
   "cell_type": "markdown",
   "metadata": {
    "slideshow": {
     "slide_type": "slide"
    }
   },
   "source": [
    "## Solvate"
   ]
  },
  {
   "cell_type": "markdown",
   "metadata": {
    "slideshow": {
     "slide_type": "-"
    }
   },
   "source": [
    "> Water is the driving force of all nature. --Leonardo da Vinci\n",
    "\n",
    "![](http://pub.htmd.org/73hboiwia98hdj209jq0/waterbox.png)"
   ]
  },
  {
   "cell_type": "code",
   "execution_count": 15,
   "metadata": {
    "scrolled": true
   },
   "outputs": [
    {
     "name": "stderr",
     "output_type": "stream",
     "text": [
      "2017-07-12 12:31:34,135 - htmd.builder.solvate - INFO - Using water pdb file at: /shared/sdoerr/Work/htmdacellera/htmd/builder/wat.pdb\n",
      "2017-07-12 12:31:35,207 - htmd.builder.solvate - INFO - Replicating 8 water segments, 2 by 2 by 2\n"
     ]
    },
    {
     "name": "stdout",
     "output_type": "stream",
     "text": [
      "Solvating: 100% (8/8) [############################################] eta 00:00 /\n"
     ]
    },
    {
     "name": "stderr",
     "output_type": "stream",
     "text": [
      "2017-07-12 12:31:43,551 - htmd.builder.solvate - INFO - After removing water molecules colliding with other molecules, 20149 water molecules were added to the system.\n",
      "The installed widget Javascript is the wrong version.\n"
     ]
    }
   ],
   "source": [
    "# We solvate with a larger box to fully solvate the ligand\n",
    "DW = D + 5\n",
    "smol = solvate(mol, minmax=[[-DW, -DW, -DW], [DW, DW, DW]])\n",
    "smol.reps.add(sel='water', style='Lines')\n",
    "smol.view()"
   ]
  },
  {
   "cell_type": "markdown",
   "metadata": {
    "slideshow": {
     "slide_type": "slide"
    }
   },
   "source": [
    "## Available CHARMM forcefields"
   ]
  },
  {
   "cell_type": "code",
   "execution_count": 16,
   "metadata": {},
   "outputs": [
    {
     "name": "stdout",
     "output_type": "stream",
     "text": [
      "---- Topologies files list: /shared/sdoerr/Work/htmdacellera/htmd/builder/charmmfiles/top/ ----\n",
      "top/top_all22_prot.rtf\n",
      "top/top_all22star_prot.rtf\n",
      "top/top_all35_ethers.rtf\n",
      "top/top_all36_carb.rtf\n",
      "top/top_all36_cgenff.rtf\n",
      "top/top_all36_lipid.rtf\n",
      "top/top_all36_na.rtf\n",
      "top/top_all36_prot.rtf\n",
      "top/top_water_ions.rtf\n",
      "---- Parameters files list: /shared/sdoerr/Work/htmdacellera/htmd/builder/charmmfiles/par/ ----\n",
      "par/par_all22_prot.prm\n",
      "par/par_all22star_prot.prm\n",
      "par/par_all35_ethers.prm\n",
      "par/par_all36_carb.prm\n",
      "par/par_all36_cgenff.prm\n",
      "par/par_all36_lipid.prm\n",
      "par/par_all36_na.prm\n",
      "par/par_all36_prot.prm\n",
      "par/par_all36_prot_mod.prm\n",
      "par/par_water_ions.prm\n",
      "---- Stream files list: /shared/sdoerr/Work/htmdacellera/htmd/builder/charmmfiles/str/ ----\n",
      "str/carb/toppar_all36_carb_glycolipid.str\n",
      "str/carb/toppar_all36_carb_glycopeptide.str\n",
      "str/carb/toppar_all36_carb_model.str\n",
      "str/lipid/toppar_all36_lipid_bacterial.str\n",
      "str/lipid/toppar_all36_lipid_cardiolipin.str\n",
      "str/lipid/toppar_all36_lipid_cholesterol.str\n",
      "str/lipid/toppar_all36_lipid_cholesterol_model_1.str\n",
      "str/lipid/toppar_all36_lipid_detergent.str\n",
      "str/lipid/toppar_all36_lipid_inositol.str\n",
      "str/lipid/toppar_all36_lipid_list.str\n",
      "str/lipid/toppar_all36_lipid_miscellaneous.str\n",
      "str/lipid/toppar_all36_lipid_model.str\n",
      "str/lipid/toppar_all36_lipid_prot.str\n",
      "str/lipid/toppar_all36_lipid_sphingo.str\n",
      "str/lipid/toppar_all36_lipid_yeast.str\n",
      "str/misc/toppar_amines.str\n",
      "str/misc/toppar_dum_noble_gases.str\n",
      "str/misc/toppar_hbond.str\n",
      "str/misc/toppar_ions_won.str\n",
      "str/na/toppar_all36_na_model.str\n",
      "str/na/toppar_all36_na_modifications.str\n",
      "str/na/toppar_all36_na_nad_ppi.str\n",
      "str/na/toppar_all36_na_reactive_rna.str\n",
      "str/na/toppar_all36_na_rna_modified.str\n",
      "str/prot/toppar_all36_prot_aldehydes.str\n",
      "str/prot/toppar_all36_prot_arg0.str\n",
      "str/prot/toppar_all36_prot_d_aminoacids.str\n",
      "str/prot/toppar_all36_prot_fluoro_alkanes.str\n",
      "str/prot/toppar_all36_prot_heme.str\n",
      "str/prot/toppar_all36_prot_mod_d_aminoacids.str\n",
      "str/prot/toppar_all36_prot_model.str\n",
      "str/prot/toppar_all36_prot_modify_res.str\n",
      "str/prot/toppar_all36_prot_na_combined.str\n",
      "str/prot/toppar_all36_prot_pyridines.str\n",
      "str/prot/toppar_all36_prot_retinol.str\n"
     ]
    }
   ],
   "source": [
    "charmm.listFiles()"
   ]
  },
  {
   "cell_type": "markdown",
   "metadata": {
    "slideshow": {
     "slide_type": "slide"
    }
   },
   "source": [
    "## Build and ionize using CHARMM"
   ]
  },
  {
   "cell_type": "code",
   "execution_count": 17,
   "metadata": {
    "scrolled": true,
    "slideshow": {
     "slide_type": "-"
    }
   },
   "outputs": [
    {
     "name": "stderr",
     "output_type": "stream",
     "text": [
      "2017-07-12 12:31:54,834 - htmd.builder.charmm - INFO - Writing out segments.\n",
      "2017-07-12 12:32:04,975 - htmd.builder.builder - INFO - 6 disulfide bonds were added\n"
     ]
    },
    {
     "name": "stdout",
     "output_type": "stream",
     "text": [
      "Bond between A: [serial 351 resid 42 resname CYX chain A segid P0]\n",
      "             B: [serial 571 resid 58 resname CYX chain A segid P0]\n",
      "\n",
      "Bond between A: [serial 1683 resid 136 resname CYX chain A segid P0]\n",
      "             B: [serial 2611 resid 201 resname CYX chain A segid P0]\n",
      "\n",
      "Bond between A: [serial 2146 resid 168 resname CYX chain A segid P0]\n",
      "             B: [serial 2353 resid 182 resname CYX chain A segid P0]\n",
      "\n",
      "Bond between A: [serial 1604 resid 128 resname CYX chain A segid P0]\n",
      "             B: [serial 3004 resid 232 resname CYX chain A segid P0]\n",
      "\n",
      "Bond between A: [serial 2494 resid 191 resname CYX chain A segid P0]\n",
      "             B: [serial 2799 resid 220 resname CYX chain A segid P0]\n",
      "\n",
      "Bond between A: [serial 92 resid 22 resname CYX chain A segid P0]\n",
      "             B: [serial 1988 resid 157 resname CYX chain A segid P0]\n",
      "\n"
     ]
    },
    {
     "name": "stderr",
     "output_type": "stream",
     "text": [
      "2017-07-12 12:32:05,377 - htmd.builder.charmm - INFO - Starting the build.\n",
      "2017-07-12 12:32:06,096 - htmd.builder.charmm - WARNING - Failed to set coordinates for 8 atoms.\n",
      "2017-07-12 12:32:06,097 - htmd.builder.charmm - WARNING - Failed to guess coordinates for 3 atoms due to bad angles.\n",
      "2017-07-12 12:32:06,098 - htmd.builder.charmm - WARNING - Poorly guessed coordinates for 15 atoms.\n",
      "2017-07-12 12:32:06,099 - htmd.builder.charmm - WARNING - Please check /shared/sdoerr/Work/htmdacellera/tutorials/build/log.txt for further information.\n",
      "2017-07-12 12:32:06,099 - htmd.builder.charmm - INFO - Finished building.\n",
      "2017-07-12 12:32:09,191 - htmd.builder.ionize - INFO - Adding 10 anions + 0 cations for neutralizing and 0 ions for the given salt concentration.\n",
      "2017-07-12 12:32:09,615 - htmd.builder.ionize - INFO - Min distance of ions from molecule: 5A\n",
      "2017-07-12 12:32:09,616 - htmd.builder.ionize - INFO - Min distance between ions: 5A\n",
      "2017-07-12 12:32:09,617 - htmd.builder.ionize - INFO - Placing 10 ions.\n",
      "2017-07-12 12:32:15,609 - htmd.builder.charmm - INFO - Writing out segments.\n",
      "2017-07-12 12:32:27,195 - htmd.builder.charmm - INFO - Starting the build.\n",
      "2017-07-12 12:32:28,173 - htmd.builder.charmm - WARNING - Failed to set coordinates for 8 atoms.\n",
      "2017-07-12 12:32:28,174 - htmd.builder.charmm - WARNING - Failed to guess coordinates for 3 atoms due to bad angles.\n",
      "2017-07-12 12:32:28,175 - htmd.builder.charmm - WARNING - Poorly guessed coordinates for 15 atoms.\n",
      "2017-07-12 12:32:28,176 - htmd.builder.charmm - WARNING - Please check /shared/sdoerr/Work/htmdacellera/tutorials/build/log.txt for further information.\n",
      "2017-07-12 12:32:28,176 - htmd.builder.charmm - INFO - Finished building.\n"
     ]
    }
   ],
   "source": [
    "topos  = charmm.defaultTopo() + [join(datadir, 'benzamidine.rtf')]\n",
    "params = charmm.defaultParam() + [join(datadir, 'benzamidine.prm')]\n",
    "\n",
    "bmol = charmm.build(smol, topo=topos, param=params, \n",
    "                        outdir='./build')"
   ]
  },
  {
   "cell_type": "markdown",
   "metadata": {
    "collapsed": true,
    "slideshow": {
     "slide_type": "slide"
    }
   },
   "source": [
    "## Visualize"
   ]
  },
  {
   "cell_type": "code",
   "execution_count": 18,
   "metadata": {},
   "outputs": [
    {
     "name": "stderr",
     "output_type": "stream",
     "text": [
      "The installed widget Javascript is the wrong version.\n"
     ]
    }
   ],
   "source": [
    "bmol.view()"
   ]
  }
 ],
 "metadata": {
  "anaconda-cloud": {},
  "celltoolbar": "Slideshow",
  "kernelspec": {
   "display_name": "Python 3",
   "language": "python",
   "name": "python3"
  },
  "language_info": {
   "codemirror_mode": {
    "name": "ipython",
    "version": 3
   },
   "file_extension": ".py",
   "mimetype": "text/x-python",
   "name": "python",
   "nbconvert_exporter": "python",
   "pygments_lexer": "ipython3",
   "version": "3.6.1"
  },
  "widgets": {
   "state": {
    "0a178ab50dc445f7924510f91887f5fc": {
     "views": [
      {
       "cell_index": 15
      }
     ]
    },
    "25c1755bbe564dbab74cd85ab64fd1a9": {
     "views": [
      {
       "cell_index": 25
      }
     ]
    },
    "2b9fe15c349d4639adf691ce9756fdae": {
     "views": [
      {
       "cell_index": 28
      }
     ]
    },
    "574684028db242379374737dca9fbb19": {
     "views": [
      {
       "cell_index": 25
      }
     ]
    },
    "5c49905aacd04d71b82425f44ae9e531": {
     "views": [
      {
       "cell_index": 28
      }
     ]
    },
    "5fec83d14a08443fa1f8a9e24092a958": {
     "views": [
      {
       "cell_index": 34
      }
     ]
    },
    "62600751c0694125afa73b13bfbd1957": {
     "views": [
      {
       "cell_index": 15
      }
     ]
    },
    "d4bbcf3b9c59484aac9988a2f2ff1056": {
     "views": [
      {
       "cell_index": 34
      }
     ]
    }
   },
   "version": "1.2.0"
  }
 },
 "nbformat": 4,
 "nbformat_minor": 1
}
