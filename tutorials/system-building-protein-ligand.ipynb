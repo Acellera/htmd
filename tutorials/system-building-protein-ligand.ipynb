{
 "cells": [
  {
   "cell_type": "code",
   "execution_count": 1,
   "metadata": {
    "collapsed": false,
    "slideshow": {
     "slide_type": "skip"
    }
   },
   "outputs": [
    {
     "name": "stdout",
     "output_type": "stream",
     "text": [
      "\n",
      "Please cite -- HTMD: High-Throughput Molecular Dynamics for Molecular Discovery\n",
      "J. Chem. Theory Comput., 2016, 12 (4), pp 1845-1852. \n",
      "http://pubs.acs.org/doi/abs/10.1021/acs.jctc.6b00049\n",
      "\n",
      "You are on the latest HTMD version (unpackaged : /home/joao/maindisk/software/repos/Acellera/htmd/htmd).\n",
      "\n"
     ]
    }
   ],
   "source": [
    "from htmd.ui import *\n",
    "config(viewer='ngl')\n",
    "#os.chdir('/webdata/73hboiwia98hdj209jq0/')  # Skip this command."
   ]
  },
  {
   "cell_type": "markdown",
   "metadata": {
    "slideshow": {
     "slide_type": "slide"
    }
   },
   "source": [
    "# System building: trypsin-benzamidine"
   ]
  },
  {
   "cell_type": "markdown",
   "metadata": {
    "slideshow": {
     "slide_type": "slide"
    }
   },
   "source": [
    "## Obtain the structures\n",
    "\n",
    "(Download the required files for the tutorial from this [link](http://pub.htmd.org/73hboiwia98hdj209jq0/bentryp.tar.gz). )"
   ]
  },
  {
   "cell_type": "code",
   "execution_count": 2,
   "metadata": {
    "collapsed": false
   },
   "outputs": [
    {
     "name": "stderr",
     "output_type": "stream",
     "text": [
      "2017-01-10 23:46:20,409 - htmd.molecule.molecule - INFO - Using local copy for 3PTB: /home/joao/maindisk/software/repos/Acellera/htmd/htmd/data/pdb/3ptb.pdb\n"
     ]
    }
   ],
   "source": [
    "prot = Molecule('3PTB')"
   ]
  },
  {
   "cell_type": "markdown",
   "metadata": {
    "slideshow": {
     "slide_type": "slide"
    }
   },
   "source": [
    "## Clean the structures"
   ]
  },
  {
   "cell_type": "markdown",
   "metadata": {
    "slideshow": {
     "slide_type": "-"
    }
   },
   "source": [
    "Water molecules and one calcium ion present in the PDB crystal structure were also read by HTMD. Start by removing the ligand:"
   ]
  },
  {
   "cell_type": "code",
   "execution_count": 3,
   "metadata": {
    "collapsed": false
   },
   "outputs": [
    {
     "name": "stderr",
     "output_type": "stream",
     "text": [
      "2017-01-10 23:46:23,612 - htmd.molecule.molecule - INFO - Removed 9 atoms. 1692 atoms remaining in the molecule.\n"
     ]
    },
    {
     "data": {
      "text/plain": [
       "array([1630, 1631, 1632, 1633, 1634, 1635, 1636, 1637, 1638], dtype=int32)"
      ]
     },
     "execution_count": 3,
     "metadata": {},
     "output_type": "execute_result"
    }
   ],
   "source": [
    "prot.remove('resname BEN')"
   ]
  },
  {
   "cell_type": "markdown",
   "metadata": {
    "slideshow": {
     "slide_type": "slide"
    }
   },
   "source": [
    "## Preparing the protein"
   ]
  },
  {
   "cell_type": "code",
   "execution_count": 4,
   "metadata": {
    "collapsed": false,
    "scrolled": true
   },
   "outputs": [
    {
     "name": "stderr",
     "output_type": "stream",
     "text": [
      "2017-01-10 23:46:27,597 - propka - INFO - No pdbfile provided\n",
      "2017-01-10 23:46:30,839 - htmd.builder.preparation - WARNING - The following residue has not been optimized: CA\n",
      "2017-01-10 23:46:37,350 - htmd.builder.preparationdata - INFO - The following residues are in a non-standard state: CYS    22  A (CYX), HIS    40  A (HIE), CYS    42  A (CYX), HIS    57  A (HIP), CYS    58  A (CYX), HIS    91  A (HID), CYS   128  A (CYX), CYS   136  A (CYX), CYS   157  A (CYX), CYS   168  A (CYX), CYS   182  A (CYX), CYS   191  A (CYX), CYS   201  A (CYX), CYS   220  A (CYX), CYS   232  A (CYX)\n",
      "2017-01-10 23:46:37,356 - htmd.builder.preparationdata - WARNING - Dubious protonation state: the pKa of 4 residues is within 1.0 units of pH 7.0.\n",
      "2017-01-10 23:46:37,359 - htmd.builder.preparationdata - WARNING - Dubious protonation state:    HIS    57  A (pKa= 7.46)\n",
      "2017-01-10 23:46:37,361 - htmd.builder.preparationdata - WARNING - Dubious protonation state:    GLU    70  A (pKa= 6.10)\n",
      "2017-01-10 23:46:37,362 - htmd.builder.preparationdata - WARNING - Dubious protonation state:    ASP   189  A (pKa= 6.49)\n",
      "2017-01-10 23:46:37,364 - htmd.builder.preparationdata - WARNING - Dubious protonation state:    N+     16  A (pKa= 7.49)\n"
     ]
    }
   ],
   "source": [
    "prot = proteinPrepare(prot)"
   ]
  },
  {
   "cell_type": "markdown",
   "metadata": {
    "slideshow": {
     "slide_type": "slide"
    }
   },
   "source": [
    "## Define segments"
   ]
  },
  {
   "cell_type": "markdown",
   "metadata": {
    "slideshow": {
     "slide_type": "-"
    }
   },
   "source": [
    "To build a system in HTMD, we need to separate the chemical molecules into separate segments. This prevents the builder from accidentally bonding different chemical molecules and allows us to add caps to them."
   ]
  },
  {
   "cell_type": "code",
   "execution_count": 5,
   "metadata": {
    "collapsed": true
   },
   "outputs": [],
   "source": [
    "prot.set('segid', 'P', sel='protein')\n",
    "prot.set('segid', 'W', sel='water')\n",
    "prot.set('segid', 'CA', sel='resname CA')"
   ]
  },
  {
   "cell_type": "markdown",
   "metadata": {},
   "source": [
    "Center the protein to the origin"
   ]
  },
  {
   "cell_type": "code",
   "execution_count": 6,
   "metadata": {
    "collapsed": true
   },
   "outputs": [],
   "source": [
    "prot.center()"
   ]
  },
  {
   "cell_type": "markdown",
   "metadata": {
    "slideshow": {
     "slide_type": "slide"
    }
   },
   "source": [
    "## Let's add a ligand!"
   ]
  },
  {
   "cell_type": "code",
   "execution_count": 7,
   "metadata": {
    "collapsed": false
   },
   "outputs": [],
   "source": [
    "ligand = Molecule('bentryp/benzamidine.pdb')\n",
    "ligand.center()\n",
    "ligand.view(sel='resname MOL', style='Licorice')"
   ]
  },
  {
   "cell_type": "markdown",
   "metadata": {},
   "source": [
    "But the ligand is located inside the protein...\n",
    "We would like the ligand to be:\n",
    "\n",
    "* At a certain distance from the protein\n",
    "* Rotated randomly, to provide different starting conditions"
   ]
  },
  {
   "cell_type": "markdown",
   "metadata": {
    "slideshow": {
     "slide_type": "slide"
    }
   },
   "source": [
    "## Let's reposition the ligand then"
   ]
  },
  {
   "cell_type": "code",
   "execution_count": 8,
   "metadata": {
    "collapsed": true
   },
   "outputs": [],
   "source": [
    "ligand.rotateBy(uniformRandomRotation())"
   ]
  },
  {
   "cell_type": "markdown",
   "metadata": {},
   "source": [
    "This took care of the ligand rotation around its center. \n",
    "We still need to position it far from the protein.\n",
    "First, find out the radius of the protein:\n",
    "\n",
    "![](http://pub.htmd.org/73hboiwia98hdj209jq0/maxdist.png)"
   ]
  },
  {
   "cell_type": "code",
   "execution_count": 9,
   "metadata": {
    "collapsed": false,
    "slideshow": {
     "slide_type": "slide"
    }
   },
   "outputs": [
    {
     "name": "stdout",
     "output_type": "stream",
     "text": [
      "28.832803412\n"
     ]
    }
   ],
   "source": [
    "from htmd.molecule.util import maxDistance\n",
    "D = maxDistance(prot, 'all')\n",
    "print(D)"
   ]
  },
  {
   "cell_type": "code",
   "execution_count": 10,
   "metadata": {
    "collapsed": true
   },
   "outputs": [],
   "source": [
    "D += 10\n",
    "ligand.moveBy([D, 0, 0])  # Move the ligand 10 Angstrom away from the furthest protein atom in X dimension\n",
    "ligand.rotateBy(uniformRandomRotation())"
   ]
  },
  {
   "cell_type": "markdown",
   "metadata": {
    "slideshow": {
     "slide_type": "slide"
    }
   },
   "source": [
    "## Don't forget to set segments"
   ]
  },
  {
   "cell_type": "code",
   "execution_count": 11,
   "metadata": {
    "collapsed": true
   },
   "outputs": [],
   "source": [
    "ligand.set('segid','L')\n",
    "ligand.set('resname','MOL')"
   ]
  },
  {
   "cell_type": "markdown",
   "metadata": {
    "slideshow": {
     "slide_type": "slide"
    }
   },
   "source": [
    "### Mix it all together"
   ]
  },
  {
   "cell_type": "code",
   "execution_count": 12,
   "metadata": {
    "collapsed": false
   },
   "outputs": [],
   "source": [
    "mol = Molecule(name='combo')\n",
    "mol.append(prot)\n",
    "mol.append(ligand)\n",
    "mol.reps.add(sel='protein', style='NewCartoon', color='Secondary Structure')\n",
    "mol.reps.add(sel='resname MOL', style='Licorice')\n",
    "mol.view()"
   ]
  },
  {
   "cell_type": "markdown",
   "metadata": {
    "slideshow": {
     "slide_type": "slide"
    }
   },
   "source": [
    "## Solvate"
   ]
  },
  {
   "cell_type": "markdown",
   "metadata": {
    "slideshow": {
     "slide_type": "-"
    }
   },
   "source": [
    "> Water is the driving force of all nature. --Leonardo da Vinci\n",
    "\n",
    "![](http://pub.htmd.org/73hboiwia98hdj209jq0/waterbox.png)"
   ]
  },
  {
   "cell_type": "code",
   "execution_count": 13,
   "metadata": {
    "collapsed": false,
    "scrolled": true
   },
   "outputs": [
    {
     "name": "stderr",
     "output_type": "stream",
     "text": [
      "2017-01-10 23:48:01,252 - htmd.builder.solvate - INFO - Using water pdb file at: /data/joao/maindisk/software/repos/Acellera/htmd/htmd/builder/wat.pdb\n",
      "2017-01-10 23:48:02,236 - htmd.builder.solvate - INFO - Replicating 8 water segments, 2 by 2 by 2\n"
     ]
    },
    {
     "name": "stdout",
     "output_type": "stream",
     "text": [
      "Solvating: 100% (8/8) [############################################] eta 00:00 /\n"
     ]
    },
    {
     "name": "stderr",
     "output_type": "stream",
     "text": [
      "2017-01-10 23:48:23,595 - htmd.builder.solvate - INFO - After removing water molecules colliding with other molecules, 20149 water molecules were added to the system.\n"
     ]
    }
   ],
   "source": [
    "D = D + 5\n",
    "smol = solvate(mol, minmax=[[-D, -D, -D], [D, D, D]])\n",
    "smol.reps.add(sel='water', style='Lines')\n",
    "smol.view()"
   ]
  },
  {
   "cell_type": "markdown",
   "metadata": {
    "slideshow": {
     "slide_type": "slide"
    }
   },
   "source": [
    "## Available CHARMM forcefields"
   ]
  },
  {
   "cell_type": "code",
   "execution_count": 14,
   "metadata": {
    "collapsed": false
   },
   "outputs": [
    {
     "name": "stdout",
     "output_type": "stream",
     "text": [
      "---- Topologies files list: /home/joao/maindisk/software/repos/Acellera/htmd/htmd/builder/charmmfiles/top/ ----\n",
      "top/top_all22_prot.rtf\n",
      "top/top_all22star_prot.rtf\n",
      "top/top_all35_ethers.rtf\n",
      "top/top_all36_carb.rtf\n",
      "top/top_all36_cgenff.rtf\n",
      "top/top_all36_lipid.rtf\n",
      "top/top_all36_na.rtf\n",
      "top/top_all36_prot.rtf\n",
      "top/top_water_ions.rtf\n",
      "---- Parameters files list: /home/joao/maindisk/software/repos/Acellera/htmd/htmd/builder/charmmfiles/par/ ----\n",
      "par/par_all22_prot.prm\n",
      "par/par_all22star_prot.prm\n",
      "par/par_all35_ethers.prm\n",
      "par/par_all36_carb.prm\n",
      "par/par_all36_cgenff.prm\n",
      "par/par_all36_lipid.prm\n",
      "par/par_all36_na.prm\n",
      "par/par_all36_prot.prm\n",
      "par/par_all36_prot_mod.prm\n",
      "par/par_water_ions.prm\n",
      "---- Stream files list: /home/joao/maindisk/software/repos/Acellera/htmd/htmd/builder/charmmfiles/str/ ----\n",
      "str/carb/toppar_all36_carb_glycolipid.str\n",
      "str/carb/toppar_all36_carb_glycopeptide.str\n",
      "str/carb/toppar_all36_carb_model.str\n",
      "str/lipid/toppar_all36_lipid_bacterial.str\n",
      "str/lipid/toppar_all36_lipid_cardiolipin.str\n",
      "str/lipid/toppar_all36_lipid_cholesterol.str\n",
      "str/lipid/toppar_all36_lipid_detergent.str\n",
      "str/lipid/toppar_all36_lipid_inositol.str\n",
      "str/lipid/toppar_all36_lipid_list.str\n",
      "str/lipid/toppar_all36_lipid_miscellaneous.str\n",
      "str/lipid/toppar_all36_lipid_model.str\n",
      "str/lipid/toppar_all36_lipid_prot.str\n",
      "str/lipid/toppar_all36_lipid_sphingo.str\n",
      "str/lipid/toppar_all36_lipid_yeast.str\n",
      "str/misc/toppar_amines.str\n",
      "str/misc/toppar_dum_noble_gases.str\n",
      "str/misc/toppar_hbond.str\n",
      "str/misc/toppar_ions_won.str\n",
      "str/na/toppar_all36_na_model.str\n",
      "str/na/toppar_all36_na_modifications.str\n",
      "str/na/toppar_all36_na_nad_ppi.str\n",
      "str/na/toppar_all36_na_reactive_rna.str\n",
      "str/na/toppar_all36_na_rna_modified.str\n",
      "str/prot/toppar_all36_prot_aldehydes.str\n",
      "str/prot/toppar_all36_prot_arg0.str\n",
      "str/prot/toppar_all36_prot_d_aminoacids.str\n",
      "str/prot/toppar_all36_prot_fluoro_alkanes.str\n",
      "str/prot/toppar_all36_prot_heme.str\n",
      "str/prot/toppar_all36_prot_mod_d_aminoacids.str\n",
      "str/prot/toppar_all36_prot_model.str\n",
      "str/prot/toppar_all36_prot_modify_res.str\n",
      "str/prot/toppar_all36_prot_na_combined.str\n",
      "str/prot/toppar_all36_prot_pyridines.str\n",
      "str/prot/toppar_all36_prot_retinol.str\n"
     ]
    }
   ],
   "source": [
    "charmm.listFiles()"
   ]
  },
  {
   "cell_type": "markdown",
   "metadata": {
    "slideshow": {
     "slide_type": "slide"
    }
   },
   "source": [
    "## Build and ionize using CHARMM"
   ]
  },
  {
   "cell_type": "code",
   "execution_count": 15,
   "metadata": {
    "collapsed": false,
    "scrolled": true,
    "slideshow": {
     "slide_type": "-"
    }
   },
   "outputs": [
    {
     "name": "stderr",
     "output_type": "stream",
     "text": [
      "2017-01-10 23:50:21,438 - htmd.builder.charmm - INFO - Writing out segments.\n"
     ]
    },
    {
     "name": "stdout",
     "output_type": "stream",
     "text": [
      "Bond between A: [serial 92 resid 22 resname CYX chain A segid P]\n",
      "             B: [serial 1988 resid 157 resname CYX chain A segid P]\n",
      "\n",
      "Bond between A: [serial 351 resid 42 resname CYX chain A segid P]\n",
      "             B: [serial 571 resid 58 resname CYX chain A segid P]\n",
      "\n",
      "Bond between A: [serial 1604 resid 128 resname CYX chain A segid P]\n",
      "             B: [serial 3004 resid 232 resname CYX chain A segid P]\n",
      "\n",
      "Bond between A: [serial 1683 resid 136 resname CYX chain A segid P]\n",
      "             B: [serial 2611 resid 201 resname CYX chain A segid P]\n",
      "\n",
      "Bond between A: [serial 2146 resid 168 resname CYX chain A segid P]\n",
      "             B: [serial 2353 resid 182 resname CYX chain A segid P]\n",
      "\n",
      "Bond between A: [serial 2494 resid 191 resname CYX chain A segid P]\n",
      "             B: [serial 2799 resid 220 resname CYX chain A segid P]\n",
      "\n"
     ]
    },
    {
     "name": "stderr",
     "output_type": "stream",
     "text": [
      "2017-01-10 23:51:20,218 - htmd.builder.builder - INFO - 6 disulfide bonds were added\n",
      "2017-01-10 23:51:20,356 - htmd.builder.charmm - INFO - Starting the build.\n",
      "2017-01-10 23:51:21,098 - htmd.builder.charmm - WARNING - Failed to set coordinates for 8 atoms.\n",
      "2017-01-10 23:51:21,101 - htmd.builder.charmm - WARNING - Failed to guess coordinates for 2 atoms due to bad angles.\n",
      "2017-01-10 23:51:21,104 - htmd.builder.charmm - WARNING - Poorly guessed coordinates for 15 atoms.\n",
      "2017-01-10 23:51:21,105 - htmd.builder.charmm - WARNING - Please check /data/joao/maindisk/SANDBOX/03_PreparationBuilding_TGiorgino/build/log.txt for further information.\n",
      "2017-01-10 23:51:21,106 - htmd.builder.charmm - INFO - Finished building.\n",
      "2017-01-10 23:51:25,304 - htmd.builder.ionize - INFO - Adding 10 anions + 0 cations for neutralizing and 0 ions for the given salt concentration.\n",
      "2017-01-10 23:51:25,915 - htmd.builder.ionize - INFO - Min distance of ions from molecule: 5A\n",
      "2017-01-10 23:51:25,917 - htmd.builder.ionize - INFO - Min distance between ions: 5A\n",
      "2017-01-10 23:51:25,918 - htmd.builder.ionize - INFO - Placing 10 ions.\n",
      "2017-01-10 23:51:46,700 - htmd.builder.charmm - INFO - Writing out segments.\n",
      "2017-01-10 23:52:38,033 - htmd.builder.charmm - INFO - Starting the build.\n",
      "2017-01-10 23:52:38,806 - htmd.builder.charmm - WARNING - Failed to set coordinates for 8 atoms.\n",
      "2017-01-10 23:52:38,808 - htmd.builder.charmm - WARNING - Failed to guess coordinates for 2 atoms due to bad angles.\n",
      "2017-01-10 23:52:38,809 - htmd.builder.charmm - WARNING - Poorly guessed coordinates for 15 atoms.\n",
      "2017-01-10 23:52:38,810 - htmd.builder.charmm - WARNING - Please check /data/joao/maindisk/SANDBOX/03_PreparationBuilding_TGiorgino/build/log.txt for further information.\n",
      "2017-01-10 23:52:38,811 - htmd.builder.charmm - INFO - Finished building.\n"
     ]
    }
   ],
   "source": [
    "topos  = ['top/top_all22star_prot.rtf', 'bentryp/benzamidine.rtf']\n",
    "params = ['par/par_all22star_prot.prm', 'bentryp/benzamidine.prm']\n",
    "\n",
    "bmol = charmm.build(smol, topo=topos, param=params, \n",
    "                        outdir='./build')"
   ]
  },
  {
   "cell_type": "markdown",
   "metadata": {
    "collapsed": true,
    "slideshow": {
     "slide_type": "slide"
    }
   },
   "source": [
    "## Visualize"
   ]
  },
  {
   "cell_type": "code",
   "execution_count": 16,
   "metadata": {
    "collapsed": false
   },
   "outputs": [],
   "source": [
    "bmol.view()"
   ]
  }
 ],
 "metadata": {
  "anaconda-cloud": {},
  "celltoolbar": "Slideshow",
  "kernelspec": {
   "display_name": "Python [default]",
   "language": "python",
   "name": "python3"
  },
  "language_info": {
   "codemirror_mode": {
    "name": "ipython",
    "version": 3.0
   },
   "file_extension": ".py",
   "mimetype": "text/x-python",
   "name": "python",
   "nbconvert_exporter": "python",
   "pygments_lexer": "ipython3",
   "version": "3.5.2"
  },
  "widgets": {
   "state": {
    "0a178ab50dc445f7924510f91887f5fc": {
     "views": [
      {
       "cell_index": 15.0
      }
     ]
    },
    "25c1755bbe564dbab74cd85ab64fd1a9": {
     "views": [
      {
       "cell_index": 25.0
      }
     ]
    },
    "2b9fe15c349d4639adf691ce9756fdae": {
     "views": [
      {
       "cell_index": 28.0
      }
     ]
    },
    "574684028db242379374737dca9fbb19": {
     "views": [
      {
       "cell_index": 25.0
      }
     ]
    },
    "5c49905aacd04d71b82425f44ae9e531": {
     "views": [
      {
       "cell_index": 28.0
      }
     ]
    },
    "5fec83d14a08443fa1f8a9e24092a958": {
     "views": [
      {
       "cell_index": 34.0
      }
     ]
    },
    "62600751c0694125afa73b13bfbd1957": {
     "views": [
      {
       "cell_index": 15.0
      }
     ]
    },
    "d4bbcf3b9c59484aac9988a2f2ff1056": {
     "views": [
      {
       "cell_index": 34.0
      }
     ]
    }
   },
   "version": "1.2.0"
  }
 },
 "nbformat": 4,
 "nbformat_minor": 0
}