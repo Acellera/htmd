{
 "cells": [
  {
   "cell_type": "markdown",
   "metadata": {},
   "source": [
    "Protein preparation with HTMD\n",
    "===============\n",
    "\n",
    "*Toni Giorgino*\n",
    "\n",
    "\n",
    "The system preparation phase is based on the PDB2PQR software. It \n",
    "includes the following steps (from the\n",
    "[PDB2PQR algorithm\n",
    "description](http://www.poissonboltzmann.org/docs/pdb2pqr-algorithm-description/)):\n",
    "\n",
    " * Assign titration states at the user-chosen pH;\n",
    " * Flipping the side chains of HIS (including user defined HIS states), ASN, and GLN residues;\n",
    " * Rotating the sidechain hydrogen on SER, THR, TYR, and CYS (if available);\n",
    " * Determining the best placement for the sidechain hydrogen on neutral HIS, protonated GLU, and protonated ASP;\n",
    " * Optimizing all water hydrogens.\n",
    "\n",
    "The hydrogen bonding network calculations are performed by the\n",
    "[PDB2PQR](http://www.poissonboltzmann.org/) software package. The pKa\n",
    "calculations are performed by the [PROPKA\n",
    "3.1](https://github.com/jensengroup/propka-3.1) software packages.\n",
    "Please see the copyright, license  and citation terms distributed with each.\n",
    "\n",
    "Note that this version was modified in order to use an \n",
    "externally-supplied propKa **3.1** (installed automatically via dependencies), whereas\n",
    "the original had propKa 3.0 *embedded*!\n",
    "\n",
    "The results of the function should be roughly equivalent of the system\n",
    "preparation wizard's preprocessing and optimization steps\n",
    "of Schrodinger's Maestro software."
   ]
  },
  {
   "cell_type": "markdown",
   "metadata": {},
   "source": [
    "Usage\n",
    "----------\n",
    "\n",
    "The `systemPrepare` function requires a molecule object, the protein to be prepared, as an argument, and returns the prepared system, also as a molecule object. Logging messages will provide information and warnings about the process.\n",
    "\n",
    "The full documentation is in the docstring, accessible via the usual Python help mechanism."
   ]
  },
  {
   "cell_type": "code",
   "execution_count": 3,
   "metadata": {
    "collapsed": false
   },
   "outputs": [
    {
     "name": "stderr",
     "output_type": "stream",
     "text": [
      "2021-11-16 09:49:21,972 - numexpr.utils - INFO - NumExpr defaulting to 8 threads.\n",
      "2021-11-16 09:49:25,647 - binstar - INFO - Using Anaconda API: https://api.anaconda.org\n"
     ]
    },
    {
     "name": "stdout",
     "output_type": "stream",
     "text": [
      "\n",
      "Please cite HTMD: Doerr et al.(2016)JCTC,12,1845. https://dx.doi.org/10.1021/acs.jctc.6b00049\n",
      "\n",
      "HTMD Documentation at: https://www.htmd.org/docs/latest/\n",
      "\n"
     ]
    },
    {
     "name": "stderr",
     "output_type": "stream",
     "text": [
      "2021-11-16 09:49:26,485 - moleculekit.readers - INFO - Using local copy for 3PTB: /home/sdoerr/Work/moleculekit/moleculekit/test-data/pdb/3ptb.pdb\n"
     ]
    },
    {
     "name": "stdout",
     "output_type": "stream",
     "text": [
      "You are on the latest HTMD version (unpackaged : /home/sdoerr/Work/htmd/htmd).\n",
      "\n"
     ]
    },
    {
     "name": "stderr",
     "output_type": "stream",
     "text": [
      "2021-11-16 09:49:26,669 - moleculekit.tools.preparation - WARNING - Both chains and segments are defined in Molecule.chain / Molecule.segid, however they are inconsistent. Protein preparation will use the chain information.\n"
     ]
    },
    {
     "name": "stdout",
     "output_type": "stream",
     "text": [
      "\n",
      "---- Molecule chain report ----\n",
      "Chain A:\n",
      "    First residue: ILE:16:\n",
      "    Final residue: HOH:809:\n",
      "---- End of chain report ----\n",
      "\n"
     ]
    },
    {
     "name": "stderr",
     "output_type": "stream",
     "text": [
      "2021-11-16 09:49:28,684 - moleculekit.tools.preparation - WARNING - The following residues have not been optimized: BEN, CA\n",
      "2021-11-16 09:49:28,779 - moleculekit.tools.preparation - INFO - Modified residue CYS:A:22 to CYX\n",
      "2021-11-16 09:49:28,780 - moleculekit.tools.preparation - INFO - Modified residue HIS:A:40 to HIE\n",
      "2021-11-16 09:49:28,780 - moleculekit.tools.preparation - INFO - Modified residue CYS:A:42 to CYX\n",
      "2021-11-16 09:49:28,781 - moleculekit.tools.preparation - INFO - Modified residue HIS:A:57 to HIP\n",
      "2021-11-16 09:49:28,781 - moleculekit.tools.preparation - INFO - Modified residue CYS:A:58 to CYX\n",
      "2021-11-16 09:49:28,781 - moleculekit.tools.preparation - INFO - Modified residue HIS:A:91 to HID\n",
      "2021-11-16 09:49:28,782 - moleculekit.tools.preparation - INFO - Modified residue CYS:A:128 to CYX\n",
      "2021-11-16 09:49:28,782 - moleculekit.tools.preparation - INFO - Modified residue CYS:A:136 to CYX\n",
      "2021-11-16 09:49:28,782 - moleculekit.tools.preparation - INFO - Modified residue CYS:A:157 to CYX\n",
      "2021-11-16 09:49:28,782 - moleculekit.tools.preparation - INFO - Modified residue CYS:A:168 to CYX\n",
      "2021-11-16 09:49:28,783 - moleculekit.tools.preparation - INFO - Modified residue CYS:A:182 to CYX\n",
      "2021-11-16 09:49:28,783 - moleculekit.tools.preparation - INFO - Modified residue CYS:A:191 to CYX\n",
      "2021-11-16 09:49:28,784 - moleculekit.tools.preparation - INFO - Modified residue CYS:A:201 to CYX\n",
      "2021-11-16 09:49:28,784 - moleculekit.tools.preparation - INFO - Modified residue CYS:A:220 to CYX\n",
      "2021-11-16 09:49:28,785 - moleculekit.tools.preparation - INFO - Modified residue CYS:A:232 to CYX\n",
      "2021-11-16 09:49:28,788 - moleculekit.tools.preparation - WARNING - Dubious protonation state: the pKa of 3 residues is within 1.0 units of pH 7.4.\n",
      "2021-11-16 09:49:28,788 - moleculekit.tools.preparation - WARNING - Dubious protonation state:    ILE    16 A (pKa= 7.41)\n",
      "2021-11-16 09:49:28,789 - moleculekit.tools.preparation - WARNING - Dubious protonation state:    TYR    39 A (pKa= 8.24)\n",
      "2021-11-16 09:49:28,789 - moleculekit.tools.preparation - WARNING - Dubious protonation state:    HIS    57 A (pKa= 7.44)\n"
     ]
    }
   ],
   "source": [
    "from htmd.ui import *\n",
    "tryp = Molecule('3PTB')\n",
    "tryp_op = systemPrepare(tryp)"
   ]
  },
  {
   "cell_type": "markdown",
   "metadata": {},
   "source": [
    "The optimized molecule can be written and further manipulated as usual."
   ]
  },
  {
   "cell_type": "code",
   "execution_count": 4,
   "metadata": {
    "collapsed": false
   },
   "outputs": [],
   "source": [
    "tryp_op.write('systempreparation-test-main-ph-7.pdb')"
   ]
  },
  {
   "cell_type": "markdown",
   "metadata": {},
   "source": [
    "## Information about the prepared system\n",
    "\n",
    "A table of useful information, an object of type `pandas.DataFrame`, is available as a return argument if the `return_details` argument is set:"
   ]
  },
  {
   "cell_type": "code",
   "execution_count": 5,
   "metadata": {
    "collapsed": false
   },
   "outputs": [
    {
     "name": "stderr",
     "output_type": "stream",
     "text": [
      "2021-11-16 09:49:56,274 - moleculekit.tools.preparation - WARNING - Both chains and segments are defined in Molecule.chain / Molecule.segid, however they are inconsistent. Protein preparation will use the chain information.\n"
     ]
    },
    {
     "name": "stdout",
     "output_type": "stream",
     "text": [
      "\n",
      "---- Molecule chain report ----\n",
      "Chain A:\n",
      "    First residue: ILE:16:\n",
      "    Final residue: HOH:809:\n",
      "---- End of chain report ----\n",
      "\n"
     ]
    },
    {
     "name": "stderr",
     "output_type": "stream",
     "text": [
      "2021-11-16 09:49:58,359 - moleculekit.tools.preparation - WARNING - The following residues have not been optimized: BEN, CA\n",
      "2021-11-16 09:49:58,458 - moleculekit.tools.preparation - INFO - Modified residue CYS:A:22 to CYX\n",
      "2021-11-16 09:49:58,459 - moleculekit.tools.preparation - INFO - Modified residue HIS:A:40 to HIE\n",
      "2021-11-16 09:49:58,459 - moleculekit.tools.preparation - INFO - Modified residue CYS:A:42 to CYX\n",
      "2021-11-16 09:49:58,459 - moleculekit.tools.preparation - INFO - Modified residue HIS:A:57 to HIP\n",
      "2021-11-16 09:49:58,460 - moleculekit.tools.preparation - INFO - Modified residue CYS:A:58 to CYX\n",
      "2021-11-16 09:49:58,460 - moleculekit.tools.preparation - INFO - Modified residue HIS:A:91 to HID\n",
      "2021-11-16 09:49:58,460 - moleculekit.tools.preparation - INFO - Modified residue CYS:A:128 to CYX\n",
      "2021-11-16 09:49:58,462 - moleculekit.tools.preparation - INFO - Modified residue CYS:A:136 to CYX\n",
      "2021-11-16 09:49:58,462 - moleculekit.tools.preparation - INFO - Modified residue CYS:A:157 to CYX\n",
      "2021-11-16 09:49:58,463 - moleculekit.tools.preparation - INFO - Modified residue CYS:A:168 to CYX\n",
      "2021-11-16 09:49:58,463 - moleculekit.tools.preparation - INFO - Modified residue CYS:A:182 to CYX\n",
      "2021-11-16 09:49:58,464 - moleculekit.tools.preparation - INFO - Modified residue CYS:A:191 to CYX\n",
      "2021-11-16 09:49:58,465 - moleculekit.tools.preparation - INFO - Modified residue CYS:A:201 to CYX\n",
      "2021-11-16 09:49:58,465 - moleculekit.tools.preparation - INFO - Modified residue CYS:A:220 to CYX\n",
      "2021-11-16 09:49:58,466 - moleculekit.tools.preparation - INFO - Modified residue CYS:A:232 to CYX\n",
      "2021-11-16 09:49:58,470 - moleculekit.tools.preparation - WARNING - Dubious protonation state: the pKa of 3 residues is within 1.0 units of pH 7.4.\n",
      "2021-11-16 09:49:58,471 - moleculekit.tools.preparation - WARNING - Dubious protonation state:    ILE    16 A (pKa= 7.41)\n",
      "2021-11-16 09:49:58,471 - moleculekit.tools.preparation - WARNING - Dubious protonation state:    TYR    39 A (pKa= 8.24)\n",
      "2021-11-16 09:49:58,472 - moleculekit.tools.preparation - WARNING - Dubious protonation state:    HIS    57 A (pKa= 7.44)\n"
     ]
    }
   ],
   "source": [
    "tryp_op, df = systemPrepare(tryp, return_details=True)"
   ]
  },
  {
   "cell_type": "markdown",
   "metadata": {},
   "source": [
    "The `pandas.DataFrame` object carries a wealth of information on the preparation results. It can be easily written as a spreadsheet in Excel or CSV format."
   ]
  },
  {
   "cell_type": "code",
   "execution_count": 6,
   "metadata": {
    "collapsed": true
   },
   "outputs": [],
   "source": [
    "df.to_excel(\"tryp-report.xlsx\")"
   ]
  },
  {
   "cell_type": "markdown",
   "metadata": {},
   "source": [
    "## Membrane proteins\n",
    "\n",
    "Membrane-embedded proteins are in contact with an hydrophobic region which may alter pKa values for membrane-exposed residues ([Teixera et al.](http://dx.doi.org/10.1021/acs.jctc.5b01114)). Although the effect is not currently   taken into account quantitatively, if a `hydrophobic_thickness` argument is provided, warnings will be generated for residues exposed to the lipid region.\n",
    "\n",
    "The following example shows the preparation of the mu opioid receptor, 4DKL. The pre-oriented structure is retrieved  from the OPM database."
   ]
  },
  {
   "cell_type": "code",
   "execution_count": 11,
   "metadata": {
    "collapsed": false
   },
   "outputs": [
    {
     "name": "stderr",
     "output_type": "stream",
     "text": [
      "2021-11-16 09:51:10,564 - moleculekit.molecule - INFO - Removed 2546 atoms. 4836 atoms remaining in the molecule.\n",
      "2021-11-16 09:51:10,613 - moleculekit.tools.preparation - WARNING - Both chains and segments are defined in Molecule.chain / Molecule.segid, however they are inconsistent. Protein preparation will use the chain information.\n"
     ]
    },
    {
     "name": "stdout",
     "output_type": "stream",
     "text": [
      "\n",
      "---- Molecule chain report ----\n",
      "Chain A:\n",
      "    First residue: MET:65:\n",
      "    Final residue: HOH:735:\n",
      "Chain B:\n",
      "    First residue: MET:65:\n",
      "    Final residue: HOH:735:\n",
      "---- End of chain report ----\n",
      "\n"
     ]
    },
    {
     "name": "stderr",
     "output_type": "stream",
     "text": [
      "2021-11-16 09:51:17,045 - moleculekit.tools.preparation - WARNING - The following residues have not been optimized: SO4, MPG, CL, 1PE, BF0, CLR\n",
      "2021-11-16 09:51:17,440 - moleculekit.tools.preparation - INFO - Modified residue ASP:A:114 to ASH\n",
      "2021-11-16 09:51:17,440 - moleculekit.tools.preparation - INFO - Modified residue CYS:A:140 to CYX\n",
      "2021-11-16 09:51:17,441 - moleculekit.tools.preparation - INFO - Modified residue HIS:A:171 to HID\n",
      "2021-11-16 09:51:17,441 - moleculekit.tools.preparation - INFO - Modified residue CYS:A:217 to CYX\n",
      "2021-11-16 09:51:17,441 - moleculekit.tools.preparation - INFO - Modified residue HIS:A:223 to HID\n",
      "2021-11-16 09:51:17,441 - moleculekit.tools.preparation - INFO - Modified residue HIS:A:297 to HID\n",
      "2021-11-16 09:51:17,442 - moleculekit.tools.preparation - INFO - Modified residue HIS:A:319 to HIE\n",
      "2021-11-16 09:51:17,443 - moleculekit.tools.preparation - INFO - Modified residue ASP:B:114 to ASH\n",
      "2021-11-16 09:51:17,444 - moleculekit.tools.preparation - INFO - Modified residue CYS:B:140 to CYX\n",
      "2021-11-16 09:51:17,444 - moleculekit.tools.preparation - INFO - Modified residue HIS:B:171 to HID\n",
      "2021-11-16 09:51:17,445 - moleculekit.tools.preparation - INFO - Modified residue CYS:B:217 to CYX\n",
      "2021-11-16 09:51:17,445 - moleculekit.tools.preparation - INFO - Modified residue HIS:B:223 to HID\n",
      "2021-11-16 09:51:17,445 - moleculekit.tools.preparation - INFO - Modified residue HIS:B:297 to HID\n",
      "2021-11-16 09:51:17,446 - moleculekit.tools.preparation - INFO - Modified residue HIS:B:319 to HIE\n",
      "2021-11-16 09:51:17,448 - moleculekit.tools.preparation - WARNING - Dubious protonation state: the pKa of 6 residues is within 1.0 units of pH 7.4.\n",
      "2021-11-16 09:51:17,448 - moleculekit.tools.preparation - WARNING - Dubious protonation state:    MET    65 A (pKa= 7.76)\n",
      "2021-11-16 09:51:17,448 - moleculekit.tools.preparation - WARNING - Dubious protonation state:    ASP   114 A (pKa= 7.89)\n",
      "2021-11-16 09:51:17,449 - moleculekit.tools.preparation - WARNING - Dubious protonation state:    LYS   233 A (pKa= 7.42)\n",
      "2021-11-16 09:51:17,451 - moleculekit.tools.preparation - WARNING - Dubious protonation state:    MET    65 B (pKa= 7.76)\n",
      "2021-11-16 09:51:17,451 - moleculekit.tools.preparation - WARNING - Dubious protonation state:    ASP   114 B (pKa= 7.89)\n",
      "2021-11-16 09:51:17,452 - moleculekit.tools.preparation - WARNING - Dubious protonation state:    LYS   233 B (pKa= 7.42)\n",
      "2021-11-16 09:51:17,460 - moleculekit.tools.preparation - WARNING - Predictions for 24 residues may be incorrect because they are exposed to the membrane (-16.0<z<16.00 and buried<0.8%).\n"
     ]
    }
   ],
   "source": [
    "from moleculekit.util import opm\n",
    "\n",
    "mor, thickness = opm(\"4dkl\")\n",
    "\n",
    "mor_opt, df = systemPrepare(mor, return_details=True,\n",
    "                                hydrophobic_thickness=thickness)\n",
    "\n",
    "df.to_excel(\"mor_report.xlsx\")"
   ]
  },
  {
   "cell_type": "markdown",
   "metadata": {},
   "source": [
    "Modified residue names\n",
    "----------------------\n",
    "\n",
    "The molecule produced by the preparation step has residue names modified\n",
    "according to their protonation.\n",
    "Later system-building functions assume these residue names. \n",
    "Note that support for alternative charge states varies between the  forcefields.\n",
    "\n",
    "Charge +1    |  Neutral   | Charge -1\n",
    "-------------|------------|----------\n",
    " -           |  ASH       | ASP\n",
    " -           |  CYS       | CYM\n",
    " -           |  GLH       | GLU\n",
    "HIP          |  HID/HIE   |  -\n",
    "LYS          |  LYN       |  -\n",
    " -           |  TYR       | TYM\n",
    "ARG          |  AR0       |  -\n",
    "\n"
   ]
  },
  {
   "cell_type": "markdown",
   "metadata": {},
   "source": [
    "# Full help"
   ]
  },
  {
   "cell_type": "code",
   "execution_count": 12,
   "metadata": {
    "collapsed": false
   },
   "outputs": [
    {
     "name": "stdout",
     "output_type": "stream",
     "text": [
      "Help on function systemPrepare in module moleculekit.tools.preparation:\n",
      "\n",
      "systemPrepare(mol_in, titration=True, pH=7.4, force_protonation=None, no_opt=None, no_prot=None, no_titr=None, hold_nonpeptidic_bonds=True, verbose=True, return_details=False, hydrophobic_thickness=None, plot_pka=None, _logger_level='ERROR', _molkit_ff=True)\n",
      "    Prepare molecular systems through protonation and h-bond optimization.\n",
      "    \n",
      "    The preparation routine protonates and optimizes protein and nucleic residues.\n",
      "    It will also take into account any non-protein, non-nucleic molecules for the pKa calculation\n",
      "    but will not attempt to protonate or optimize those.\n",
      "    \n",
      "    Returns a Molecule object, where residues have been renamed to follow\n",
      "    internal conventions on protonation (below). Coordinates are changed to\n",
      "    optimize the H-bonding network.\n",
      "    \n",
      "    The following residue names are used in the returned molecule:\n",
      "    \n",
      "    === ===============================\n",
      "    ASH Neutral ASP\n",
      "    CYX SS-bonded CYS\n",
      "    CYM Negative CYS\n",
      "    GLH Neutral GLU\n",
      "    HIP Positive HIS\n",
      "    HID Neutral HIS, proton HD1 present\n",
      "    HIE Neutral HIS, proton HE2 present\n",
      "    LYN Neutral LYS\n",
      "    TYM Negative TYR\n",
      "    AR0 Neutral ARG\n",
      "    === ===============================\n",
      "    \n",
      "    ========= ======= =========\n",
      "    Charge +1 Neutral Charge -1\n",
      "    ========= ======= =========\n",
      "    -         ASH     ASP\n",
      "    -         CYS     CYM\n",
      "    -         GLH     GLU\n",
      "    HIP       HID/HIE -\n",
      "    LYS       LYN     -\n",
      "    -         TYR     TYM\n",
      "    ARG       AR0     -\n",
      "    ========= ======= =========\n",
      "    \n",
      "    A detailed table about the residues modified is returned (as a second return value) when\n",
      "    return_details is True .\n",
      "    \n",
      "    If hydrophobic_thickness is set to a positive value 2*h, a warning is produced for titratable residues\n",
      "    having -h<z<h and are buried in the protein by less than 75%. Note that the heuristic for the\n",
      "    detection of membrane-exposed residues is very crude; the \"buried fraction\" computation\n",
      "    (from propKa) is approximate; also, in the presence of cavities,\n",
      "    residues may be solvent-exposed independently from their z location.\n",
      "    \n",
      "    \n",
      "    Notes\n",
      "    -----\n",
      "    \n",
      "    Features:\n",
      "     - assigns protonation states via propKa\n",
      "     - flips residues to optimize H-bonding network\n",
      "     - debumps collisions\n",
      "     - fills in missing atoms, e.g. hydrogen atoms\n",
      "    \n",
      "    \n",
      "    Parameters\n",
      "    ----------\n",
      "    mol_in : moleculekit.molecule.Molecule\n",
      "        the object to be optimized\n",
      "    titration : bool\n",
      "        If set to True it will use propka to set the titration state of residues. Otherwise it will just add and optimize the hydrogens.\n",
      "    pH : float\n",
      "        pH to decide titration\n",
      "    verbose : bool\n",
      "        verbosity\n",
      "    return_details : bool\n",
      "        whether to return just the prepared Molecule (False, default) or a molecule *and* a ResidueInfo\n",
      "        object including computed properties\n",
      "    hydrophobic_thickness : float\n",
      "        the thickness of the membrane in which the protein is embedded, or None if globular protein.\n",
      "        Used to provide a warning about membrane-exposed residues.\n",
      "    force_protonation : list of tuples\n",
      "        Allows the user to force specific protonations on residues. This can be done by providing a list of tuples,\n",
      "        one for each residue we want to force. i.e. [(\"protein and resid 40\", \"HID\")] will force the protonation of\n",
      "        the first atomselection to the second resname. Atomselections should be valid VMD atomselections.\n",
      "    no_opt : list of str\n",
      "        Allows the user to disable optimization for specific residues. For example if the user determines that a\n",
      "        residue flip or change of coordinates performed by this method causes issues in the structure, they can\n",
      "        disable optimization on that residue by passing an atomselection for the residue to hold. i.e. [\"protein and resid 23\"].\n",
      "    no_prot : list of str\n",
      "        Same as no_opt but disables the addition of hydrogens to specific residues.\n",
      "    no_titr : list of str\n",
      "        Same as no_opt but disables the titration of specific residues.\n",
      "    hold_nonpeptidic_bonds : bool\n",
      "        When set to True, systemPrepare will automatically not optimize, protonate or titrate protein residues\n",
      "        which are covalently bound to non-protein molecules. When set to False, systemPrepare will optimize them\n",
      "        ignoring the covalent bond, meaning it may break the bonds or add hydrogen atoms between the bonds.\n",
      "    plot_pka : str\n",
      "        Provide a file path with .png extension to draw the titration diagram for the system residues.\n",
      "    \n",
      "    Returns\n",
      "    -------\n",
      "    mol_out : moleculekit.molecule.Molecule\n",
      "        the molecule titrated and optimized. The molecule object contains an additional attribute,\n",
      "    details : pandas.DataFrame\n",
      "        A table of residues with the corresponding protonation states, pKas, and other information\n",
      "    \n",
      "    \n",
      "    Examples\n",
      "    --------\n",
      "    >>> tryp = Molecule('3PTB')\n",
      "    >>> tryp_op, df = systemPrepare(tryp, return_details=True)\n",
      "    >>> tryp_op.write('/tmp/3PTB_prepared.pdb')\n",
      "    >>> df.to_excel(\"/tmp/tryp-report.csv\")\n",
      "    >>> df                                                        # doctest: +NORMALIZE_WHITESPACE\n",
      "    resname protonation  resid insertion chain segid       pKa    buried\n",
      "    0       ILE         ILE     16               A     0  7.413075  0.839286\n",
      "    1       VAL         VAL     17               A     0       NaN       NaN\n",
      "    2       GLY         GLY     18               A     0       NaN       NaN\n",
      "    3       GLY         GLY     19               A     0       NaN       NaN\n",
      "    4       TYR         TYR     20               A     0  9.590845  0.146429\n",
      "    ..      ...         ...    ...       ...   ...   ...       ...       ...\n",
      "    282     HOH         WAT    804               A     1       NaN       NaN\n",
      "    283     HOH         WAT    805               A     1       NaN       NaN\n",
      "    284     HOH         WAT    807               A     1       NaN       NaN\n",
      "    285     HOH         WAT    808               A     1       NaN       NaN\n",
      "    286     HOH         WAT    809               A     1       NaN       NaN\n",
      "    \n",
      "    [287 rows x 8 columns]\n",
      "    \n",
      "    >>> tryp_op = systemPrepare(tryp, pH=1.0)\n",
      "    >>> tryp_op.write('/tmp/3PTB_pH1.pdb')\n",
      "    \n",
      "    The following will force the preparation to freeze residues 36 and 49 in place\n",
      "    >>> tryp_op = systemPrepare(tryp, no_opt=[\"protein and resid 36\", \"chain A and resid 49\"])\n",
      "    \n",
      "    The following will disable protonation on residue 32 of the protein\n",
      "    >>> tryp_op = systemPrepare(tryp, no_prot=[\"protein and resid 32\",])\n",
      "    \n",
      "    The following will disable titration and protonation on residue 32\n",
      "    >>> tryp_op = systemPrepare(tryp, no_titr=[\"protein and resid 32\",], no_prot=[\"protein and resid 32\",])\n",
      "    \n",
      "    The following will force residue 40 protonation to HIE and 57 to HIP\n",
      "    >>> tryp_op = systemPrepare(tryp, force_protonation=[(\"protein and resid 40\", \"HIE\"), (\"protein and resid 57\", \"HIP\")])\n",
      "\n"
     ]
    }
   ],
   "source": [
    "help(systemPrepare)"
   ]
  },
  {
   "cell_type": "markdown",
   "metadata": {},
   "source": [
    "Acknowledgements and citations\n",
    "=========\n",
    "\n",
    "Please acknowledge your use of PDB2PQR by citing:\n",
    "\n",
    " *   Dolinsky TJ, Czodrowski P, Li H, Nielsen JE, Jensen JH, Klebe G, Baker NA. PDB2PQR: Expanding and upgrading automated preparation of biomolecular structures for molecular simulations. Nucleic Acids Res, 35, W522-5, 2007. \n",
    " *   Dolinsky TJ, Nielsen JE, McCammon JA, Baker NA. PDB2PQR: an automated pipeline for the setup, execution, and analysis of Poisson-Boltzmann electrostatics calculations. Nucleic Acids Res, 32, W665-W667, 2004.\n",
    " \n",
    " \n",
    "Please acknowledge your use of PROPKA by citing:\n",
    "\n",
    " *   Sondergaard, Chresten R., Mats HM Olsson, Michal Rostkowski, and Jan H. Jensen. \"Improved Treatment of Ligands and Coupling Effects in Empirical Calculation and Rationalization of pKa Values.\" Journal of Chemical Theory and Computation 7, no. 7 (2011): 2284-2295.\n",
    " *   Olsson, Mats HM, Chresten R. Sondergaard, Michal Rostkowski, and Jan H. Jensen. \"PROPKA3: consistent treatment of internal and surface residues in empirical pKa predictions.\" Journal of Chemical Theory and Computation 7, no. 2 (2011): 525-537.\n",
    "\n",
    "\n",
    "\n",
    "\n"
   ]
  }
 ],
 "metadata": {
  "kernelspec": {
   "display_name": "Python 3",
   "language": "python",
   "name": "python3"
  },
  "language_info": {
   "codemirror_mode": {
    "name": "ipython",
    "version": 3
   },
   "file_extension": ".py",
   "mimetype": "text/x-python",
   "name": "python",
   "nbconvert_exporter": "python",
   "pygments_lexer": "ipython3",
   "version": "3.5.1"
  }
 },
 "nbformat": 4,
 "nbformat_minor": 0
}
