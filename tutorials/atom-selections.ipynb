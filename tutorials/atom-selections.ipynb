{
 "cells": [
  {
   "cell_type": "markdown",
   "metadata": {
    "slideshow": {
     "slide_type": "slide"
    }
   },
   "source": [
    "# Atom selections\n",
    "\n",
    "**Toni Giorgino**\n",
    "\n",
    "Institute of Neurosciences (IN-CNR)  \n",
    "Consiglio Nazionale delle Ricerche  \n",
    "Padua, Italy\n"
   ]
  },
  {
   "cell_type": "markdown",
   "metadata": {
    "slideshow": {
     "slide_type": "subslide"
    }
   },
   "source": [
    "## A *Molecule* has...\n",
    "\n",
    "* Frames (&ge; 0), usually corresponding to a trajectory's time\n",
    "* Atoms (a constant number, &ge; 0)\n",
    "* Representations\n",
    "* Name, top-ness, visibility, etc.\n",
    "* <span style=\"color: gray\">(Connectivity &amp; topology)</span>\n",
    "* <span style=\"color: gray\">(Volumetric data)</span>\n"
   ]
  },
  {
   "cell_type": "markdown",
   "metadata": {
    "slideshow": {
     "slide_type": "subslide"
    }
   },
   "source": [
    "## Note\n",
    "The word *Molecule* is somewhat a misnomer. It is more like a *System*: in general it contains several \"chemical\" molecules.\n",
    "\n",
    "E.g. protein + solvent + ions are often __one__ \"VMD Molecule\".\n",
    "\n",
    "(The closest analog to molecules in the chemical sense is having same *segment ID*s)\n",
    "\n",
    "This applies to both VMD and HTMD."
   ]
  },
  {
   "cell_type": "markdown",
   "metadata": {
    "slideshow": {
     "slide_type": "slide"
    }
   },
   "source": [
    "## Atoms\n",
    "\n",
    "A Molecule contains several *atom*s"
   ]
  },
  {
   "cell_type": "markdown",
   "metadata": {
    "slideshow": {
     "slide_type": "subslide"
    }
   },
   "source": [
    "## An *atom* has several **properties**\n",
    "* Most obviously mirror PDB fields\n",
    "* Some are computed via heuristics (!)\n",
    "* *Constant* properties do not depend on the frame. Eg:\n",
    "  * `type`, `name`, `mass`, ...\n",
    "* *Variable* properties do. Eg:\n",
    "  * `x(t)`, `y(t)`, `z(t)`, `user(t)`"
   ]
  },
  {
   "cell_type": "markdown",
   "metadata": {
    "slideshow": {
     "slide_type": "subslide"
    }
   },
   "source": [
    "| Property | Description | \n",
    "|-----|-----|\n",
    "| `serial` | Unique identifier from 1| \n",
    "| `name`   | Atom name from PDB, unique in the residue |\n",
    "| `type`   | Defined by the forcefield, if any |\n",
    "| `resname`| 3-letter residue type, from PDB |\n",
    "| `resid`  | The usual residue number, **possibly not unique** |\n",
    "| `residue`| Do not confuse with `resid`! |\n",
    "| `chain`  | Also from PDB | \n",
    "| `segid`  | Must be unique *per chemical molecule*: important for system building |\n",
    "| `x,y,z`  | these depend on the trajectory frame  |"
   ]
  },
  {
   "cell_type": "markdown",
   "metadata": {
    "slideshow": {
     "slide_type": "subslide"
    }
   },
   "source": [
    "## What for?\n",
    "\n",
    "Mostly, we'll build **boolean expressions** based on properties.\n",
    "\n",
    "> E.g: `\"water\"` or `\"name CA and helix\"`\n",
    "\n",
    "Expressions are evaluated on a set of atoms; each of them either matches or not. \n",
    "\n",
    "Therefore, selection expression yield **atom selections**, i.e. subsets of the original set.\n",
    "\n",
    "We can then manipulate these subsets, e.g. to *get* and *set* properties.\n"
   ]
  },
  {
   "cell_type": "markdown",
   "metadata": {
    "slideshow": {
     "slide_type": "subslide"
    }
   },
   "source": [
    "| Example | Meaning |\n",
    "|---------|---------|\n",
    "| `chain A`  | true *iff* the atom's `chain` property equals string `A` | \n",
    "| `resid 40 to 50`  | as intended|\n",
    "| `mass < 15` | you guessed it|\n",
    "| `name CA`  | atom is a C&alpha; | \n",
    "| `water`  | true iff the atom belongs to a water molecule |\n",
    "\n",
    "Important: all are **boolean** expressions. Each atom in a molecule either matches, or it doesn't."
   ]
  },
  {
   "cell_type": "markdown",
   "metadata": {
    "slideshow": {
     "slide_type": "subslide"
    }
   },
   "source": [
    "## Advanced expressions\n",
    "| Type | Example | \n",
    "|---------|---------|\n",
    "| Chemistry | `protein and not hydrogen` |\n",
    "| Secondary structure | `helix or sheet` |\n",
    "| Sequence | `sequence \"N..T\"`\n",
    "| (ex) Within | `water within 4 of protein` | \n",
    "| Same | `same chain as resid 15` |\n",
    "| Maths | `x^2 + y^2 < 40` |\n"
   ]
  },
  {
   "cell_type": "markdown",
   "metadata": {
    "slideshow": {
     "slide_type": "subslide"
    }
   },
   "source": [
    "## Common operations\n",
    "\n",
    "* Set properties, in particular `resname` and `segid`.\n",
    "* Copy properties, in some cases.\n",
    "* Deleting unwanted atoms.\n",
    "* Extraction of ligands for parametrization.\n",
    "* Rotation of ligands.\n",
    "* In-silico mutation residues: change `resname` + delete sidechain atoms.\n",
    "\n"
   ]
  },
  {
   "cell_type": "markdown",
   "metadata": {
    "slideshow": {
     "slide_type": "slide"
    }
   },
   "source": [
    "## Representations\n",
    "\n",
    "A molecule contains several *Representation*s"
   ]
  },
  {
   "cell_type": "markdown",
   "metadata": {
    "slideshow": {
     "slide_type": "subslide"
    }
   },
   "source": [
    "## A *Representation* has...\n",
    "* *Selection*: which part of the molecule to show\n",
    "* *Style*: ribbon, lines, VdW, ...\n",
    "* *Color*: either a number, or a property (e.g: secondary structure)\n",
    "* Other style-dependent properties\n",
    "* *Material*\n",
    "* *Visibility*: hidden or shown (double-click)"
   ]
  },
  {
   "cell_type": "markdown",
   "metadata": {
    "slideshow": {
     "slide_type": "slide"
    }
   },
   "source": [
    "## Case study\n",
    "\n",
    "* Load PDB: **3PTB**\n",
    "* Identify non-protein\n",
    "* List residues in contact with ligand\n",
    "* Are residue numbers in protein contiguous?\n",
    "* Are there duplicated residues?\n"
   ]
  },
  {
   "cell_type": "markdown",
   "metadata": {
    "slideshow": {
     "slide_type": "subslide"
    }
   },
   "source": [
    "## Residues in contact\n",
    "\n",
    "Use an atomselection similar to this\n",
    "\n",
    "    protein     within 4 of resname BEN \n",
    "    \\_____/ and \\___________\\_________/\n",
    "    \n",
    "To see whole residues\n",
    "\n",
    "    same residue as  protein within 4 of resname BEN\n",
    "    \\_____________/  ...\n",
    "    \n",
    "To get some context, add a line like\n",
    "\n",
    "    name N CA C O \n",
    "\n"
   ]
  },
  {
   "cell_type": "markdown",
   "metadata": {
    "slideshow": {
     "slide_type": "subslide"
    }
   },
   "source": [
    "## Are there breaks in the peptide chain?\n",
    "\n",
    "* Get `resid` of C&alpha;s, compute finite differences; or\n",
    "* Use the differece between `resid` and `residue`; or\n",
    "* Use `unique()`, set operators, and the like\n",
    "\n",
    "Discontinuities in `resid` may or may not be breaks in the chain!\n",
    "\n"
   ]
  },
  {
   "cell_type": "markdown",
   "metadata": {
    "slideshow": {
     "slide_type": "subslide"
    }
   },
   "source": [
    "## Are there duplicate residues?\n",
    "\n",
    "\n",
    "* Get `resid` of C&alpha;s, compute finite differences as above\n",
    "\n"
   ]
  },
  {
   "cell_type": "markdown",
   "metadata": {
    "slideshow": {
     "slide_type": "subslide"
    }
   },
   "source": [
    "## Answers\n",
    "\n",
    "* Residues 184, 188, 221 are duplicated\n",
    "* Residues in contact (any atom &le; 4 Å) with BEN :  \n",
    "`189 190 191 192 195 213 215 216 219 220 226`\n",
    "* Jumps at `{ASN 34} {LEU 67} {THR 125} {SER 130} {LYS 204} {SER 217}`  \n",
    "  These are not actual breaks in the peptide chain"
   ]
  }
 ],
 "metadata": {
  "celltoolbar": "Slideshow",
  "kernelspec": {
   "display_name": "Python 3",
   "language": "python",
   "name": "python3"
  },
  "language_info": {
   "codemirror_mode": {
    "name": "ipython",
    "version": 3
   },
   "file_extension": ".py",
   "mimetype": "text/x-python",
   "name": "python",
   "nbconvert_exporter": "python",
   "pygments_lexer": "ipython3",
   "version": "3.4.3"
  },
  "livereveal": {
   "minScale": 0.5
  }
 },
 "nbformat": 4,
 "nbformat_minor": 0
}
