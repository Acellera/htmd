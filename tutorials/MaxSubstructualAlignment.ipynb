{
 "cells": [
  {
   "cell_type": "markdown",
   "metadata": {},
   "source": [
    "# Molecule substructural alignment"
   ]
  },
  {
   "cell_type": "markdown",
   "metadata": {},
   "source": [
    "There are cases when we want to align molecules which only share \n",
    "a fraction of their structure, like ligands in a congeneric series, where\n",
    "a common scaffold or core is common to all ligands in the series.\n",
    "We can perform this alignment using HTMD function: maximalSubstructureAlignment \n",
    "\n",
    "In this example, we will use two ligands which bind to the Beta Adrenergic receptor.\n",
    "They share a fraction of their scaffold and bind in the same pocket."
   ]
  },
  {
   "cell_type": "markdown",
   "metadata": {},
   "source": [
    "## Quick Example"
   ]
  },
  {
   "cell_type": "code",
   "execution_count": 1,
   "metadata": {},
   "outputs": [
    {
     "name": "stdout",
     "output_type": "stream",
     "text": [
      "\n",
      "Please cite HTMD: Doerr et al.(2016)JCTC,12,1845. \n",
      "https://dx.doi.org/10.1021/acs.jctc.6b00049\n",
      "Documentation: http://software.acellera.com/\n",
      "To update: conda update htmd -c acellera -c psi4\n",
      "\n",
      "You are on the latest HTMD version (1.13.6).\n",
      "\n"
     ]
    },
    {
     "name": "stderr",
     "output_type": "stream",
     "text": [
      "2018-07-25 13:27:31,979 - htmd.molecule.readers - INFO - Attempting PDB query for 2Y02\n",
      "/shared/alejandro/miniconda3/lib/python3.6/site-packages/htmd/molecule/readers.py:771: FutureWarning: Method .as_matrix will be removed in a future version. Use .values instead.\n",
      "  crystalinfo['rotations'] = parsedsymmetry[['rot1', 'rot2', 'rot3']].as_matrix().reshape((numcopies, 3, 3))\n",
      "/shared/alejandro/miniconda3/lib/python3.6/site-packages/htmd/molecule/readers.py:772: FutureWarning: Method .as_matrix will be removed in a future version. Use .values instead.\n",
      "  crystalinfo['translations'] = parsedsymmetry['trans'].as_matrix().reshape((numcopies, 3))\n",
      "/shared/alejandro/miniconda3/lib/python3.6/site-packages/htmd/molecule/readers.py:778: FutureWarning: Method .as_matrix will be removed in a future version. Use .values instead.\n",
      "  serials = parsedtopo.serial.as_matrix()\n",
      "2018-07-25 13:27:33,537 - htmd.molecule.molecule - INFO - Removed 370 atoms. 4694 atoms remaining in the molecule.\n",
      "2018-07-25 13:27:33,641 - htmd.molecule.molecule - INFO - Removed 4640 atoms. 54 atoms remaining in the molecule.\n",
      "2018-07-25 13:27:33,645 - htmd.molecule.molecule - INFO - Removed 27 atoms. 27 atoms remaining in the molecule.\n",
      "2018-07-25 13:27:33,647 - htmd.molecule.readers - INFO - Attempting PDB query for 2Y03\n",
      "2018-07-25 13:27:34,757 - htmd.molecule.molecule - INFO - Removed 4832 atoms. 30 atoms remaining in the molecule.\n",
      "2018-07-25 13:27:34,760 - htmd.molecule.molecule - INFO - Removed 15 atoms. 15 atoms remaining in the molecule.\n"
     ]
    },
    {
     "ename": "TypeError",
     "evalue": "No matching definition for argument type(s) array(float32, 3d, C), array(float32, 3d, C), reflected list(int64), reflected list(int64), array(int64, 1d, C), int64",
     "output_type": "error",
     "traceback": [
      "\u001b[0;31m---------------------------------------------------------------------------\u001b[0m",
      "\u001b[0;31mTypeError\u001b[0m                                 Traceback (most recent call last)",
      "\u001b[0;32m<ipython-input-1-6f10b37e3a81>\u001b[0m in \u001b[0;36m<module>\u001b[0;34m()\u001b[0m\n\u001b[1;32m     19\u001b[0m \u001b[0;34m\u001b[0m\u001b[0m\n\u001b[1;32m     20\u001b[0m \u001b[0;31m#align\u001b[0m\u001b[0;34m\u001b[0m\u001b[0;34m\u001b[0m\u001b[0m\n\u001b[0;32m---> 21\u001b[0;31m \u001b[0mlig_aligned\u001b[0m \u001b[0;34m=\u001b[0m \u001b[0mmaximalSubstructureAlignment\u001b[0m\u001b[0;34m(\u001b[0m\u001b[0mreference_ligand\u001b[0m\u001b[0;34m,\u001b[0m\u001b[0mligand_to_align\u001b[0m\u001b[0;34m)\u001b[0m\u001b[0;34m\u001b[0m\u001b[0m\n\u001b[0m\u001b[1;32m     22\u001b[0m \u001b[0;34m\u001b[0m\u001b[0m\n\u001b[1;32m     23\u001b[0m \u001b[0;31m#show the results, with the reference ligand displayed in Lines style (narrower bonds and atoms)\u001b[0m\u001b[0;34m\u001b[0m\u001b[0;34m\u001b[0m\u001b[0m\n",
      "\u001b[0;32m/shared/alejandro/miniconda3/lib/python3.6/site-packages/htmd/molecule/graphalignment.py\u001b[0m in \u001b[0;36mmaximalSubstructureAlignment\u001b[0;34m(mol1, mol2, sel1, sel2, fields, tolerance, visualize)\u001b[0m\n\u001b[1;32m    125\u001b[0m     \u001b[0mmatchnodes2\u001b[0m \u001b[0;34m=\u001b[0m \u001b[0;34m[\u001b[0m\u001b[0mx\u001b[0m\u001b[0;34m[\u001b[0m\u001b[0;36m1\u001b[0m\u001b[0;34m]\u001b[0m \u001b[0;32mfor\u001b[0m \u001b[0mx\u001b[0m \u001b[0;32min\u001b[0m \u001b[0mmatching\u001b[0m\u001b[0;34m]\u001b[0m\u001b[0;34m\u001b[0m\u001b[0m\n\u001b[1;32m    126\u001b[0m \u001b[0;34m\u001b[0m\u001b[0m\n\u001b[0;32m--> 127\u001b[0;31m     \u001b[0mmol2\u001b[0m\u001b[0;34m.\u001b[0m\u001b[0malign\u001b[0m\u001b[0;34m(\u001b[0m\u001b[0msel\u001b[0m\u001b[0;34m=\u001b[0m\u001b[0mmatchnodes2\u001b[0m\u001b[0;34m,\u001b[0m \u001b[0mrefmol\u001b[0m\u001b[0;34m=\u001b[0m\u001b[0mmol1\u001b[0m\u001b[0;34m,\u001b[0m \u001b[0mrefsel\u001b[0m\u001b[0;34m=\u001b[0m\u001b[0mmatchnodes1\u001b[0m\u001b[0;34m)\u001b[0m\u001b[0;34m\u001b[0m\u001b[0m\n\u001b[0m\u001b[1;32m    128\u001b[0m \u001b[0;34m\u001b[0m\u001b[0m\n\u001b[1;32m    129\u001b[0m     \u001b[0;32mif\u001b[0m \u001b[0mvisualize\u001b[0m\u001b[0;34m:\u001b[0m\u001b[0;34m\u001b[0m\u001b[0m\n",
      "\u001b[0;32m/shared/alejandro/miniconda3/lib/python3.6/site-packages/htmd/molecule/molecule.py\u001b[0m in \u001b[0;36malign\u001b[0;34m(self, sel, refmol, refsel, frames)\u001b[0m\n\u001b[1;32m    462\u001b[0m         \u001b[0;32mif\u001b[0m \u001b[0;34m(\u001b[0m\u001b[0mtype\u001b[0m\u001b[0;34m(\u001b[0m\u001b[0msel\u001b[0m\u001b[0;34m[\u001b[0m\u001b[0;36m0\u001b[0m\u001b[0;34m]\u001b[0m\u001b[0;34m)\u001b[0m \u001b[0;34m==\u001b[0m \u001b[0mbool\u001b[0m\u001b[0;34m)\u001b[0m \u001b[0;32mand\u001b[0m \u001b[0;34m(\u001b[0m\u001b[0mnp\u001b[0m\u001b[0;34m.\u001b[0m\u001b[0msum\u001b[0m\u001b[0;34m(\u001b[0m\u001b[0msel\u001b[0m\u001b[0;34m)\u001b[0m \u001b[0;34m!=\u001b[0m \u001b[0mnp\u001b[0m\u001b[0;34m.\u001b[0m\u001b[0msum\u001b[0m\u001b[0;34m(\u001b[0m\u001b[0mrefsel\u001b[0m\u001b[0;34m)\u001b[0m\u001b[0;34m)\u001b[0m\u001b[0;34m:\u001b[0m\u001b[0;34m\u001b[0m\u001b[0m\n\u001b[1;32m    463\u001b[0m             \u001b[0;32mraise\u001b[0m \u001b[0mNameError\u001b[0m\u001b[0;34m(\u001b[0m\u001b[0;34m'Cannot align molecules. The two selections produced different number of atoms'\u001b[0m\u001b[0;34m)\u001b[0m\u001b[0;34m\u001b[0m\u001b[0m\n\u001b[0;32m--> 464\u001b[0;31m         \u001b[0mself\u001b[0m\u001b[0;34m.\u001b[0m\u001b[0mcoords\u001b[0m \u001b[0;34m=\u001b[0m \u001b[0m_pp_align\u001b[0m\u001b[0;34m(\u001b[0m\u001b[0mself\u001b[0m\u001b[0;34m.\u001b[0m\u001b[0mcoords\u001b[0m\u001b[0;34m,\u001b[0m \u001b[0mrefmol\u001b[0m\u001b[0;34m.\u001b[0m\u001b[0mcoords\u001b[0m\u001b[0;34m,\u001b[0m \u001b[0msel\u001b[0m\u001b[0;34m,\u001b[0m \u001b[0mrefsel\u001b[0m\u001b[0;34m,\u001b[0m \u001b[0mframes\u001b[0m\u001b[0;34m,\u001b[0m \u001b[0mrefmol\u001b[0m\u001b[0;34m.\u001b[0m\u001b[0mframe\u001b[0m\u001b[0;34m)\u001b[0m\u001b[0;34m\u001b[0m\u001b[0m\n\u001b[0m\u001b[1;32m    465\u001b[0m \u001b[0;34m\u001b[0m\u001b[0m\n\u001b[1;32m    466\u001b[0m     \u001b[0;32mdef\u001b[0m \u001b[0malignBySequence\u001b[0m\u001b[0;34m(\u001b[0m\u001b[0mself\u001b[0m\u001b[0;34m,\u001b[0m \u001b[0mref\u001b[0m\u001b[0;34m,\u001b[0m \u001b[0mmolseg\u001b[0m\u001b[0;34m=\u001b[0m\u001b[0;32mNone\u001b[0m\u001b[0;34m,\u001b[0m \u001b[0mrefseg\u001b[0m\u001b[0;34m=\u001b[0m\u001b[0;32mNone\u001b[0m\u001b[0;34m,\u001b[0m \u001b[0mnalignfragment\u001b[0m\u001b[0;34m=\u001b[0m\u001b[0;36m1\u001b[0m\u001b[0;34m,\u001b[0m \u001b[0mreturnAlignments\u001b[0m\u001b[0;34m=\u001b[0m\u001b[0;32mFalse\u001b[0m\u001b[0;34m,\u001b[0m \u001b[0mmaxalignments\u001b[0m\u001b[0;34m=\u001b[0m\u001b[0;36m1\u001b[0m\u001b[0;34m)\u001b[0m\u001b[0;34m:\u001b[0m\u001b[0;34m\u001b[0m\u001b[0m\n",
      "\u001b[0;32m/shared/alejandro/miniconda3/lib/python3.6/site-packages/numba/dispatcher.py\u001b[0m in \u001b[0;36m_explain_matching_error\u001b[0;34m(self, *args, **kws)\u001b[0m\n\u001b[1;32m    427\u001b[0m         msg = (\"No matching definition for argument type(s) %s\"\n\u001b[1;32m    428\u001b[0m                % ', '.join(map(str, args)))\n\u001b[0;32m--> 429\u001b[0;31m         \u001b[0;32mraise\u001b[0m \u001b[0mTypeError\u001b[0m\u001b[0;34m(\u001b[0m\u001b[0mmsg\u001b[0m\u001b[0;34m)\u001b[0m\u001b[0;34m\u001b[0m\u001b[0m\n\u001b[0m\u001b[1;32m    430\u001b[0m \u001b[0;34m\u001b[0m\u001b[0m\n\u001b[1;32m    431\u001b[0m     \u001b[0;32mdef\u001b[0m \u001b[0m_search_new_conversions\u001b[0m\u001b[0;34m(\u001b[0m\u001b[0mself\u001b[0m\u001b[0;34m,\u001b[0m \u001b[0;34m*\u001b[0m\u001b[0margs\u001b[0m\u001b[0;34m,\u001b[0m \u001b[0;34m**\u001b[0m\u001b[0mkws\u001b[0m\u001b[0;34m)\u001b[0m\u001b[0;34m:\u001b[0m\u001b[0;34m\u001b[0m\u001b[0m\n",
      "\u001b[0;31mTypeError\u001b[0m: No matching definition for argument type(s) array(float32, 3d, C), array(float32, 3d, C), reflected list(int64), reflected list(int64), array(int64, 1d, C), int64"
     ]
    }
   ],
   "source": [
    "from htmd.ui import *\n",
    "from htmd.molecule.graphalignment import maximalSubstructureAlignment\n",
    "config(viewer='ngl')\n",
    "\n",
    "#load the molecule which will be used as reference: PDB 2Y02 with resname WHJ\n",
    "reference_crystal = Molecule('2Y02')\n",
    "reference_crystal.filter('protein or resname WHJ')\n",
    "reference_ligand = reference_crystal.copy()\n",
    "#Extracts the ligand from the protein\n",
    "reference_ligand.filter('resname WHJ')\n",
    "#There are two ligands with the same resname, so we select one of them\n",
    "reference_ligand.filter('residue 1') \n",
    "\n",
    "#Extract other ligand from this congeneric series: PDB 2Y03 with resname 5FW\n",
    "ligand_to_align = Molecule('2Y03')\n",
    "ligand_to_align.filter('resname 5FW')\n",
    "#pick one of the two molecules\n",
    "ligand_to_align.filter('residue 0') \n",
    "\n",
    "#align\n",
    "lig_aligned = maximalSubstructureAlignment(reference_ligand,ligand_to_align)\n",
    "\n",
    "#show the results, with the reference ligand displayed in Lines style (narrower bonds and atoms)\n",
    "show_result = reference_ligand.copy()\n",
    "show_result.append(lig_aligned)\n",
    "show_result.append(reference_crystal)\n",
    "show_result.view(sel='resname WHJ and residue 0',style='Lines',hold=True)\n",
    "show_result.view(sel='resname 5FW',style='Licorice')"
   ]
  },
  {
   "cell_type": "markdown",
   "metadata": {},
   "source": [
    "## Detailed explanation\n",
    "\n",
    "First, we load the molecule which will be used as reference, cocrystallized in PDB entry 2Y02 with resname WHJ"
   ]
  },
  {
   "cell_type": "code",
   "execution_count": 2,
   "metadata": {},
   "outputs": [
    {
     "name": "stderr",
     "output_type": "stream",
     "text": [
      "2018-07-25 12:26:07,260 - htmd.molecule.readers - INFO - Attempting PDB query for 2Y02\n",
      "2018-07-25 12:26:08,586 - htmd.molecule.molecule - INFO - Removed 370 atoms. 4694 atoms remaining in the molecule.\n",
      "2018-07-25 12:26:08,689 - htmd.molecule.molecule - INFO - Removed 4640 atoms. 54 atoms remaining in the molecule.\n",
      "2018-07-25 12:26:08,693 - htmd.molecule.molecule - INFO - Removed 27 atoms. 27 atoms remaining in the molecule.\n"
     ]
    },
    {
     "data": {
      "text/plain": [
       "array([ 0,  1,  2,  3,  4,  5,  6,  7,  8,  9, 10, 11, 12, 13, 14, 15, 16,\n",
       "       17, 18, 19, 20, 21, 22, 23, 24, 25, 26], dtype=int32)"
      ]
     },
     "execution_count": 2,
     "metadata": {},
     "output_type": "execute_result"
    }
   ],
   "source": [
    "from htmd.ui import *\n",
    "from htmd.molecule.graphalignment import maximalSubstructureAlignment\n",
    "config(viewer='ngl')\n",
    "reference_crystal = Molecule('2Y02')\n",
    "reference_crystal.filter('protein or resname WHJ')\n",
    "reference_ligand = reference_crystal.copy()\n",
    "#Extracts the ligand from the protein\n",
    "reference_ligand.filter('resname WHJ')\n",
    "#There are two ligands with the same resname, so we select one of them\n",
    "reference_ligand.filter('residue 1') "
   ]
  },
  {
   "cell_type": "markdown",
   "metadata": {},
   "source": [
    "Now, let's extract the other ligand from this congeneric series, cocristallized in PDB entry 2Y03 with resname 5FW"
   ]
  },
  {
   "cell_type": "code",
   "execution_count": 3,
   "metadata": {},
   "outputs": [
    {
     "name": "stderr",
     "output_type": "stream",
     "text": [
      "2018-07-25 12:26:10,732 - htmd.molecule.readers - INFO - Attempting PDB query for 2Y03\n",
      "2018-07-25 12:26:11,979 - htmd.molecule.molecule - INFO - Removed 4832 atoms. 30 atoms remaining in the molecule.\n",
      "2018-07-25 12:26:11,985 - htmd.molecule.molecule - INFO - Removed 15 atoms. 15 atoms remaining in the molecule.\n"
     ]
    },
    {
     "data": {
      "text/plain": [
       "array([15, 16, 17, 18, 19, 20, 21, 22, 23, 24, 25, 26, 27, 28, 29],\n",
       "      dtype=int32)"
      ]
     },
     "execution_count": 3,
     "metadata": {},
     "output_type": "execute_result"
    }
   ],
   "source": [
    "ligand_to_align = Molecule('2Y03')\n",
    "ligand_to_align.filter('resname 5FW')\n",
    "#Again, there are two residues with the same name, and\n",
    "#residue 1 happens to be already aligned with the reference ligand, so we use residue 0\n",
    "ligand_to_align.filter('residue 0') "
   ]
  },
  {
   "cell_type": "markdown",
   "metadata": {},
   "source": [
    "Let's take a look at both molecules as they are now. The reference ligand is displayed with narrower bonds."
   ]
  },
  {
   "cell_type": "code",
   "execution_count": 4,
   "metadata": {},
   "outputs": [
    {
     "data": {
      "application/vnd.jupyter.widget-view+json": {
       "model_id": "2342f24155ef4edeaef7b8887c17346c",
       "version_major": 2,
       "version_minor": 0
      },
      "text/plain": [
       "A Jupyter Widget"
      ]
     },
     "metadata": {},
     "output_type": "display_data"
    }
   ],
   "source": [
    "template_and_ligand = reference_ligand.copy()\n",
    "template_and_ligand.append(ligand_to_align)\n",
    "template_and_ligand.view(sel='resname WHJ', style='Lines', hold=True)\n",
    "template_and_ligand.view(sel='resname 5FW',style='Licorice')"
   ]
  },
  {
   "cell_type": "markdown",
   "metadata": {},
   "source": [
    "Now we align the extracted ligand to the crystal of the molecule we are using as reference. Then, we can see the result. Again, the reference ligand is displayed with narrower bonds."
   ]
  },
  {
   "cell_type": "code",
   "execution_count": 6,
   "metadata": {},
   "outputs": [
    {
     "data": {
      "application/vnd.jupyter.widget-view+json": {
       "model_id": "20c51a2b42454a2a8d6431ded18b37e7",
       "version_major": 2,
       "version_minor": 0
      },
      "text/plain": [
       "A Jupyter Widget"
      ]
     },
     "metadata": {},
     "output_type": "display_data"
    }
   ],
   "source": [
    "lig_aligned = maximalSubstructureAlignment(reference_ligand,ligand_to_align)\n",
    "show_result = reference_ligand.copy()\n",
    "show_result.append(lig_aligned)\n",
    "show_result.append(reference_crystal)\n",
    "show_result.view(sel='resname WHJ and residue 0',style='Lines',hold=True)\n",
    "show_result.view(sel='resname 5FW',style='Licorice')"
   ]
  }
 ],
 "metadata": {
  "kernelspec": {
   "display_name": "Python 3",
   "language": "python",
   "name": "python3"
  },
  "language_info": {
   "codemirror_mode": {
    "name": "ipython",
    "version": 3
   },
   "file_extension": ".py",
   "mimetype": "text/x-python",
   "name": "python",
   "nbconvert_exporter": "python",
   "pygments_lexer": "ipython3",
   "version": "3.6.3"
  }
 },
 "nbformat": 4,
 "nbformat_minor": 2
}
