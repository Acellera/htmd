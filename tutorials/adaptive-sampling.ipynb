{
 "cells": [
  {
   "cell_type": "code",
   "execution_count": 1,
   "metadata": {
    "slideshow": {
     "slide_type": "skip"
    }
   },
   "outputs": [
    {
     "name": "stdout",
     "output_type": "stream",
     "text": [
      "\n",
      "Please cite HTMD: Doerr et al.(2016)JCTC,12,1845. https://dx.doi.org/10.1021/acs.jctc.6b00049\n",
      "\n",
      "HTMD Documentation at: https://www.htmd.org/docs/latest/\n",
      "\n",
      "You are on the latest HTMD version (unpackaged : /home/joao/maindisk/software/repos/j3mdamas/htmd/htmd).\n",
      "\n",
      "Deprecation warning: To import all HTMD shortcuts please use \"from htmd.ui import *\"\n"
     ]
    }
   ],
   "source": [
    "from htmd.ui import *\n",
    "config(viewer='ngl')"
   ]
  },
  {
   "cell_type": "markdown",
   "metadata": {
    "slideshow": {
     "slide_type": "slide"
    }
   },
   "source": [
    "# Adaptive sampling"
   ]
  },
  {
   "cell_type": "markdown",
   "metadata": {
    "slideshow": {
     "slide_type": "-"
    }
   },
   "source": [
    "## Stefan Doerr\n",
    "Universitat Pompeu Fabra & Acellera"
   ]
  },
  {
   "cell_type": "markdown",
   "metadata": {
    "slideshow": {
     "slide_type": "slide"
    }
   },
   "source": [
    "We demonstrate how to use the HTMD code to run adaptive sampling.\n",
    "\n",
    "You can download the generators from the following link:\n",
    "\n",
    "* [Generators](http://pub.htmd.org/tutorials/adaptive-sampling/generators.tar.gz).\n",
    "\n",
    "Alternatively, you can download the generators using `wget`."
   ]
  },
  {
   "cell_type": "code",
   "execution_count": 2,
   "metadata": {},
   "outputs": [
    {
     "data": {
      "text/plain": [
       "0"
      ]
     },
     "execution_count": 2,
     "metadata": {},
     "output_type": "execute_result"
    }
   ],
   "source": [
    "import os\n",
    "os.system('wget -q http://pub.htmd.org/tutorials/adaptive-sampling/generators.tar.gz; tar -xf generators.tar.gz && rm generators.tar.gz')"
   ]
  },
  {
   "cell_type": "markdown",
   "metadata": {
    "slideshow": {
     "slide_type": "slide"
    }
   },
   "source": [
    "## Generators folder structure"
   ]
  },
  {
   "cell_type": "code",
   "execution_count": 3,
   "metadata": {},
   "outputs": [
    {
     "name": "stdout",
     "output_type": "stream",
     "text": [
      "generators\r\n",
      "|-- ntl9_1ns_0\r\n",
      "|   |-- input\r\n",
      "|   |-- input.coor\r\n",
      "|   |-- input.xsc\r\n",
      "|   |-- parameters\r\n",
      "|   |-- run.sh\r\n",
      "|   |-- structure.pdb\r\n",
      "|   `-- structure.psf\r\n",
      "|-- ntl9_1ns_1\r\n",
      "|   |-- input\r\n",
      "|   |-- input.coor\r\n",
      "|   |-- input.xsc\r\n",
      "|   |-- parameters\r\n",
      "|   |-- run.sh\r\n",
      "|   |-- structure.pdb\r\n",
      "|   `-- structure.psf\r\n",
      "`-- ntl9_1ns_2\r\n",
      "    |-- input\r\n",
      "    |-- input.coor\r\n"
     ]
    }
   ],
   "source": [
    "!tree generators | head -20"
   ]
  },
  {
   "cell_type": "markdown",
   "metadata": {
    "slideshow": {
     "slide_type": "slide"
    }
   },
   "source": [
    "## Adaptive classes"
   ]
  },
  {
   "cell_type": "markdown",
   "metadata": {
    "slideshow": {
     "slide_type": "-"
    }
   },
   "source": [
    "* AdaptiveMD (free exploration)\n",
    "* AdaptiveGoal (exploration + exploitation)"
   ]
  },
  {
   "cell_type": "markdown",
   "metadata": {},
   "source": [
    "Create a directory for each type of adaptive and copy the generators into them:"
   ]
  },
  {
   "cell_type": "code",
   "execution_count": 4,
   "metadata": {},
   "outputs": [
    {
     "data": {
      "text/plain": [
       "'./adaptivegoal/generators'"
      ]
     },
     "execution_count": 4,
     "metadata": {},
     "output_type": "execute_result"
    }
   ],
   "source": [
    "os.makedirs('./adaptivemd', exist_ok=True)\n",
    "os.makedirs('./adaptivegoal', exist_ok=True)\n",
    "shutil.copytree('./generators', './adaptivemd/generators')\n",
    "shutil.copytree('./generators', './adaptivegoal/generators')"
   ]
  },
  {
   "cell_type": "markdown",
   "metadata": {
    "slideshow": {
     "slide_type": "slide"
    }
   },
   "source": [
    "## AdaptiveMD"
   ]
  },
  {
   "cell_type": "code",
   "execution_count": 5,
   "metadata": {
    "collapsed": true
   },
   "outputs": [],
   "source": [
    "os.chdir('./adaptivemd')"
   ]
  },
  {
   "cell_type": "markdown",
   "metadata": {},
   "source": [
    "* Setup the queue that will be used for simulations. \n",
    "* Tell it to store completed trajectories in the data folder as this is where `AdaptiveMD` expects them to be by default"
   ]
  },
  {
   "cell_type": "code",
   "execution_count": 6,
   "metadata": {
    "collapsed": true
   },
   "outputs": [],
   "source": [
    "queue = LocalGPUQueue()\n",
    "queue.datadir = './data'"
   ]
  },
  {
   "cell_type": "code",
   "execution_count": 7,
   "metadata": {
    "collapsed": true
   },
   "outputs": [],
   "source": [
    "ad = AdaptiveMD()\n",
    "ad.app = queue"
   ]
  },
  {
   "cell_type": "markdown",
   "metadata": {},
   "source": [
    "* Set the `nmin`, `nmax` and `nepochs`"
   ]
  },
  {
   "cell_type": "code",
   "execution_count": 8,
   "metadata": {
    "collapsed": true
   },
   "outputs": [],
   "source": [
    "ad.nmin = 1\n",
    "ad.nmax = 3\n",
    "ad.nepochs = 3"
   ]
  },
  {
   "cell_type": "markdown",
   "metadata": {
    "slideshow": {
     "slide_type": "slide"
    }
   },
   "source": [
    "* Choose what projection to use for the construction of the Markov model"
   ]
  },
  {
   "cell_type": "code",
   "execution_count": 9,
   "metadata": {
    "collapsed": true
   },
   "outputs": [],
   "source": [
    "protsel = 'protein and name CA'\n",
    "ad.projection = MetricSelfDistance(protsel)"
   ]
  },
  {
   "cell_type": "markdown",
   "metadata": {},
   "source": [
    "* Set the `updateperiod` of the Adaptive to define how often it will poll for completed simulations and redo the analysis"
   ]
  },
  {
   "cell_type": "code",
   "execution_count": 10,
   "metadata": {
    "collapsed": true
   },
   "outputs": [],
   "source": [
    "ad.updateperiod = 300 # execute every 5 minutes"
   ]
  },
  {
   "cell_type": "markdown",
   "metadata": {
    "slideshow": {
     "slide_type": "slide"
    }
   },
   "source": [
    "Launch the `AdaptiveMD` run:"
   ]
  },
  {
   "cell_type": "code",
   "execution_count": 11,
   "metadata": {},
   "outputs": [
    {
     "name": "stderr",
     "output_type": "stream",
     "text": [
      "2017-06-29 19:07:58,430 - htmd.adaptive.adaptive - INFO - Processing epoch 0\n",
      "2017-06-29 19:07:58,432 - htmd.adaptive.adaptive - INFO - Epoch 0, generating first batch\n",
      "2017-06-29 19:07:58,472 - htmd.queues.localqueue - INFO - Using GPU devices 0,1,2,3\n",
      "2017-06-29 19:07:58,475 - htmd.queues.localqueue - INFO - Queueing /data/joao/maindisk/software/repos/j3mdamas/htmd/tutorials/adaptivemd/input/e1s1_ntl9_1ns_0\n",
      "2017-06-29 19:07:58,476 - htmd.queues.localqueue - INFO - Queueing /data/joao/maindisk/software/repos/j3mdamas/htmd/tutorials/adaptivemd/input/e1s2_ntl9_1ns_1\n",
      "2017-06-29 19:07:58,476 - htmd.queues.localqueue - INFO - Running /data/joao/maindisk/software/repos/j3mdamas/htmd/tutorials/adaptivemd/input/e1s1_ntl9_1ns_0 on GPU device 0\n",
      "2017-06-29 19:07:58,477 - htmd.queues.localqueue - INFO - Queueing /data/joao/maindisk/software/repos/j3mdamas/htmd/tutorials/adaptivemd/input/e1s3_ntl9_1ns_2\n",
      "2017-06-29 19:07:58,477 - htmd.queues.localqueue - INFO - Running /data/joao/maindisk/software/repos/j3mdamas/htmd/tutorials/adaptivemd/input/e1s2_ntl9_1ns_1 on GPU device 1\n",
      "2017-06-29 19:07:58,486 - htmd.adaptive.adaptive - INFO - Sleeping for 300 seconds.\n",
      "2017-06-29 19:07:58,487 - htmd.queues.localqueue - INFO - Running /data/joao/maindisk/software/repos/j3mdamas/htmd/tutorials/adaptivemd/input/e1s3_ntl9_1ns_2 on GPU device 2\n",
      "2017-06-29 19:10:23,982 - htmd.queues.localqueue - INFO - Completed /data/joao/maindisk/software/repos/j3mdamas/htmd/tutorials/adaptivemd/input/e1s3_ntl9_1ns_2\n",
      "2017-06-29 19:10:24,941 - htmd.queues.localqueue - INFO - Completed /data/joao/maindisk/software/repos/j3mdamas/htmd/tutorials/adaptivemd/input/e1s2_ntl9_1ns_1\n",
      "2017-06-29 19:10:34,830 - htmd.queues.localqueue - INFO - Completed /data/joao/maindisk/software/repos/j3mdamas/htmd/tutorials/adaptivemd/input/e1s1_ntl9_1ns_0\n",
      "2017-06-29 19:12:58,571 - htmd.adaptive.adaptive - INFO - Processing epoch 1\n",
      "2017-06-29 19:12:58,572 - htmd.adaptive.adaptive - INFO - Retrieving simulations.\n",
      "2017-06-29 19:12:58,573 - htmd.adaptive.adaptive - INFO - 0 simulations in progress\n",
      "2017-06-29 19:12:58,575 - htmd.adaptive.adaptiverun - INFO - Postprocessing new data\n"
     ]
    },
    {
     "name": "stdout",
     "output_type": "stream",
     "text": [
      "Creating simlist: 100% (3/3) [#####################################] eta 00:01 -\n",
      "Filtering trajectories: 100% (3/3) [###############################] eta 00:01 |\n",
      "Projecting trajectories: 100% (3/3) [##############################] eta 00:01 -"
     ]
    },
    {
     "name": "stderr",
     "output_type": "stream",
     "text": [
      "2017-06-29 19:13:01,200 - htmd.projections.metric - INFO - Frame step 0.1ns was read from the trajectories. If it looks wrong, redefine it by manually setting the MetricData.fstep property.\n",
      "2017-06-29 19:13:01,203 - htmd.metricdata - INFO - Dropped 0 trajectories from 3 resulting in 3\n"
     ]
    },
    {
     "name": "stdout",
     "output_type": "stream",
     "text": [
      "\n"
     ]
    },
    {
     "name": "stderr",
     "output_type": "stream",
     "text": [
      "/home/joao/miniconda3/lib/python3.6/site-packages/pyemma/__init__.py:91: UserWarning: You are not using the latest release of PyEMMA. Latest is 2.4, you have 2.3.2.\n",
      "  .format(latest=latest, current=current), category=UserWarning)\n"
     ]
    },
    {
     "name": "stdout",
     "output_type": "stream",
     "text": [
      "getting output of TICA: 100% (3/3) [###############################] eta 00:01 -"
     ]
    },
    {
     "name": "stderr",
     "output_type": "stream",
     "text": [
      "2017-06-29 19:13:02,281 - htmd.metricdata - INFO - Dropped 0 trajectories from 3 resulting in 3\n",
      "2017-06-29 19:13:02,665 - htmd.model - INFO - 100.0% of the data was used\n",
      "2017-06-29 19:13:02,667 - htmd.model - INFO - Number of trajectories that visited each macrostate:\n",
      "2017-06-29 19:13:02,669 - htmd.model - INFO - [1 1 1 2 3]\n",
      "2017-06-29 19:13:02,670 - htmd.model - INFO - Take care! Macro 0 has been visited only in 1 trajectories:\n",
      "2017-06-29 19:13:02,671 - htmd.model - INFO - \n",
      "simid = 0\n",
      "parent = 0\n",
      "input = None\n",
      "trajectory = ['filtered/e1s1_ntl9_1ns_0/output.filtered.xtc']\n",
      "molfile = filtered/filtered.pdb\n",
      "numframes = [None]\n",
      "\n",
      "2017-06-29 19:13:02,672 - htmd.model - INFO - Take care! Macro 1 has been visited only in 1 trajectories:\n",
      "2017-06-29 19:13:02,673 - htmd.model - INFO - \n",
      "simid = 0\n",
      "parent = 0\n",
      "input = None\n",
      "trajectory = ['filtered/e1s1_ntl9_1ns_0/output.filtered.xtc']\n",
      "molfile = filtered/filtered.pdb\n",
      "numframes = [None]\n",
      "\n",
      "2017-06-29 19:13:02,674 - htmd.model - INFO - Take care! Macro 2 has been visited only in 1 trajectories:\n",
      "2017-06-29 19:13:02,675 - htmd.model - INFO - \n",
      "simid = 0\n",
      "parent = 0\n",
      "input = None\n",
      "trajectory = ['filtered/e1s1_ntl9_1ns_0/output.filtered.xtc']\n",
      "molfile = filtered/filtered.pdb\n",
      "numframes = [None]\n",
      "\n",
      "2017-06-29 19:13:02,676 - htmd.model - INFO - Take care! Macro 3 has been visited only in 2 trajectories:\n",
      "2017-06-29 19:13:02,677 - htmd.model - INFO - \n",
      "simid = 0\n",
      "parent = 0\n",
      "input = None\n",
      "trajectory = ['filtered/e1s1_ntl9_1ns_0/output.filtered.xtc']\n",
      "molfile = filtered/filtered.pdb\n",
      "numframes = [None]\n",
      "\n",
      "2017-06-29 19:13:02,678 - htmd.model - INFO - \n",
      "simid = 1\n",
      "parent = 1\n",
      "input = None\n",
      "trajectory = ['filtered/e1s2_ntl9_1ns_1/output.filtered.xtc']\n",
      "molfile = filtered/filtered.pdb\n",
      "numframes = [None]\n",
      "\n",
      "2017-06-29 19:13:02,681 - htmd.model - INFO - Take care! Macro 4 has been visited only in 3 trajectories:\n",
      "2017-06-29 19:13:02,682 - htmd.model - INFO - \n",
      "simid = 0\n",
      "parent = 0\n",
      "input = None\n",
      "trajectory = ['filtered/e1s1_ntl9_1ns_0/output.filtered.xtc']\n",
      "molfile = filtered/filtered.pdb\n",
      "numframes = [None]\n",
      "\n",
      "2017-06-29 19:13:02,683 - htmd.model - INFO - \n",
      "simid = 1\n",
      "parent = 1\n",
      "input = None\n",
      "trajectory = ['filtered/e1s2_ntl9_1ns_1/output.filtered.xtc']\n",
      "molfile = filtered/filtered.pdb\n",
      "numframes = [None]\n",
      "\n",
      "2017-06-29 19:13:02,685 - htmd.model - INFO - \n",
      "simid = 2\n",
      "parent = 2\n",
      "input = None\n",
      "trajectory = ['filtered/e1s3_ntl9_1ns_2/output.filtered.xtc']\n",
      "molfile = filtered/filtered.pdb\n",
      "numframes = [None]\n",
      "\n"
     ]
    },
    {
     "name": "stdout",
     "output_type": "stream",
     "text": [
      "Writing inputs: 100% (3/3) [#######################################] eta 00:01 |"
     ]
    },
    {
     "name": "stderr",
     "output_type": "stream",
     "text": [
      "2017-06-29 19:13:02,994 - htmd.queues.localqueue - INFO - Queueing /data/joao/maindisk/software/repos/j3mdamas/htmd/tutorials/adaptivemd/input/e2s1_e1s1p0f3\n",
      "2017-06-29 19:13:02,996 - htmd.queues.localqueue - INFO - Running /data/joao/maindisk/software/repos/j3mdamas/htmd/tutorials/adaptivemd/input/e2s1_e1s1p0f3 on GPU device 1\n",
      "2017-06-29 19:13:02,996 - htmd.queues.localqueue - INFO - Queueing /data/joao/maindisk/software/repos/j3mdamas/htmd/tutorials/adaptivemd/input/e2s2_e1s1p0f3\n",
      "2017-06-29 19:13:03,005 - htmd.queues.localqueue - INFO - Queueing /data/joao/maindisk/software/repos/j3mdamas/htmd/tutorials/adaptivemd/input/e2s3_e1s1p0f9\n",
      "2017-06-29 19:13:03,006 - htmd.queues.localqueue - INFO - Running /data/joao/maindisk/software/repos/j3mdamas/htmd/tutorials/adaptivemd/input/e2s2_e1s1p0f3 on GPU device 2\n",
      "2017-06-29 19:13:03,009 - htmd.adaptive.adaptive - INFO - Finished submitting simulations.\n",
      "2017-06-29 19:13:03,013 - htmd.adaptive.adaptive - INFO - Sleeping for 300 seconds.\n",
      "2017-06-29 19:13:03,009 - htmd.queues.localqueue - INFO - Running /data/joao/maindisk/software/repos/j3mdamas/htmd/tutorials/adaptivemd/input/e2s3_e1s1p0f9 on GPU device 3\n"
     ]
    },
    {
     "name": "stdout",
     "output_type": "stream",
     "text": [
      "\n"
     ]
    },
    {
     "name": "stderr",
     "output_type": "stream",
     "text": [
      "2017-06-29 19:15:28,955 - htmd.queues.localqueue - INFO - Completed /data/joao/maindisk/software/repos/j3mdamas/htmd/tutorials/adaptivemd/input/e2s3_e1s1p0f9\n",
      "2017-06-29 19:15:29,659 - htmd.queues.localqueue - INFO - Completed /data/joao/maindisk/software/repos/j3mdamas/htmd/tutorials/adaptivemd/input/e2s1_e1s1p0f3\n",
      "2017-06-29 19:15:31,433 - htmd.queues.localqueue - INFO - Completed /data/joao/maindisk/software/repos/j3mdamas/htmd/tutorials/adaptivemd/input/e2s2_e1s1p0f3\n",
      "2017-06-29 19:18:03,022 - htmd.adaptive.adaptive - INFO - Processing epoch 2\n",
      "2017-06-29 19:18:03,023 - htmd.adaptive.adaptive - INFO - Retrieving simulations.\n",
      "2017-06-29 19:18:03,024 - htmd.adaptive.adaptive - INFO - 0 simulations in progress\n",
      "2017-06-29 19:18:03,025 - htmd.adaptive.adaptiverun - INFO - Postprocessing new data\n"
     ]
    },
    {
     "name": "stdout",
     "output_type": "stream",
     "text": [
      "Creating simlist: 100% (6/6) [#####################################] eta 00:01 -\n",
      "Filtering trajectories: 100% (6/6) [###############################] eta 00:01 |\n",
      "Projecting trajectories: 100% (6/6) [##############################] eta 00:01 -"
     ]
    },
    {
     "name": "stderr",
     "output_type": "stream",
     "text": [
      "2017-06-29 19:18:05,297 - htmd.projections.metric - INFO - Frame step 0.1ns was read from the trajectories. If it looks wrong, redefine it by manually setting the MetricData.fstep property.\n",
      "2017-06-29 19:18:05,301 - htmd.metricdata - INFO - Dropped 0 trajectories from 6 resulting in 6\n"
     ]
    },
    {
     "name": "stdout",
     "output_type": "stream",
     "text": [
      "\n",
      "getting output of TICA: 100% (6/6) [###############################] eta 00:01 -"
     ]
    },
    {
     "name": "stderr",
     "output_type": "stream",
     "text": [
      "2017-06-29 19:18:06,402 - htmd.metricdata - INFO - Dropped 0 trajectories from 6 resulting in 6\n",
      "2017-06-29 19:18:09,971 - htmd.model - INFO - 100.0% of the data was used\n",
      "2017-06-29 19:18:09,974 - htmd.model - INFO - Number of trajectories that visited each macrostate:\n",
      "2017-06-29 19:18:09,976 - htmd.model - INFO - [1 2 5 6 5 6 2 3]\n",
      "2017-06-29 19:18:09,978 - htmd.model - INFO - Take care! Macro 0 has been visited only in 1 trajectories:\n",
      "2017-06-29 19:18:09,979 - htmd.model - INFO - \n",
      "simid = 2\n",
      "parent = 2\n",
      "input = None\n",
      "trajectory = ['filtered/e1s3_ntl9_1ns_2/output.filtered.xtc']\n",
      "molfile = filtered/filtered.pdb\n",
      "numframes = [10]\n",
      "\n",
      "2017-06-29 19:18:09,980 - htmd.model - INFO - Take care! Macro 1 has been visited only in 2 trajectories:\n",
      "2017-06-29 19:18:09,981 - htmd.model - INFO - \n",
      "simid = 2\n",
      "parent = 2\n",
      "input = None\n",
      "trajectory = ['filtered/e1s3_ntl9_1ns_2/output.filtered.xtc']\n",
      "molfile = filtered/filtered.pdb\n",
      "numframes = [10]\n",
      "\n",
      "2017-06-29 19:18:09,982 - htmd.model - INFO - \n",
      "simid = 3\n",
      "parent = 3\n",
      "input = None\n",
      "trajectory = ['filtered/e2s1_e1s1p0f3/output.filtered.xtc']\n",
      "molfile = filtered/filtered.pdb\n",
      "numframes = [None]\n",
      "\n",
      "2017-06-29 19:18:09,983 - htmd.model - INFO - Take care! Macro 6 has been visited only in 2 trajectories:\n",
      "2017-06-29 19:18:09,984 - htmd.model - INFO - \n",
      "simid = 0\n",
      "parent = 0\n",
      "input = None\n",
      "trajectory = ['filtered/e1s1_ntl9_1ns_0/output.filtered.xtc']\n",
      "molfile = filtered/filtered.pdb\n",
      "numframes = [10]\n",
      "\n",
      "2017-06-29 19:18:09,986 - htmd.model - INFO - \n",
      "simid = 3\n",
      "parent = 3\n",
      "input = None\n",
      "trajectory = ['filtered/e2s1_e1s1p0f3/output.filtered.xtc']\n",
      "molfile = filtered/filtered.pdb\n",
      "numframes = [None]\n",
      "\n",
      "2017-06-29 19:18:09,987 - htmd.model - INFO - Take care! Macro 7 has been visited only in 3 trajectories:\n",
      "2017-06-29 19:18:09,988 - htmd.model - INFO - \n",
      "simid = 0\n",
      "parent = 0\n",
      "input = None\n",
      "trajectory = ['filtered/e1s1_ntl9_1ns_0/output.filtered.xtc']\n",
      "molfile = filtered/filtered.pdb\n",
      "numframes = [10]\n",
      "\n",
      "2017-06-29 19:18:09,989 - htmd.model - INFO - \n",
      "simid = 1\n",
      "parent = 1\n",
      "input = None\n",
      "trajectory = ['filtered/e1s2_ntl9_1ns_1/output.filtered.xtc']\n",
      "molfile = filtered/filtered.pdb\n",
      "numframes = [10]\n",
      "\n",
      "2017-06-29 19:18:09,991 - htmd.model - INFO - \n",
      "simid = 3\n",
      "parent = 3\n",
      "input = None\n",
      "trajectory = ['filtered/e2s1_e1s1p0f3/output.filtered.xtc']\n",
      "molfile = filtered/filtered.pdb\n",
      "numframes = [None]\n",
      "\n"
     ]
    },
    {
     "name": "stdout",
     "output_type": "stream",
     "text": [
      "Writing inputs: 100% (3/3) [#######################################] eta 00:01 |"
     ]
    },
    {
     "name": "stderr",
     "output_type": "stream",
     "text": [
      "2017-06-29 19:18:10,329 - htmd.queues.localqueue - INFO - Queueing /data/joao/maindisk/software/repos/j3mdamas/htmd/tutorials/adaptivemd/input/e3s1_e1s3p0f1\n",
      "2017-06-29 19:18:10,330 - htmd.queues.localqueue - INFO - Running /data/joao/maindisk/software/repos/j3mdamas/htmd/tutorials/adaptivemd/input/e3s1_e1s3p0f1 on GPU device 2\n",
      "2017-06-29 19:18:10,331 - htmd.queues.localqueue - INFO - Queueing /data/joao/maindisk/software/repos/j3mdamas/htmd/tutorials/adaptivemd/input/e3s2_e2s1p0f2\n",
      "2017-06-29 19:18:10,341 - htmd.queues.localqueue - INFO - Queueing /data/joao/maindisk/software/repos/j3mdamas/htmd/tutorials/adaptivemd/input/e3s3_e2s1p0f7\n",
      "2017-06-29 19:18:10,342 - htmd.queues.localqueue - INFO - Running /data/joao/maindisk/software/repos/j3mdamas/htmd/tutorials/adaptivemd/input/e3s2_e2s1p0f2 on GPU device 1\n",
      "2017-06-29 19:18:10,344 - htmd.adaptive.adaptive - INFO - Finished submitting simulations.\n",
      "2017-06-29 19:18:10,344 - htmd.queues.localqueue - INFO - Running /data/joao/maindisk/software/repos/j3mdamas/htmd/tutorials/adaptivemd/input/e3s3_e2s1p0f7 on GPU device 0\n",
      "2017-06-29 19:18:10,353 - htmd.adaptive.adaptive - INFO - Sleeping for 300 seconds.\n"
     ]
    },
    {
     "name": "stdout",
     "output_type": "stream",
     "text": [
      "\n"
     ]
    },
    {
     "name": "stderr",
     "output_type": "stream",
     "text": [
      "2017-06-29 19:20:37,080 - htmd.queues.localqueue - INFO - Completed /data/joao/maindisk/software/repos/j3mdamas/htmd/tutorials/adaptivemd/input/e3s1_e1s3p0f1\n",
      "2017-06-29 19:20:37,983 - htmd.queues.localqueue - INFO - Completed /data/joao/maindisk/software/repos/j3mdamas/htmd/tutorials/adaptivemd/input/e3s2_e2s1p0f2\n",
      "2017-06-29 19:20:51,132 - htmd.queues.localqueue - INFO - Completed /data/joao/maindisk/software/repos/j3mdamas/htmd/tutorials/adaptivemd/input/e3s3_e2s1p0f7\n",
      "2017-06-29 19:23:10,410 - htmd.adaptive.adaptive - INFO - Processing epoch 3\n",
      "2017-06-29 19:23:10,412 - htmd.adaptive.adaptive - INFO - Retrieving simulations.\n",
      "2017-06-29 19:23:10,413 - htmd.adaptive.adaptive - INFO - 0 simulations in progress\n",
      "2017-06-29 19:23:10,415 - htmd.adaptive.adaptive - INFO - Reached maximum number of epochs 3\n"
     ]
    }
   ],
   "source": [
    "ad.run()"
   ]
  },
  {
   "cell_type": "markdown",
   "metadata": {
    "slideshow": {
     "slide_type": "slide"
    }
   },
   "source": [
    "## AdaptiveGoal"
   ]
  },
  {
   "cell_type": "code",
   "execution_count": 12,
   "metadata": {
    "collapsed": true
   },
   "outputs": [],
   "source": [
    "os.chdir('../adaptivegoal')"
   ]
  },
  {
   "cell_type": "markdown",
   "metadata": {
    "slideshow": {
     "slide_type": "-"
    }
   },
   "source": [
    "* Most of the class arguments are identical to AdaptiveMD"
   ]
  },
  {
   "cell_type": "code",
   "execution_count": 13,
   "metadata": {
    "collapsed": true
   },
   "outputs": [],
   "source": [
    "adg = AdaptiveGoal()\n",
    "adg.app = queue\n",
    "adg.nmin = 1\n",
    "adg.nmax = 3\n",
    "adg.nepochs = 2\n",
    "adg.generatorspath = './generators'\n",
    "adg.projection = MetricSelfDistance('protein and name CA')\n",
    "adg.updateperiod = 300  # execute every 5 minutes\n",
    "adg.goalfunction = None  # set to None just as an example"
   ]
  },
  {
   "cell_type": "markdown",
   "metadata": {},
   "source": [
    "* It requires the `goalfunction` argument which defines a goal\n",
    "* We can define a variety of different goal functions"
   ]
  },
  {
   "cell_type": "markdown",
   "metadata": {
    "slideshow": {
     "slide_type": "slide"
    }
   },
   "source": [
    "## The goal function"
   ]
  },
  {
   "cell_type": "markdown",
   "metadata": {},
   "source": [
    "The goal function will:\n",
    "* take as input a `Molecule` object of a simulation and \n",
    "* produce as output a score for each frame of that simulation. \n",
    "* The higher the score, the more desirable that simulation frame for being respawned."
   ]
  },
  {
   "cell_type": "markdown",
   "metadata": {
    "slideshow": {
     "slide_type": "slide"
    }
   },
   "source": [
    "## RMSD goal function"
   ]
  },
  {
   "cell_type": "markdown",
   "metadata": {},
   "source": [
    "For this goal function, we will use a crystal structure of NTL9.\n",
    "\n",
    "You can download the structure from the following link and save it on the `adaptivegoal` directory:\n",
    "\n",
    "* [NTL9 crystal structure](http://pub.htmd.org/tutorials/adaptive-sampling/ntl9_crystal.pdb).\n",
    "\n",
    "Alternatively, you can download the structure using `wget`."
   ]
  },
  {
   "cell_type": "code",
   "execution_count": 14,
   "metadata": {},
   "outputs": [
    {
     "data": {
      "text/plain": [
       "0"
      ]
     },
     "execution_count": 14,
     "metadata": {},
     "output_type": "execute_result"
    }
   ],
   "source": [
    "os.system('wget -q http://pub.htmd.org/tutorials/adaptive-sampling/ntl9_crystal.pdb')"
   ]
  },
  {
   "cell_type": "markdown",
   "metadata": {
    "slideshow": {
     "slide_type": "slide"
    }
   },
   "source": [
    "We can define a simple goal function that uses the RMSD between the conformation sampled and a reference (in this case, the crystal structure), and returns a score to be evaluated by the `AdaptiveGoal` algorithm:"
   ]
  },
  {
   "cell_type": "code",
   "execution_count": 15,
   "metadata": {
    "collapsed": true
   },
   "outputs": [],
   "source": [
    "ref = Molecule('./ntl9_crystal.pdb')\n",
    "\n",
    "def mygoalfunction(mol):\n",
    "    rmsd = MetricRmsd(ref, 'protein and name CA').project(mol)\n",
    "    return -rmsd  # or even 1/rmsd\n",
    "\n",
    "adg.goalfunction = mygoalfunction"
   ]
  },
  {
   "cell_type": "markdown",
   "metadata": {},
   "source": [
    "`AdaptiveGoal` ranks conformations from a high to low score. For the case of RMSD, since we want lower RMSD to give higher score, the symetric value is returned instead (the inverse would also work)."
   ]
  },
  {
   "cell_type": "markdown",
   "metadata": {
    "slideshow": {
     "slide_type": "slide"
    }
   },
   "source": [
    "Launch the `AdaptiveGoal` run:"
   ]
  },
  {
   "cell_type": "code",
   "execution_count": 16,
   "metadata": {
    "scrolled": true
   },
   "outputs": [
    {
     "name": "stderr",
     "output_type": "stream",
     "text": [
      "2017-06-29 19:23:10,602 - htmd.adaptive.adaptive - INFO - Processing epoch 0\n",
      "2017-06-29 19:23:10,605 - htmd.adaptive.adaptive - INFO - Epoch 0, generating first batch\n",
      "2017-06-29 19:23:10,632 - htmd.queues.localqueue - INFO - Queueing /data/joao/maindisk/software/repos/j3mdamas/htmd/tutorials/adaptivegoal/input/e1s1_ntl9_1ns_0\n",
      "2017-06-29 19:23:10,634 - htmd.queues.localqueue - INFO - Running /data/joao/maindisk/software/repos/j3mdamas/htmd/tutorials/adaptivegoal/input/e1s1_ntl9_1ns_0 on GPU device 1\n",
      "2017-06-29 19:23:10,634 - htmd.queues.localqueue - INFO - Queueing /data/joao/maindisk/software/repos/j3mdamas/htmd/tutorials/adaptivegoal/input/e1s2_ntl9_1ns_1\n",
      "2017-06-29 19:23:10,637 - htmd.queues.localqueue - INFO - Queueing /data/joao/maindisk/software/repos/j3mdamas/htmd/tutorials/adaptivegoal/input/e1s3_ntl9_1ns_2\n",
      "2017-06-29 19:23:10,638 - htmd.queues.localqueue - INFO - Running /data/joao/maindisk/software/repos/j3mdamas/htmd/tutorials/adaptivegoal/input/e1s2_ntl9_1ns_1 on GPU device 2\n",
      "2017-06-29 19:23:10,650 - htmd.adaptive.adaptive - INFO - Sleeping for 300 seconds.\n",
      "2017-06-29 19:23:10,651 - htmd.queues.localqueue - INFO - Running /data/joao/maindisk/software/repos/j3mdamas/htmd/tutorials/adaptivegoal/input/e1s3_ntl9_1ns_2 on GPU device 0\n",
      "2017-06-29 19:25:36,888 - htmd.queues.localqueue - INFO - Completed /data/joao/maindisk/software/repos/j3mdamas/htmd/tutorials/adaptivegoal/input/e1s2_ntl9_1ns_1\n",
      "2017-06-29 19:25:38,274 - htmd.queues.localqueue - INFO - Completed /data/joao/maindisk/software/repos/j3mdamas/htmd/tutorials/adaptivegoal/input/e1s1_ntl9_1ns_0\n",
      "2017-06-29 19:25:51,874 - htmd.queues.localqueue - INFO - Completed /data/joao/maindisk/software/repos/j3mdamas/htmd/tutorials/adaptivegoal/input/e1s3_ntl9_1ns_2\n",
      "2017-06-29 19:28:10,755 - htmd.adaptive.adaptive - INFO - Processing epoch 1\n",
      "2017-06-29 19:28:10,757 - htmd.adaptive.adaptive - INFO - Retrieving simulations.\n",
      "2017-06-29 19:28:10,759 - htmd.adaptive.adaptive - INFO - 0 simulations in progress\n",
      "2017-06-29 19:28:10,761 - htmd.adaptive.adaptiverun - INFO - Postprocessing new data\n"
     ]
    },
    {
     "name": "stdout",
     "output_type": "stream",
     "text": [
      "Creating simlist: 100% (3/3) [#####################################] eta 00:01 -\n",
      "Filtering trajectories: 100% (3/3) [###############################] eta 00:01 |\n",
      "Projecting trajectories: 100% (3/3) [##############################] eta 00:01 -"
     ]
    },
    {
     "name": "stderr",
     "output_type": "stream",
     "text": [
      "2017-06-29 19:28:13,291 - htmd.projections.metric - INFO - Frame step 0.1ns was read from the trajectories. If it looks wrong, redefine it by manually setting the MetricData.fstep property.\n",
      "2017-06-29 19:28:13,293 - htmd.metricdata - INFO - Dropped 0 trajectories from 3 resulting in 3\n"
     ]
    },
    {
     "name": "stdout",
     "output_type": "stream",
     "text": [
      "\n",
      "getting output of TICA: 100% (3/3) [###############################] eta 00:01 |"
     ]
    },
    {
     "name": "stderr",
     "output_type": "stream",
     "text": [
      "2017-06-29 19:28:13,916 - htmd.metricdata - INFO - Dropped 0 trajectories from 3 resulting in 3\n"
     ]
    },
    {
     "name": "stdout",
     "output_type": "stream",
     "text": [
      "Projecting trajectories: 100% (3/3) [##############################] eta 00:01 |\n"
     ]
    },
    {
     "name": "stderr",
     "output_type": "stream",
     "text": [
      "2017-06-29 19:28:14,432 - htmd.projections.metric - INFO - Frame step 0.1ns was read from the trajectories. If it looks wrong, redefine it by manually setting the MetricData.fstep property.\n",
      "2017-06-29 19:28:14,762 - htmd.model - INFO - 100.0% of the data was used\n",
      "2017-06-29 19:28:14,764 - htmd.model - INFO - Number of trajectories that visited each macrostate:\n",
      "2017-06-29 19:28:14,765 - htmd.model - INFO - [1 3 2 3]\n",
      "2017-06-29 19:28:14,767 - htmd.model - INFO - Take care! Macro 0 has been visited only in 1 trajectories:\n",
      "2017-06-29 19:28:14,768 - htmd.model - INFO - \n",
      "simid = 2\n",
      "parent = 2\n",
      "input = None\n",
      "trajectory = ['filtered/e1s3_ntl9_1ns_2/output.filtered.xtc']\n",
      "molfile = filtered/filtered.pdb\n",
      "numframes = [None]\n",
      "\n",
      "2017-06-29 19:28:14,770 - htmd.model - INFO - Take care! Macro 1 has been visited only in 3 trajectories:\n",
      "2017-06-29 19:28:14,771 - htmd.model - INFO - \n",
      "simid = 0\n",
      "parent = 0\n",
      "input = None\n",
      "trajectory = ['filtered/e1s1_ntl9_1ns_0/output.filtered.xtc']\n",
      "molfile = filtered/filtered.pdb\n",
      "numframes = [None]\n",
      "\n",
      "2017-06-29 19:28:14,773 - htmd.model - INFO - \n",
      "simid = 1\n",
      "parent = 1\n",
      "input = None\n",
      "trajectory = ['filtered/e1s2_ntl9_1ns_1/output.filtered.xtc']\n",
      "molfile = filtered/filtered.pdb\n",
      "numframes = [None]\n",
      "\n",
      "2017-06-29 19:28:14,774 - htmd.model - INFO - \n",
      "simid = 2\n",
      "parent = 2\n",
      "input = None\n",
      "trajectory = ['filtered/e1s3_ntl9_1ns_2/output.filtered.xtc']\n",
      "molfile = filtered/filtered.pdb\n",
      "numframes = [None]\n",
      "\n",
      "2017-06-29 19:28:14,775 - htmd.model - INFO - Take care! Macro 2 has been visited only in 2 trajectories:\n",
      "2017-06-29 19:28:14,776 - htmd.model - INFO - \n",
      "simid = 1\n",
      "parent = 1\n",
      "input = None\n",
      "trajectory = ['filtered/e1s2_ntl9_1ns_1/output.filtered.xtc']\n",
      "molfile = filtered/filtered.pdb\n",
      "numframes = [None]\n",
      "\n",
      "2017-06-29 19:28:14,778 - htmd.model - INFO - \n",
      "simid = 2\n",
      "parent = 2\n",
      "input = None\n",
      "trajectory = ['filtered/e1s3_ntl9_1ns_2/output.filtered.xtc']\n",
      "molfile = filtered/filtered.pdb\n",
      "numframes = [None]\n",
      "\n",
      "2017-06-29 19:28:14,779 - htmd.model - INFO - Take care! Macro 3 has been visited only in 3 trajectories:\n",
      "2017-06-29 19:28:14,780 - htmd.model - INFO - \n",
      "simid = 0\n",
      "parent = 0\n",
      "input = None\n",
      "trajectory = ['filtered/e1s1_ntl9_1ns_0/output.filtered.xtc']\n",
      "molfile = filtered/filtered.pdb\n",
      "numframes = [None]\n",
      "\n",
      "2017-06-29 19:28:14,781 - htmd.model - INFO - \n",
      "simid = 1\n",
      "parent = 1\n",
      "input = None\n",
      "trajectory = ['filtered/e1s2_ntl9_1ns_1/output.filtered.xtc']\n",
      "molfile = filtered/filtered.pdb\n",
      "numframes = [None]\n",
      "\n",
      "2017-06-29 19:28:14,782 - htmd.model - INFO - \n",
      "simid = 2\n",
      "parent = 2\n",
      "input = None\n",
      "trajectory = ['filtered/e1s3_ntl9_1ns_2/output.filtered.xtc']\n",
      "molfile = filtered/filtered.pdb\n",
      "numframes = [None]\n",
      "\n"
     ]
    },
    {
     "name": "stdout",
     "output_type": "stream",
     "text": [
      "Writing inputs: 100% (3/3) [#######################################] eta 00:01 -"
     ]
    },
    {
     "name": "stderr",
     "output_type": "stream",
     "text": [
      "2017-06-29 19:28:15,086 - htmd.queues.localqueue - INFO - Queueing /data/joao/maindisk/software/repos/j3mdamas/htmd/tutorials/adaptivegoal/input/e2s1_e1s3p0f6\n",
      "2017-06-29 19:28:15,088 - htmd.queues.localqueue - INFO - Running /data/joao/maindisk/software/repos/j3mdamas/htmd/tutorials/adaptivegoal/input/e2s1_e1s3p0f6 on GPU device 3\n",
      "2017-06-29 19:28:15,089 - htmd.queues.localqueue - INFO - Queueing /data/joao/maindisk/software/repos/j3mdamas/htmd/tutorials/adaptivegoal/input/e2s2_e1s3p0f8\n",
      "2017-06-29 19:28:15,100 - htmd.queues.localqueue - INFO - Running /data/joao/maindisk/software/repos/j3mdamas/htmd/tutorials/adaptivegoal/input/e2s2_e1s3p0f8 on GPU device 1\n",
      "2017-06-29 19:28:15,101 - htmd.queues.localqueue - INFO - Queueing /data/joao/maindisk/software/repos/j3mdamas/htmd/tutorials/adaptivegoal/input/e2s3_e1s3p0f5\n",
      "2017-06-29 19:28:15,112 - htmd.adaptive.adaptive - INFO - Finished submitting simulations.\n",
      "2017-06-29 19:28:15,113 - htmd.queues.localqueue - INFO - Running /data/joao/maindisk/software/repos/j3mdamas/htmd/tutorials/adaptivegoal/input/e2s3_e1s3p0f5 on GPU device 0\n",
      "2017-06-29 19:28:15,116 - htmd.adaptive.adaptive - INFO - Sleeping for 300 seconds.\n"
     ]
    },
    {
     "name": "stdout",
     "output_type": "stream",
     "text": [
      "\n"
     ]
    },
    {
     "name": "stderr",
     "output_type": "stream",
     "text": [
      "2017-06-29 19:30:40,778 - htmd.queues.localqueue - INFO - Completed /data/joao/maindisk/software/repos/j3mdamas/htmd/tutorials/adaptivegoal/input/e2s1_e1s3p0f6\n",
      "2017-06-29 19:30:41,787 - htmd.queues.localqueue - INFO - Completed /data/joao/maindisk/software/repos/j3mdamas/htmd/tutorials/adaptivegoal/input/e2s2_e1s3p0f8\n",
      "2017-06-29 19:30:51,445 - htmd.queues.localqueue - INFO - Completed /data/joao/maindisk/software/repos/j3mdamas/htmd/tutorials/adaptivegoal/input/e2s3_e1s3p0f5\n",
      "2017-06-29 19:33:15,200 - htmd.adaptive.adaptive - INFO - Processing epoch 2\n",
      "2017-06-29 19:33:15,202 - htmd.adaptive.adaptive - INFO - Retrieving simulations.\n",
      "2017-06-29 19:33:15,204 - htmd.adaptive.adaptive - INFO - 0 simulations in progress\n",
      "2017-06-29 19:33:15,205 - htmd.adaptive.adaptive - INFO - Reached maximum number of epochs 2\n"
     ]
    }
   ],
   "source": [
    "adg.run()"
   ]
  },
  {
   "cell_type": "markdown",
   "metadata": {
    "slideshow": {
     "slide_type": "slide"
    }
   },
   "source": [
    "## Functions with multiple arguments"
   ]
  },
  {
   "cell_type": "markdown",
   "metadata": {},
   "source": [
    "The goal function can also take multiple arguments. This allows flexibility and on-the-fly comparisons to non-static conformations (i.e. compare with different references as the run progresses). Here, we redefine the previous goal function with multiple arguments:"
   ]
  },
  {
   "cell_type": "code",
   "execution_count": 17,
   "metadata": {
    "collapsed": true
   },
   "outputs": [],
   "source": [
    "def newgoalfunction(mol, crystal):\n",
    "    rmsd = MetricRmsd(crystal, 'protein and name CA').project(mol)\n",
    "    return -rmsd  # or even 1/rmsd"
   ]
  },
  {
   "cell_type": "markdown",
   "metadata": {
    "slideshow": {
     "slide_type": "slide"
    }
   },
   "source": [
    "Now we clean the previous `AdaptiveGoal` run, and start a new one with the new goal function:"
   ]
  },
  {
   "cell_type": "code",
   "execution_count": 18,
   "metadata": {
    "slideshow": {
     "slide_type": "-"
    }
   },
   "outputs": [
    {
     "name": "stderr",
     "output_type": "stream",
     "text": [
      "2017-06-29 19:33:15,330 - htmd.adaptive.adaptive - INFO - Processing epoch 0\n",
      "2017-06-29 19:33:15,331 - htmd.adaptive.adaptive - INFO - Epoch 0, generating first batch\n",
      "2017-06-29 19:33:15,350 - htmd.queues.localqueue - INFO - Queueing /data/joao/maindisk/software/repos/j3mdamas/htmd/tutorials/adaptivegoal/input/e1s1_ntl9_1ns_0\n",
      "2017-06-29 19:33:15,352 - htmd.queues.localqueue - INFO - Running /data/joao/maindisk/software/repos/j3mdamas/htmd/tutorials/adaptivegoal/input/e1s1_ntl9_1ns_0 on GPU device 0\n",
      "2017-06-29 19:33:15,352 - htmd.queues.localqueue - INFO - Queueing /data/joao/maindisk/software/repos/j3mdamas/htmd/tutorials/adaptivegoal/input/e1s2_ntl9_1ns_1\n",
      "2017-06-29 19:33:15,355 - htmd.queues.localqueue - INFO - Queueing /data/joao/maindisk/software/repos/j3mdamas/htmd/tutorials/adaptivegoal/input/e1s3_ntl9_1ns_2\n",
      "2017-06-29 19:33:15,355 - htmd.queues.localqueue - INFO - Running /data/joao/maindisk/software/repos/j3mdamas/htmd/tutorials/adaptivegoal/input/e1s2_ntl9_1ns_1 on GPU device 3\n",
      "2017-06-29 19:33:15,356 - htmd.adaptive.adaptive - INFO - Sleeping for 300 seconds.\n",
      "2017-06-29 19:33:15,356 - htmd.queues.localqueue - INFO - Running /data/joao/maindisk/software/repos/j3mdamas/htmd/tutorials/adaptivegoal/input/e1s3_ntl9_1ns_2 on GPU device 1\n",
      "2017-06-29 19:35:43,085 - htmd.queues.localqueue - INFO - Completed /data/joao/maindisk/software/repos/j3mdamas/htmd/tutorials/adaptivegoal/input/e1s2_ntl9_1ns_1\n",
      "2017-06-29 19:35:43,201 - htmd.queues.localqueue - INFO - Completed /data/joao/maindisk/software/repos/j3mdamas/htmd/tutorials/adaptivegoal/input/e1s3_ntl9_1ns_2\n",
      "2017-06-29 19:35:51,578 - htmd.queues.localqueue - INFO - Completed /data/joao/maindisk/software/repos/j3mdamas/htmd/tutorials/adaptivegoal/input/e1s1_ntl9_1ns_0\n",
      "2017-06-29 19:38:15,417 - htmd.adaptive.adaptive - INFO - Processing epoch 1\n",
      "2017-06-29 19:38:15,418 - htmd.adaptive.adaptive - INFO - Retrieving simulations.\n",
      "2017-06-29 19:38:15,419 - htmd.adaptive.adaptive - INFO - 0 simulations in progress\n",
      "2017-06-29 19:38:15,420 - htmd.adaptive.adaptiverun - INFO - Postprocessing new data\n"
     ]
    },
    {
     "name": "stdout",
     "output_type": "stream",
     "text": [
      "Creating simlist: 100% (3/3) [#####################################] eta 00:01 |\n",
      "Filtering trajectories: 100% (3/3) [###############################] eta 00:01 -\n",
      "Projecting trajectories: 100% (3/3) [##############################] eta 00:01 |"
     ]
    },
    {
     "name": "stderr",
     "output_type": "stream",
     "text": [
      "2017-06-29 19:38:17,955 - htmd.projections.metric - INFO - Frame step 0.1ns was read from the trajectories. If it looks wrong, redefine it by manually setting the MetricData.fstep property.\n",
      "2017-06-29 19:38:17,957 - htmd.metricdata - INFO - Dropped 0 trajectories from 3 resulting in 3\n"
     ]
    },
    {
     "name": "stdout",
     "output_type": "stream",
     "text": [
      "\n",
      "getting output of TICA: 100% (3/3) [###############################] eta 00:01 -"
     ]
    },
    {
     "name": "stderr",
     "output_type": "stream",
     "text": [
      "2017-06-29 19:38:18,745 - htmd.metricdata - INFO - Dropped 0 trajectories from 3 resulting in 3\n"
     ]
    },
    {
     "name": "stdout",
     "output_type": "stream",
     "text": [
      "Projecting trajectories: 100% (3/3) [##############################] eta 00:01 -\n"
     ]
    },
    {
     "name": "stderr",
     "output_type": "stream",
     "text": [
      "2017-06-29 19:38:19,316 - htmd.projections.metric - INFO - Frame step 0.1ns was read from the trajectories. If it looks wrong, redefine it by manually setting the MetricData.fstep property.\n",
      "2017-06-29 19:38:19,688 - htmd.model - WARNING - PCCA returned empty macrostates. Reducing the number of macrostates to 3.\n",
      "2017-06-29 19:38:19,714 - htmd.model - INFO - 96.7% of the data was used\n",
      "2017-06-29 19:38:19,716 - htmd.model - INFO - Number of trajectories that visited each macrostate:\n",
      "2017-06-29 19:38:19,717 - htmd.model - INFO - [2 2 3]\n",
      "2017-06-29 19:38:19,719 - htmd.model - INFO - Take care! Macro 0 has been visited only in 2 trajectories:\n",
      "2017-06-29 19:38:19,721 - htmd.model - INFO - \n",
      "simid = 0\n",
      "parent = 0\n",
      "input = None\n",
      "trajectory = ['filtered/e1s1_ntl9_1ns_0/output.filtered.xtc']\n",
      "molfile = filtered/filtered.pdb\n",
      "numframes = [None]\n",
      "\n",
      "2017-06-29 19:38:19,722 - htmd.model - INFO - \n",
      "simid = 2\n",
      "parent = 2\n",
      "input = None\n",
      "trajectory = ['filtered/e1s3_ntl9_1ns_2/output.filtered.xtc']\n",
      "molfile = filtered/filtered.pdb\n",
      "numframes = [None]\n",
      "\n",
      "2017-06-29 19:38:19,723 - htmd.model - INFO - Take care! Macro 1 has been visited only in 2 trajectories:\n",
      "2017-06-29 19:38:19,724 - htmd.model - INFO - \n",
      "simid = 0\n",
      "parent = 0\n",
      "input = None\n",
      "trajectory = ['filtered/e1s1_ntl9_1ns_0/output.filtered.xtc']\n",
      "molfile = filtered/filtered.pdb\n",
      "numframes = [None]\n",
      "\n",
      "2017-06-29 19:38:19,725 - htmd.model - INFO - \n",
      "simid = 1\n",
      "parent = 1\n",
      "input = None\n",
      "trajectory = ['filtered/e1s2_ntl9_1ns_1/output.filtered.xtc']\n",
      "molfile = filtered/filtered.pdb\n",
      "numframes = [None]\n",
      "\n",
      "2017-06-29 19:38:19,726 - htmd.model - INFO - Take care! Macro 2 has been visited only in 3 trajectories:\n",
      "2017-06-29 19:38:19,728 - htmd.model - INFO - \n",
      "simid = 0\n",
      "parent = 0\n",
      "input = None\n",
      "trajectory = ['filtered/e1s1_ntl9_1ns_0/output.filtered.xtc']\n",
      "molfile = filtered/filtered.pdb\n",
      "numframes = [None]\n",
      "\n",
      "2017-06-29 19:38:19,729 - htmd.model - INFO - \n",
      "simid = 1\n",
      "parent = 1\n",
      "input = None\n",
      "trajectory = ['filtered/e1s2_ntl9_1ns_1/output.filtered.xtc']\n",
      "molfile = filtered/filtered.pdb\n",
      "numframes = [None]\n",
      "\n",
      "2017-06-29 19:38:19,730 - htmd.model - INFO - \n",
      "simid = 2\n",
      "parent = 2\n",
      "input = None\n",
      "trajectory = ['filtered/e1s3_ntl9_1ns_2/output.filtered.xtc']\n",
      "molfile = filtered/filtered.pdb\n",
      "numframes = [None]\n",
      "\n"
     ]
    },
    {
     "name": "stdout",
     "output_type": "stream",
     "text": [
      "Writing inputs: 100% (3/3) [#######################################] eta 00:01 |"
     ]
    },
    {
     "name": "stderr",
     "output_type": "stream",
     "text": [
      "2017-06-29 19:38:20,046 - htmd.queues.localqueue - INFO - Queueing /data/joao/maindisk/software/repos/j3mdamas/htmd/tutorials/adaptivegoal/input/e2s1_e1s3p0f6\n",
      "2017-06-29 19:38:20,048 - htmd.queues.localqueue - INFO - Running /data/joao/maindisk/software/repos/j3mdamas/htmd/tutorials/adaptivegoal/input/e2s1_e1s3p0f6 on GPU device 2\n",
      "2017-06-29 19:38:20,049 - htmd.queues.localqueue - INFO - Queueing /data/joao/maindisk/software/repos/j3mdamas/htmd/tutorials/adaptivegoal/input/e2s2_e1s3p0f6\n",
      "2017-06-29 19:38:20,060 - htmd.queues.localqueue - INFO - Queueing /data/joao/maindisk/software/repos/j3mdamas/htmd/tutorials/adaptivegoal/input/e2s3_e1s2p0f0\n",
      "2017-06-29 19:38:20,060 - htmd.queues.localqueue - INFO - Running /data/joao/maindisk/software/repos/j3mdamas/htmd/tutorials/adaptivegoal/input/e2s2_e1s3p0f6 on GPU device 3\n",
      "2017-06-29 19:38:20,063 - htmd.adaptive.adaptive - INFO - Finished submitting simulations.\n",
      "2017-06-29 19:38:20,063 - htmd.queues.localqueue - INFO - Running /data/joao/maindisk/software/repos/j3mdamas/htmd/tutorials/adaptivegoal/input/e2s3_e1s2p0f0 on GPU device 1\n",
      "2017-06-29 19:38:20,075 - htmd.adaptive.adaptive - INFO - Sleeping for 300 seconds.\n"
     ]
    },
    {
     "name": "stdout",
     "output_type": "stream",
     "text": [
      "\n"
     ]
    },
    {
     "name": "stderr",
     "output_type": "stream",
     "text": [
      "2017-06-29 19:40:44,614 - htmd.queues.localqueue - INFO - Completed /data/joao/maindisk/software/repos/j3mdamas/htmd/tutorials/adaptivegoal/input/e2s2_e1s3p0f6\n",
      "2017-06-29 19:40:47,452 - htmd.queues.localqueue - INFO - Completed /data/joao/maindisk/software/repos/j3mdamas/htmd/tutorials/adaptivegoal/input/e2s1_e1s3p0f6\n",
      "2017-06-29 19:40:48,972 - htmd.queues.localqueue - INFO - Completed /data/joao/maindisk/software/repos/j3mdamas/htmd/tutorials/adaptivegoal/input/e2s3_e1s2p0f0\n",
      "2017-06-29 19:43:20,186 - htmd.adaptive.adaptive - INFO - Processing epoch 2\n",
      "2017-06-29 19:43:20,188 - htmd.adaptive.adaptive - INFO - Retrieving simulations.\n",
      "2017-06-29 19:43:20,190 - htmd.adaptive.adaptive - INFO - 0 simulations in progress\n",
      "2017-06-29 19:43:20,191 - htmd.adaptive.adaptive - INFO - Reached maximum number of epochs 2\n"
     ]
    }
   ],
   "source": [
    "# clean previous run\n",
    "shutil.rmtree('./input')\n",
    "shutil.rmtree('./data')\n",
    "shutil.rmtree('./filtered')\n",
    "\n",
    "# run with new goal\n",
    "ref = Molecule('./ntl9_crystal.pdb')\n",
    "adg.goalfunction = (newgoalfunction, (ref,))\n",
    "adg.run()"
   ]
  },
  {
   "cell_type": "markdown",
   "metadata": {
    "slideshow": {
     "slide_type": "slide"
    }
   },
   "source": [
    "# Other goal function examples"
   ]
  },
  {
   "cell_type": "markdown",
   "metadata": {
    "slideshow": {
     "slide_type": "slide"
    }
   },
   "source": [
    "## Secondary structure goal function"
   ]
  },
  {
   "cell_type": "code",
   "execution_count": 19,
   "metadata": {
    "collapsed": true
   },
   "outputs": [],
   "source": [
    "ref = Molecule('./ntl9_crystal.pdb')\n",
    "\n",
    "def ssGoal(mol, crystal):\n",
    "    crystalSS = MetricSecondaryStructure().project(crystal)[0]\n",
    "    proj = MetricSecondaryStructure().project(mol)\n",
    "    # How many crystal SS match with simulation SS\n",
    "    ss_score = np.sum(proj == crystalSS, axis=1) / proj.shape[1]  \n",
    "    return ss_score\n",
    "\n",
    "adg.goalfunction = (ssGoal, (ref,))"
   ]
  },
  {
   "cell_type": "markdown",
   "metadata": {
    "slideshow": {
     "slide_type": "slide"
    }
   },
   "source": [
    "## Contacts goal function"
   ]
  },
  {
   "cell_type": "code",
   "execution_count": 20,
   "metadata": {
    "collapsed": true
   },
   "outputs": [],
   "source": [
    "ref = Molecule('./ntl9_crystal.pdb')\n",
    "\n",
    "def contactGoal(mol, crystal):\n",
    "    crystalCO = MetricSelfDistance('protein and name CA', pbc=False,\n",
    "                                   metric='contacts', \n",
    "                                   threshold=10).project(crystal)\n",
    "    proj = MetricSelfDistance('protein and name CA', \n",
    "                              metric='contacts', \n",
    "                              threshold=10).project(mol)\n",
    "    # How many crystal contacts are seen?\n",
    "    co_score = np.sum(proj[:, crystalCO] == 1, axis=1)\n",
    "    co_score /= np.sum(crystalCO)\n",
    "    return ss_score\n",
    "\n",
    "adg.goalfunction = (contactGoal, (ref,))"
   ]
  }
 ],
 "metadata": {
  "anaconda-cloud": {},
  "celltoolbar": "Slideshow",
  "kernelspec": {
   "display_name": "Python 3",
   "language": "python",
   "name": "python3"
  },
  "language_info": {
   "codemirror_mode": {
    "name": "ipython",
    "version": 3
   },
   "file_extension": ".py",
   "mimetype": "text/x-python",
   "name": "python",
   "nbconvert_exporter": "python",
   "pygments_lexer": "ipython3",
   "version": "3.6.0"
  }
 },
 "nbformat": 4,
 "nbformat_minor": 1
}
