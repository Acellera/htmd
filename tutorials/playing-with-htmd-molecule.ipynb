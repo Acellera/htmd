{
 "cells": [
  {
   "cell_type": "markdown",
   "metadata": {},
   "source": [
    "# Playing with Molecule objects in HTMD"
   ]
  },
  {
   "cell_type": "markdown",
   "metadata": {},
   "source": [
    "Assuming that you have already downloaded and installed htmd, this tutorial guides you through the basic language features.\n",
    "\n",
    "After importing, any object and function defined by htmd is available in the workspace. In this tutorial, we'll look more carefully into the Molecule class features.\n",
    "\n",
    "The `htmd.config` sets up the viewer to NGL, a WebGL molecule viewer."
   ]
  },
  {
   "cell_type": "code",
   "execution_count": 1,
   "metadata": {
    "collapsed": false
   },
   "outputs": [
    {
     "name": "stdout",
     "output_type": "stream",
     "text": [
      "Videos from the HTMD2015 workshops are available on the Acellera youtube channel: https://www.youtube.com/user/acelleralive\n",
      "\n",
      "You are on the latest HTMD version (1.0.11).\n"
     ]
    }
   ],
   "source": [
    "from htmd import *\n",
    "htmd.config(viewer='ngl')"
   ]
  },
  {
   "cell_type": "markdown",
   "metadata": {},
   "source": [
    "## Molecule objects"
   ]
  },
  {
   "cell_type": "markdown",
   "metadata": {},
   "source": [
    "First, create an empty molecule object by either:\n",
    "* Fetching it from the Protein Data Bank, by using its PDB code...\n",
    "* ...or from a local file (many formats supported, including pdb, mol2, xtc, psf, prmtop)"
   ]
  },
  {
   "cell_type": "code",
   "execution_count": 2,
   "metadata": {
    "collapsed": true
   },
   "outputs": [],
   "source": [
    "mol = Molecule('3PTB')"
   ]
  },
  {
   "cell_type": "markdown",
   "metadata": {},
   "source": [
    "## Inspect your molecule"
   ]
  },
  {
   "cell_type": "markdown",
   "metadata": {},
   "source": [
    "Printing the object shows its properties."
   ]
  },
  {
   "cell_type": "code",
   "execution_count": 3,
   "metadata": {
    "collapsed": false
   },
   "outputs": [
    {
     "name": "stdout",
     "output_type": "stream",
     "text": [
      "Molecule with 1701 atoms and 1 frames\n",
      "PDB field - altloc shape: (1701,)\n",
      "PDB field - beta shape: (1701,)\n",
      "PDB field - chain shape: (1701,)\n",
      "PDB field - charge shape: (1701,)\n",
      "PDB field - coords shape: (1701, 3, 1)\n",
      "PDB field - element shape: (1701,)\n",
      "PDB field - insertion shape: (1701,)\n",
      "PDB field - name shape: (1701,)\n",
      "PDB field - occupancy shape: (1701,)\n",
      "PDB field - record shape: (1701,)\n",
      "PDB field - resid shape: (1701,)\n",
      "PDB field - resname shape: (1701,)\n",
      "PDB field - segid shape: (1701,)\n",
      "PDB field - serial shape: (1701,)\n",
      "bonds shape: (42, 2)\n",
      "box shape: (3, 1)\n",
      "fileloc shape: (1, 2)\n",
      "frame: 0\n",
      "masses shape: (1701,)\n",
      "reps: \n",
      "ssbonds shape: (0,)\n",
      "step shape: (0,)\n",
      "time shape: (0,)\n",
      "topoloc: /data/joao/maindisk/WORKBENCH/htmd_tutorial/playing_with_htmd_molecule/3PTB\n",
      "viewname: 3PTB\n"
     ]
    }
   ],
   "source": [
    "print(mol)"
   ]
  },
  {
   "cell_type": "markdown",
   "metadata": {},
   "source": [
    "## Methods and properties of Molecule objects"
   ]
  },
  {
   "cell_type": "markdown",
   "metadata": {},
   "source": [
    "Each `Molecule` object has a number of methods (operations that you can perform on the molecule) and properties (data associated to the molecule). Some of the properties correspond to data which is usually found in PDB files.\n",
    "\n",
    "|Methods | Properties |\n",
    "|--------|------------|\n",
    "|read()  |record|\n",
    "|write() |serial|\n",
    "|get()   |name|\n",
    "|set()   |resid|\n",
    "|atomselect()|chain|\n",
    "|filter()|coords|\n",
    "|remove()|box|\n",
    "|insert()|reps|\n",
    "|view()  |...|\n",
    "|wrap()  | |\n",
    "|align() | |\n",
    "\n",
    "Properties can be accessed either directly, or via the `Molecule.get` method. For example:"
   ]
  },
  {
   "cell_type": "code",
   "execution_count": 4,
   "metadata": {
    "collapsed": false
   },
   "outputs": [
    {
     "data": {
      "text/plain": [
       "array([   1,    2,    3, ..., 1700, 1701, 1702])"
      ]
     },
     "execution_count": 4,
     "metadata": {},
     "output_type": "execute_result"
    }
   ],
   "source": [
    "mol.serial"
   ]
  },
  {
   "cell_type": "code",
   "execution_count": 5,
   "metadata": {
    "collapsed": false
   },
   "outputs": [
    {
     "data": {
      "text/plain": [
       "array([   1,    2,    3, ..., 1700, 1701, 1702])"
      ]
     },
     "execution_count": 5,
     "metadata": {},
     "output_type": "execute_result"
    }
   ],
   "source": [
    "mol.get(\"serial\")"
   ]
  },
  {
   "cell_type": "markdown",
   "metadata": {},
   "source": [
    "Similarly, they can be modified directly, or via the `Molecule.set` method. This pair of methods is known as \"getter/setter\" methods in the object-oriented jargon.\n",
    "The following sections will show the usage of property getters and setters in a number of real-world tasks."
   ]
  },
  {
   "cell_type": "markdown",
   "metadata": {},
   "source": [
    "### Check the resIds of the cystein residues present in your protein "
   ]
  },
  {
   "cell_type": "markdown",
   "metadata": {},
   "source": [
    "In order to get the residue IDs of cystein residues in the molecule, one can do:"
   ]
  },
  {
   "cell_type": "code",
   "execution_count": 6,
   "metadata": {
    "collapsed": false
   },
   "outputs": [
    {
     "data": {
      "text/plain": [
       "array([ 22,  22,  22,  22,  22,  22,  42,  42,  42,  42,  42,  42,  58,\n",
       "        58,  58,  58,  58,  58, 128, 128, 128, 128, 128, 128, 136, 136,\n",
       "       136, 136, 136, 136, 157, 157, 157, 157, 157, 157, 168, 168, 168,\n",
       "       168, 168, 168, 182, 182, 182, 182, 182, 182, 191, 191, 191, 191,\n",
       "       191, 191, 201, 201, 201, 201, 201, 201, 220, 220, 220, 220, 220,\n",
       "       220, 232, 232, 232, 232, 232, 232])"
      ]
     },
     "execution_count": 6,
     "metadata": {},
     "output_type": "execute_result"
    }
   ],
   "source": [
    "mol.get('resid',sel='resname CYS')"
   ]
  },
  {
   "cell_type": "markdown",
   "metadata": {},
   "source": [
    "Note how residue IDs are outputted multiple times. This is due to the fact that one value is returned per matched atom, and this PDB file has approximately 6 atoms resolved per cystein residue.\n",
    "\n",
    "The atom names of cystein residue 58 can be checked with:"
   ]
  },
  {
   "cell_type": "code",
   "execution_count": 7,
   "metadata": {
    "collapsed": false
   },
   "outputs": [
    {
     "data": {
      "text/plain": [
       "array(['N', 'CA', 'C', 'O', 'CB', 'SG'], dtype=object)"
      ]
     },
     "execution_count": 7,
     "metadata": {},
     "output_type": "execute_result"
    }
   ],
   "source": [
    "mol.get('name','resname CYS and resid 58')"
   ]
  },
  {
   "cell_type": "markdown",
   "metadata": {},
   "source": [
    "To obtain one residue ID per residue, one can either further restrict the selection to carbon &alpha; atoms:"
   ]
  },
  {
   "cell_type": "code",
   "execution_count": 8,
   "metadata": {
    "collapsed": false
   },
   "outputs": [
    {
     "data": {
      "text/plain": [
       "array([ 22,  42,  58, 128, 136, 157, 168, 182, 191, 201, 220, 232])"
      ]
     },
     "execution_count": 8,
     "metadata": {},
     "output_type": "execute_result"
    }
   ],
   "source": [
    "mol.get('resid',sel='name CA and resname CYS')"
   ]
  },
  {
   "cell_type": "markdown",
   "metadata": {},
   "source": [
    "or use numpy's `unique` function to remove repeated entries:"
   ]
  },
  {
   "cell_type": "code",
   "execution_count": 9,
   "metadata": {
    "collapsed": false
   },
   "outputs": [
    {
     "data": {
      "text/plain": [
       "array([ 22,  42,  58, 128, 136, 157, 168, 182, 191, 201, 220, 232])"
      ]
     },
     "execution_count": 9,
     "metadata": {},
     "output_type": "execute_result"
    }
   ],
   "source": [
    "np.unique(mol.get('resid',sel='resname CYS'))"
   ]
  },
  {
   "cell_type": "markdown",
   "metadata": {},
   "source": [
    "### Retrieve the coordinates of atoms"
   ]
  },
  {
   "cell_type": "markdown",
   "metadata": {},
   "source": [
    "This is done accessing the `Molecule.coords` property. It is special, in the sense that it returns a 3-column vector (for the three coordinates). Also note how its precision is restricted to the one in the PDB file."
   ]
  },
  {
   "cell_type": "code",
   "execution_count": 10,
   "metadata": {
    "collapsed": false
   },
   "outputs": [
    {
     "data": {
      "text/plain": [
       "array([  4.23999977,  16.49500084,  27.98600006], dtype=float32)"
      ]
     },
     "execution_count": 10,
     "metadata": {},
     "output_type": "execute_result"
    }
   ],
   "source": [
    "mol.get('coords','resname CYS and resid 58 and name CA')"
   ]
  },
  {
   "cell_type": "markdown",
   "metadata": {},
   "source": [
    "What is returned if more than one atom is selected?  A matrix."
   ]
  },
  {
   "cell_type": "code",
   "execution_count": 11,
   "metadata": {
    "collapsed": false
   },
   "outputs": [
    {
     "data": {
      "text/plain": [
       "array([[  5.12200022,  16.71899986,  26.86300087],\n",
       "       [  4.23999977,  16.49500084,  27.98600006],\n",
       "       [  4.87400007,  16.95800018,  29.29999924],\n",
       "       [  4.23799992,  16.76399994,  30.36199951],\n",
       "       [  3.94099998,  14.9989996 ,  28.07099915],\n",
       "       [  2.79200006,  14.45199966,  26.72200012]], dtype=float32)"
      ]
     },
     "execution_count": 11,
     "metadata": {},
     "output_type": "execute_result"
    }
   ],
   "source": [
    "mol.get('coords','resname CYS and resid 58')"
   ]
  },
  {
   "cell_type": "markdown",
   "metadata": {},
   "source": [
    "### Display the chains or segments present in your PDB file"
   ]
  },
  {
   "cell_type": "markdown",
   "metadata": {},
   "source": [
    "The chains present in the `Molecule` can be known using:"
   ]
  },
  {
   "cell_type": "code",
   "execution_count": 12,
   "metadata": {
    "collapsed": false
   },
   "outputs": [
    {
     "data": {
      "text/plain": [
       "array(['A'], dtype=object)"
      ]
     },
     "execution_count": 12,
     "metadata": {},
     "output_type": "execute_result"
    }
   ],
   "source": [
    "np.unique(mol.get('chain'))"
   ]
  },
  {
   "cell_type": "markdown",
   "metadata": {},
   "source": [
    "which means that every atom is assigned to the same chain."
   ]
  },
  {
   "cell_type": "markdown",
   "metadata": {},
   "source": [
    "### List atoms recognized as water"
   ]
  },
  {
   "cell_type": "markdown",
   "metadata": {},
   "source": [
    "Get the indices of atoms that were recognized as water:"
   ]
  },
  {
   "cell_type": "code",
   "execution_count": 13,
   "metadata": {
    "collapsed": false
   },
   "outputs": [
    {
     "data": {
      "text/plain": [
       "array([1641, 1642, 1643, 1644, 1645, 1646, 1647, 1648, 1649, 1650, 1651,\n",
       "       1652, 1653, 1654, 1655, 1656, 1657, 1658, 1659, 1660, 1661, 1662,\n",
       "       1663, 1664, 1665, 1666, 1667, 1668, 1669, 1670, 1671, 1672, 1673,\n",
       "       1674, 1675, 1676, 1677, 1678, 1679, 1680, 1681, 1682, 1683, 1684,\n",
       "       1685, 1686, 1687, 1688, 1689, 1690, 1691, 1692, 1693, 1694, 1695,\n",
       "       1696, 1697, 1698, 1699, 1700, 1701, 1702])"
      ]
     },
     "execution_count": 13,
     "metadata": {},
     "output_type": "execute_result"
    }
   ],
   "source": [
    "mol.get(\"serial\",sel=\"water\")"
   ]
  },
  {
   "cell_type": "markdown",
   "metadata": {},
   "source": [
    "Note that, for this molecule, the hydrogens of waters are not present, so we only get one index per water without using the `np.unique`.\n",
    "\n",
    "The number of waters present in the `Molecule` can be obtained with:"
   ]
  },
  {
   "cell_type": "code",
   "execution_count": 14,
   "metadata": {
    "collapsed": false
   },
   "outputs": [
    {
     "data": {
      "text/plain": [
       "62"
      ]
     },
     "execution_count": 14,
     "metadata": {},
     "output_type": "execute_result"
    }
   ],
   "source": [
    "len(mol.get(\"serial\",sel=\"water\"))"
   ]
  },
  {
   "cell_type": "markdown",
   "metadata": {},
   "source": [
    "## Create selections of atoms"
   ]
  },
  {
   "cell_type": "markdown",
   "metadata": {},
   "source": [
    "The `Molecule.atomselect` method returns a vector of boolean values:"
   ]
  },
  {
   "cell_type": "code",
   "execution_count": 15,
   "metadata": {
    "collapsed": false
   },
   "outputs": [
    {
     "data": {
      "text/plain": [
       "array([False, False, False, ...,  True,  True,  True], dtype=bool)"
      ]
     },
     "execution_count": 15,
     "metadata": {},
     "output_type": "execute_result"
    }
   ],
   "source": [
    "mol.atomselect(\"water\")"
   ]
  },
  {
   "cell_type": "markdown",
   "metadata": {},
   "source": [
    "The fact that `True` counts as 1 in the `sum` function can be used to obtain, through a different method, the number of waters:"
   ]
  },
  {
   "cell_type": "code",
   "execution_count": 16,
   "metadata": {
    "collapsed": false
   },
   "outputs": [
    {
     "name": "stdout",
     "output_type": "stream",
     "text": [
      "[False False False ...,  True  True  True]\n"
     ]
    },
    {
     "data": {
      "text/plain": [
       "62"
      ]
     },
     "execution_count": 16,
     "metadata": {},
     "output_type": "execute_result"
    }
   ],
   "source": [
    "selection = mol.atomselect(\"water\")\n",
    "print(selection)\n",
    "sum(selection)"
   ]
  },
  {
   "cell_type": "markdown",
   "metadata": {},
   "source": [
    "## Representations and Visualization"
   ]
  },
  {
   "cell_type": "markdown",
   "metadata": {},
   "source": [
    "The `Molecule` objects can be visualized either in VMD or in NGL, a WebGL javascript molecule viewer that's integrated in the Notebook (see above for viewer configuration)."
   ]
  },
  {
   "cell_type": "code",
   "execution_count": 17,
   "metadata": {
    "collapsed": false
   },
   "outputs": [],
   "source": [
    "mol = Molecule('3PTB')\n",
    "mol.view()"
   ]
  },
  {
   "cell_type": "markdown",
   "metadata": {},
   "source": [
    "It is possible to apply multiple representations to a `Molecule` as in VMD. Representations use the same names as in VMD, even when using the NGL viewer. Important parameters are: **style**, **color**, and **sel**.   \n",
    "\n",
    "There are two ways of applying representations."
   ]
  },
  {
   "cell_type": "markdown",
   "metadata": {},
   "source": [
    "### The \"quick\" or \"transient\" view"
   ]
  },
  {
   "cell_type": "markdown",
   "metadata": {},
   "source": [
    "Use the `Molecule.view` method, specifying the representation as arguments. Use the `hold` parameter so that following `Molecule.view` calls can overlay. Otherwise, representations will be cleared on every call."
   ]
  },
  {
   "cell_type": "code",
   "execution_count": 18,
   "metadata": {
    "collapsed": false
   },
   "outputs": [],
   "source": [
    "mol.view(sel='protein', style='NewCartoon', color='Index', hold=True)\n",
    "mol.view(sel='resname BEN', style='Licorice', color=1)"
   ]
  },
  {
   "cell_type": "markdown",
   "metadata": {},
   "source": [
    "### The \"explicit\" way, for which representations are added to `Molecule.reps`"
   ]
  },
  {
   "cell_type": "markdown",
   "metadata": {},
   "source": [
    "One directly manipulates elements in the `reps` property of `Molecule` objects, with the views being stored in that property."
   ]
  },
  {
   "cell_type": "code",
   "execution_count": 19,
   "metadata": {
    "collapsed": false,
    "scrolled": false
   },
   "outputs": [
    {
     "name": "stdout",
     "output_type": "stream",
     "text": [
      "rep 0: sel='protein', style='NewCartoon', color='Index'\n",
      "rep 1: sel='resname BEN', style='Licorice', color='1'\n",
      "\n"
     ]
    }
   ],
   "source": [
    "mol.reps.remove()   # Clear representations\n",
    "mol.reps.add(sel='protein', style='NewCartoon', color='Index')\n",
    "mol.reps.add(sel='resname BEN', style='Licorice', color=1)\n",
    "print(mol.reps)     # Show list of representations (equivalent to mol.reps.list())\n",
    "mol.view()"
   ]
  },
  {
   "cell_type": "markdown",
   "metadata": {},
   "source": [
    "## Atom selection expressions work as in VMD"
   ]
  },
  {
   "cell_type": "markdown",
   "metadata": {},
   "source": [
    "The following shows the molecule without a $6 Å$ thick slab ($-3 Å \\le x \\le +3 Å$)."
   ]
  },
  {
   "cell_type": "code",
   "execution_count": 20,
   "metadata": {
    "collapsed": false
   },
   "outputs": [],
   "source": [
    "mol.reps.remove() # in order to remove the previouly stored representations\n",
    "mol.view(sel='x*x>9')"
   ]
  },
  {
   "cell_type": "markdown",
   "metadata": {},
   "source": [
    "## Working with trajectories"
   ]
  },
  {
   "cell_type": "markdown",
   "metadata": {},
   "source": [
    "`Molecule` provides wrapping and aligning functionallity for working with MD trajectories and improving the visualization."
   ]
  },
  {
   "cell_type": "code",
   "execution_count": 21,
   "metadata": {
    "collapsed": false
   },
   "outputs": [],
   "source": [
    "# molTraj = Molecule('data/filtered.pdb')\n",
    "# molTraj.read('data/traj.xtc')\n",
    "# molTraj.view()"
   ]
  },
  {
   "cell_type": "markdown",
   "metadata": {},
   "source": [
    "## A realistic case study"
   ]
  },
  {
   "cell_type": "code",
   "execution_count": 22,
   "metadata": {
    "collapsed": true
   },
   "outputs": [],
   "source": [
    "# Load the 'clean' molecule once again\n",
    "mol = Molecule('3PTB')"
   ]
  },
  {
   "cell_type": "code",
   "execution_count": 23,
   "metadata": {
    "collapsed": false
   },
   "outputs": [
    {
     "data": {
      "text/plain": [
       "array([189, 190, 191, 192, 195, 213, 215, 216, 219, 220, 226])"
      ]
     },
     "execution_count": 23,
     "metadata": {},
     "output_type": "execute_result"
    }
   ],
   "source": [
    "# Identify residues in contact with the ligand BEN\n",
    "mol.get(\"resid\", sel=\"name CA and same residue as protein within 4 of resname BEN\")"
   ]
  },
  {
   "cell_type": "markdown",
   "metadata": {},
   "source": [
    "Identify duplicate residues, based on PDB's insertion attribute:"
   ]
  },
  {
   "cell_type": "code",
   "execution_count": 24,
   "metadata": {
    "collapsed": false
   },
   "outputs": [
    {
     "data": {
      "text/plain": [
       "array([184, 188, 221])"
      ]
     },
     "execution_count": 24,
     "metadata": {},
     "output_type": "execute_result"
    }
   ],
   "source": [
    "# The quick way\n",
    "np.unique(mol.get('resid', sel='insertion A'))"
   ]
  },
  {
   "cell_type": "code",
   "execution_count": 25,
   "metadata": {
    "collapsed": false
   },
   "outputs": [
    {
     "name": "stdout",
     "output_type": "stream",
     "text": [
      "2016-04-11 20:18:41,420 - htmd.molecule.molecule - INFO - Removed 1698 atoms. 3 atoms remaining in the molecule.\n",
      "GLY 184\n",
      "GLY 188\n",
      "ALA 221\n"
     ]
    }
   ],
   "source": [
    "# Same operation, more explicit steps and pretty-print\n",
    "ia = mol.copy()\n",
    "ia.filter(\"insertion A and name CA\")\n",
    "rid = ia.get('resid') # ia.resid also works!\n",
    "rn = ia.get('resname')\n",
    "\n",
    "for f, b in zip(rn, rid):\n",
    "    print(f, b)"
   ]
  },
  {
   "cell_type": "code",
   "execution_count": 26,
   "metadata": {
    "collapsed": false
   },
   "outputs": [
    {
     "name": "stdout",
     "output_type": "stream",
     "text": [
      "2016-04-11 20:18:41,458 - htmd.molecule.molecule - INFO - Removed 1478 atoms. 223 atoms remaining in the molecule.\n"
     ]
    },
    {
     "data": {
      "text/plain": [
       "array([184, 188, 221])"
      ]
     },
     "execution_count": 26,
     "metadata": {},
     "output_type": "execute_result"
    }
   ],
   "source": [
    "# Or, if one doesn't want to rely on the attribute\n",
    "dups = mol.copy()\n",
    "dups.filter(\"name CA and protein\")\n",
    "rid = dups.get('resid')\n",
    "\n",
    "nrid, count= np.unique(rid,return_counts=True)\n",
    "nrid[count>1]"
   ]
  },
  {
   "cell_type": "code",
   "execution_count": 27,
   "metadata": {
    "collapsed": false,
    "scrolled": false
   },
   "outputs": [
    {
     "data": {
      "text/plain": [
       "array([1, 1, 1, 1, 1, 1, 1, 1, 1, 1, 1, 1, 1, 1, 1, 1, 1, 1, 1, 1, 1, 1, 1,\n",
       "       1, 1, 1, 1, 1, 1, 1, 1, 1, 1, 1, 1, 1, 1, 1, 1, 1, 1, 1, 1, 1, 1, 1,\n",
       "       1, 1, 1, 1, 1, 1, 1, 1, 1, 1, 1, 1, 1, 1, 1, 1, 1, 1, 1, 1, 1, 1, 1,\n",
       "       1, 1, 1, 1, 1, 1, 1, 1, 1, 1, 1, 1, 1, 1, 1, 1, 1, 1, 1, 1, 1, 1, 1,\n",
       "       1, 1, 1, 1, 1, 1, 1, 1, 1, 1, 1, 1, 1, 1, 1, 1, 1, 1, 1, 1, 1, 1, 1,\n",
       "       1, 1, 1, 1, 1, 1, 1, 1, 1, 1, 1, 1, 1, 1, 1, 1, 1, 1, 1, 1, 1, 1, 1,\n",
       "       1, 1, 1, 1, 1, 1, 1, 1, 1, 1, 1, 1, 1, 1, 1, 1, 1, 1, 1, 1, 1, 1, 1,\n",
       "       1, 1, 2, 1, 1, 1, 2, 1, 1, 1, 1, 1, 1, 1, 1, 1, 1, 1, 1, 1, 1, 1, 1,\n",
       "       1, 1, 1, 1, 1, 1, 1, 1, 1, 1, 1, 2, 1, 1, 1, 1, 1, 1, 1, 1, 1, 1, 1,\n",
       "       1, 1, 1, 1, 1, 1, 1, 1, 1, 1, 1, 1, 1])"
      ]
     },
     "execution_count": 27,
     "metadata": {},
     "output_type": "execute_result"
    }
   ],
   "source": [
    "count"
   ]
  },
  {
   "cell_type": "code",
   "execution_count": 28,
   "metadata": {
    "collapsed": false
   },
   "outputs": [
    {
     "name": "stdout",
     "output_type": "stream",
     "text": [
      "2016-04-11 20:18:41,508 - htmd.molecule.molecule - INFO - Removed 1478 atoms. 223 atoms remaining in the molecule.\n",
      "[1 1 1 1 1 1 1 1 1 1 1 1 1 1 1 1 1 1 3 1 1 1 1 1 1 1 1 1 1 1 1 1 1 1 1 1 1\n",
      " 1 1 1 1 1 1 1 1 1 1 1 1 2 1 1 1 1 1 1 1 1 1 1 1 1 1 1 1 1 1 1 1 1 1 1 1 1\n",
      " 1 1 1 1 1 1 1 1 1 1 1 1 1 1 1 1 1 1 1 1 1 1 1 1 1 1 1 1 1 1 1 1 2 1 1 1 2\n",
      " 1 1 1 1 1 1 1 1 1 1 1 1 1 1 1 1 1 1 1 1 1 1 1 1 1 1 1 1 1 1 1 1 1 1 1 1 1\n",
      " 1 1 1 1 1 1 1 1 1 1 1 1 1 1 1 0 1 1 1 1 0 1 1 1 1 1 1 1 1 1 1 1 1 1 1 1 1\n",
      " 5 1 1 1 1 1 1 1 1 2 1 1 0 1 1 1 1 1 1 1 1 1 1 1 1 1 1 1 1 1 1 1 1 1 1 1 1]\n"
     ]
    },
    {
     "data": {
      "text/plain": [
       "array([ 34,  67, 125, 130, 184, 188, 204, 217, 221])"
      ]
     },
     "execution_count": 28,
     "metadata": {},
     "output_type": "execute_result"
    }
   ],
   "source": [
    "# Check whether there are \"(numeric) holes\" in the sequence using residue IDs\n",
    "ch = mol.copy()\n",
    "ch.filter(\"name CA and protein\")\n",
    "rid = ch.get('resid')\n",
    "rn = ch.get('resname')\n",
    "\n",
    "# array with the \"holes\" - 0 means duplicate residues; >1 means segments of protein missing\n",
    "deltas = np.diff(rid)\n",
    "print(deltas)\n",
    "\n",
    "# print residue IDs at which the holes (including duplicate residues) occur\n",
    "new_rid = rid[:np.size(rid)-1] # last residue difference not present in deltas array\n",
    "new_rid[deltas!=1]"
   ]
  },
  {
   "cell_type": "code",
   "execution_count": 29,
   "metadata": {
    "collapsed": false
   },
   "outputs": [
    {
     "name": "stdout",
     "output_type": "stream",
     "text": [
      "34 ASN  followed by  37 SER\n",
      "67 LEU  followed by  69 GLY\n",
      "125 THR  followed by  127 SER\n",
      "130 SER  followed by  132 ALA\n",
      "204 LYS  followed by  209 LEU\n",
      "217 SER  followed by  219 GLY\n"
     ]
    }
   ],
   "source": [
    "# Pretty-print, more explicit\n",
    "\n",
    "# Iterate over all residues (excluding last one)\n",
    "for i in range(np.size(rid)-1):\n",
    "    # If there is a break...\n",
    "    if(deltas[i]>1):\n",
    "        # Remember that deltas[i]=rid[i+1]-rid[i]\n",
    "        print(rid[i],rn[i],' followed by ',rid[i+1],rn[i+1])"
   ]
  }
 ],
 "metadata": {
  "kernelspec": {
   "display_name": "Python 3",
   "language": "python",
   "name": "python3"
  },
  "language_info": {
   "codemirror_mode": {
    "name": "ipython",
    "version": 3
   },
   "file_extension": ".py",
   "mimetype": "text/x-python",
   "name": "python",
   "nbconvert_exporter": "python",
   "pygments_lexer": "ipython3",
   "version": "3.5.1"
  }
 },
 "nbformat": 4,
 "nbformat_minor": 0
}
