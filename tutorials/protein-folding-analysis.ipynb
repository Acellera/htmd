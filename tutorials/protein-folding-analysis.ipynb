{
 "cells": [
  {
   "cell_type": "markdown",
   "metadata": {},
   "source": [
    "# Example MSM for a protein folding process"
   ]
  },
  {
   "cell_type": "markdown",
   "metadata": {},
   "source": [
    "by Stefan Doerr"
   ]
  },
  {
   "cell_type": "markdown",
   "metadata": {},
   "source": [
    "We demonstrate how to use the HTMD code for analysing a protein folding process in the case of the protein Villin.\n",
    "\n",
    "You can download the data and analysis file from the following links:\n",
    "\n",
    "* [Datasets](http://pub.htmd.org/kcjlb6b8c7v6djhb/datasets.tar.gz). Warning: 3GB filesize.\n",
    "* [Analysis script](./protein-folding.py)."
   ]
  },
  {
   "cell_type": "markdown",
   "metadata": {},
   "source": [
    "## Getting started\n",
    "\n",
    "First we import the modules we are going to need for the tutorial"
   ]
  },
  {
   "cell_type": "code",
   "execution_count": 1,
   "metadata": {
    "collapsed": false
   },
   "outputs": [
    {
     "name": "stdout",
     "output_type": "stream",
     "text": [
      "Populating the interactive namespace from numpy and matplotlib\n",
      "Videos from the HTMD2015 workshops are available on the Acellera youtube channel: https://www.youtube.com/user/acelleralive\n",
      "\n",
      "You are on the latest HTMD version (unpackaged).\n"
     ]
    }
   ],
   "source": [
    "%pylab inline\n",
    "from htmd import *"
   ]
  },
  {
   "cell_type": "markdown",
   "metadata": {},
   "source": [
    "## Creating a simulation list\n",
    "\n",
    "For the purposes of an analysis, full atom information is required by HTMD. Therefore each simulation trajectory has to be associated with a corresponding PDB file. Additionally, if you plan to run adaptive, each trajectory needs to be associated with an input directory which contains the files used to run the simulations. The simList function allows us to make these associations\n",
    "\n",
    "    sims = simlist(glob('data/*/'), glob('input/*/structure.pdb'), glob('input/*/'))"
   ]
  },
  {
   "cell_type": "markdown",
   "metadata": {},
   "source": [
    "## Filtering trajectories\n",
    "\n",
    "Typically waters are removed from the trajectories as they are not used in the analysis and it helps speed up further calculations. These filtered trajectories are written into a new directory. The advantage of filtering is that if your input structures only differ in the number of water molecules, you can produce a single unique pdb file for all simulations once you remove the waters, which will speed up calculations. This step is not necessary for the analysis and you can skip it if you don't mind the slowdown in calculations. In that case replace in the following commands the fsims variable with sims.\n",
    "\n",
    "    fsims = simfilter(sims, './filtered/', filtersel='not water')"
   ]
  },
  {
   "cell_type": "markdown",
   "metadata": {},
   "source": [
    "In this tutorial due to space limitations we provide only the filtered trajectories which are stored in three separate dataset folders. Therefore we will skip the above two commands and construct the simulation list directly from the filtered trajectories."
   ]
  },
  {
   "cell_type": "code",
   "execution_count": 2,
   "metadata": {
    "collapsed": false
   },
   "outputs": [
    {
     "name": "stdout",
     "output_type": "stream",
     "text": [
      "2016-02-25 15:09:33,806 - htmd.simlist - INFO - Starting listing of simulations.\n",
      "Creating simlist: 100% (719/719) [#################################] eta 00:01 /\n",
      "2016-02-25 15:09:35,494 - htmd.simlist - INFO - Finished listing of simulations.\n",
      "2016-02-25 15:09:35,967 - htmd.simlist - INFO - Starting listing of simulations.\n",
      "Creating simlist: 100% (710/710) [#################################] eta 00:01 -\n",
      "2016-02-25 15:09:37,775 - htmd.simlist - INFO - Finished listing of simulations.\n",
      "2016-02-25 15:09:38,225 - htmd.simlist - INFO - Starting listing of simulations.\n",
      "Creating simlist: 100% (708/708) [#################################] eta 00:00 -\n",
      "2016-02-25 15:09:39,660 - htmd.simlist - INFO - Finished listing of simulations.\n"
     ]
    }
   ],
   "source": [
    "os.chdir('/webdata/kcjlb6b8c7v6djhb/')\n",
    "sets = glob('datasets/*/')\n",
    "sims = []\n",
    "for s in sets:\n",
    "    fsims = simlist(glob(s + '/filtered/*/'), 'datasets/1/filtered/filtered.pdb')\n",
    "    sims = simmerge(sims, fsims)"
   ]
  },
  {
   "cell_type": "markdown",
   "metadata": {},
   "source": [
    "## Calculating metrics\n",
    "\n",
    "To build a Markov state model we need to project the atom coordinates onto a lower dimensional space which can be used for clustering the conformations into a set of states. For protein-ligand binding systems we typically use the binary contact map between one or more atoms of the ligand with the carbon alpha atoms of the protein. Here we have selected to use the atoms C7 and C4 of Benzamidine and all carbon alpha atoms of the protein. This will calculate contacts between all atoms of the two sets."
   ]
  },
  {
   "cell_type": "code",
   "execution_count": 3,
   "metadata": {
    "collapsed": false
   },
   "outputs": [
    {
     "name": "stdout",
     "output_type": "stream",
     "text": [
      "2016-02-25 15:09:39,717 - htmd.projections.metric - INFO - Metric: Starting projection of trajectories.\n"
     ]
    },
    {
     "name": "stderr",
     "output_type": "stream",
     "text": [
      "[Parallel(n_jobs=-2)]: Done   1 out of 2137 | elapsed:    0.4s remaining: 12.8min\n",
      "[Parallel(n_jobs=-2)]: Done 189 out of 2137 | elapsed:    8.9s remaining:  1.5min\n",
      "[Parallel(n_jobs=-2)]: Done 384 out of 2137 | elapsed:   16.7s remaining:  1.3min\n",
      "[Parallel(n_jobs=-2)]: Done 579 out of 2137 | elapsed:   24.0s remaining:  1.1min\n",
      "[Parallel(n_jobs=-2)]: Done 774 out of 2137 | elapsed:   32.3s remaining:   56.9s\n",
      "[Parallel(n_jobs=-2)]: Done 969 out of 2137 | elapsed:   41.3s remaining:   49.8s\n",
      "[Parallel(n_jobs=-2)]: Done 1164 out of 2137 | elapsed:   50.7s remaining:   42.4s\n",
      "[Parallel(n_jobs=-2)]: Done 1359 out of 2137 | elapsed:   57.7s remaining:   33.0s\n",
      "[Parallel(n_jobs=-2)]: Done 1554 out of 2137 | elapsed:  1.1min remaining:   25.0s\n",
      "[Parallel(n_jobs=-2)]: Done 1749 out of 2137 | elapsed:  1.2min remaining:   16.5s\n",
      "[Parallel(n_jobs=-2)]: Done 1944 out of 2137 | elapsed:  1.4min remaining:    8.1s\n",
      "[Parallel(n_jobs=-2)]: Done 2137 out of 2137 | elapsed:  1.5min finished\n"
     ]
    },
    {
     "name": "stdout",
     "output_type": "stream",
     "text": [
      "2016-02-25 15:11:11,335 - htmd.projections.metric - INFO - Finished projecting the trajectories.\n",
      "2016-02-25 15:11:11,336 - htmd.projections.metric - WARNING - Multiple framesteps were read from the simulations. Taking the statistical mode: 0.1ns. If it looks wrong, you can modify it by manually setting the MetricData.fstep property.\n"
     ]
    }
   ],
   "source": [
    "metr = Metric(sims)\n",
    "metr.projection(MetricSelfDistance('protein and name CA', metric='contacts'))\n",
    "data = metr.project()"
   ]
  },
  {
   "cell_type": "markdown",
   "metadata": {},
   "source": [
    "Here we provide the frame-step in nanoseconds i.e. the time that passes between two consecutive frames in a trajectory. This is automatically read from the trajectories, however not all trajectories contain the correct fstep so it can be useful to manually define it like here."
   ]
  },
  {
   "cell_type": "code",
   "execution_count": 4,
   "metadata": {
    "collapsed": true
   },
   "outputs": [],
   "source": [
    "data.fstep = 0.1"
   ]
  },
  {
   "cell_type": "markdown",
   "metadata": {},
   "source": [
    "## Removing trajectories\n",
    "\n",
    "Sometimes the set of trajectories can contain trajectories of incorrect length. These are typically corrupted trajectories and are removed.\n",
    "\n",
    "plotTrajSizes plots all trajectory lengths sorted"
   ]
  },
  {
   "cell_type": "code",
   "execution_count": 5,
   "metadata": {
    "collapsed": false
   },
   "outputs": [
    {
     "data": {
      "image/png": "[encoded data removed]",
      "text/plain": [
       "<matplotlib.figure.Figure at 0x7f72cd5e7630>"
      ]
     },
     "metadata": {},
     "output_type": "display_data"
    }
   ],
   "source": [
    "data.plotTrajSizes()"
   ]
  },
  {
   "cell_type": "markdown",
   "metadata": {},
   "source": [
    "dropTraj has multiple options for removing simulations from the dataset. Here we use it to remove all trajectories whose length is not equal to the mode length. "
   ]
  },
  {
   "cell_type": "code",
   "execution_count": 6,
   "metadata": {
    "collapsed": false
   },
   "outputs": [
    {
     "name": "stdout",
     "output_type": "stream",
     "text": [
      "2016-02-25 15:11:17,128 - htmd.metricdata - INFO - Dropped 7 trajectories from 2137 resulting in 2130\n"
     ]
    },
    {
     "data": {
      "text/plain": [
       "array([  89,  183,  682,  693,  720, 1597, 1901])"
      ]
     },
     "execution_count": 6,
     "metadata": {},
     "output_type": "execute_result"
    }
   ],
   "source": [
    "data.dropTraj()"
   ]
  },
  {
   "cell_type": "markdown",
   "metadata": {},
   "source": [
    "## TICA\n",
    "\n",
    "TICA is a method that can be used to improve the clustering of the conformations. This is done by projecting the data onto a lower-dimensional space which separates well the metastable minima and places clusters on the transition regions. "
   ]
  },
  {
   "cell_type": "code",
   "execution_count": 7,
   "metadata": {
    "collapsed": false
   },
   "outputs": [],
   "source": [
    "tica = TICA(data, 20)\n",
    "dataTica = tica.project(3)"
   ]
  },
  {
   "cell_type": "markdown",
   "metadata": {},
   "source": [
    "## Bootstrapping\n",
    "\n",
    "If we want to bootstrap our calculations we can at this point drop a random 20% of the trajectories and do the rest of the analysis multiple times to see if the results are consistent. Alternatively we can keep on using dataTica in the following commands. "
   ]
  },
  {
   "cell_type": "code",
   "execution_count": 8,
   "metadata": {
    "collapsed": true
   },
   "outputs": [],
   "source": [
    "dataBoot = dataTica.bootstrap(0.8)"
   ]
  },
  {
   "cell_type": "markdown",
   "metadata": {},
   "source": [
    "## Clustering conformations\n",
    "\n",
    "Once we have cleaned the dataset we proceed to cluster the conformations.\n",
    "\n",
    "Here we use the mini-batch kmeans clustering algorithm to procude 1000 clusters. Clusters containing fewer than 5 conformations will get merged into their next neighbour with more than 5 conformations. "
   ]
  },
  {
   "cell_type": "code",
   "execution_count": 9,
   "metadata": {
    "collapsed": false
   },
   "outputs": [
    {
     "name": "stdout",
     "output_type": "stream",
     "text": [
      "2016-02-25 15:12:26,905 - htmd.metricdata - INFO - Mergesmall removed 0 clusters. Original ncluster 988, new ncluster 988.\n"
     ]
    },
    {
     "name": "stderr",
     "output_type": "stream",
     "text": [
      "/shared/sdoerr/Software/anaconda3/lib/python3.4/site-packages/sklearn/cluster/k_means_.py:1273: RuntimeWarning: init_size=300 should be larger than k=1000. Setting it to 3*k\n",
      "  init_size=init_size)\n"
     ]
    }
   ],
   "source": [
    "dataBoot.cluster(MiniBatchKMeans(n_clusters=1000), mergesmall=5)"
   ]
  },
  {
   "cell_type": "markdown",
   "metadata": {},
   "source": [
    "## Building the Markov model\n",
    "\n",
    "After clustering it is time to build the Markov model."
   ]
  },
  {
   "cell_type": "code",
   "execution_count": 10,
   "metadata": {
    "collapsed": true
   },
   "outputs": [],
   "source": [
    "model = Model(dataBoot)"
   ]
  },
  {
   "cell_type": "markdown",
   "metadata": {},
   "source": [
    "Before constructing the Markov model we need to choose the lag-time at which it will be built. The lag-time is typically chosen by looking at the implied timescale (ITS) plot and selecting a lag-time at which the top timescales start converging. By constructing Markov models at various lag times HTMD creates a plot which shows the slowest implied timescales of each Markov model at various lag times. If a model is Markovian at a specific lag time, the implied timescales should stay unchanged for any higher lag times. Therefore, given an implied timescales plot, the user can monitor the convergence and choose the lag time at which to construct his Markov model, typically the Markov time which is the shortest lag time at which the timescales converge. Too large lag times can reduce the temporal resolution of the Markov model and can create more statistical uncertainty due to fewer transition counts and thus instability in the implied timescales. "
   ]
  },
  {
   "cell_type": "code",
   "execution_count": 11,
   "metadata": {
    "collapsed": false
   },
   "outputs": [
    {
     "name": "stdout",
     "output_type": "stream",
     "text": [
      "25-02-16 15:13:18 pyemma.msm.estimators.implied_timescales.ImpliedTimescales[1] WARNING  Some timescales could not be computed. Timescales array is smaller than expected or contains NaNs\n"
     ]
    },
    {
     "name": "stderr",
     "output_type": "stream",
     "text": [
      "/shared/sdoerr/Software/anaconda3/lib/python3.4/site-packages/matplotlib/scale.py:101: RuntimeWarning: invalid value encountered in less_equal\n",
      "  a[a <= 0.0] = 1e-300\n"
     ]
    },
    {
     "data": {
      "image/png": "[encoded data removed]",
      "text/plain": [
       "<matplotlib.figure.Figure at 0x7f72a53d6390>"
      ]
     },
     "metadata": {},
     "output_type": "display_data"
    }
   ],
   "source": [
    "model.plotTimescales()"
   ]
  },
  {
   "cell_type": "markdown",
   "metadata": {},
   "source": [
    "After seeing the ITS plot we decide on a lag-time of 200 frames (20ns). Additionally the ITS plot showed us that there is a separation between 4 slow timescales and the rest of the timescales which are fast. Therefore we choose to lump our microstates together into 5 macrostates. "
   ]
  },
  {
   "cell_type": "code",
   "execution_count": 12,
   "metadata": {
    "collapsed": false
   },
   "outputs": [
    {
     "name": "stdout",
     "output_type": "stream",
     "text": [
      "2016-02-25 15:13:29,407 - htmd.model - INFO - 100.0% of the data was used\n",
      "2016-02-25 15:13:29,918 - htmd.model - INFO - Number of trajectories that visited each macrostate:\n",
      "2016-02-25 15:13:29,919 - htmd.model - INFO - [ 108   39 1659  383   80]\n"
     ]
    }
   ],
   "source": [
    "model.markovModel(200, 5)"
   ]
  },
  {
   "cell_type": "markdown",
   "metadata": {},
   "source": [
    "We can also visualize the equilibrium populations of each macrostate using the following command"
   ]
  },
  {
   "cell_type": "code",
   "execution_count": 13,
   "metadata": {
    "collapsed": false
   },
   "outputs": [
    {
     "data": {
      "image/png": "[encoded data removed]",
      "text/plain": [
       "<matplotlib.figure.Figure at 0x7f7257b32cc0>"
      ]
     },
     "metadata": {},
     "output_type": "display_data"
    },
    {
     "data": {
      "text/plain": [
       "array([  9.00269552e-04,   3.22692368e-04,   8.14469876e-01,\n",
       "         8.43986143e-02,   9.99085483e-02])"
      ]
     },
     "execution_count": 13,
     "metadata": {},
     "output_type": "execute_result"
    }
   ],
   "source": [
    "model.eqDistribution()"
   ]
  },
  {
   "cell_type": "markdown",
   "metadata": {},
   "source": [
    "## Visualizing the states\n",
    "\n",
    "To see what the states look like we use a Matlab integration of VMD. We load the 3 macrostates and add a ligand representation using the ligand atomselection. "
   ]
  },
  {
   "cell_type": "code",
   "execution_count": 14,
   "metadata": {
    "collapsed": false
   },
   "outputs": [
    {
     "name": "stderr",
     "output_type": "stream",
     "text": [
      "[Parallel(n_jobs=1)]: Done   1 jobs       | elapsed:    5.6s\n",
      "[Parallel(n_jobs=1)]: Done   2 jobs       | elapsed:    6.4s\n",
      "[Parallel(n_jobs=1)]: Done   3 jobs       | elapsed:    7.8s\n",
      "[Parallel(n_jobs=1)]: Done   4 jobs       | elapsed:    8.6s\n",
      "[Parallel(n_jobs=1)]: Done   5 jobs       | elapsed:    9.4s\n",
      "[Parallel(n_jobs=1)]: Done   5 out of   5 | elapsed:    9.4s finished\n"
     ]
    }
   ],
   "source": [
    "model.viewStates(protein=True)"
   ]
  },
  {
   "cell_type": "markdown",
   "metadata": {},
   "source": [
    "## Calculating the kinetics\n",
    "\n",
    "One of the major advantages of Markov state models is that they can provide quantitative results about the kinetics between states.\n",
    "\n",
    "Provide the Kinetics constructor with the system temperature. It automatically then calculates the source and sink states. "
   ]
  },
  {
   "cell_type": "code",
   "execution_count": 15,
   "metadata": {
    "collapsed": false
   },
   "outputs": [
    {
     "name": "stdout",
     "output_type": "stream",
     "text": [
      "2016-02-25 15:13:46,064 - htmd.kinetics - INFO - Detecting source state...\n",
      "2016-02-25 15:13:46,999 - htmd.kinetics - INFO - Guessing the source state as the state with minimum contacts.\n",
      "2016-02-25 15:13:46,999 - htmd.kinetics - INFO - Source macro = 2\n",
      "2016-02-25 15:13:47,000 - htmd.kinetics - INFO - Detecting sink state...\n",
      "2016-02-25 15:13:47,001 - htmd.kinetics - INFO - Sink macro = 4\n",
      "2\n",
      "4\n"
     ]
    }
   ],
   "source": [
    "kin = Kinetics(model, temperature=360)\n",
    "print(kin.source)\n",
    "print(kin.sink)"
   ]
  },
  {
   "cell_type": "markdown",
   "metadata": {},
   "source": [
    "To see the rates between the source and sink states we use the getRates method."
   ]
  },
  {
   "cell_type": "code",
   "execution_count": 16,
   "metadata": {
    "collapsed": false
   },
   "outputs": [
    {
     "name": "stdout",
     "output_type": "stream",
     "text": [
      "2016-02-25 15:13:47,006 - htmd.kinetics - INFO - Calculating rates between source: 2 and sink: 4 states.\n",
      "mfpton = 2.19E+03 (ns)\n",
      "mfptoff = 2.21E+02 (ns)\n",
      "kon = 4.56E+05 (1/M 1/s)\n",
      "koff = 4.54E+06 (1/s)\n",
      "koff/kon = 9.95E+00 (M)\n",
      "kdeq = 8.15E+00 (M)\n",
      "g0eq = 1.50 (kcal/mol)\n",
      "\n"
     ]
    }
   ],
   "source": [
    "r = kin.getRates()\n",
    "print(r)"
   ]
  },
  {
   "cell_type": "markdown",
   "metadata": {},
   "source": [
    "To plot the free energies and mean first passage times of all state use the `plotRates()` method."
   ]
  },
  {
   "cell_type": "code",
   "execution_count": 17,
   "metadata": {
    "collapsed": false
   },
   "outputs": [
    {
     "name": "stdout",
     "output_type": "stream",
     "text": [
      "2016-02-25 15:13:47,116 - htmd.kinetics - INFO - Calculating rates between source: 2 and sink: 0 states.\n",
      "2016-02-25 15:13:47,223 - htmd.kinetics - INFO - Calculating rates between source: 2 and sink: 1 states.\n",
      "2016-02-25 15:13:47,331 - htmd.kinetics - INFO - Calculating rates between source: 2 and sink: 3 states.\n",
      "2016-02-25 15:13:47,444 - htmd.kinetics - INFO - Calculating rates between source: 2 and sink: 4 states.\n"
     ]
    },
    {
     "data": {
      "image/png": "[encoded data removed]",
      "text/plain": [
       "<matplotlib.figure.Figure at 0x7f725739c5c0>"
      ]
     },
     "metadata": {},
     "output_type": "display_data"
    },
    {
     "data": {
      "image/png": "[encoded data removed]",
      "text/plain": [
       "<matplotlib.figure.Figure at 0x7f729eee7978>"
      ]
     },
     "metadata": {},
     "output_type": "display_data"
    },
    {
     "data": {
      "image/png": "[encoded data removed]",
      "text/plain": [
       "<matplotlib.figure.Figure at 0x7f729eed9198>"
      ]
     },
     "metadata": {},
     "output_type": "display_data"
    }
   ],
   "source": [
    "kin.plotRates()"
   ]
  },
  {
   "cell_type": "code",
   "execution_count": 18,
   "metadata": {
    "collapsed": false
   },
   "outputs": [
    {
     "name": "stdout",
     "output_type": "stream",
     "text": [
      "Path flux\t\t%path\t%of total\tpath\n",
      "0.010175403883514487\t100.0%\t100.0%\t\t[2 4]\n",
      "3.1813419479578365e-06\t0.0%\t100.0%\t\t[2 3 4]\n",
      "1.8313347228110152e-10\t0.0%\t100.0%\t\t[2 1 3 4]\n",
      "5.834659826955252e-11\t0.0%\t100.0%\t\t[2 0 3 4]\n"
     ]
    },
    {
     "data": {
      "image/png": "[encoded data removed]",
      "text/plain": [
       "<matplotlib.figure.Figure at 0x7f7257384c18>"
      ]
     },
     "metadata": {},
     "output_type": "display_data"
    }
   ],
   "source": [
    "kin.plotFluxPathways()"
   ]
  }
 ],
 "metadata": {
  "kernelspec": {
   "display_name": "Python 3",
   "language": "python",
   "name": "python3"
  },
  "language_info": {
   "codemirror_mode": {
    "name": "ipython",
    "version": 3
   },
   "file_extension": ".py",
   "mimetype": "text/x-python",
   "name": "python",
   "nbconvert_exporter": "python",
   "pygments_lexer": "ipython3",
   "version": "3.4.4"
  }
 },
 "nbformat": 4,
 "nbformat_minor": 0
}
