{
 "cells": [
  {
   "cell_type": "markdown",
   "metadata": {
    "slideshow": {
     "slide_type": "slide"
    }
   },
   "source": [
    "# Getting started with HTMD Molecules\n",
    "\n",
    "Assuming that you have already downloaded and installed **HTMD**, this tutorial introduces you to the software, specially into the `Molecule` class, whose features serve as a good introduction for the more complex features of HTMD.\n",
    "\n",
    "Let's get started! The first thing you will have to get familiar with in HTMD is the [Molecule](https://www.htmd.org/docs/latest/htmd.molecule.molecule.html) class.\n",
    "Objects of this class are meant to *store structural information on molecules*.\n",
    "Despite it's name, a `Molecule` object does not only contain a single molecule. \n",
    "Instead, similar to [VMD](http://www.ks.uiuc.edu/Research/vmd/) (a visualization software we also use in HTMD), a `Molecule` object can also contain a whole system including water, ions, proteins, ligands, lipids etc. \n",
    "So think of it as a container of structural information.\n",
    "\n",
    "First, we need to import HTMD, so that any class and function defined by HTMD is available in the workspace:"
   ]
  },
  {
   "cell_type": "code",
   "execution_count": 1,
   "metadata": {
    "collapsed": false
   },
   "outputs": [
    {
     "name": "stdout",
     "output_type": "stream",
     "text": [
      "Videos from the HTMD2015 workshops are available on the Acellera youtube channel: https://www.youtube.com/user/acelleralive\n",
      "\n",
      "You are on the latest HTMD version (unpackaged).\n"
     ]
    }
   ],
   "source": [
    "from htmd import *"
   ]
  },
  {
   "cell_type": "markdown",
   "metadata": {},
   "source": [
    "## Reading files\n",
    "\n",
    "The [Molecule](https://www.htmd.org/docs/latest/htmd.molecule.molecule.html) class provides file readers for various structure formats like PDB, PRMTOP, PSF, GRO, MOL2, MAE and more. It is also able to read various MD trajectory and coordinate formats including XTC, DCD, COOR, CRD, TRR, XYZ etc. If in doubt just try to read a file and it will tell you if it is able to read the given format. \n",
    "The method for reading files is [Molecule.read()](https://www.htmd.org/docs/latest/htmd.molecule.molecule.html#htmd.molecule.molecule.Molecule.read), however you can also specify the file name in the class constructor and it will automatically call `read()`.\n",
    "Let's see an example."
   ]
  },
  {
   "cell_type": "code",
   "execution_count": null,
   "metadata": {
    "collapsed": true
   },
   "outputs": [],
   "source": [
    "mol = Molecule('3PTB')  # This downloads a PDB file directly from the RCSB server"
   ]
  },
  {
   "cell_type": "markdown",
   "metadata": {},
   "source": [
    "or just use a local file:\n",
    "\n",
    "    mol = Molecule('yourprotein.pdb')"
   ]
  },
  {
   "cell_type": "markdown",
   "metadata": {},
   "source": [
    "PDB files contain both atom information and coordinates. Some other formats separate the atom information from the coordinates. \n",
    "In that case you can start for example by reading atom information from a PSF file and then read atom coordinates using the `read` method of `Molecule` as in the next example.\n",
    "You could also read them in reverse order, creating the `Molecule` using the XTC and then reading the PSF (it would not matter).\n",
    "\n",
    "    mol = Molecule('yourstructure.psf')\n",
    "    mol.read('yourtrajectory.xtc')"
   ]
  },
  {
   "cell_type": "markdown",
   "metadata": {
    "ExecuteTime": {
     "end_time": "2016-10-10T13:53:29.811236",
     "start_time": "2016-10-10T13:53:29.806944"
    }
   },
   "source": [
    "## Writing files\n",
    "\n",
    "The `Molecule` class also provides file writers for multiple formats using the [Molecule.write()](https://www.htmd.org/docs/latest/htmd.molecule.molecule.html#htmd.molecule.molecule.Molecule.write) method.\n",
    "\n",
    "    mol.write('yourtrajectory.dcd')\n",
    "    mol.write('yourstructure.prmtop')"
   ]
  },
  {
   "cell_type": "markdown",
   "metadata": {
    "slideshow": {
     "slide_type": "slide"
    }
   },
   "source": [
    "## Looking inside a Molecule"
   ]
  },
  {
   "cell_type": "markdown",
   "metadata": {
    "slideshow": {
     "slide_type": "-"
    }
   },
   "source": [
    "Printing the `Molecule` object shows its properties:"
   ]
  },
  {
   "cell_type": "code",
   "execution_count": 3,
   "metadata": {
    "collapsed": false,
    "slideshow": {
     "slide_type": "-"
    }
   },
   "outputs": [
    {
     "name": "stdout",
     "output_type": "stream",
     "text": [
      "Molecule with 1701 atoms and 1 frames\n",
      "PDB field - altloc shape: (1701,)\n",
      "PDB field - beta shape: (1701,)\n",
      "PDB field - chain shape: (1701,)\n",
      "PDB field - charge shape: (1701,)\n",
      "PDB field - coords shape: (1701, 3, 1)\n",
      "PDB field - element shape: (1701,)\n",
      "PDB field - insertion shape: (1701,)\n",
      "PDB field - name shape: (1701,)\n",
      "PDB field - occupancy shape: (1701,)\n",
      "PDB field - record shape: (1701,)\n",
      "PDB field - resid shape: (1701,)\n",
      "PDB field - resname shape: (1701,)\n",
      "PDB field - segid shape: (1701,)\n",
      "PDB field - serial shape: (1701,)\n",
      "bonds shape: (42, 2)\n",
      "box shape: (3, 1)\n",
      "fileloc shape: (1, 2)\n",
      "frame: 0\n",
      "masses shape: (1701,)\n",
      "reps: \n",
      "ssbonds shape: (0,)\n",
      "step shape: (0,)\n",
      "time shape: (0,)\n",
      "topoloc: /home/toni/work/htmd/htmd/tutorials/3PTB\n",
      "viewname: 3PTB\n"
     ]
    }
   ],
   "source": [
    "print(mol)"
   ]
  },
  {
   "cell_type": "markdown",
   "metadata": {
    "slideshow": {
     "slide_type": "slide"
    }
   },
   "source": [
    "## Properties and methods of `Molecule` objects"
   ]
  },
  {
   "cell_type": "markdown",
   "metadata": {},
   "source": [
    "Each `Molecule` object has a number of **properties** (data associated to the molecule) and **methods** (operations that you can perform on the molecule). Some of the properties correspond to data which is usually found in PDB files.\n",
    "\n",
    "| Properties |Methods      |\n",
    "|:----------:|:-----------:|\n",
    "|record      |read( )      |\n",
    "|serial      |write( )     |\n",
    "|name        |get( )       |\n",
    "|resname     |set( )       |\n",
    "|chain       |atomselect( )|\n",
    "|resid       |copy( )      |\n",
    "|segid       |filter( )    |\n",
    "|coords      |append( )    |\n",
    "|box         |insert( )    |\n",
    "|reps        |view( )      |\n",
    "|...         |moveBy( )    |\n",
    "|            |rotateBy( )  |\n",
    "|            |...          |"
   ]
  },
  {
   "cell_type": "markdown",
   "metadata": {
    "slideshow": {
     "slide_type": "slide"
    }
   },
   "source": [
    "Properties can be accessed,\n",
    "\n",
    "* either directly:"
   ]
  },
  {
   "cell_type": "code",
   "execution_count": 4,
   "metadata": {
    "collapsed": false
   },
   "outputs": [
    {
     "data": {
      "text/plain": [
       "array([   1,    2,    3, ..., 1700, 1701, 1702])"
      ]
     },
     "execution_count": 4,
     "metadata": {},
     "output_type": "execute_result"
    }
   ],
   "source": [
    "mol.serial"
   ]
  },
  {
   "cell_type": "markdown",
   "metadata": {},
   "source": [
    "or,\n",
    "\n",
    "* via the `Molecule.get` method:"
   ]
  },
  {
   "cell_type": "code",
   "execution_count": 5,
   "metadata": {
    "collapsed": false
   },
   "outputs": [
    {
     "data": {
      "text/plain": [
       "array([   1,    2,    3, ..., 1700, 1701, 1702])"
      ]
     },
     "execution_count": 5,
     "metadata": {},
     "output_type": "execute_result"
    }
   ],
   "source": [
    "mol.get('serial')"
   ]
  },
  {
   "cell_type": "markdown",
   "metadata": {},
   "source": [
    "Similarly, they can be modified directly, or via the `Molecule.set` method. This pair of methods is known as \"getter/setter\" methods in the object-oriented jargon. **The following sections will show the usage of property getters and setters in a number of real-world tasks.**"
   ]
  },
  {
   "cell_type": "markdown",
   "metadata": {
    "slideshow": {
     "slide_type": "slide"
    }
   },
   "source": [
    "### Check the residue IDs of Cysteines in the `Molecule`"
   ]
  },
  {
   "cell_type": "markdown",
   "metadata": {},
   "source": [
    "In order to get the residue IDs of cysteines in the molecule, one can do:"
   ]
  },
  {
   "cell_type": "code",
   "execution_count": 6,
   "metadata": {
    "collapsed": false
   },
   "outputs": [
    {
     "data": {
      "text/plain": [
       "array([ 22,  22,  22,  22,  22,  22,  42,  42,  42,  42,  42,  42,  58,\n",
       "        58,  58,  58,  58,  58, 128, 128, 128, 128, 128, 128, 136, 136,\n",
       "       136, 136, 136, 136, 157, 157, 157, 157, 157, 157, 168, 168, 168,\n",
       "       168, 168, 168, 182, 182, 182, 182, 182, 182, 191, 191, 191, 191,\n",
       "       191, 191, 201, 201, 201, 201, 201, 201, 220, 220, 220, 220, 220,\n",
       "       220, 232, 232, 232, 232, 232, 232])"
      ]
     },
     "execution_count": 6,
     "metadata": {},
     "output_type": "execute_result"
    }
   ],
   "source": [
    "mol.get('resid', sel='resname CYS')"
   ]
  },
  {
   "cell_type": "markdown",
   "metadata": {
    "slideshow": {
     "slide_type": "fragment"
    }
   },
   "source": [
    "**Note:** residue IDs are outputted multiple times. This is due to the fact that one value is returned per matched atom, and there are 6 atoms resolved per Cys residue."
   ]
  },
  {
   "cell_type": "markdown",
   "metadata": {
    "slideshow": {
     "slide_type": "fragment"
    }
   },
   "source": [
    "The names of the 6 atoms of cysteine residue 58 can be checked with:"
   ]
  },
  {
   "cell_type": "code",
   "execution_count": 7,
   "metadata": {
    "collapsed": false
   },
   "outputs": [
    {
     "data": {
      "text/plain": [
       "array(['N', 'CA', 'C', 'O', 'CB', 'SG'], dtype=object)"
      ]
     },
     "execution_count": 7,
     "metadata": {},
     "output_type": "execute_result"
    }
   ],
   "source": [
    "mol.get('name','resname CYS and resid 58')"
   ]
  },
  {
   "cell_type": "markdown",
   "metadata": {
    "slideshow": {
     "slide_type": "slide"
    }
   },
   "source": [
    "To obtain one residue ID per residue, one can either,\n",
    "\n",
    "* further restrict the selection to carbon &alpha; atoms:"
   ]
  },
  {
   "cell_type": "code",
   "execution_count": 8,
   "metadata": {
    "collapsed": false
   },
   "outputs": [
    {
     "data": {
      "text/plain": [
       "array([ 22,  42,  58, 128, 136, 157, 168, 182, 191, 201, 220, 232])"
      ]
     },
     "execution_count": 8,
     "metadata": {},
     "output_type": "execute_result"
    }
   ],
   "source": [
    "mol.get('resid',sel='name CA and resname CYS')"
   ]
  },
  {
   "cell_type": "markdown",
   "metadata": {},
   "source": [
    "or,\n",
    "\n",
    "* take advantage of `python` and use the `numpy.unique` function to remove repeated entries:"
   ]
  },
  {
   "cell_type": "code",
   "execution_count": 9,
   "metadata": {
    "collapsed": false
   },
   "outputs": [
    {
     "data": {
      "text/plain": [
       "array([ 22,  42,  58, 128, 136, 157, 168, 182, 191, 201, 220, 232])"
      ]
     },
     "execution_count": 9,
     "metadata": {},
     "output_type": "execute_result"
    }
   ],
   "source": [
    "np.unique(mol.get('resid',sel='resname CYS'))"
   ]
  },
  {
   "cell_type": "markdown",
   "metadata": {},
   "source": [
    "**Note:** `numpy` is imported as `np` when `htmd` is imported."
   ]
  },
  {
   "cell_type": "markdown",
   "metadata": {
    "slideshow": {
     "slide_type": "slide"
    }
   },
   "source": [
    "### Retrieve the coordinates of atoms"
   ]
  },
  {
   "cell_type": "markdown",
   "metadata": {},
   "source": [
    "This is done by accessing the `Molecule.coords` property. It is a special property, since it returns a 3-column vector (for the three coordinates)."
   ]
  },
  {
   "cell_type": "code",
   "execution_count": 10,
   "metadata": {
    "collapsed": false
   },
   "outputs": [
    {
     "data": {
      "text/plain": [
       "array([  4.23999977,  16.49500084,  27.98600006], dtype=float32)"
      ]
     },
     "execution_count": 10,
     "metadata": {},
     "output_type": "execute_result"
    }
   ],
   "source": [
    "mol.get('coords','resname CYS and resid 58 and name CA')"
   ]
  },
  {
   "cell_type": "markdown",
   "metadata": {
    "slideshow": {
     "slide_type": "fragment"
    }
   },
   "source": [
    "**Note**: the precision is restricted to the one in the PDB file."
   ]
  },
  {
   "cell_type": "markdown",
   "metadata": {
    "slideshow": {
     "slide_type": "fragment"
    }
   },
   "source": [
    "If more than one atom (say, N>1) are selected, an `N x 3` matrix is returned:"
   ]
  },
  {
   "cell_type": "code",
   "execution_count": 11,
   "metadata": {
    "collapsed": false
   },
   "outputs": [
    {
     "data": {
      "text/plain": [
       "array([[  5.12200022,  16.71899986,  26.86300087],\n",
       "       [  4.23999977,  16.49500084,  27.98600006],\n",
       "       [  4.87400007,  16.95800018,  29.29999924],\n",
       "       [  4.23799992,  16.76399994,  30.36199951],\n",
       "       [  3.94099998,  14.9989996 ,  28.07099915],\n",
       "       [  2.79200006,  14.45199966,  26.72200012]], dtype=float32)"
      ]
     },
     "execution_count": 11,
     "metadata": {},
     "output_type": "execute_result"
    }
   ],
   "source": [
    "mol.get('coords','resname CYS and resid 58')"
   ]
  },
  {
   "cell_type": "markdown",
   "metadata": {
    "slideshow": {
     "slide_type": "slide"
    }
   },
   "source": [
    "### Know the chains or segments present in the `Molecule`"
   ]
  },
  {
   "cell_type": "markdown",
   "metadata": {},
   "source": [
    "The chains present in the `Molecule` can be known using:"
   ]
  },
  {
   "cell_type": "code",
   "execution_count": 12,
   "metadata": {
    "collapsed": false
   },
   "outputs": [
    {
     "data": {
      "text/plain": [
       "array(['A'], dtype=object)"
      ]
     },
     "execution_count": 12,
     "metadata": {},
     "output_type": "execute_result"
    }
   ],
   "source": [
    "np.unique(mol.get('chain'))"
   ]
  },
  {
   "cell_type": "markdown",
   "metadata": {},
   "source": [
    "which means that every atom is assigned to the same chain (i.e., chain A)."
   ]
  },
  {
   "cell_type": "markdown",
   "metadata": {},
   "source": [
    "The same can be done for segments:"
   ]
  },
  {
   "cell_type": "code",
   "execution_count": 13,
   "metadata": {
    "collapsed": false
   },
   "outputs": [
    {
     "data": {
      "text/plain": [
       "array(['0', '1'], dtype=object)"
      ]
     },
     "execution_count": 13,
     "metadata": {},
     "output_type": "execute_result"
    }
   ],
   "source": [
    "np.unique(mol.get('segid'))"
   ]
  },
  {
   "cell_type": "markdown",
   "metadata": {},
   "source": [
    "These segment IDs may need to be changed for system building."
   ]
  },
  {
   "cell_type": "markdown",
   "metadata": {
    "slideshow": {
     "slide_type": "slide"
    }
   },
   "source": [
    "### Set properties of the `Molecule`"
   ]
  },
  {
   "cell_type": "markdown",
   "metadata": {
    "slideshow": {
     "slide_type": "-"
    }
   },
   "source": [
    "`Molecule.set` can be used to change/name/rename specific fields of the molecule or a selection.\n",
    "\n",
    "For example, it can create a segment ID called 'P' for all protein atoms:"
   ]
  },
  {
   "cell_type": "code",
   "execution_count": 14,
   "metadata": {
    "collapsed": false
   },
   "outputs": [
    {
     "data": {
      "text/plain": [
       "array(['P'], dtype=object)"
      ]
     },
     "execution_count": 14,
     "metadata": {},
     "output_type": "execute_result"
    }
   ],
   "source": [
    "mol.set('segid','P','protein')\n",
    "np.unique(mol.get('segid', 'protein'))"
   ]
  },
  {
   "cell_type": "markdown",
   "metadata": {},
   "source": [
    "Another useful task for `Molecule.set` is to rename residues.\n",
    "\n",
    "For example, renaming all HIS residues to 'HSN':"
   ]
  },
  {
   "cell_type": "code",
   "execution_count": 15,
   "metadata": {
    "collapsed": false
   },
   "outputs": [
    {
     "data": {
      "text/plain": [
       "array([159, 160, 161, 162, 163, 164, 165, 166, 167, 168, 283, 284, 285,\n",
       "       286, 287, 288, 289, 290, 291, 292, 537, 538, 539, 540, 541, 542,\n",
       "       543, 544, 545, 546])"
      ]
     },
     "execution_count": 15,
     "metadata": {},
     "output_type": "execute_result"
    }
   ],
   "source": [
    "mol.set('resname','HSN','resname HIS')\n",
    "mol.get('serial',sel='resname HSN')"
   ]
  },
  {
   "cell_type": "markdown",
   "metadata": {
    "slideshow": {
     "slide_type": "slide"
    }
   },
   "source": [
    "### Count the number of waters in the `Molecule`"
   ]
  },
  {
   "cell_type": "markdown",
   "metadata": {},
   "source": [
    "Get the indices of atoms that were recognized as water:"
   ]
  },
  {
   "cell_type": "code",
   "execution_count": 16,
   "metadata": {
    "collapsed": false
   },
   "outputs": [
    {
     "data": {
      "text/plain": [
       "array([1641, 1642, 1643, 1644, 1645, 1646, 1647, 1648, 1649, 1650, 1651,\n",
       "       1652, 1653, 1654, 1655, 1656, 1657, 1658, 1659, 1660, 1661, 1662,\n",
       "       1663, 1664, 1665, 1666, 1667, 1668, 1669, 1670, 1671, 1672, 1673,\n",
       "       1674, 1675, 1676, 1677, 1678, 1679, 1680, 1681, 1682, 1683, 1684,\n",
       "       1685, 1686, 1687, 1688, 1689, 1690, 1691, 1692, 1693, 1694, 1695,\n",
       "       1696, 1697, 1698, 1699, 1700, 1701, 1702])"
      ]
     },
     "execution_count": 16,
     "metadata": {},
     "output_type": "execute_result"
    }
   ],
   "source": [
    "mol.get(\"serial\",sel=\"water\")"
   ]
  },
  {
   "cell_type": "markdown",
   "metadata": {},
   "source": [
    "**Note:** in this case, the hydrogens of waters are not present, so we only get one index per water without using the `np.unique` function."
   ]
  },
  {
   "cell_type": "markdown",
   "metadata": {},
   "source": [
    "Then, the number of waters present in the `Molecule` can be obtained with:"
   ]
  },
  {
   "cell_type": "code",
   "execution_count": 17,
   "metadata": {
    "collapsed": false
   },
   "outputs": [
    {
     "data": {
      "text/plain": [
       "62"
      ]
     },
     "execution_count": 17,
     "metadata": {},
     "output_type": "execute_result"
    }
   ],
   "source": [
    "len(mol.get(\"serial\",sel=\"water\"))"
   ]
  },
  {
   "cell_type": "markdown",
   "metadata": {
    "slideshow": {
     "slide_type": "slide"
    }
   },
   "source": [
    "Alternatively, the `Molecule.atomselect` method can be used. It returns a vector of boolean values:"
   ]
  },
  {
   "cell_type": "code",
   "execution_count": 18,
   "metadata": {
    "collapsed": false
   },
   "outputs": [
    {
     "data": {
      "text/plain": [
       "array([False, False, False, ...,  True,  True,  True], dtype=bool)"
      ]
     },
     "execution_count": 18,
     "metadata": {},
     "output_type": "execute_result"
    }
   ],
   "source": [
    "mol.atomselect(\"water\")"
   ]
  },
  {
   "cell_type": "markdown",
   "metadata": {},
   "source": [
    "The fact that `True` counts as 1 in the `sum` function can be used to obtain, through a different way, the number of waters:"
   ]
  },
  {
   "cell_type": "code",
   "execution_count": 19,
   "metadata": {
    "collapsed": false
   },
   "outputs": [
    {
     "name": "stdout",
     "output_type": "stream",
     "text": [
      "[False False False ...,  True  True  True]\n"
     ]
    },
    {
     "data": {
      "text/plain": [
       "62"
      ]
     },
     "execution_count": 19,
     "metadata": {},
     "output_type": "execute_result"
    }
   ],
   "source": [
    "selection = mol.atomselect(\"water\")\n",
    "print(selection)\n",
    "sum(selection)"
   ]
  },
  {
   "cell_type": "markdown",
   "metadata": {
    "slideshow": {
     "slide_type": "slide"
    }
   },
   "source": [
    "## Representations and Visualization"
   ]
  },
  {
   "cell_type": "markdown",
   "metadata": {},
   "source": [
    "`Molecule` objects can be visualized either in VMD or in NGL, a WebGL javascript molecule viewer that's integrated in the Notebook.\n",
    "\n",
    "By default, VMD is used as a viewer. If one wants to use NGL, run the following:"
   ]
  },
  {
   "cell_type": "code",
   "execution_count": 20,
   "metadata": {
    "collapsed": true
   },
   "outputs": [],
   "source": [
    "htmd.config(viewer='webgl')"
   ]
  },
  {
   "cell_type": "markdown",
   "metadata": {
    "slideshow": {
     "slide_type": "slide"
    }
   },
   "source": [
    "### On-the-fly molecule visualization and interaction"
   ]
  },
  {
   "cell_type": "code",
   "execution_count": 21,
   "metadata": {
    "collapsed": false,
    "slideshow": {
     "slide_type": "-"
    }
   },
   "outputs": [],
   "source": [
    "mol = Molecule('3PTB') # reloading the molecule\n",
    "mol.view()"
   ]
  },
  {
   "cell_type": "markdown",
   "metadata": {},
   "source": [
    "It is also possible to apply multiple representations to a `Molecule` as in VMD.\n",
    "\n",
    "Representations use the same names as in VMD, even when using the NGL viewer. Important parameters are: **style**, **color**, and **sel**.   "
   ]
  },
  {
   "cell_type": "markdown",
   "metadata": {
    "slideshow": {
     "slide_type": "slide"
    }
   },
   "source": [
    "### The \"quick\" or \"transient\" view"
   ]
  },
  {
   "cell_type": "markdown",
   "metadata": {},
   "source": [
    "Use the `Molecule.view` method, specifying the representation as arguments. Use the `hold` parameter so that following `Molecule.view` calls can overlay. Otherwise, representations will be cleared on every call."
   ]
  },
  {
   "cell_type": "code",
   "execution_count": 22,
   "metadata": {
    "collapsed": false
   },
   "outputs": [],
   "source": [
    "mol.view(sel='protein', style='NewCartoon', color='Index', hold=True)\n",
    "mol.view(sel='resname BEN', style='Licorice', color=1)"
   ]
  },
  {
   "cell_type": "markdown",
   "metadata": {
    "slideshow": {
     "slide_type": "slide"
    }
   },
   "source": [
    "### The \"explicit\" way: using `Molecule.reps`"
   ]
  },
  {
   "cell_type": "markdown",
   "metadata": {},
   "source": [
    "One directly manipulates elements in the `reps` property of `Molecule` objects, with the views being stored in that property."
   ]
  },
  {
   "cell_type": "code",
   "execution_count": 23,
   "metadata": {
    "collapsed": false
   },
   "outputs": [
    {
     "name": "stdout",
     "output_type": "stream",
     "text": [
      "rep 0: sel='protein', style='NewCartoon', color='Index'\n",
      "rep 1: sel='resname BEN', style='Licorice', color='1'\n",
      "\n"
     ]
    }
   ],
   "source": [
    "mol.reps.remove()   # Clear representations\n",
    "mol.reps.add(sel='protein', style='NewCartoon', color='Index')\n",
    "mol.reps.add(sel='resname BEN', style='Licorice', color=1)\n",
    "print(mol.reps)     # Show list of representations (equivalent to mol.reps.list())\n",
    "mol.view()"
   ]
  },
  {
   "cell_type": "markdown",
   "metadata": {
    "slideshow": {
     "slide_type": "slide"
    }
   },
   "source": [
    "### Atom selection expressions work as in VMD"
   ]
  },
  {
   "cell_type": "markdown",
   "metadata": {},
   "source": [
    "The following shows the molecule without a 6 &Aring; thick slab in the middle (&minus;3 &Aring; &le; `x` &le; +3 &Aring;):"
   ]
  },
  {
   "cell_type": "code",
   "execution_count": 24,
   "metadata": {
    "collapsed": false
   },
   "outputs": [],
   "source": [
    "mol.reps.remove() # in order to remove the previouly stored representations\n",
    "mol.view(sel='x*x>9')"
   ]
  },
  {
   "cell_type": "markdown",
   "metadata": {
    "slideshow": {
     "slide_type": "slide"
    }
   },
   "source": [
    "## Duplicate, modify and write objects"
   ]
  },
  {
   "cell_type": "markdown",
   "metadata": {},
   "source": [
    "Use `Molecule.copy` to duplicate the molecule into a new object:"
   ]
  },
  {
   "cell_type": "code",
   "execution_count": 25,
   "metadata": {
    "collapsed": true
   },
   "outputs": [],
   "source": [
    "newmol = mol.copy()"
   ]
  },
  {
   "cell_type": "markdown",
   "metadata": {},
   "source": [
    "`Molecule.write` can be used to output a PDB file of your whole molecule (or just a selection). The following command uses the above copied molecule `newmol` to write out a PDB file of the benzamidine ligand atoms present in the fetched PDB file, except for hydrogen atoms:"
   ]
  },
  {
   "cell_type": "code",
   "execution_count": 26,
   "metadata": {
    "collapsed": true
   },
   "outputs": [],
   "source": [
    "newmol.write('/tmp/ligand.pdb','resname BEN and noh')"
   ]
  },
  {
   "cell_type": "markdown",
   "metadata": {
    "slideshow": {
     "slide_type": "slide"
    }
   },
   "source": [
    "`Molecule.filter` can be used to select specific parts of the molecule (e.g. chains, segments) and clean/remove all the rest.\n",
    "\n",
    "For example, clean all except for protein atoms in chain A:"
   ]
  },
  {
   "cell_type": "code",
   "execution_count": 27,
   "metadata": {
    "collapsed": true,
    "slideshow": {
     "slide_type": "-"
    }
   },
   "outputs": [],
   "source": [
    "mol.filter('chain A and protein')\n",
    "mol.view()"
   ]
  },
  {
   "cell_type": "markdown",
   "metadata": {
    "slideshow": {
     "slide_type": "slide"
    }
   },
   "source": [
    "## Joining molecules/segments"
   ]
  },
  {
   "cell_type": "markdown",
   "metadata": {},
   "source": [
    "`Molecule.append` appends a Molecule object (e.g. ligand, water or ion segments, etc.) to another molecule object (e.g. protein, membrane).\n",
    "\n",
    "For example, to append the benzamidine ligand (saved above as a PDB file) to the molecule we are working with (which is now only the protein chain A), simply do:"
   ]
  },
  {
   "cell_type": "code",
   "execution_count": 28,
   "metadata": {
    "collapsed": true
   },
   "outputs": [],
   "source": [
    "ligand = Molecule('/tmp/ligand.pdb')\n",
    "mol.append(ligand)\n",
    "mol.view()"
   ]
  },
  {
   "cell_type": "markdown",
   "metadata": {
    "slideshow": {
     "slide_type": "slide"
    }
   },
   "source": [
    "You can also add an atom using `Molecule.insert`:"
   ]
  },
  {
   "cell_type": "code",
   "execution_count": 29,
   "metadata": {
    "collapsed": true
   },
   "outputs": [],
   "source": [
    "atom = Molecule()\n",
    "atom.record = 'ATOM'\n",
    "atom.name = 'CA'\n",
    "atom.resid = 0\n",
    "atom.resname = 'XXX'\n",
    "atom.chain = 'X'\n",
    "atom.coords = [6, 3, 2]"
   ]
  },
  {
   "cell_type": "code",
   "execution_count": 30,
   "metadata": {
    "collapsed": true
   },
   "outputs": [],
   "source": [
    "newligand = ligand.copy()\n",
    "newligand.insert(atom, 0)\n",
    "newligand.view(style='VDW')"
   ]
  },
  {
   "cell_type": "markdown",
   "metadata": {
    "slideshow": {
     "slide_type": "slide"
    }
   },
   "source": [
    "## Playing with coordinates"
   ]
  },
  {
   "cell_type": "markdown",
   "metadata": {},
   "source": [
    "Coordinates can be used to perform geometric tasks on your molecule, such as translations or rotations.\n",
    "\n",
    "For example, calculate the geometric center of your molecule:"
   ]
  },
  {
   "cell_type": "code",
   "execution_count": 31,
   "metadata": {
    "collapsed": true
   },
   "outputs": [],
   "source": [
    "coo = mol.get('coords')\n",
    "c = np.mean(coo, axis=0)"
   ]
  },
  {
   "cell_type": "markdown",
   "metadata": {},
   "source": [
    "Then, `Molecule.moveBy` can be used to translate the molecule and center it on the origin [0, 0, 0] using the previosly calculated center `c`:"
   ]
  },
  {
   "cell_type": "code",
   "execution_count": 32,
   "metadata": {
    "collapsed": true
   },
   "outputs": [],
   "source": [
    "mol.moveBy(-c)"
   ]
  },
  {
   "cell_type": "markdown",
   "metadata": {},
   "source": [
    "Finally, check the new center:"
   ]
  },
  {
   "cell_type": "code",
   "execution_count": 33,
   "metadata": {
    "collapsed": false
   },
   "outputs": [
    {
     "data": {
      "text/plain": [
       "array([  2.15420940e-07,  -2.36497249e-06,   4.63504330e-06], dtype=float32)"
      ]
     },
     "execution_count": 33,
     "metadata": {},
     "output_type": "execute_result"
    }
   ],
   "source": [
    "np.mean(mol.get('coords'),axis=0)"
   ]
  },
  {
   "cell_type": "markdown",
   "metadata": {
    "slideshow": {
     "slide_type": "slide"
    }
   },
   "source": [
    "## Rotations\n",
    "Another common task is rotations (e.g. to build a protein - ligand system).\n",
    "For example, load up your ligand and visualize its orientation:"
   ]
  },
  {
   "cell_type": "code",
   "execution_count": 34,
   "metadata": {
    "collapsed": false
   },
   "outputs": [],
   "source": [
    "ligand = Molecule('3PTB')\n",
    "ligand.filter('resname BEN')\n",
    "ligand.view()"
   ]
  },
  {
   "cell_type": "markdown",
   "metadata": {
    "slideshow": {
     "slide_type": "slide"
    }
   },
   "source": [
    "Then, calculate its geometric center and use `Molecule.rotateBy` to rotate your ligand with the use of a rotation matrix `M`:"
   ]
  },
  {
   "cell_type": "code",
   "execution_count": 35,
   "metadata": {
    "collapsed": true
   },
   "outputs": [],
   "source": [
    "ligcenter = np.mean(ligand.get('coords'),axis=0)\n",
    "M = uniformRandomRotation()\n",
    "ligand.rotateBy(M,center=ligcenter)\n",
    "ligand.view()"
   ]
  },
  {
   "cell_type": "markdown",
   "metadata": {},
   "source": [
    "Another example is to rotate around an axis"
   ]
  },
  {
   "cell_type": "code",
   "execution_count": 36,
   "metadata": {
    "collapsed": false
   },
   "outputs": [],
   "source": [
    "ligand.rotateBy(rotationMatrix([1, 0, 0],math.pi),center= [0,0,0])"
   ]
  },
  {
   "cell_type": "markdown",
   "metadata": {
    "slideshow": {
     "slide_type": "-"
    }
   },
   "source": [
    "**Note:** the `uniformRandomRotation()` function provides the transformation matrix  for uniformly distributed random rotation."
   ]
  },
  {
   "cell_type": "markdown",
   "metadata": {
    "slideshow": {
     "slide_type": "slide"
    }
   },
   "source": [
    "## Working with trajectories"
   ]
  },
  {
   "cell_type": "markdown",
   "metadata": {},
   "source": [
    "`Molecule` provides wrapping and aligning functionality for working with MD trajectories and improving the visualization."
   ]
  },
  {
   "cell_type": "code",
   "execution_count": 37,
   "metadata": {
    "collapsed": false
   },
   "outputs": [],
   "source": [
    "molTraj = Molecule(htmd.home() + '/data/dhfr/dhfr.psf')\n",
    "molTraj.read(htmd.home() + '/data/dhfr/dhfr.xtc')\n",
    "molTraj.view()"
   ]
  },
  {
   "cell_type": "markdown",
   "metadata": {
    "slideshow": {
     "slide_type": "slide"
    }
   },
   "source": [
    "## Exercise: find residues in contact with a ligand"
   ]
  },
  {
   "cell_type": "markdown",
   "metadata": {},
   "source": [
    "Load the 'clean' molecule once again:"
   ]
  },
  {
   "cell_type": "code",
   "execution_count": 38,
   "metadata": {
    "collapsed": true
   },
   "outputs": [],
   "source": [
    "mol = Molecule('3PTB')"
   ]
  },
  {
   "cell_type": "markdown",
   "metadata": {},
   "source": [
    "Identify residues in contact with the benzamidine ligand. We exploit the fact that there is exactly one C&alpha; (`name CA`) atom per residue."
   ]
  },
  {
   "cell_type": "code",
   "execution_count": 39,
   "metadata": {
    "collapsed": false
   },
   "outputs": [
    {
     "data": {
      "text/plain": [
       "array([189, 190, 191, 192, 195, 213, 215, 216, 219, 220, 226])"
      ]
     },
     "execution_count": 39,
     "metadata": {},
     "output_type": "execute_result"
    }
   ],
   "source": [
    "mol.get(\"resid\", sel=\"name CA and same residue as protein within 4 of resname BEN\")"
   ]
  },
  {
   "cell_type": "markdown",
   "metadata": {
    "slideshow": {
     "slide_type": "slide"
    }
   },
   "source": [
    "## Exercise: find duplicate residues"
   ]
  },
  {
   "cell_type": "markdown",
   "metadata": {},
   "source": [
    "Load the 'clean' molecule once again:"
   ]
  },
  {
   "cell_type": "code",
   "execution_count": 40,
   "metadata": {
    "collapsed": true
   },
   "outputs": [],
   "source": [
    "mol = Molecule('3PTB')"
   ]
  },
  {
   "cell_type": "markdown",
   "metadata": {
    "slideshow": {
     "slide_type": "slide"
    }
   },
   "source": [
    "**Solution 1.** \n",
    "\n",
    "Identify duplicate residues, relying on PDB's *insertion* attribute:"
   ]
  },
  {
   "cell_type": "code",
   "execution_count": 41,
   "metadata": {
    "collapsed": false
   },
   "outputs": [
    {
     "data": {
      "text/plain": [
       "array([184, 188, 221])"
      ]
     },
     "execution_count": 41,
     "metadata": {},
     "output_type": "execute_result"
    }
   ],
   "source": [
    "# Quick and dirty\n",
    "np.unique(mol.get('resid', sel='insertion A'))"
   ]
  },
  {
   "cell_type": "code",
   "execution_count": 42,
   "metadata": {
    "collapsed": false
   },
   "outputs": [
    {
     "name": "stdout",
     "output_type": "stream",
     "text": [
      "GLY 184\n",
      "GLY 188\n",
      "ALA 221\n"
     ]
    }
   ],
   "source": [
    "# Or equivantly, more explicit and pretty-printed\n",
    "ia = mol.copy()\n",
    "ia.filter(\"insertion A and name CA\")\n",
    "rid = ia.get('resid') # ia.resid also works!\n",
    "rn = ia.get('resname')\n",
    "\n",
    "for f, b in zip(rn, rid):\n",
    "    print(f, b)"
   ]
  },
  {
   "cell_type": "markdown",
   "metadata": {
    "slideshow": {
     "slide_type": "slide"
    }
   },
   "source": [
    "**Solution 2.**\n",
    "\n",
    "If one doesn't want to rely on the *insertion* property, we can process the list of gaps between residues."
   ]
  },
  {
   "cell_type": "code",
   "execution_count": 43,
   "metadata": {
    "collapsed": false,
    "slideshow": {
     "slide_type": "-"
    }
   },
   "outputs": [
    {
     "data": {
      "text/plain": [
       "array([184, 188, 221])"
      ]
     },
     "execution_count": 43,
     "metadata": {},
     "output_type": "execute_result"
    }
   ],
   "source": [
    "dups = mol.copy()                       # Make a working copy\n",
    "dups.filter(\"name CA and protein\")      # Keep only C-alphas\n",
    "rid = dups.get('resid')                 # Get list of residue ids\n",
    "\n",
    "nrid, count= np.unique(rid,return_counts=True)\n",
    "                                        # Get how many times each residue id appeared\n",
    "nrid[count>1]                           # Show duplicates"
   ]
  },
  {
   "cell_type": "markdown",
   "metadata": {
    "slideshow": {
     "slide_type": "slide"
    }
   },
   "source": [
    "## Exercise: find gaps in the sequence of residue numbers"
   ]
  },
  {
   "cell_type": "markdown",
   "metadata": {
    "slideshow": {
     "slide_type": "-"
    }
   },
   "source": [
    "We can exploit the `diff()` function to compute deltas between array elements."
   ]
  },
  {
   "cell_type": "code",
   "execution_count": 44,
   "metadata": {
    "collapsed": false
   },
   "outputs": [
    {
     "name": "stdout",
     "output_type": "stream",
     "text": [
      "[1 1 1 1 1 1 1 1 1 1 1 1 1 1 1 1 1 1 3 1 1 1 1 1 1 1 1 1 1 1 1 1 1 1 1 1 1\n",
      " 1 1 1 1 1 1 1 1 1 1 1 1 2 1 1 1 1 1 1 1 1 1 1 1 1 1 1 1 1 1 1 1 1 1 1 1 1\n",
      " 1 1 1 1 1 1 1 1 1 1 1 1 1 1 1 1 1 1 1 1 1 1 1 1 1 1 1 1 1 1 1 1 2 1 1 1 2\n",
      " 1 1 1 1 1 1 1 1 1 1 1 1 1 1 1 1 1 1 1 1 1 1 1 1 1 1 1 1 1 1 1 1 1 1 1 1 1\n",
      " 1 1 1 1 1 1 1 1 1 1 1 1 1 1 1 0 1 1 1 1 0 1 1 1 1 1 1 1 1 1 1 1 1 1 1 1 1\n",
      " 5 1 1 1 1 1 1 1 1 2 1 1 0 1 1 1 1 1 1 1 1 1 1 1 1 1 1 1 1 1 1 1 1 1 1 1 1]\n"
     ]
    }
   ],
   "source": [
    "# array with the \"holes\":\n",
    "# - 0 means duplicate residues\n",
    "# - >1 means segments of protein missing\n",
    "deltas = np.diff(rid)\n",
    "print(deltas)"
   ]
  },
  {
   "cell_type": "markdown",
   "metadata": {},
   "source": [
    "Print residue IDs at which the holes (including duplicate residues) occur:\n"
   ]
  },
  {
   "cell_type": "code",
   "execution_count": 45,
   "metadata": {
    "collapsed": false
   },
   "outputs": [
    {
     "data": {
      "text/plain": [
       "array([ 34,  67, 125, 130, 184, 188, 204, 217, 221])"
      ]
     },
     "execution_count": 45,
     "metadata": {},
     "output_type": "execute_result"
    }
   ],
   "source": [
    "new_rid = rid[:np.size(rid)-1] # no delta for last residue\n",
    "new_rid[deltas!=1]"
   ]
  },
  {
   "cell_type": "markdown",
   "metadata": {
    "slideshow": {
     "slide_type": "slide"
    }
   },
   "source": [
    "A prettier and more explicit output:"
   ]
  },
  {
   "cell_type": "code",
   "execution_count": 46,
   "metadata": {
    "collapsed": false,
    "slideshow": {
     "slide_type": "-"
    }
   },
   "outputs": [
    {
     "name": "stdout",
     "output_type": "stream",
     "text": [
      "34 ASN  followed by  37 SER\n",
      "67 LEU  followed by  69 GLY\n",
      "125 THR  followed by  127 SER\n",
      "130 SER  followed by  132 ALA\n",
      "204 LYS  followed by  209 LEU\n",
      "217 SER  followed by  219 GLY\n"
     ]
    }
   ],
   "source": [
    "# Iterate over all residues (excluding last one)\n",
    "rn = dups.get('resname')\n",
    "for i in range(np.size(rid)-1):\n",
    "    # If there is a break...\n",
    "    if(deltas[i]>1):\n",
    "        # Remember that deltas[i]=rid[i+1]-rid[i]\n",
    "        print(rid[i],rn[i],' followed by ',rid[i+1],rn[i+1])"
   ]
  }
 ],
 "metadata": {
  "anaconda-cloud": {},
  "celltoolbar": "Slideshow",
  "kernelspec": {
   "display_name": "Python [default]",
   "language": "python",
   "name": "python3"
  },
  "language_info": {
   "codemirror_mode": {
    "name": "ipython",
    "version": 3
   },
   "file_extension": ".py",
   "mimetype": "text/x-python",
   "name": "python",
   "nbconvert_exporter": "python",
   "pygments_lexer": "ipython3",
   "version": "3.5.1"
  },
  "nav_menu": {},
  "toc": {
   "navigate_menu": true,
   "number_sections": true,
   "sideBar": true,
   "threshold": 6,
   "toc_cell": false,
   "toc_section_display": "block",
   "toc_window_display": false
  }
 },
 "nbformat": 4,
 "nbformat_minor": 0
}
