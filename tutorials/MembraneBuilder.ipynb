{
 "cells": [
  {
   "cell_type": "markdown",
   "metadata": {},
   "source": [
    "# HTMD Membrane Builder - Making membrane building easy"
   ]
  },
  {
   "cell_type": "markdown",
   "metadata": {},
   "source": [
    "Molecular dynamics simulations can be used to study biological membranes or even systems of proteins embedded in membranes. Such examples include the famous GPCR proteins which are of high medical interest. setting up a membrane simulation however can be quite challenging as they require tightly-packed pre-equilibrated membranes of different lipid compositions of arbitrary dimensions which are not always readily available.\n",
    "\n",
    "Tools such as CHARMM-GUI already exist which provide the functionality for creating such membranes with great flexibility, they cannot however be used programmatically or in a batch manner.\n",
    "\n",
    "HTMD provides a membrane builder tool which can be used to easily and quickly create a bilayer lipid membrane with a single command."
   ]
  },
  {
   "cell_type": "markdown",
   "metadata": {},
   "source": [
    "## Quick example"
   ]
  },
  {
   "cell_type": "code",
   "execution_count": 2,
   "metadata": {},
   "outputs": [
    {
     "name": "stderr",
     "output_type": "stream",
     "text": [
      "2018-07-23 15:43:26,940 - htmd.membranebuilder.ringpenetration - INFO - 0 penetrating molecule(s) remaining\n",
      "2018-07-23 15:43:27,758 - htmd.builder.solvate - INFO - Using water pdb file at: /home/stefan/Work/htmd/htmd/builder/wat.pdb\n",
      "2018-07-23 15:43:29,022 - htmd.builder.solvate - INFO - Replicating 2 water segments, 1 by 2 by 1\n",
      "Solvating: 100%|██████████| 2/2 [00:02<00:00,  1.08s/it]\n",
      "2018-07-23 15:43:31,407 - htmd.builder.solvate - INFO - 2893 water molecules were added to the system.\n",
      "2018-07-23 15:43:31,548 - htmd.builder.solvate - INFO - Using water pdb file at: /home/stefan/Work/htmd/htmd/builder/wat.pdb\n",
      "2018-07-23 15:43:32,448 - htmd.builder.solvate - INFO - Replicating 2 water segments, 1 by 2 by 1\n",
      "Solvating: 100%|██████████| 2/2 [00:02<00:00,  1.46s/it]\n",
      "2018-07-23 15:43:35,543 - htmd.builder.solvate - INFO - 2923 water molecules were added to the system.\n"
     ]
    },
    {
     "name": "stdout",
     "output_type": "stream",
     "text": [
      "Outdir  /tmp/tmp2f5zd4gp\n"
     ]
    },
    {
     "name": "stderr",
     "output_type": "stream",
     "text": [
      "2018-07-23 15:43:36,428 - htmd.builder.charmm - INFO - Writing out segments.\n",
      "2018-07-23 15:43:39,064 - htmd.builder.charmm - INFO - Starting the build.\n",
      "2018-07-23 15:43:39,455 - htmd.builder.charmm - INFO - Finished building.\n"
     ]
    }
   ],
   "source": [
    "from htmd.membranebuilder.build_membrane import buildMembrane\n",
    "\n",
    "# Define the dimensions of the membrane in the x and y axis in units of Angstrom\n",
    "dimensions = [50, 100]\n",
    "# Define the upper and lower layer lipid composition and ratio\n",
    "ratioupper = {'popc': 10, 'chl1': 1}\n",
    "ratiolower = {'popc': 8, 'chl1': 2}\n",
    "# Build the membrane without equilibrating\n",
    "memb = buildMembrane(dimensions, ratioupper, ratiolower, equilibrate=False)\n",
    "# Visualize the membrane\n",
    "memb.view()"
   ]
  },
  {
   "cell_type": "markdown",
   "metadata": {},
   "source": [
    "## Detailed explanation"
   ]
  },
  {
   "cell_type": "code",
   "execution_count": null,
   "metadata": {},
   "outputs": [],
   "source": []
  }
 ],
 "metadata": {
  "kernelspec": {
   "display_name": "Python 3",
   "language": "python",
   "name": "python3"
  },
  "language_info": {
   "codemirror_mode": {
    "name": "ipython",
    "version": 3
   },
   "file_extension": ".py",
   "mimetype": "text/x-python",
   "name": "python",
   "nbconvert_exporter": "python",
   "pygments_lexer": "ipython3",
   "version": "3.6.3"
  }
 },
 "nbformat": 4,
 "nbformat_minor": 2
}
