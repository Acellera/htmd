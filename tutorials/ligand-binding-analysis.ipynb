{
 "cells": [
  {
   "cell_type": "markdown",
   "metadata": {
    "collapsed": true
   },
   "source": [
    "# Example MSM for a ligand binding process\n",
    "\n",
    "by Stefan Doerr"
   ]
  },
  {
   "cell_type": "markdown",
   "metadata": {},
   "source": [
    "We demonstrate how to use the HTMD code for analysing a protein-ligand binding process\n",
    "\n",
    "You can download the data and analysis file from the following links:\n",
    "\n",
    "* [Datasets](http://pub.htmd.org/li198ha8nfoiw90y2/datasets.tar.gz). Warning: 3GB filesize.\n",
    "* [Analysis script](./ligand-binding.py)."
   ]
  },
  {
   "cell_type": "markdown",
   "metadata": {},
   "source": [
    "## Getting started\n",
    "\n",
    "First we import the modules we are going to need for the tutorial"
   ]
  },
  {
   "cell_type": "code",
   "execution_count": 1,
   "metadata": {
    "collapsed": false
   },
   "outputs": [
    {
     "name": "stdout",
     "output_type": "stream",
     "text": [
      "Populating the interactive namespace from numpy and matplotlib\n",
      "Please cite -- HTMD: High-Throughput Molecular Dynamics for Molecular Discovery\n",
      "J. Chem. Theory Comput., 2016, 12 (4), pp 1845-1852. \n",
      "http://pubs.acs.org/doi/abs/10.1021/acs.jctc.6b00049\n",
      "\n",
      "\n",
      "You are on the latest HTMD version (unpackaged).\n"
     ]
    },
    {
     "name": "stderr",
     "output_type": "stream",
     "text": [
      "/shared/sdoerr/Software/anaconda3/lib/python3.5/site-packages/matplotlib/__init__.py:1350: UserWarning:  This call to matplotlib.use() has no effect\n",
      "because the backend has already been chosen;\n",
      "matplotlib.use() must be called *before* pylab, matplotlib.pyplot,\n",
      "or matplotlib.backends is imported for the first time.\n",
      "\n",
      "  warnings.warn(_use_error_msg)\n"
     ]
    }
   ],
   "source": [
    "%pylab inline\n",
    "from htmd import *"
   ]
  },
  {
   "cell_type": "markdown",
   "metadata": {},
   "source": [
    "## Creating a simulation list\n",
    "\n",
    "For the purposes of an analysis, full atom information is required by HTMD. Therefore each simulation trajectory has to be associated with a corresponding PDB file. Additionally, if you plan to run adaptive, each trajectory needs to be associated with an input directory which contains the files used to run the simulations. The simList function allows us to make these associations\n",
    "\n",
    "    sims = simlist(glob('data/*/'), glob('input/*/structure.pdb'), glob('input/*/'))"
   ]
  },
  {
   "cell_type": "markdown",
   "metadata": {},
   "source": [
    "## Filtering trajectories\n",
    "\n",
    "Typically waters are removed from the trajectories as they are not used in the analysis and it helps speed up further calculations. These filtered trajectories are written into a new directory. The advantage of filtering is that if your input structures only differ in the number of water molecules, you can produce a single unique pdb file for all simulations once you remove the waters, which will speed up calculations. This step is not necessary for the analysis and you can skip it if you don't mind the slowdown in calculations. In that case replace in the following commands the fsims variable with sims.\n",
    "\n",
    "    fsims = simfilter(sims, './filtered/', filtersel='not water')"
   ]
  },
  {
   "cell_type": "markdown",
   "metadata": {},
   "source": [
    "In this tutorial due to space limitations we provide only the filtered trajectories which are stored in three separate dataset folders. Therefore we will skip the above two commands and construct the simulation list directly from the filtered trajectories."
   ]
  },
  {
   "cell_type": "code",
   "execution_count": 2,
   "metadata": {
    "collapsed": false
   },
   "outputs": [
    {
     "name": "stderr",
     "output_type": "stream",
     "text": [
      "2016-07-04 10:54:13,633 - htmd.simlist - INFO - Starting listing of simulations.\n"
     ]
    },
    {
     "name": "stdout",
     "output_type": "stream",
     "text": [
      "Creating simlist: 100% (230/230) [#################################] eta 00:01 \\"
     ]
    },
    {
     "name": "stderr",
     "output_type": "stream",
     "text": [
      "2016-07-04 10:54:14,276 - htmd.simlist - INFO - Finished listing of simulations.\n",
      "2016-07-04 10:54:14,301 - htmd.simlist - INFO - Starting listing of simulations.\n"
     ]
    },
    {
     "name": "stdout",
     "output_type": "stream",
     "text": [
      "\n",
      "Creating simlist: 100% (309/309) [#################################] eta 00:00 /"
     ]
    },
    {
     "name": "stderr",
     "output_type": "stream",
     "text": [
      "2016-07-04 10:54:14,612 - htmd.simlist - INFO - Finished listing of simulations.\n",
      "2016-07-04 10:54:14,631 - htmd.simlist - INFO - Starting listing of simulations.\n"
     ]
    },
    {
     "name": "stdout",
     "output_type": "stream",
     "text": [
      "\n",
      "Creating simlist: 100% (314/314) [#################################] eta 00:01 |"
     ]
    },
    {
     "name": "stderr",
     "output_type": "stream",
     "text": [
      "2016-07-04 10:54:15,199 - htmd.simlist - INFO - Finished listing of simulations.\n"
     ]
    },
    {
     "name": "stdout",
     "output_type": "stream",
     "text": [
      "\n"
     ]
    }
   ],
   "source": [
    "os.chdir('/webdata/li198ha8nfoiw90y2/')\n",
    "sets = glob('datasets/*/')\n",
    "sims = []\n",
    "for s in sets:\n",
    "    fsims = simlist(glob(s + '/filtered/*/'), 'datasets/1/filtered/filtered.pdb')\n",
    "    sims = simmerge(sims, fsims)"
   ]
  },
  {
   "cell_type": "markdown",
   "metadata": {},
   "source": [
    "## Calculating metrics\n",
    "\n",
    "To build a Markov state model we need to project the atom coordinates onto a lower dimensional space which can be used for clustering the conformations into a set of states. For protein systems we typically use the binary contact map between the carbon alpha atoms of the protein. This will calculate contacts between all carbon-alpha atoms. "
   ]
  },
  {
   "cell_type": "code",
   "execution_count": 3,
   "metadata": {
    "collapsed": true
   },
   "outputs": [
    {
     "name": "stderr",
     "output_type": "stream",
     "text": [
      "2016-07-04 10:54:18,318 - htmd.projections.metric - WARNING - Metric.projection is deprecated. It has been replaced with Metric.addProjection to better reflect that it appends the given projection to a list of projections.\n",
      "2016-07-04 10:54:18,533 - htmd.projections.metric - INFO - Metric: Starting projection of trajectories.\n",
      "[Parallel(n_jobs=-2)]: Done   1 tasks      | elapsed:    0.4s\n",
      "[Parallel(n_jobs=-2)]: Done   2 tasks      | elapsed:    0.5s\n",
      "[Parallel(n_jobs=-2)]: Done   3 tasks      | elapsed:    0.7s\n",
      "[Parallel(n_jobs=-2)]: Done   4 tasks      | elapsed:    0.7s\n",
      "[Parallel(n_jobs=-2)]: Done   5 tasks      | elapsed:    0.7s\n",
      "[Parallel(n_jobs=-2)]: Done   6 tasks      | elapsed:    0.8s\n",
      "[Parallel(n_jobs=-2)]: Done   7 tasks      | elapsed:    0.8s\n",
      "[Parallel(n_jobs=-2)]: Done   8 tasks      | elapsed:    0.8s\n",
      "[Parallel(n_jobs=-2)]: Done   9 tasks      | elapsed:    0.8s\n",
      "[Parallel(n_jobs=-2)]: Done  10 tasks      | elapsed:    0.8s\n",
      "[Parallel(n_jobs=-2)]: Done  11 tasks      | elapsed:    0.8s\n",
      "[Parallel(n_jobs=-2)]: Done  12 tasks      | elapsed:    1.2s\n",
      "[Parallel(n_jobs=-2)]: Done  13 tasks      | elapsed:    1.2s\n",
      "[Parallel(n_jobs=-2)]: Done  14 tasks      | elapsed:    1.2s\n",
      "[Parallel(n_jobs=-2)]: Done  15 tasks      | elapsed:    1.2s\n",
      "[Parallel(n_jobs=-2)]: Done  16 tasks      | elapsed:    1.2s\n",
      "[Parallel(n_jobs=-2)]: Done  17 tasks      | elapsed:    1.5s\n",
      "[Parallel(n_jobs=-2)]: Done  18 tasks      | elapsed:    1.6s\n",
      "[Parallel(n_jobs=-2)]: Done  19 tasks      | elapsed:    1.6s\n",
      "[Parallel(n_jobs=-2)]: Done  20 tasks      | elapsed:    1.6s\n",
      "[Parallel(n_jobs=-2)]: Done  21 tasks      | elapsed:    1.6s\n",
      "[Parallel(n_jobs=-2)]: Done  22 tasks      | elapsed:    1.6s\n",
      "[Parallel(n_jobs=-2)]: Done  23 tasks      | elapsed:    1.9s\n",
      "[Parallel(n_jobs=-2)]: Done  24 tasks      | elapsed:    1.9s\n",
      "[Parallel(n_jobs=-2)]: Done  25 tasks      | elapsed:    1.9s\n",
      "[Parallel(n_jobs=-2)]: Done  26 tasks      | elapsed:    1.9s\n",
      "[Parallel(n_jobs=-2)]: Done  27 tasks      | elapsed:    1.9s\n",
      "[Parallel(n_jobs=-2)]: Done  28 tasks      | elapsed:    2.2s\n",
      "[Parallel(n_jobs=-2)]: Done  29 tasks      | elapsed:    2.2s\n",
      "[Parallel(n_jobs=-2)]: Done  30 tasks      | elapsed:    2.2s\n",
      "[Parallel(n_jobs=-2)]: Done  31 tasks      | elapsed:    2.3s\n",
      "[Parallel(n_jobs=-2)]: Done  32 tasks      | elapsed:    2.3s\n",
      "[Parallel(n_jobs=-2)]: Done  33 tasks      | elapsed:    2.3s\n",
      "[Parallel(n_jobs=-2)]: Done  34 tasks      | elapsed:    2.6s\n",
      "[Parallel(n_jobs=-2)]: Done  35 tasks      | elapsed:    2.6s\n",
      "[Parallel(n_jobs=-2)]: Done  36 tasks      | elapsed:    2.6s\n",
      "[Parallel(n_jobs=-2)]: Done  37 tasks      | elapsed:    2.6s\n",
      "[Parallel(n_jobs=-2)]: Done  38 tasks      | elapsed:    2.6s\n",
      "[Parallel(n_jobs=-2)]: Done  39 tasks      | elapsed:    2.8s\n",
      "[Parallel(n_jobs=-2)]: Done  40 tasks      | elapsed:    2.8s\n",
      "[Parallel(n_jobs=-2)]: Done  41 tasks      | elapsed:    2.9s\n",
      "[Parallel(n_jobs=-2)]: Done  42 tasks      | elapsed:    2.9s\n",
      "[Parallel(n_jobs=-2)]: Done  43 tasks      | elapsed:    2.9s\n",
      "[Parallel(n_jobs=-2)]: Done  44 tasks      | elapsed:    2.9s\n",
      "[Parallel(n_jobs=-2)]: Done  45 tasks      | elapsed:    3.1s\n",
      "[Parallel(n_jobs=-2)]: Done  46 tasks      | elapsed:    3.1s\n",
      "[Parallel(n_jobs=-2)]: Done  47 tasks      | elapsed:    3.1s\n",
      "[Parallel(n_jobs=-2)]: Done  48 tasks      | elapsed:    3.2s\n",
      "[Parallel(n_jobs=-2)]: Done  49 tasks      | elapsed:    3.2s\n",
      "[Parallel(n_jobs=-2)]: Done  50 tasks      | elapsed:    3.2s\n",
      "[Parallel(n_jobs=-2)]: Done  51 tasks      | elapsed:    3.3s\n",
      "[Parallel(n_jobs=-2)]: Done  52 tasks      | elapsed:    3.5s\n",
      "[Parallel(n_jobs=-2)]: Done  53 tasks      | elapsed:    3.5s\n",
      "[Parallel(n_jobs=-2)]: Done  54 tasks      | elapsed:    3.5s\n",
      "[Parallel(n_jobs=-2)]: Done  55 tasks      | elapsed:    3.6s\n",
      "[Parallel(n_jobs=-2)]: Done  56 tasks      | elapsed:    3.6s\n",
      "[Parallel(n_jobs=-2)]: Done  57 tasks      | elapsed:    3.8s\n",
      "[Parallel(n_jobs=-2)]: Done  58 tasks      | elapsed:    3.8s\n",
      "[Parallel(n_jobs=-2)]: Done  59 tasks      | elapsed:    3.8s\n",
      "[Parallel(n_jobs=-2)]: Done  60 tasks      | elapsed:    3.8s\n",
      "[Parallel(n_jobs=-2)]: Done  61 tasks      | elapsed:    3.8s\n",
      "[Parallel(n_jobs=-2)]: Done  62 tasks      | elapsed:    3.8s\n",
      "[Parallel(n_jobs=-2)]: Done  63 tasks      | elapsed:    3.9s\n",
      "[Parallel(n_jobs=-2)]: Done  64 tasks      | elapsed:    4.2s\n",
      "[Parallel(n_jobs=-2)]: Done  65 tasks      | elapsed:    4.2s\n",
      "[Parallel(n_jobs=-2)]: Done  66 tasks      | elapsed:    4.2s\n",
      "[Parallel(n_jobs=-2)]: Done  67 tasks      | elapsed:    4.2s\n",
      "[Parallel(n_jobs=-2)]: Done  68 tasks      | elapsed:    4.5s\n",
      "[Parallel(n_jobs=-2)]: Done  69 tasks      | elapsed:    4.5s\n",
      "[Parallel(n_jobs=-2)]: Done  70 tasks      | elapsed:    4.5s\n",
      "[Parallel(n_jobs=-2)]: Done  71 tasks      | elapsed:    4.5s\n",
      "[Parallel(n_jobs=-2)]: Done  72 tasks      | elapsed:    4.5s\n",
      "[Parallel(n_jobs=-2)]: Done  73 tasks      | elapsed:    4.5s\n",
      "[Parallel(n_jobs=-2)]: Done  74 tasks      | elapsed:    4.5s\n",
      "[Parallel(n_jobs=-2)]: Done  75 tasks      | elapsed:    4.6s\n",
      "[Parallel(n_jobs=-2)]: Done  76 tasks      | elapsed:    4.9s\n",
      "[Parallel(n_jobs=-2)]: Done  77 tasks      | elapsed:    4.9s\n",
      "[Parallel(n_jobs=-2)]: Done  78 tasks      | elapsed:    4.9s\n",
      "[Parallel(n_jobs=-2)]: Done  79 tasks      | elapsed:    5.1s\n",
      "[Parallel(n_jobs=-2)]: Done  80 tasks      | elapsed:    5.2s\n",
      "[Parallel(n_jobs=-2)]: Done  81 tasks      | elapsed:    5.2s\n",
      "[Parallel(n_jobs=-2)]: Done  82 tasks      | elapsed:    5.2s\n",
      "[Parallel(n_jobs=-2)]: Done  83 tasks      | elapsed:    5.2s\n",
      "[Parallel(n_jobs=-2)]: Done  84 tasks      | elapsed:    5.2s\n",
      "[Parallel(n_jobs=-2)]: Done  85 tasks      | elapsed:    5.2s\n",
      "[Parallel(n_jobs=-2)]: Done  86 tasks      | elapsed:    5.2s\n",
      "[Parallel(n_jobs=-2)]: Done  87 tasks      | elapsed:    5.5s\n",
      "[Parallel(n_jobs=-2)]: Done  88 tasks      | elapsed:    5.6s\n",
      "[Parallel(n_jobs=-2)]: Done  89 tasks      | elapsed:    5.6s\n",
      "[Parallel(n_jobs=-2)]: Done  90 tasks      | elapsed:    5.6s\n",
      "[Parallel(n_jobs=-2)]: Done  91 tasks      | elapsed:    5.7s\n",
      "[Parallel(n_jobs=-2)]: Done  92 tasks      | elapsed:    5.8s\n",
      "[Parallel(n_jobs=-2)]: Done  93 tasks      | elapsed:    5.9s\n",
      "[Parallel(n_jobs=-2)]: Done  94 tasks      | elapsed:    5.9s\n",
      "[Parallel(n_jobs=-2)]: Done  95 tasks      | elapsed:    5.9s\n",
      "[Parallel(n_jobs=-2)]: Done  96 tasks      | elapsed:    5.9s\n",
      "[Parallel(n_jobs=-2)]: Done  97 tasks      | elapsed:    6.0s\n",
      "[Parallel(n_jobs=-2)]: Done  98 tasks      | elapsed:    6.0s\n",
      "[Parallel(n_jobs=-2)]: Done  99 tasks      | elapsed:    6.1s\n",
      "[Parallel(n_jobs=-2)]: Done 100 tasks      | elapsed:    6.2s\n",
      "[Parallel(n_jobs=-2)]: Done 101 tasks      | elapsed:    6.3s\n",
      "[Parallel(n_jobs=-2)]: Done 102 tasks      | elapsed:    6.3s\n",
      "[Parallel(n_jobs=-2)]: Done 103 tasks      | elapsed:    6.3s\n",
      "[Parallel(n_jobs=-2)]: Done 104 tasks      | elapsed:    6.3s\n",
      "[Parallel(n_jobs=-2)]: Done 105 tasks      | elapsed:    6.4s\n",
      "[Parallel(n_jobs=-2)]: Done 106 tasks      | elapsed:    6.5s\n",
      "[Parallel(n_jobs=-2)]: Done 107 tasks      | elapsed:    6.5s\n",
      "[Parallel(n_jobs=-2)]: Done 108 tasks      | elapsed:    6.6s\n",
      "[Parallel(n_jobs=-2)]: Done 109 tasks      | elapsed:    6.6s\n",
      "[Parallel(n_jobs=-2)]: Done 110 tasks      | elapsed:    6.6s\n",
      "[Parallel(n_jobs=-2)]: Done 111 tasks      | elapsed:    6.6s\n",
      "[Parallel(n_jobs=-2)]: Done 112 tasks      | elapsed:    6.9s\n",
      "[Parallel(n_jobs=-2)]: Done 113 tasks      | elapsed:    6.9s\n",
      "[Parallel(n_jobs=-2)]: Done 114 tasks      | elapsed:    6.9s\n",
      "[Parallel(n_jobs=-2)]: Done 115 tasks      | elapsed:    6.9s\n",
      "[Parallel(n_jobs=-2)]: Done 116 tasks      | elapsed:    6.9s\n",
      "[Parallel(n_jobs=-2)]: Done 117 tasks      | elapsed:    6.9s\n",
      "[Parallel(n_jobs=-2)]: Done 118 tasks      | elapsed:    7.2s\n",
      "[Parallel(n_jobs=-2)]: Done 119 tasks      | elapsed:    7.2s\n",
      "[Parallel(n_jobs=-2)]: Done 120 tasks      | elapsed:    7.2s\n",
      "[Parallel(n_jobs=-2)]: Done 121 tasks      | elapsed:    7.2s\n",
      "[Parallel(n_jobs=-2)]: Done 122 tasks      | elapsed:    7.2s\n",
      "[Parallel(n_jobs=-2)]: Done 123 tasks      | elapsed:    7.5s\n",
      "[Parallel(n_jobs=-2)]: Done 124 tasks      | elapsed:    7.5s\n",
      "[Parallel(n_jobs=-2)]: Done 125 tasks      | elapsed:    7.5s\n",
      "[Parallel(n_jobs=-2)]: Done 126 tasks      | elapsed:    7.5s\n",
      "[Parallel(n_jobs=-2)]: Done 127 tasks      | elapsed:    7.5s\n",
      "[Parallel(n_jobs=-2)]: Done 128 tasks      | elapsed:    7.5s\n",
      "[Parallel(n_jobs=-2)]: Done 129 tasks      | elapsed:    7.9s\n",
      "[Parallel(n_jobs=-2)]: Done 130 tasks      | elapsed:    7.9s\n",
      "[Parallel(n_jobs=-2)]: Done 131 tasks      | elapsed:    7.9s\n",
      "[Parallel(n_jobs=-2)]: Done 132 tasks      | elapsed:    7.9s\n",
      "[Parallel(n_jobs=-2)]: Done 133 tasks      | elapsed:    7.9s\n",
      "[Parallel(n_jobs=-2)]: Done 134 tasks      | elapsed:    8.2s\n",
      "[Parallel(n_jobs=-2)]: Done 135 tasks      | elapsed:    8.2s\n",
      "[Parallel(n_jobs=-2)]: Done 136 tasks      | elapsed:    8.2s\n",
      "[Parallel(n_jobs=-2)]: Done 137 tasks      | elapsed:    8.2s\n",
      "[Parallel(n_jobs=-2)]: Done 138 tasks      | elapsed:    8.2s\n",
      "[Parallel(n_jobs=-2)]: Done 139 tasks      | elapsed:    8.2s\n",
      "[Parallel(n_jobs=-2)]: Done 140 tasks      | elapsed:    8.6s\n",
      "[Parallel(n_jobs=-2)]: Done 141 tasks      | elapsed:    8.6s\n",
      "[Parallel(n_jobs=-2)]: Done 142 tasks      | elapsed:    8.6s\n",
      "[Parallel(n_jobs=-2)]: Done 143 tasks      | elapsed:    8.6s\n",
      "[Parallel(n_jobs=-2)]: Done 144 tasks      | elapsed:    8.6s\n",
      "[Parallel(n_jobs=-2)]: Done 145 tasks      | elapsed:    8.9s\n",
      "[Parallel(n_jobs=-2)]: Done 146 tasks      | elapsed:    8.9s\n",
      "[Parallel(n_jobs=-2)]: Done 147 tasks      | elapsed:    8.9s\n",
      "[Parallel(n_jobs=-2)]: Done 148 tasks      | elapsed:    8.9s\n",
      "[Parallel(n_jobs=-2)]: Done 149 tasks      | elapsed:    8.9s\n",
      "[Parallel(n_jobs=-2)]: Done 150 tasks      | elapsed:    8.9s\n",
      "[Parallel(n_jobs=-2)]: Done 151 tasks      | elapsed:    9.2s\n",
      "[Parallel(n_jobs=-2)]: Done 152 tasks      | elapsed:    9.2s\n",
      "[Parallel(n_jobs=-2)]: Done 153 tasks      | elapsed:    9.2s\n",
      "[Parallel(n_jobs=-2)]: Done 154 tasks      | elapsed:    9.2s\n",
      "[Parallel(n_jobs=-2)]: Done 155 tasks      | elapsed:    9.2s\n",
      "[Parallel(n_jobs=-2)]: Done 156 tasks      | elapsed:    9.4s\n",
      "[Parallel(n_jobs=-2)]: Done 157 tasks      | elapsed:    9.6s\n",
      "[Parallel(n_jobs=-2)]: Done 158 tasks      | elapsed:    9.6s\n",
      "[Parallel(n_jobs=-2)]: Done 159 tasks      | elapsed:    9.6s\n",
      "[Parallel(n_jobs=-2)]: Done 160 tasks      | elapsed:    9.6s\n",
      "[Parallel(n_jobs=-2)]: Done 161 tasks      | elapsed:    9.6s\n",
      "[Parallel(n_jobs=-2)]: Done 162 tasks      | elapsed:    9.9s\n",
      "[Parallel(n_jobs=-2)]: Done 163 tasks      | elapsed:    9.9s\n",
      "[Parallel(n_jobs=-2)]: Done 164 tasks      | elapsed:    9.9s\n",
      "[Parallel(n_jobs=-2)]: Done 165 tasks      | elapsed:    9.9s\n",
      "[Parallel(n_jobs=-2)]: Done 166 tasks      | elapsed:    9.9s\n",
      "[Parallel(n_jobs=-2)]: Done 167 tasks      | elapsed:    9.9s\n",
      "[Parallel(n_jobs=-2)]: Done 168 tasks      | elapsed:    9.9s\n",
      "[Parallel(n_jobs=-2)]: Done 169 tasks      | elapsed:   10.1s\n",
      "[Parallel(n_jobs=-2)]: Done 170 tasks      | elapsed:   10.1s\n",
      "[Parallel(n_jobs=-2)]: Done 171 tasks      | elapsed:   10.2s\n",
      "[Parallel(n_jobs=-2)]: Done 172 tasks      | elapsed:   10.2s\n",
      "[Parallel(n_jobs=-2)]: Done 173 tasks      | elapsed:   10.4s\n",
      "[Parallel(n_jobs=-2)]: Done 174 tasks      | elapsed:   10.5s\n",
      "[Parallel(n_jobs=-2)]: Done 175 tasks      | elapsed:   10.5s\n",
      "[Parallel(n_jobs=-2)]: Done 176 tasks      | elapsed:   10.5s\n",
      "[Parallel(n_jobs=-2)]: Done 177 tasks      | elapsed:   10.5s\n",
      "[Parallel(n_jobs=-2)]: Done 178 tasks      | elapsed:   10.5s\n",
      "[Parallel(n_jobs=-2)]: Done 179 tasks      | elapsed:   10.7s\n",
      "[Parallel(n_jobs=-2)]: Done 180 tasks      | elapsed:   10.8s\n",
      "[Parallel(n_jobs=-2)]: Done 181 tasks      | elapsed:   10.8s\n",
      "[Parallel(n_jobs=-2)]: Done 182 tasks      | elapsed:   10.8s\n",
      "[Parallel(n_jobs=-2)]: Done 183 tasks      | elapsed:   10.8s\n",
      "[Parallel(n_jobs=-2)]: Done 184 tasks      | elapsed:   11.4s\n",
      "[Parallel(n_jobs=-2)]: Done 185 tasks      | elapsed:   11.4s\n",
      "[Parallel(n_jobs=-2)]: Done 186 tasks      | elapsed:   11.4s\n",
      "[Parallel(n_jobs=-2)]: Done 187 tasks      | elapsed:   11.4s\n",
      "[Parallel(n_jobs=-2)]: Done 188 tasks      | elapsed:   11.4s\n",
      "[Parallel(n_jobs=-2)]: Done 189 tasks      | elapsed:   11.4s\n",
      "[Parallel(n_jobs=-2)]: Done 190 tasks      | elapsed:   11.4s\n",
      "[Parallel(n_jobs=-2)]: Done 191 tasks      | elapsed:   11.7s\n",
      "[Parallel(n_jobs=-2)]: Done 192 tasks      | elapsed:   11.7s\n",
      "[Parallel(n_jobs=-2)]: Done 193 tasks      | elapsed:   11.7s\n",
      "[Parallel(n_jobs=-2)]: Done 194 tasks      | elapsed:   11.7s\n",
      "[Parallel(n_jobs=-2)]: Done 195 tasks      | elapsed:   11.9s\n",
      "[Parallel(n_jobs=-2)]: Done 196 tasks      | elapsed:   12.0s\n",
      "[Parallel(n_jobs=-2)]: Done 197 tasks      | elapsed:   12.0s\n",
      "[Parallel(n_jobs=-2)]: Done 198 tasks      | elapsed:   12.0s\n",
      "[Parallel(n_jobs=-2)]: Done 199 tasks      | elapsed:   12.1s\n",
      "[Parallel(n_jobs=-2)]: Done 200 tasks      | elapsed:   12.1s\n",
      "[Parallel(n_jobs=-2)]: Done 201 tasks      | elapsed:   12.1s\n",
      "[Parallel(n_jobs=-2)]: Done 202 tasks      | elapsed:   12.3s\n",
      "[Parallel(n_jobs=-2)]: Done 203 tasks      | elapsed:   12.3s\n",
      "[Parallel(n_jobs=-2)]: Done 204 tasks      | elapsed:   12.4s\n",
      "[Parallel(n_jobs=-2)]: Done 205 tasks      | elapsed:   12.4s\n",
      "[Parallel(n_jobs=-2)]: Done 206 tasks      | elapsed:   12.4s\n",
      "[Parallel(n_jobs=-2)]: Done 207 tasks      | elapsed:   12.6s\n",
      "[Parallel(n_jobs=-2)]: Done 208 tasks      | elapsed:   12.6s\n",
      "[Parallel(n_jobs=-2)]: Done 209 tasks      | elapsed:   12.6s\n",
      "[Parallel(n_jobs=-2)]: Done 210 tasks      | elapsed:   12.6s\n",
      "[Parallel(n_jobs=-2)]: Done 211 tasks      | elapsed:   12.6s\n",
      "[Parallel(n_jobs=-2)]: Done 212 tasks      | elapsed:   12.6s\n",
      "[Parallel(n_jobs=-2)]: Done 213 tasks      | elapsed:   13.0s\n",
      "[Parallel(n_jobs=-2)]: Done 214 tasks      | elapsed:   13.0s\n",
      "[Parallel(n_jobs=-2)]: Done 215 tasks      | elapsed:   13.0s\n",
      "[Parallel(n_jobs=-2)]: Done 216 tasks      | elapsed:   13.0s\n",
      "[Parallel(n_jobs=-2)]: Done 217 tasks      | elapsed:   13.0s\n",
      "[Parallel(n_jobs=-2)]: Done 218 tasks      | elapsed:   13.3s\n",
      "[Parallel(n_jobs=-2)]: Done 219 tasks      | elapsed:   13.3s\n",
      "[Parallel(n_jobs=-2)]: Done 220 tasks      | elapsed:   13.3s\n",
      "[Parallel(n_jobs=-2)]: Done 221 tasks      | elapsed:   13.3s\n",
      "[Parallel(n_jobs=-2)]: Done 222 tasks      | elapsed:   13.3s\n",
      "[Parallel(n_jobs=-2)]: Done 223 tasks      | elapsed:   13.3s\n",
      "[Parallel(n_jobs=-2)]: Done 224 tasks      | elapsed:   13.6s\n",
      "[Parallel(n_jobs=-2)]: Done 225 tasks      | elapsed:   13.6s\n",
      "[Parallel(n_jobs=-2)]: Done 226 tasks      | elapsed:   13.6s\n",
      "[Parallel(n_jobs=-2)]: Done 227 tasks      | elapsed:   13.6s\n",
      "[Parallel(n_jobs=-2)]: Done 228 tasks      | elapsed:   13.6s\n",
      "[Parallel(n_jobs=-2)]: Done 229 tasks      | elapsed:   14.0s\n",
      "[Parallel(n_jobs=-2)]: Done 230 tasks      | elapsed:   14.0s\n",
      "[Parallel(n_jobs=-2)]: Done 231 tasks      | elapsed:   14.0s\n",
      "[Parallel(n_jobs=-2)]: Done 232 tasks      | elapsed:   14.0s\n",
      "[Parallel(n_jobs=-2)]: Done 233 tasks      | elapsed:   14.0s\n",
      "[Parallel(n_jobs=-2)]: Done 234 tasks      | elapsed:   14.0s\n",
      "[Parallel(n_jobs=-2)]: Done 235 tasks      | elapsed:   14.3s\n",
      "[Parallel(n_jobs=-2)]: Done 236 tasks      | elapsed:   14.3s\n",
      "[Parallel(n_jobs=-2)]: Done 237 tasks      | elapsed:   14.3s\n",
      "[Parallel(n_jobs=-2)]: Done 238 tasks      | elapsed:   14.3s\n",
      "[Parallel(n_jobs=-2)]: Done 239 tasks      | elapsed:   14.3s\n",
      "[Parallel(n_jobs=-2)]: Done 240 tasks      | elapsed:   14.6s\n",
      "[Parallel(n_jobs=-2)]: Done 241 tasks      | elapsed:   14.7s\n",
      "[Parallel(n_jobs=-2)]: Done 242 tasks      | elapsed:   14.7s\n",
      "[Parallel(n_jobs=-2)]: Done 243 tasks      | elapsed:   14.7s\n",
      "[Parallel(n_jobs=-2)]: Done 244 tasks      | elapsed:   14.7s\n",
      "[Parallel(n_jobs=-2)]: Done 245 tasks      | elapsed:   14.7s\n",
      "[Parallel(n_jobs=-2)]: Done 246 tasks      | elapsed:   14.9s\n",
      "[Parallel(n_jobs=-2)]: Done 247 tasks      | elapsed:   15.1s\n",
      "[Parallel(n_jobs=-2)]: Done 248 tasks      | elapsed:   15.1s\n",
      "[Parallel(n_jobs=-2)]: Done 249 tasks      | elapsed:   15.1s\n",
      "[Parallel(n_jobs=-2)]: Done 250 tasks      | elapsed:   15.1s\n",
      "[Parallel(n_jobs=-2)]: Done 251 tasks      | elapsed:   15.1s\n",
      "[Parallel(n_jobs=-2)]: Done 252 tasks      | elapsed:   15.4s\n",
      "[Parallel(n_jobs=-2)]: Done 253 tasks      | elapsed:   15.4s\n",
      "[Parallel(n_jobs=-2)]: Done 254 tasks      | elapsed:   15.4s\n",
      "[Parallel(n_jobs=-2)]: Done 255 tasks      | elapsed:   15.4s\n",
      "[Parallel(n_jobs=-2)]: Done 256 tasks      | elapsed:   15.4s\n",
      "[Parallel(n_jobs=-2)]: Done 257 tasks      | elapsed:   15.4s\n",
      "[Parallel(n_jobs=-2)]: Done 258 tasks      | elapsed:   15.9s\n",
      "[Parallel(n_jobs=-2)]: Done 259 tasks      | elapsed:   16.0s\n",
      "[Parallel(n_jobs=-2)]: Done 260 tasks      | elapsed:   16.0s\n",
      "[Parallel(n_jobs=-2)]: Done 261 tasks      | elapsed:   16.0s\n",
      "[Parallel(n_jobs=-2)]: Done 262 tasks      | elapsed:   16.0s\n",
      "[Parallel(n_jobs=-2)]: Done 263 tasks      | elapsed:   16.3s\n",
      "[Parallel(n_jobs=-2)]: Done 264 tasks      | elapsed:   16.3s\n",
      "[Parallel(n_jobs=-2)]: Done 265 tasks      | elapsed:   16.3s\n",
      "[Parallel(n_jobs=-2)]: Done 266 tasks      | elapsed:   16.3s\n",
      "[Parallel(n_jobs=-2)]: Done 267 tasks      | elapsed:   16.3s\n",
      "[Parallel(n_jobs=-2)]: Done 268 tasks      | elapsed:   16.3s\n",
      "[Parallel(n_jobs=-2)]: Done 269 tasks      | elapsed:   16.3s\n",
      "[Parallel(n_jobs=-2)]: Done 270 tasks      | elapsed:   16.6s\n",
      "[Parallel(n_jobs=-2)]: Done 271 tasks      | elapsed:   16.6s\n",
      "[Parallel(n_jobs=-2)]: Done 272 tasks      | elapsed:   16.6s\n",
      "[Parallel(n_jobs=-2)]: Done 273 tasks      | elapsed:   16.6s\n",
      "[Parallel(n_jobs=-2)]: Done 274 tasks      | elapsed:   16.9s\n",
      "[Parallel(n_jobs=-2)]: Done 275 tasks      | elapsed:   16.9s\n",
      "[Parallel(n_jobs=-2)]: Done 276 tasks      | elapsed:   16.9s\n",
      "[Parallel(n_jobs=-2)]: Done 277 tasks      | elapsed:   16.9s\n",
      "[Parallel(n_jobs=-2)]: Done 278 tasks      | elapsed:   16.9s\n",
      "[Parallel(n_jobs=-2)]: Done 279 tasks      | elapsed:   16.9s\n",
      "[Parallel(n_jobs=-2)]: Done 280 tasks      | elapsed:   16.9s\n",
      "[Parallel(n_jobs=-2)]: Done 281 tasks      | elapsed:   17.2s\n",
      "[Parallel(n_jobs=-2)]: Done 282 tasks      | elapsed:   17.2s\n",
      "[Parallel(n_jobs=-2)]: Done 283 tasks      | elapsed:   17.2s\n",
      "[Parallel(n_jobs=-2)]: Done 284 tasks      | elapsed:   17.2s\n",
      "[Parallel(n_jobs=-2)]: Done 285 tasks      | elapsed:   17.5s\n",
      "[Parallel(n_jobs=-2)]: Done 286 tasks      | elapsed:   17.5s\n",
      "[Parallel(n_jobs=-2)]: Done 287 tasks      | elapsed:   17.5s\n",
      "[Parallel(n_jobs=-2)]: Done 288 tasks      | elapsed:   17.5s\n",
      "[Parallel(n_jobs=-2)]: Done 289 tasks      | elapsed:   17.5s\n",
      "[Parallel(n_jobs=-2)]: Done 290 tasks      | elapsed:   17.5s\n",
      "[Parallel(n_jobs=-2)]: Done 291 tasks      | elapsed:   17.5s\n",
      "[Parallel(n_jobs=-2)]: Done 292 tasks      | elapsed:   17.8s\n",
      "[Parallel(n_jobs=-2)]: Done 293 tasks      | elapsed:   17.8s\n",
      "[Parallel(n_jobs=-2)]: Done 294 tasks      | elapsed:   17.8s\n",
      "[Parallel(n_jobs=-2)]: Done 295 tasks      | elapsed:   17.8s\n",
      "[Parallel(n_jobs=-2)]: Done 296 tasks      | elapsed:   18.1s\n",
      "[Parallel(n_jobs=-2)]: Done 297 tasks      | elapsed:   18.1s\n",
      "[Parallel(n_jobs=-2)]: Done 298 tasks      | elapsed:   18.2s\n",
      "[Parallel(n_jobs=-2)]: Done 299 tasks      | elapsed:   18.2s\n",
      "[Parallel(n_jobs=-2)]: Done 300 tasks      | elapsed:   18.2s\n",
      "[Parallel(n_jobs=-2)]: Done 301 tasks      | elapsed:   18.2s\n",
      "[Parallel(n_jobs=-2)]: Done 302 tasks      | elapsed:   18.2s\n",
      "[Parallel(n_jobs=-2)]: Done 303 tasks      | elapsed:   18.5s\n",
      "[Parallel(n_jobs=-2)]: Done 304 tasks      | elapsed:   18.5s\n",
      "[Parallel(n_jobs=-2)]: Done 305 tasks      | elapsed:   18.5s\n",
      "[Parallel(n_jobs=-2)]: Done 306 tasks      | elapsed:   18.5s\n",
      "[Parallel(n_jobs=-2)]: Done 307 tasks      | elapsed:   18.5s\n",
      "[Parallel(n_jobs=-2)]: Done 308 tasks      | elapsed:   18.8s\n",
      "[Parallel(n_jobs=-2)]: Done 309 tasks      | elapsed:   18.8s\n",
      "[Parallel(n_jobs=-2)]: Done 310 tasks      | elapsed:   18.8s\n",
      "[Parallel(n_jobs=-2)]: Done 311 tasks      | elapsed:   18.8s\n",
      "[Parallel(n_jobs=-2)]: Done 312 tasks      | elapsed:   18.8s\n",
      "[Parallel(n_jobs=-2)]: Done 313 tasks      | elapsed:   18.8s\n",
      "[Parallel(n_jobs=-2)]: Done 314 tasks      | elapsed:   19.1s\n",
      "[Parallel(n_jobs=-2)]: Done 315 tasks      | elapsed:   19.1s\n",
      "[Parallel(n_jobs=-2)]: Done 316 tasks      | elapsed:   19.1s\n",
      "[Parallel(n_jobs=-2)]: Done 317 tasks      | elapsed:   19.1s\n",
      "[Parallel(n_jobs=-2)]: Done 318 tasks      | elapsed:   19.1s\n",
      "[Parallel(n_jobs=-2)]: Done 319 tasks      | elapsed:   19.5s\n",
      "[Parallel(n_jobs=-2)]: Done 320 tasks      | elapsed:   19.5s\n",
      "[Parallel(n_jobs=-2)]: Done 321 tasks      | elapsed:   19.5s\n",
      "[Parallel(n_jobs=-2)]: Done 322 tasks      | elapsed:   19.5s\n",
      "[Parallel(n_jobs=-2)]: Done 323 tasks      | elapsed:   19.5s\n",
      "[Parallel(n_jobs=-2)]: Done 324 tasks      | elapsed:   19.5s\n",
      "[Parallel(n_jobs=-2)]: Done 325 tasks      | elapsed:   19.9s\n",
      "[Parallel(n_jobs=-2)]: Done 326 tasks      | elapsed:   19.9s\n",
      "[Parallel(n_jobs=-2)]: Done 327 tasks      | elapsed:   19.9s\n",
      "[Parallel(n_jobs=-2)]: Done 328 tasks      | elapsed:   19.9s\n",
      "[Parallel(n_jobs=-2)]: Done 329 tasks      | elapsed:   19.9s\n",
      "[Parallel(n_jobs=-2)]: Done 330 tasks      | elapsed:   20.2s\n",
      "[Parallel(n_jobs=-2)]: Done 331 tasks      | elapsed:   20.2s\n",
      "[Parallel(n_jobs=-2)]: Done 332 tasks      | elapsed:   20.2s\n",
      "[Parallel(n_jobs=-2)]: Done 333 tasks      | elapsed:   20.2s\n",
      "[Parallel(n_jobs=-2)]: Done 334 tasks      | elapsed:   20.2s\n",
      "[Parallel(n_jobs=-2)]: Done 335 tasks      | elapsed:   20.2s\n",
      "[Parallel(n_jobs=-2)]: Done 336 tasks      | elapsed:   20.6s\n",
      "[Parallel(n_jobs=-2)]: Done 337 tasks      | elapsed:   20.6s\n",
      "[Parallel(n_jobs=-2)]: Done 338 tasks      | elapsed:   20.6s\n",
      "[Parallel(n_jobs=-2)]: Done 339 tasks      | elapsed:   20.6s\n",
      "[Parallel(n_jobs=-2)]: Done 340 tasks      | elapsed:   20.6s\n",
      "[Parallel(n_jobs=-2)]: Done 341 tasks      | elapsed:   20.9s\n",
      "[Parallel(n_jobs=-2)]: Done 342 tasks      | elapsed:   20.9s\n",
      "[Parallel(n_jobs=-2)]: Done 343 tasks      | elapsed:   20.9s\n",
      "[Parallel(n_jobs=-2)]: Done 344 tasks      | elapsed:   20.9s\n",
      "[Parallel(n_jobs=-2)]: Done 345 tasks      | elapsed:   20.9s\n",
      "[Parallel(n_jobs=-2)]: Done 346 tasks      | elapsed:   20.9s\n",
      "[Parallel(n_jobs=-2)]: Done 347 tasks      | elapsed:   21.3s\n",
      "[Parallel(n_jobs=-2)]: Done 348 tasks      | elapsed:   21.3s\n",
      "[Parallel(n_jobs=-2)]: Done 349 tasks      | elapsed:   21.3s\n",
      "[Parallel(n_jobs=-2)]: Done 350 tasks      | elapsed:   21.3s\n",
      "[Parallel(n_jobs=-2)]: Done 351 tasks      | elapsed:   21.3s\n",
      "[Parallel(n_jobs=-2)]: Done 352 tasks      | elapsed:   21.6s\n",
      "[Parallel(n_jobs=-2)]: Done 353 tasks      | elapsed:   21.6s\n",
      "[Parallel(n_jobs=-2)]: Done 354 tasks      | elapsed:   21.6s\n",
      "[Parallel(n_jobs=-2)]: Done 355 tasks      | elapsed:   21.6s\n",
      "[Parallel(n_jobs=-2)]: Done 356 tasks      | elapsed:   21.6s\n",
      "[Parallel(n_jobs=-2)]: Done 357 tasks      | elapsed:   21.6s\n",
      "[Parallel(n_jobs=-2)]: Done 358 tasks      | elapsed:   21.8s\n",
      "[Parallel(n_jobs=-2)]: Done 359 tasks      | elapsed:   21.9s\n",
      "[Parallel(n_jobs=-2)]: Done 360 tasks      | elapsed:   21.9s\n",
      "[Parallel(n_jobs=-2)]: Done 361 tasks      | elapsed:   21.9s\n",
      "[Parallel(n_jobs=-2)]: Done 362 tasks      | elapsed:   21.9s\n",
      "[Parallel(n_jobs=-2)]: Done 363 tasks      | elapsed:   22.0s\n",
      "[Parallel(n_jobs=-2)]: Done 364 tasks      | elapsed:   22.1s\n",
      "[Parallel(n_jobs=-2)]: Done 365 tasks      | elapsed:   22.2s\n",
      "[Parallel(n_jobs=-2)]: Done 366 tasks      | elapsed:   22.2s\n",
      "[Parallel(n_jobs=-2)]: Done 367 tasks      | elapsed:   22.2s\n",
      "[Parallel(n_jobs=-2)]: Done 368 tasks      | elapsed:   22.2s\n",
      "[Parallel(n_jobs=-2)]: Done 369 tasks      | elapsed:   22.3s\n",
      "[Parallel(n_jobs=-2)]: Done 370 tasks      | elapsed:   22.3s\n",
      "[Parallel(n_jobs=-2)]: Done 371 tasks      | elapsed:   22.5s\n",
      "[Parallel(n_jobs=-2)]: Done 372 tasks      | elapsed:   22.5s\n",
      "[Parallel(n_jobs=-2)]: Done 373 tasks      | elapsed:   22.5s\n",
      "[Parallel(n_jobs=-2)]: Done 374 tasks      | elapsed:   22.6s\n",
      "[Parallel(n_jobs=-2)]: Done 375 tasks      | elapsed:   22.6s\n",
      "[Parallel(n_jobs=-2)]: Done 376 tasks      | elapsed:   22.6s\n",
      "[Parallel(n_jobs=-2)]: Done 377 tasks      | elapsed:   22.7s\n",
      "[Parallel(n_jobs=-2)]: Done 378 tasks      | elapsed:   22.8s\n",
      "[Parallel(n_jobs=-2)]: Done 379 tasks      | elapsed:   22.8s\n",
      "[Parallel(n_jobs=-2)]: Done 380 tasks      | elapsed:   22.9s\n",
      "[Parallel(n_jobs=-2)]: Done 381 tasks      | elapsed:   22.9s\n",
      "[Parallel(n_jobs=-2)]: Done 382 tasks      | elapsed:   23.0s\n",
      "[Parallel(n_jobs=-2)]: Done 383 tasks      | elapsed:   23.0s\n",
      "[Parallel(n_jobs=-2)]: Done 384 tasks      | elapsed:   23.1s\n",
      "[Parallel(n_jobs=-2)]: Done 385 tasks      | elapsed:   23.1s\n",
      "[Parallel(n_jobs=-2)]: Done 386 tasks      | elapsed:   23.2s\n",
      "[Parallel(n_jobs=-2)]: Done 387 tasks      | elapsed:   23.2s\n",
      "[Parallel(n_jobs=-2)]: Done 388 tasks      | elapsed:   23.2s\n",
      "[Parallel(n_jobs=-2)]: Done 389 tasks      | elapsed:   23.3s\n",
      "[Parallel(n_jobs=-2)]: Done 390 tasks      | elapsed:   23.5s\n",
      "[Parallel(n_jobs=-2)]: Done 391 tasks      | elapsed:   23.5s\n",
      "[Parallel(n_jobs=-2)]: Done 392 tasks      | elapsed:   23.5s\n",
      "[Parallel(n_jobs=-2)]: Done 393 tasks      | elapsed:   23.5s\n",
      "[Parallel(n_jobs=-2)]: Done 394 tasks      | elapsed:   23.5s\n",
      "[Parallel(n_jobs=-2)]: Done 395 tasks      | elapsed:   23.5s\n",
      "[Parallel(n_jobs=-2)]: Done 396 tasks      | elapsed:   23.6s\n",
      "[Parallel(n_jobs=-2)]: Done 397 tasks      | elapsed:   23.7s\n",
      "[Parallel(n_jobs=-2)]: Done 398 tasks      | elapsed:   23.9s\n",
      "[Parallel(n_jobs=-2)]: Done 399 tasks      | elapsed:   23.9s\n",
      "[Parallel(n_jobs=-2)]: Done 400 tasks      | elapsed:   23.9s\n",
      "[Parallel(n_jobs=-2)]: Done 401 tasks      | elapsed:   24.1s\n",
      "[Parallel(n_jobs=-2)]: Done 402 tasks      | elapsed:   24.1s\n",
      "[Parallel(n_jobs=-2)]: Done 403 tasks      | elapsed:   24.1s\n",
      "[Parallel(n_jobs=-2)]: Done 404 tasks      | elapsed:   24.1s\n",
      "[Parallel(n_jobs=-2)]: Done 405 tasks      | elapsed:   24.2s\n",
      "[Parallel(n_jobs=-2)]: Done 406 tasks      | elapsed:   24.2s\n",
      "[Parallel(n_jobs=-2)]: Done 407 tasks      | elapsed:   24.2s\n",
      "[Parallel(n_jobs=-2)]: Done 408 tasks      | elapsed:   24.4s\n",
      "[Parallel(n_jobs=-2)]: Done 409 tasks      | elapsed:   24.4s\n",
      "[Parallel(n_jobs=-2)]: Done 410 tasks      | elapsed:   24.4s\n",
      "[Parallel(n_jobs=-2)]: Done 411 tasks      | elapsed:   24.5s\n",
      "[Parallel(n_jobs=-2)]: Done 412 tasks      | elapsed:   24.7s\n",
      "[Parallel(n_jobs=-2)]: Done 413 tasks      | elapsed:   24.8s\n",
      "[Parallel(n_jobs=-2)]: Done 414 tasks      | elapsed:   24.8s\n",
      "[Parallel(n_jobs=-2)]: Done 415 tasks      | elapsed:   24.8s\n",
      "[Parallel(n_jobs=-2)]: Done 416 tasks      | elapsed:   24.8s\n",
      "[Parallel(n_jobs=-2)]: Done 417 tasks      | elapsed:   24.8s\n",
      "[Parallel(n_jobs=-2)]: Done 418 tasks      | elapsed:   24.8s\n",
      "[Parallel(n_jobs=-2)]: Done 419 tasks      | elapsed:   25.1s\n",
      "[Parallel(n_jobs=-2)]: Done 420 tasks      | elapsed:   25.1s\n",
      "[Parallel(n_jobs=-2)]: Done 421 tasks      | elapsed:   25.1s\n",
      "[Parallel(n_jobs=-2)]: Done 422 tasks      | elapsed:   25.1s\n",
      "[Parallel(n_jobs=-2)]: Done 423 tasks      | elapsed:   25.1s\n",
      "[Parallel(n_jobs=-2)]: Done 424 tasks      | elapsed:   25.4s\n",
      "[Parallel(n_jobs=-2)]: Done 425 tasks      | elapsed:   25.4s\n",
      "[Parallel(n_jobs=-2)]: Done 426 tasks      | elapsed:   25.4s\n",
      "[Parallel(n_jobs=-2)]: Done 427 tasks      | elapsed:   25.5s\n",
      "[Parallel(n_jobs=-2)]: Done 428 tasks      | elapsed:   25.5s\n",
      "[Parallel(n_jobs=-2)]: Done 429 tasks      | elapsed:   25.5s\n",
      "[Parallel(n_jobs=-2)]: Done 430 tasks      | elapsed:   25.8s\n",
      "[Parallel(n_jobs=-2)]: Done 431 tasks      | elapsed:   25.8s\n",
      "[Parallel(n_jobs=-2)]: Done 432 tasks      | elapsed:   25.8s\n",
      "[Parallel(n_jobs=-2)]: Done 433 tasks      | elapsed:   25.8s\n",
      "[Parallel(n_jobs=-2)]: Done 434 tasks      | elapsed:   25.8s\n",
      "[Parallel(n_jobs=-2)]: Done 435 tasks      | elapsed:   26.1s\n",
      "[Parallel(n_jobs=-2)]: Done 436 tasks      | elapsed:   26.1s\n",
      "[Parallel(n_jobs=-2)]: Done 437 tasks      | elapsed:   26.1s\n",
      "[Parallel(n_jobs=-2)]: Done 438 tasks      | elapsed:   26.1s\n",
      "[Parallel(n_jobs=-2)]: Done 439 tasks      | elapsed:   26.1s\n",
      "[Parallel(n_jobs=-2)]: Done 440 tasks      | elapsed:   26.1s\n",
      "[Parallel(n_jobs=-2)]: Done 441 tasks      | elapsed:   26.4s\n",
      "[Parallel(n_jobs=-2)]: Done 442 tasks      | elapsed:   26.5s\n",
      "[Parallel(n_jobs=-2)]: Done 443 tasks      | elapsed:   26.5s\n",
      "[Parallel(n_jobs=-2)]: Done 444 tasks      | elapsed:   26.5s\n",
      "[Parallel(n_jobs=-2)]: Done 445 tasks      | elapsed:   26.5s\n",
      "[Parallel(n_jobs=-2)]: Done 446 tasks      | elapsed:   26.7s\n",
      "[Parallel(n_jobs=-2)]: Done 447 tasks      | elapsed:   26.8s\n",
      "[Parallel(n_jobs=-2)]: Done 448 tasks      | elapsed:   26.8s\n",
      "[Parallel(n_jobs=-2)]: Done 449 tasks      | elapsed:   26.8s\n",
      "[Parallel(n_jobs=-2)]: Done 450 tasks      | elapsed:   26.8s\n",
      "[Parallel(n_jobs=-2)]: Done 451 tasks      | elapsed:   26.8s\n",
      "[Parallel(n_jobs=-2)]: Done 452 tasks      | elapsed:   27.1s\n",
      "[Parallel(n_jobs=-2)]: Done 453 tasks      | elapsed:   27.2s\n",
      "[Parallel(n_jobs=-2)]: Done 454 tasks      | elapsed:   27.2s\n",
      "[Parallel(n_jobs=-2)]: Done 455 tasks      | elapsed:   27.2s\n",
      "[Parallel(n_jobs=-2)]: Done 456 tasks      | elapsed:   27.2s\n",
      "[Parallel(n_jobs=-2)]: Done 457 tasks      | elapsed:   27.2s\n",
      "[Parallel(n_jobs=-2)]: Done 458 tasks      | elapsed:   27.3s\n",
      "[Parallel(n_jobs=-2)]: Done 459 tasks      | elapsed:   27.4s\n",
      "[Parallel(n_jobs=-2)]: Done 460 tasks      | elapsed:   27.5s\n",
      "[Parallel(n_jobs=-2)]: Done 461 tasks      | elapsed:   27.5s\n",
      "[Parallel(n_jobs=-2)]: Done 462 tasks      | elapsed:   27.5s\n",
      "[Parallel(n_jobs=-2)]: Done 463 tasks      | elapsed:   27.5s\n",
      "[Parallel(n_jobs=-2)]: Done 464 tasks      | elapsed:   27.7s\n",
      "[Parallel(n_jobs=-2)]: Done 465 tasks      | elapsed:   27.8s\n",
      "[Parallel(n_jobs=-2)]: Done 466 tasks      | elapsed:   27.8s\n",
      "[Parallel(n_jobs=-2)]: Done 467 tasks      | elapsed:   27.8s\n",
      "[Parallel(n_jobs=-2)]: Done 468 tasks      | elapsed:   27.8s\n",
      "[Parallel(n_jobs=-2)]: Done 469 tasks      | elapsed:   27.8s\n",
      "[Parallel(n_jobs=-2)]: Done 470 tasks      | elapsed:   27.8s\n",
      "[Parallel(n_jobs=-2)]: Done 471 tasks      | elapsed:   27.9s\n",
      "[Parallel(n_jobs=-2)]: Done 472 tasks      | elapsed:   28.0s\n",
      "[Parallel(n_jobs=-2)]: Done 473 tasks      | elapsed:   28.1s\n",
      "[Parallel(n_jobs=-2)]: Done 474 tasks      | elapsed:   28.1s\n",
      "[Parallel(n_jobs=-2)]: Done 475 tasks      | elapsed:   28.1s\n",
      "[Parallel(n_jobs=-2)]: Done 476 tasks      | elapsed:   28.1s\n",
      "[Parallel(n_jobs=-2)]: Done 477 tasks      | elapsed:   28.3s\n",
      "[Parallel(n_jobs=-2)]: Done 478 tasks      | elapsed:   28.3s\n",
      "[Parallel(n_jobs=-2)]: Done 479 tasks      | elapsed:   28.3s\n",
      "[Parallel(n_jobs=-2)]: Done 480 tasks      | elapsed:   28.4s\n",
      "[Parallel(n_jobs=-2)]: Done 481 tasks      | elapsed:   28.4s\n",
      "[Parallel(n_jobs=-2)]: Done 482 tasks      | elapsed:   28.4s\n",
      "[Parallel(n_jobs=-2)]: Done 483 tasks      | elapsed:   28.5s\n",
      "[Parallel(n_jobs=-2)]: Done 484 tasks      | elapsed:   28.6s\n",
      "[Parallel(n_jobs=-2)]: Done 485 tasks      | elapsed:   28.6s\n",
      "[Parallel(n_jobs=-2)]: Done 486 tasks      | elapsed:   28.7s\n",
      "[Parallel(n_jobs=-2)]: Done 487 tasks      | elapsed:   28.7s\n",
      "[Parallel(n_jobs=-2)]: Done 488 tasks      | elapsed:   28.7s\n",
      "[Parallel(n_jobs=-2)]: Done 489 tasks      | elapsed:   28.8s\n",
      "[Parallel(n_jobs=-2)]: Done 490 tasks      | elapsed:   28.8s\n",
      "[Parallel(n_jobs=-2)]: Done 491 tasks      | elapsed:   28.8s\n",
      "[Parallel(n_jobs=-2)]: Done 492 tasks      | elapsed:   28.9s\n",
      "[Parallel(n_jobs=-2)]: Done 493 tasks      | elapsed:   28.9s\n",
      "[Parallel(n_jobs=-2)]: Done 494 tasks      | elapsed:   28.9s\n",
      "[Parallel(n_jobs=-2)]: Done 495 tasks      | elapsed:   28.9s\n",
      "[Parallel(n_jobs=-2)]: Done 496 tasks      | elapsed:   29.1s\n",
      "[Parallel(n_jobs=-2)]: Done 497 tasks      | elapsed:   29.2s\n",
      "[Parallel(n_jobs=-2)]: Done 498 tasks      | elapsed:   29.2s\n",
      "[Parallel(n_jobs=-2)]: Done 499 tasks      | elapsed:   29.3s\n",
      "[Parallel(n_jobs=-2)]: Done 500 tasks      | elapsed:   29.3s\n",
      "[Parallel(n_jobs=-2)]: Done 501 tasks      | elapsed:   29.3s\n",
      "[Parallel(n_jobs=-2)]: Done 502 tasks      | elapsed:   29.7s\n",
      "[Parallel(n_jobs=-2)]: Done 503 tasks      | elapsed:   29.8s\n",
      "[Parallel(n_jobs=-2)]: Done 504 tasks      | elapsed:   29.8s\n",
      "[Parallel(n_jobs=-2)]: Done 505 tasks      | elapsed:   29.8s\n",
      "[Parallel(n_jobs=-2)]: Done 506 tasks      | elapsed:   29.8s\n",
      "[Parallel(n_jobs=-2)]: Done 507 tasks      | elapsed:   29.8s\n",
      "[Parallel(n_jobs=-2)]: Done 508 tasks      | elapsed:   29.8s\n",
      "[Parallel(n_jobs=-2)]: Done 509 tasks      | elapsed:   30.1s\n",
      "[Parallel(n_jobs=-2)]: Done 510 tasks      | elapsed:   30.1s\n",
      "[Parallel(n_jobs=-2)]: Done 511 tasks      | elapsed:   30.1s\n",
      "[Parallel(n_jobs=-2)]: Done 512 tasks      | elapsed:   30.1s\n",
      "[Parallel(n_jobs=-2)]: Done 513 tasks      | elapsed:   30.1s\n",
      "[Parallel(n_jobs=-2)]: Done 514 tasks      | elapsed:   30.3s\n",
      "[Parallel(n_jobs=-2)]: Done 515 tasks      | elapsed:   30.4s\n",
      "[Parallel(n_jobs=-2)]: Done 516 tasks      | elapsed:   30.4s\n",
      "[Parallel(n_jobs=-2)]: Done 517 tasks      | elapsed:   30.4s\n",
      "[Parallel(n_jobs=-2)]: Done 518 tasks      | elapsed:   30.4s\n",
      "[Parallel(n_jobs=-2)]: Done 519 tasks      | elapsed:   30.4s\n",
      "[Parallel(n_jobs=-2)]: Done 520 tasks      | elapsed:   30.6s\n",
      "[Parallel(n_jobs=-2)]: Done 521 tasks      | elapsed:   30.7s\n",
      "[Parallel(n_jobs=-2)]: Done 522 tasks      | elapsed:   30.7s\n",
      "[Parallel(n_jobs=-2)]: Done 523 tasks      | elapsed:   30.7s\n",
      "[Parallel(n_jobs=-2)]: Done 524 tasks      | elapsed:   30.7s\n",
      "[Parallel(n_jobs=-2)]: Done 525 tasks      | elapsed:   30.8s\n",
      "[Parallel(n_jobs=-2)]: Done 526 tasks      | elapsed:   30.9s\n",
      "[Parallel(n_jobs=-2)]: Done 527 tasks      | elapsed:   31.0s\n",
      "[Parallel(n_jobs=-2)]: Done 528 tasks      | elapsed:   31.1s\n",
      "[Parallel(n_jobs=-2)]: Done 529 tasks      | elapsed:   31.1s\n",
      "[Parallel(n_jobs=-2)]: Done 530 tasks      | elapsed:   31.1s\n",
      "[Parallel(n_jobs=-2)]: Done 531 tasks      | elapsed:   31.2s\n",
      "[Parallel(n_jobs=-2)]: Done 532 tasks      | elapsed:   31.2s\n",
      "[Parallel(n_jobs=-2)]: Done 533 tasks      | elapsed:   31.3s\n",
      "[Parallel(n_jobs=-2)]: Done 534 tasks      | elapsed:   31.3s\n",
      "[Parallel(n_jobs=-2)]: Done 535 tasks      | elapsed:   31.4s\n",
      "[Parallel(n_jobs=-2)]: Done 536 tasks      | elapsed:   31.4s\n",
      "[Parallel(n_jobs=-2)]: Done 537 tasks      | elapsed:   31.4s\n",
      "[Parallel(n_jobs=-2)]: Done 538 tasks      | elapsed:   31.5s\n",
      "[Parallel(n_jobs=-2)]: Done 539 tasks      | elapsed:   31.5s\n",
      "[Parallel(n_jobs=-2)]: Done 540 tasks      | elapsed:   31.7s\n",
      "[Parallel(n_jobs=-2)]: Done 541 tasks      | elapsed:   31.8s\n",
      "[Parallel(n_jobs=-2)]: Done 542 tasks      | elapsed:   31.8s\n",
      "[Parallel(n_jobs=-2)]: Done 543 tasks      | elapsed:   31.8s\n",
      "[Parallel(n_jobs=-2)]: Done 544 tasks      | elapsed:   31.8s\n",
      "[Parallel(n_jobs=-2)]: Done 545 tasks      | elapsed:   31.9s\n",
      "[Parallel(n_jobs=-2)]: Done 546 tasks      | elapsed:   31.9s\n",
      "[Parallel(n_jobs=-2)]: Done 547 tasks      | elapsed:   31.9s\n",
      "[Parallel(n_jobs=-2)]: Done 548 tasks      | elapsed:   32.0s\n",
      "[Parallel(n_jobs=-2)]: Done 549 tasks      | elapsed:   32.0s\n",
      "[Parallel(n_jobs=-2)]: Done 550 tasks      | elapsed:   32.1s\n",
      "[Parallel(n_jobs=-2)]: Done 551 tasks      | elapsed:   32.1s\n",
      "[Parallel(n_jobs=-2)]: Done 552 tasks      | elapsed:   32.2s\n",
      "[Parallel(n_jobs=-2)]: Done 553 tasks      | elapsed:   32.2s\n",
      "[Parallel(n_jobs=-2)]: Done 554 tasks      | elapsed:   32.3s\n",
      "[Parallel(n_jobs=-2)]: Done 555 tasks      | elapsed:   32.4s\n",
      "[Parallel(n_jobs=-2)]: Done 556 tasks      | elapsed:   32.4s\n",
      "[Parallel(n_jobs=-2)]: Done 557 tasks      | elapsed:   32.4s\n",
      "[Parallel(n_jobs=-2)]: Done 558 tasks      | elapsed:   32.5s\n",
      "[Parallel(n_jobs=-2)]: Done 559 tasks      | elapsed:   32.5s\n",
      "[Parallel(n_jobs=-2)]: Done 560 tasks      | elapsed:   32.5s\n",
      "[Parallel(n_jobs=-2)]: Done 561 tasks      | elapsed:   32.6s\n",
      "[Parallel(n_jobs=-2)]: Done 562 tasks      | elapsed:   32.6s\n",
      "[Parallel(n_jobs=-2)]: Done 563 tasks      | elapsed:   32.6s\n",
      "[Parallel(n_jobs=-2)]: Done 564 tasks      | elapsed:   32.6s\n",
      "[Parallel(n_jobs=-2)]: Done 565 tasks      | elapsed:   32.7s\n",
      "[Parallel(n_jobs=-2)]: Done 566 tasks      | elapsed:   32.9s\n",
      "[Parallel(n_jobs=-2)]: Done 567 tasks      | elapsed:   32.9s\n",
      "[Parallel(n_jobs=-2)]: Done 568 tasks      | elapsed:   32.9s\n",
      "[Parallel(n_jobs=-2)]: Done 569 tasks      | elapsed:   33.0s\n",
      "[Parallel(n_jobs=-2)]: Done 570 tasks      | elapsed:   33.2s\n",
      "[Parallel(n_jobs=-2)]: Done 571 tasks      | elapsed:   33.2s\n",
      "[Parallel(n_jobs=-2)]: Done 572 tasks      | elapsed:   33.2s\n",
      "[Parallel(n_jobs=-2)]: Done 573 tasks      | elapsed:   33.2s\n",
      "[Parallel(n_jobs=-2)]: Done 574 tasks      | elapsed:   33.3s\n",
      "[Parallel(n_jobs=-2)]: Done 575 tasks      | elapsed:   33.3s\n",
      "[Parallel(n_jobs=-2)]: Done 576 tasks      | elapsed:   33.3s\n",
      "[Parallel(n_jobs=-2)]: Done 577 tasks      | elapsed:   33.6s\n",
      "[Parallel(n_jobs=-2)]: Done 578 tasks      | elapsed:   33.6s\n",
      "[Parallel(n_jobs=-2)]: Done 579 tasks      | elapsed:   33.6s\n",
      "[Parallel(n_jobs=-2)]: Done 580 tasks      | elapsed:   33.6s\n",
      "[Parallel(n_jobs=-2)]: Done 581 tasks      | elapsed:   33.6s\n",
      "[Parallel(n_jobs=-2)]: Done 582 tasks      | elapsed:   33.9s\n",
      "[Parallel(n_jobs=-2)]: Done 583 tasks      | elapsed:   33.9s\n",
      "[Parallel(n_jobs=-2)]: Done 584 tasks      | elapsed:   33.9s\n",
      "[Parallel(n_jobs=-2)]: Done 585 tasks      | elapsed:   33.9s\n",
      "[Parallel(n_jobs=-2)]: Done 586 tasks      | elapsed:   33.9s\n",
      "[Parallel(n_jobs=-2)]: Done 587 tasks      | elapsed:   33.9s\n",
      "[Parallel(n_jobs=-2)]: Done 588 tasks      | elapsed:   34.1s\n",
      "[Parallel(n_jobs=-2)]: Done 589 tasks      | elapsed:   34.1s\n",
      "[Parallel(n_jobs=-2)]: Done 590 tasks      | elapsed:   34.2s\n",
      "[Parallel(n_jobs=-2)]: Done 591 tasks      | elapsed:   34.3s\n",
      "[Parallel(n_jobs=-2)]: Done 592 tasks      | elapsed:   34.3s\n",
      "[Parallel(n_jobs=-2)]: Done 593 tasks      | elapsed:   34.6s\n",
      "[Parallel(n_jobs=-2)]: Done 594 tasks      | elapsed:   34.6s\n",
      "[Parallel(n_jobs=-2)]: Done 595 tasks      | elapsed:   34.6s\n",
      "[Parallel(n_jobs=-2)]: Done 596 tasks      | elapsed:   34.6s\n",
      "[Parallel(n_jobs=-2)]: Done 597 tasks      | elapsed:   34.6s\n",
      "[Parallel(n_jobs=-2)]: Done 598 tasks      | elapsed:   34.6s\n",
      "[Parallel(n_jobs=-2)]: Done 599 tasks      | elapsed:   34.6s\n",
      "[Parallel(n_jobs=-2)]: Done 600 tasks      | elapsed:   34.7s\n",
      "[Parallel(n_jobs=-2)]: Done 601 tasks      | elapsed:   34.9s\n",
      "[Parallel(n_jobs=-2)]: Done 602 tasks      | elapsed:   34.9s\n",
      "[Parallel(n_jobs=-2)]: Done 603 tasks      | elapsed:   34.9s\n",
      "[Parallel(n_jobs=-2)]: Done 604 tasks      | elapsed:   35.1s\n",
      "[Parallel(n_jobs=-2)]: Done 605 tasks      | elapsed:   35.2s\n",
      "[Parallel(n_jobs=-2)]: Done 606 tasks      | elapsed:   35.2s\n",
      "[Parallel(n_jobs=-2)]: Done 607 tasks      | elapsed:   35.2s\n",
      "[Parallel(n_jobs=-2)]: Done 608 tasks      | elapsed:   35.2s\n",
      "[Parallel(n_jobs=-2)]: Done 609 tasks      | elapsed:   35.2s\n",
      "[Parallel(n_jobs=-2)]: Done 610 tasks      | elapsed:   35.2s\n",
      "[Parallel(n_jobs=-2)]: Done 611 tasks      | elapsed:   35.3s\n",
      "[Parallel(n_jobs=-2)]: Done 612 tasks      | elapsed:   35.5s\n",
      "[Parallel(n_jobs=-2)]: Done 613 tasks      | elapsed:   35.5s\n",
      "[Parallel(n_jobs=-2)]: Done 614 tasks      | elapsed:   35.6s\n",
      "[Parallel(n_jobs=-2)]: Done 615 tasks      | elapsed:   35.6s\n",
      "[Parallel(n_jobs=-2)]: Done 616 tasks      | elapsed:   35.6s\n",
      "[Parallel(n_jobs=-2)]: Done 617 tasks      | elapsed:   35.7s\n",
      "[Parallel(n_jobs=-2)]: Done 618 tasks      | elapsed:   35.7s\n",
      "[Parallel(n_jobs=-2)]: Done 619 tasks      | elapsed:   35.7s\n",
      "[Parallel(n_jobs=-2)]: Done 620 tasks      | elapsed:   35.9s\n",
      "[Parallel(n_jobs=-2)]: Done 621 tasks      | elapsed:   35.9s\n",
      "[Parallel(n_jobs=-2)]: Done 622 tasks      | elapsed:   35.9s\n",
      "[Parallel(n_jobs=-2)]: Done 623 tasks      | elapsed:   36.1s\n",
      "[Parallel(n_jobs=-2)]: Done 624 tasks      | elapsed:   36.1s\n",
      "[Parallel(n_jobs=-2)]: Done 625 tasks      | elapsed:   36.1s\n",
      "[Parallel(n_jobs=-2)]: Done 626 tasks      | elapsed:   36.1s\n",
      "[Parallel(n_jobs=-2)]: Done 627 tasks      | elapsed:   36.1s\n",
      "[Parallel(n_jobs=-2)]: Done 628 tasks      | elapsed:   36.2s\n",
      "[Parallel(n_jobs=-2)]: Done 629 tasks      | elapsed:   36.3s\n",
      "[Parallel(n_jobs=-2)]: Done 630 tasks      | elapsed:   36.4s\n",
      "[Parallel(n_jobs=-2)]: Done 631 tasks      | elapsed:   36.4s\n",
      "[Parallel(n_jobs=-2)]: Done 632 tasks      | elapsed:   36.4s\n",
      "[Parallel(n_jobs=-2)]: Done 633 tasks      | elapsed:   36.5s\n",
      "[Parallel(n_jobs=-2)]: Done 634 tasks      | elapsed:   36.5s\n",
      "[Parallel(n_jobs=-2)]: Done 635 tasks      | elapsed:   36.5s\n",
      "[Parallel(n_jobs=-2)]: Done 636 tasks      | elapsed:   36.8s\n",
      "[Parallel(n_jobs=-2)]: Done 637 tasks      | elapsed:   36.8s\n",
      "[Parallel(n_jobs=-2)]: Done 638 tasks      | elapsed:   36.8s\n",
      "[Parallel(n_jobs=-2)]: Done 639 tasks      | elapsed:   36.8s\n",
      "[Parallel(n_jobs=-2)]: Done 640 tasks      | elapsed:   36.8s\n",
      "[Parallel(n_jobs=-2)]: Done 641 tasks      | elapsed:   36.8s\n",
      "[Parallel(n_jobs=-2)]: Done 642 tasks      | elapsed:   37.1s\n",
      "[Parallel(n_jobs=-2)]: Done 643 tasks      | elapsed:   37.1s\n",
      "[Parallel(n_jobs=-2)]: Done 644 tasks      | elapsed:   37.1s\n",
      "[Parallel(n_jobs=-2)]: Done 645 tasks      | elapsed:   37.1s\n",
      "[Parallel(n_jobs=-2)]: Done 646 tasks      | elapsed:   37.1s\n",
      "[Parallel(n_jobs=-2)]: Done 647 tasks      | elapsed:   37.3s\n",
      "[Parallel(n_jobs=-2)]: Done 648 tasks      | elapsed:   37.3s\n",
      "[Parallel(n_jobs=-2)]: Done 649 tasks      | elapsed:   37.3s\n",
      "[Parallel(n_jobs=-2)]: Done 650 tasks      | elapsed:   37.5s\n",
      "[Parallel(n_jobs=-2)]: Done 651 tasks      | elapsed:   37.6s\n",
      "[Parallel(n_jobs=-2)]: Done 652 tasks      | elapsed:   37.6s\n",
      "[Parallel(n_jobs=-2)]: Done 653 tasks      | elapsed:   37.8s\n",
      "[Parallel(n_jobs=-2)]: Done 654 tasks      | elapsed:   37.8s\n",
      "[Parallel(n_jobs=-2)]: Done 655 tasks      | elapsed:   37.9s\n",
      "[Parallel(n_jobs=-2)]: Done 656 tasks      | elapsed:   37.9s\n",
      "[Parallel(n_jobs=-2)]: Done 657 tasks      | elapsed:   37.9s\n",
      "[Parallel(n_jobs=-2)]: Done 658 tasks      | elapsed:   37.9s\n",
      "[Parallel(n_jobs=-2)]: Done 659 tasks      | elapsed:   37.9s\n",
      "[Parallel(n_jobs=-2)]: Done 660 tasks      | elapsed:   37.9s\n",
      "[Parallel(n_jobs=-2)]: Done 661 tasks      | elapsed:   38.0s\n",
      "[Parallel(n_jobs=-2)]: Done 662 tasks      | elapsed:   38.2s\n",
      "[Parallel(n_jobs=-2)]: Done 663 tasks      | elapsed:   38.3s\n",
      "[Parallel(n_jobs=-2)]: Done 664 tasks      | elapsed:   38.3s\n",
      "[Parallel(n_jobs=-2)]: Done 665 tasks      | elapsed:   38.3s\n",
      "[Parallel(n_jobs=-2)]: Done 666 tasks      | elapsed:   38.5s\n",
      "[Parallel(n_jobs=-2)]: Done 667 tasks      | elapsed:   38.5s\n",
      "[Parallel(n_jobs=-2)]: Done 668 tasks      | elapsed:   38.5s\n",
      "[Parallel(n_jobs=-2)]: Done 669 tasks      | elapsed:   38.6s\n",
      "[Parallel(n_jobs=-2)]: Done 670 tasks      | elapsed:   38.6s\n",
      "[Parallel(n_jobs=-2)]: Done 671 tasks      | elapsed:   38.7s\n",
      "[Parallel(n_jobs=-2)]: Done 672 tasks      | elapsed:   38.8s\n",
      "[Parallel(n_jobs=-2)]: Done 673 tasks      | elapsed:   38.9s\n",
      "[Parallel(n_jobs=-2)]: Done 674 tasks      | elapsed:   38.9s\n",
      "[Parallel(n_jobs=-2)]: Done 675 tasks      | elapsed:   39.0s\n",
      "[Parallel(n_jobs=-2)]: Done 676 tasks      | elapsed:   39.0s\n",
      "[Parallel(n_jobs=-2)]: Done 677 tasks      | elapsed:   39.1s\n",
      "[Parallel(n_jobs=-2)]: Done 678 tasks      | elapsed:   39.1s\n",
      "[Parallel(n_jobs=-2)]: Done 679 tasks      | elapsed:   39.1s\n",
      "[Parallel(n_jobs=-2)]: Done 680 tasks      | elapsed:   39.1s\n",
      "[Parallel(n_jobs=-2)]: Done 681 tasks      | elapsed:   39.1s\n",
      "[Parallel(n_jobs=-2)]: Done 682 tasks      | elapsed:   39.2s\n",
      "[Parallel(n_jobs=-2)]: Done 683 tasks      | elapsed:   39.4s\n",
      "[Parallel(n_jobs=-2)]: Done 684 tasks      | elapsed:   39.4s\n",
      "[Parallel(n_jobs=-2)]: Done 685 tasks      | elapsed:   39.4s\n",
      "[Parallel(n_jobs=-2)]: Done 686 tasks      | elapsed:   39.4s\n",
      "[Parallel(n_jobs=-2)]: Done 687 tasks      | elapsed:   39.7s\n",
      "[Parallel(n_jobs=-2)]: Done 688 tasks      | elapsed:   39.7s\n",
      "[Parallel(n_jobs=-2)]: Done 689 tasks      | elapsed:   39.7s\n",
      "[Parallel(n_jobs=-2)]: Done 690 tasks      | elapsed:   39.7s\n",
      "[Parallel(n_jobs=-2)]: Done 691 tasks      | elapsed:   39.8s\n",
      "[Parallel(n_jobs=-2)]: Done 692 tasks      | elapsed:   39.8s\n",
      "[Parallel(n_jobs=-2)]: Done 693 tasks      | elapsed:   39.8s\n",
      "[Parallel(n_jobs=-2)]: Done 694 tasks      | elapsed:   40.0s\n",
      "[Parallel(n_jobs=-2)]: Done 695 tasks      | elapsed:   40.1s\n",
      "[Parallel(n_jobs=-2)]: Done 696 tasks      | elapsed:   40.1s\n",
      "[Parallel(n_jobs=-2)]: Done 697 tasks      | elapsed:   40.1s\n",
      "[Parallel(n_jobs=-2)]: Done 698 tasks      | elapsed:   40.1s\n",
      "[Parallel(n_jobs=-2)]: Done 699 tasks      | elapsed:   40.2s\n",
      "[Parallel(n_jobs=-2)]: Done 700 tasks      | elapsed:   40.3s\n",
      "[Parallel(n_jobs=-2)]: Done 701 tasks      | elapsed:   40.3s\n",
      "[Parallel(n_jobs=-2)]: Done 702 tasks      | elapsed:   40.3s\n",
      "[Parallel(n_jobs=-2)]: Done 703 tasks      | elapsed:   40.4s\n",
      "[Parallel(n_jobs=-2)]: Done 704 tasks      | elapsed:   40.4s\n",
      "[Parallel(n_jobs=-2)]: Done 705 tasks      | elapsed:   40.5s\n",
      "[Parallel(n_jobs=-2)]: Done 706 tasks      | elapsed:   40.7s\n",
      "[Parallel(n_jobs=-2)]: Done 707 tasks      | elapsed:   40.8s\n",
      "[Parallel(n_jobs=-2)]: Done 708 tasks      | elapsed:   40.9s\n",
      "[Parallel(n_jobs=-2)]: Done 709 tasks      | elapsed:   40.9s\n",
      "[Parallel(n_jobs=-2)]: Done 710 tasks      | elapsed:   41.0s\n",
      "[Parallel(n_jobs=-2)]: Done 711 tasks      | elapsed:   41.0s\n",
      "[Parallel(n_jobs=-2)]: Done 712 tasks      | elapsed:   41.0s\n",
      "[Parallel(n_jobs=-2)]: Done 713 tasks      | elapsed:   41.1s\n",
      "[Parallel(n_jobs=-2)]: Done 714 tasks      | elapsed:   41.1s\n",
      "[Parallel(n_jobs=-2)]: Done 715 tasks      | elapsed:   41.1s\n",
      "[Parallel(n_jobs=-2)]: Done 716 tasks      | elapsed:   41.3s\n",
      "[Parallel(n_jobs=-2)]: Done 717 tasks      | elapsed:   41.4s\n",
      "[Parallel(n_jobs=-2)]: Done 718 tasks      | elapsed:   41.4s\n",
      "[Parallel(n_jobs=-2)]: Done 719 tasks      | elapsed:   41.4s\n",
      "[Parallel(n_jobs=-2)]: Done 720 tasks      | elapsed:   41.5s\n",
      "[Parallel(n_jobs=-2)]: Done 721 tasks      | elapsed:   41.7s\n",
      "[Parallel(n_jobs=-2)]: Done 722 tasks      | elapsed:   41.8s\n",
      "[Parallel(n_jobs=-2)]: Done 723 tasks      | elapsed:   41.8s\n",
      "[Parallel(n_jobs=-2)]: Done 724 tasks      | elapsed:   41.8s\n",
      "[Parallel(n_jobs=-2)]: Done 725 tasks      | elapsed:   41.8s\n",
      "[Parallel(n_jobs=-2)]: Done 726 tasks      | elapsed:   41.8s\n",
      "[Parallel(n_jobs=-2)]: Done 727 tasks      | elapsed:   41.8s\n",
      "[Parallel(n_jobs=-2)]: Done 728 tasks      | elapsed:   41.9s\n",
      "[Parallel(n_jobs=-2)]: Done 729 tasks      | elapsed:   42.0s\n",
      "[Parallel(n_jobs=-2)]: Done 730 tasks      | elapsed:   42.1s\n",
      "[Parallel(n_jobs=-2)]: Done 731 tasks      | elapsed:   42.1s\n",
      "[Parallel(n_jobs=-2)]: Done 732 tasks      | elapsed:   42.1s\n",
      "[Parallel(n_jobs=-2)]: Done 733 tasks      | elapsed:   42.2s\n",
      "[Parallel(n_jobs=-2)]: Done 734 tasks      | elapsed:   42.4s\n",
      "[Parallel(n_jobs=-2)]: Done 735 tasks      | elapsed:   42.4s\n",
      "[Parallel(n_jobs=-2)]: Done 736 tasks      | elapsed:   42.4s\n",
      "[Parallel(n_jobs=-2)]: Done 737 tasks      | elapsed:   42.4s\n",
      "[Parallel(n_jobs=-2)]: Done 738 tasks      | elapsed:   42.5s\n",
      "[Parallel(n_jobs=-2)]: Done 739 tasks      | elapsed:   42.5s\n",
      "[Parallel(n_jobs=-2)]: Done 740 tasks      | elapsed:   42.5s\n",
      "[Parallel(n_jobs=-2)]: Done 741 tasks      | elapsed:   42.5s\n",
      "[Parallel(n_jobs=-2)]: Done 742 tasks      | elapsed:   42.6s\n",
      "[Parallel(n_jobs=-2)]: Done 743 tasks      | elapsed:   42.9s\n",
      "[Parallel(n_jobs=-2)]: Done 744 tasks      | elapsed:   42.9s\n",
      "[Parallel(n_jobs=-2)]: Done 745 tasks      | elapsed:   42.9s\n",
      "[Parallel(n_jobs=-2)]: Done 746 tasks      | elapsed:   43.0s\n",
      "[Parallel(n_jobs=-2)]: Done 747 tasks      | elapsed:   43.1s\n",
      "[Parallel(n_jobs=-2)]: Done 748 tasks      | elapsed:   43.1s\n",
      "[Parallel(n_jobs=-2)]: Done 749 tasks      | elapsed:   43.1s\n",
      "[Parallel(n_jobs=-2)]: Done 750 tasks      | elapsed:   43.1s\n",
      "[Parallel(n_jobs=-2)]: Done 751 tasks      | elapsed:   43.2s\n",
      "[Parallel(n_jobs=-2)]: Done 752 tasks      | elapsed:   43.2s\n",
      "[Parallel(n_jobs=-2)]: Done 753 tasks      | elapsed:   43.2s\n",
      "[Parallel(n_jobs=-2)]: Done 754 tasks      | elapsed:   43.5s\n",
      "[Parallel(n_jobs=-2)]: Done 755 tasks      | elapsed:   43.6s\n",
      "[Parallel(n_jobs=-2)]: Done 756 tasks      | elapsed:   43.6s\n",
      "[Parallel(n_jobs=-2)]: Done 757 tasks      | elapsed:   43.6s\n",
      "[Parallel(n_jobs=-2)]: Done 758 tasks      | elapsed:   43.6s\n",
      "[Parallel(n_jobs=-2)]: Done 759 tasks      | elapsed:   43.8s\n",
      "[Parallel(n_jobs=-2)]: Done 760 tasks      | elapsed:   43.8s\n",
      "[Parallel(n_jobs=-2)]: Done 761 tasks      | elapsed:   43.8s\n",
      "[Parallel(n_jobs=-2)]: Done 762 tasks      | elapsed:   43.9s\n",
      "[Parallel(n_jobs=-2)]: Done 763 tasks      | elapsed:   43.9s\n",
      "[Parallel(n_jobs=-2)]: Done 764 tasks      | elapsed:   43.9s\n",
      "[Parallel(n_jobs=-2)]: Done 765 tasks      | elapsed:   44.0s\n",
      "[Parallel(n_jobs=-2)]: Done 766 tasks      | elapsed:   44.2s\n",
      "[Parallel(n_jobs=-2)]: Done 767 tasks      | elapsed:   44.2s\n",
      "[Parallel(n_jobs=-2)]: Done 768 tasks      | elapsed:   44.2s\n",
      "[Parallel(n_jobs=-2)]: Done 769 tasks      | elapsed:   44.2s\n",
      "[Parallel(n_jobs=-2)]: Done 770 tasks      | elapsed:   44.2s\n",
      "[Parallel(n_jobs=-2)]: Done 771 tasks      | elapsed:   44.2s\n",
      "[Parallel(n_jobs=-2)]: Done 772 tasks      | elapsed:   44.2s\n",
      "[Parallel(n_jobs=-2)]: Done 773 tasks      | elapsed:   44.6s\n",
      "[Parallel(n_jobs=-2)]: Done 774 tasks      | elapsed:   44.6s\n",
      "[Parallel(n_jobs=-2)]: Done 775 tasks      | elapsed:   44.7s\n",
      "[Parallel(n_jobs=-2)]: Done 776 tasks      | elapsed:   44.7s\n",
      "[Parallel(n_jobs=-2)]: Done 777 tasks      | elapsed:   45.0s\n",
      "[Parallel(n_jobs=-2)]: Done 778 tasks      | elapsed:   45.0s\n",
      "[Parallel(n_jobs=-2)]: Done 779 tasks      | elapsed:   45.0s\n",
      "[Parallel(n_jobs=-2)]: Done 780 tasks      | elapsed:   45.0s\n",
      "[Parallel(n_jobs=-2)]: Done 781 tasks      | elapsed:   45.0s\n",
      "[Parallel(n_jobs=-2)]: Done 782 tasks      | elapsed:   45.0s\n",
      "[Parallel(n_jobs=-2)]: Done 783 tasks      | elapsed:   45.0s\n",
      "[Parallel(n_jobs=-2)]: Done 784 tasks      | elapsed:   45.2s\n",
      "[Parallel(n_jobs=-2)]: Done 785 tasks      | elapsed:   45.2s\n",
      "[Parallel(n_jobs=-2)]: Done 786 tasks      | elapsed:   45.2s\n",
      "[Parallel(n_jobs=-2)]: Done 787 tasks      | elapsed:   45.3s\n",
      "[Parallel(n_jobs=-2)]: Done 788 tasks      | elapsed:   45.5s\n",
      "[Parallel(n_jobs=-2)]: Done 789 tasks      | elapsed:   45.5s\n",
      "[Parallel(n_jobs=-2)]: Done 790 tasks      | elapsed:   45.6s\n",
      "[Parallel(n_jobs=-2)]: Done 791 tasks      | elapsed:   45.7s\n",
      "[Parallel(n_jobs=-2)]: Done 792 tasks      | elapsed:   45.7s\n",
      "[Parallel(n_jobs=-2)]: Done 793 tasks      | elapsed:   45.7s\n",
      "[Parallel(n_jobs=-2)]: Done 794 tasks      | elapsed:   45.7s\n",
      "[Parallel(n_jobs=-2)]: Done 795 tasks      | elapsed:   45.7s\n",
      "[Parallel(n_jobs=-2)]: Done 796 tasks      | elapsed:   45.8s\n",
      "[Parallel(n_jobs=-2)]: Done 797 tasks      | elapsed:   45.9s\n",
      "[Parallel(n_jobs=-2)]: Done 798 tasks      | elapsed:   45.9s\n",
      "[Parallel(n_jobs=-2)]: Done 799 tasks      | elapsed:   46.1s\n",
      "[Parallel(n_jobs=-2)]: Done 800 tasks      | elapsed:   46.2s\n",
      "[Parallel(n_jobs=-2)]: Done 801 tasks      | elapsed:   46.2s\n",
      "[Parallel(n_jobs=-2)]: Done 802 tasks      | elapsed:   46.3s\n",
      "[Parallel(n_jobs=-2)]: Done 803 tasks      | elapsed:   46.3s\n",
      "[Parallel(n_jobs=-2)]: Done 804 tasks      | elapsed:   46.3s\n",
      "[Parallel(n_jobs=-2)]: Done 805 tasks      | elapsed:   46.4s\n",
      "[Parallel(n_jobs=-2)]: Done 806 tasks      | elapsed:   46.4s\n",
      "[Parallel(n_jobs=-2)]: Done 807 tasks      | elapsed:   46.4s\n",
      "[Parallel(n_jobs=-2)]: Done 808 tasks      | elapsed:   46.5s\n",
      "[Parallel(n_jobs=-2)]: Done 809 tasks      | elapsed:   46.5s\n",
      "[Parallel(n_jobs=-2)]: Done 810 tasks      | elapsed:   46.5s\n",
      "[Parallel(n_jobs=-2)]: Done 811 tasks      | elapsed:   46.7s\n",
      "[Parallel(n_jobs=-2)]: Done 812 tasks      | elapsed:   46.9s\n",
      "[Parallel(n_jobs=-2)]: Done 813 tasks      | elapsed:   46.9s\n",
      "[Parallel(n_jobs=-2)]: Done 814 tasks      | elapsed:   46.9s\n",
      "[Parallel(n_jobs=-2)]: Done 815 tasks      | elapsed:   46.9s\n",
      "[Parallel(n_jobs=-2)]: Done 816 tasks      | elapsed:   46.9s\n",
      "[Parallel(n_jobs=-2)]: Done 817 tasks      | elapsed:   46.9s\n",
      "[Parallel(n_jobs=-2)]: Done 818 tasks      | elapsed:   47.0s\n",
      "[Parallel(n_jobs=-2)]: Done 819 tasks      | elapsed:   47.2s\n",
      "[Parallel(n_jobs=-2)]: Done 820 tasks      | elapsed:   47.2s\n",
      "[Parallel(n_jobs=-2)]: Done 821 tasks      | elapsed:   47.2s\n",
      "[Parallel(n_jobs=-2)]: Done 822 tasks      | elapsed:   47.2s\n",
      "[Parallel(n_jobs=-2)]: Done 823 tasks      | elapsed:   47.2s\n",
      "[Parallel(n_jobs=-2)]: Done 824 tasks      | elapsed:   47.4s\n",
      "[Parallel(n_jobs=-2)]: Done 825 tasks      | elapsed:   47.5s\n",
      "[Parallel(n_jobs=-2)]: Done 826 tasks      | elapsed:   47.5s\n",
      "[Parallel(n_jobs=-2)]: Done 827 tasks      | elapsed:   47.5s\n",
      "[Parallel(n_jobs=-2)]: Done 828 tasks      | elapsed:   47.6s\n",
      "[Parallel(n_jobs=-2)]: Done 829 tasks      | elapsed:   47.6s\n",
      "[Parallel(n_jobs=-2)]: Done 830 tasks      | elapsed:   47.6s\n",
      "[Parallel(n_jobs=-2)]: Done 831 tasks      | elapsed:   47.8s\n",
      "[Parallel(n_jobs=-2)]: Done 852 out of 852 | elapsed:   48.7s finished\n",
      "2016-07-04 10:55:07,406 - htmd.projections.metric - INFO - Finished projecting the trajectories.\n",
      "2016-07-04 10:55:07,407 - htmd.projections.metric - INFO - Frame step 1e-06ns was read from the trajectories. If it looks wrong, redefine it by manually setting the MetricData.fstep property.\n"
     ]
    }
   ],
   "source": [
    "metr = Metric(sims)\n",
    "metr.projection(MetricDistance('protein and name CA', 'resname MOL and noh', metric='contacts'))\n",
    "data = metr.project()"
   ]
  },
  {
   "cell_type": "markdown",
   "metadata": {},
   "source": [
    "Here we provide the frame-step in nanoseconds i.e. the time that passes between two consecutive frames in a trajectory. This is automatically read from the trajectories, however some simulation software does not contain the correct fstep in the trajectories so it can be useful to manually define it like here."
   ]
  },
  {
   "cell_type": "code",
   "execution_count": 4,
   "metadata": {
    "collapsed": true
   },
   "outputs": [],
   "source": [
    "data.fstep = 0.1"
   ]
  },
  {
   "cell_type": "markdown",
   "metadata": {},
   "source": [
    "## Removing trajectories\n",
    "\n",
    "Sometimes the set of trajectories can contain trajectories of incorrect length. These are typically corrupted trajectories and are removed.\n",
    "\n",
    "plotTrajSizes plots all trajectory lengths sorted"
   ]
  },
  {
   "cell_type": "code",
   "execution_count": 5,
   "metadata": {
    "collapsed": false
   },
   "outputs": [
    {
     "data": {
      "image/png": "[encoded data removed]",
      "text/plain": [
       "<matplotlib.figure.Figure at 0x7fcbc37c11d0>"
      ]
     },
     "metadata": {},
     "output_type": "display_data"
    }
   ],
   "source": [
    "data.plotTrajSizes()"
   ]
  },
  {
   "cell_type": "markdown",
   "metadata": {},
   "source": [
    "dropTraj has multiple options for removing simulations from the dataset. Here we use it to remove all trajectories whose length is not equal to the mode length. "
   ]
  },
  {
   "cell_type": "code",
   "execution_count": 6,
   "metadata": {
    "collapsed": false
   },
   "outputs": [
    {
     "name": "stderr",
     "output_type": "stream",
     "text": [
      "2016-07-04 10:57:05,799 - htmd.metricdata - INFO - Dropped 2 trajectories from 852 resulting in 850\n"
     ]
    },
    {
     "data": {
      "text/plain": [
       "array([413, 479])"
      ]
     },
     "execution_count": 6,
     "metadata": {},
     "output_type": "execute_result"
    }
   ],
   "source": [
    "data.dropTraj()"
   ]
  },
  {
   "cell_type": "markdown",
   "metadata": {},
   "source": [
    "## TICA\n",
    "\n",
    "TICA is a method that can be used to improve the clustering of the conformations. This is done by projecting the data onto a lower-dimensional space which separates well the metastable minima and places clusters on the transition regions. "
   ]
  },
  {
   "cell_type": "code",
   "execution_count": 7,
   "metadata": {
    "collapsed": false
   },
   "outputs": [],
   "source": [
    "tica = TICA(data, 2, units='ns')\n",
    "dataTica = tica.project(3)"
   ]
  },
  {
   "cell_type": "markdown",
   "metadata": {},
   "source": [
    "## Bootstrapping\n",
    "\n",
    "If we want to bootstrap our calculations we can at this point drop a random 20% of the trajectories and do the rest of the analysis multiple times to see if the results are consistent. Alternatively we can keep on using dataTica in the following commands. "
   ]
  },
  {
   "cell_type": "code",
   "execution_count": 8,
   "metadata": {
    "collapsed": false
   },
   "outputs": [],
   "source": [
    "dataBoot = dataTica.bootstrap(0.8)"
   ]
  },
  {
   "cell_type": "markdown",
   "metadata": {},
   "source": [
    "## Clustering conformations\n",
    "\n",
    "Once we have cleaned the dataset we proceed to cluster the conformations.\n",
    "\n",
    "Here we use the mini-batch kmeans clustering algorithm to procude 1000 clusters. Clusters containing fewer than 5 conformations will get merged into their next neighbour with more than 5 conformations. "
   ]
  },
  {
   "cell_type": "code",
   "execution_count": 9,
   "metadata": {
    "collapsed": true
   },
   "outputs": [
    {
     "name": "stderr",
     "output_type": "stream",
     "text": [
      "/shared/sdoerr/Software/anaconda3/lib/python3.5/site-packages/sklearn/cluster/k_means_.py:1279: DeprecationWarning: This function is deprecated. Please call randint(0, 135999 + 1) instead\n",
      "  0, n_samples - 1, init_size)\n",
      "/shared/sdoerr/Software/anaconda3/lib/python3.5/site-packages/sklearn/cluster/k_means_.py:1300: RuntimeWarning: init_size=300 should be larger than k=1000. Setting it to 3*k\n",
      "  init_size=init_size)\n",
      "/shared/sdoerr/Software/anaconda3/lib/python3.5/site-packages/sklearn/cluster/k_means_.py:630: DeprecationWarning: This function is deprecated. Please call randint(0, 135999 + 1) instead\n",
      "  0, n_samples - 1, init_size)\n",
      "/shared/sdoerr/Software/anaconda3/lib/python3.5/site-packages/sklearn/cluster/k_means_.py:630: DeprecationWarning: This function is deprecated. Please call randint(0, 135999 + 1) instead\n",
      "  0, n_samples - 1, init_size)\n",
      "/shared/sdoerr/Software/anaconda3/lib/python3.5/site-packages/sklearn/cluster/k_means_.py:630: DeprecationWarning: This function is deprecated. Please call randint(0, 135999 + 1) instead\n",
      "  0, n_samples - 1, init_size)\n",
      "/shared/sdoerr/Software/anaconda3/lib/python3.5/site-packages/sklearn/cluster/k_means_.py:1328: DeprecationWarning: This function is deprecated. Please call randint(0, 135999 + 1) instead\n",
      "  0, n_samples - 1, self.batch_size)\n",
      "/shared/sdoerr/Software/anaconda3/lib/python3.5/site-packages/sklearn/cluster/k_means_.py:1328: DeprecationWarning: This function is deprecated. Please call randint(0, 135999 + 1) instead\n",
      "  0, n_samples - 1, self.batch_size)\n",
      "/shared/sdoerr/Software/anaconda3/lib/python3.5/site-packages/sklearn/cluster/k_means_.py:1328: DeprecationWarning: This function is deprecated. Please call randint(0, 135999 + 1) instead\n",
      "  0, n_samples - 1, self.batch_size)\n",
      "/shared/sdoerr/Software/anaconda3/lib/python3.5/site-packages/sklearn/cluster/k_means_.py:1328: DeprecationWarning: This function is deprecated. Please call randint(0, 135999 + 1) instead\n",
      "  0, n_samples - 1, self.batch_size)\n",
      "/shared/sdoerr/Software/anaconda3/lib/python3.5/site-packages/sklearn/cluster/k_means_.py:1328: DeprecationWarning: This function is deprecated. Please call randint(0, 135999 + 1) instead\n",
      "  0, n_samples - 1, self.batch_size)\n",
      "/shared/sdoerr/Software/anaconda3/lib/python3.5/site-packages/sklearn/cluster/k_means_.py:1328: DeprecationWarning: This function is deprecated. Please call randint(0, 135999 + 1) instead\n",
      "  0, n_samples - 1, self.batch_size)\n",
      "/shared/sdoerr/Software/anaconda3/lib/python3.5/site-packages/sklearn/cluster/k_means_.py:1328: DeprecationWarning: This function is deprecated. Please call randint(0, 135999 + 1) instead\n",
      "  0, n_samples - 1, self.batch_size)\n",
      "/shared/sdoerr/Software/anaconda3/lib/python3.5/site-packages/sklearn/cluster/k_means_.py:1328: DeprecationWarning: This function is deprecated. Please call randint(0, 135999 + 1) instead\n",
      "  0, n_samples - 1, self.batch_size)\n",
      "/shared/sdoerr/Software/anaconda3/lib/python3.5/site-packages/sklearn/cluster/k_means_.py:1328: DeprecationWarning: This function is deprecated. Please call randint(0, 135999 + 1) instead\n",
      "  0, n_samples - 1, self.batch_size)\n",
      "/shared/sdoerr/Software/anaconda3/lib/python3.5/site-packages/sklearn/cluster/k_means_.py:1328: DeprecationWarning: This function is deprecated. Please call randint(0, 135999 + 1) instead\n",
      "  0, n_samples - 1, self.batch_size)\n",
      "/shared/sdoerr/Software/anaconda3/lib/python3.5/site-packages/sklearn/cluster/k_means_.py:1328: DeprecationWarning: This function is deprecated. Please call randint(0, 135999 + 1) instead\n",
      "  0, n_samples - 1, self.batch_size)\n",
      "2016-07-04 11:00:27,509 - htmd.metricdata - INFO - Mergesmall removed 3 clusters. Original ncluster 988, new ncluster 985.\n"
     ]
    }
   ],
   "source": [
    "dataBoot.cluster(MiniBatchKMeans(n_clusters=1000), mergesmall=5)"
   ]
  },
  {
   "cell_type": "markdown",
   "metadata": {},
   "source": [
    "## Building the Markov model\n",
    "\n",
    "After clustering it is time to build the Markov model."
   ]
  },
  {
   "cell_type": "code",
   "execution_count": 10,
   "metadata": {
    "collapsed": true
   },
   "outputs": [],
   "source": [
    "model = Model(dataBoot)"
   ]
  },
  {
   "cell_type": "markdown",
   "metadata": {},
   "source": [
    "Before constructing the Markov model we need to choose the lag-time at which it will be built. The lag-time is typically chosen by looking at the implied timescale (ITS) plot and selecting a lag-time at which the top timescales start converging. By constructing Markov models at various lag times HTMD creates a plot which shows the slowest implied timescales of each Markov model at various lag times. If a model is Markovian at a specific lag time, the implied timescales should stay unchanged for any higher lag times. Therefore, given an implied timescales plot, the user can monitor the convergence and choose the lag time at which to construct his Markov model, typically the Markov time which is the shortest lag time at which the timescales converge. Too large lag times can reduce the temporal resolution of the Markov model and can create more statistical uncertainty due to fewer transition counts and thus instability in the implied timescales. "
   ]
  },
  {
   "cell_type": "code",
   "execution_count": 11,
   "metadata": {
    "collapsed": false,
    "scrolled": false
   },
   "outputs": [
    {
     "name": "stdout",
     "output_type": "stream",
     "text": [
      "04-07-16 11:00:56 pyemma.msm.estimators.implied_timescales.ImpliedTimescales[1] WARNING  Some timescales could not be computed. Timescales array is smaller than expected or contains NaNs\n"
     ]
    },
    {
     "data": {
      "image/png": "[encoded data removed]",
      "text/plain": [
       "<matplotlib.figure.Figure at 0x7fcba0188da0>"
      ]
     },
     "metadata": {},
     "output_type": "display_data"
    }
   ],
   "source": [
    "model.plotTimescales()"
   ]
  },
  {
   "cell_type": "markdown",
   "metadata": {},
   "source": [
    "After seeing the ITS plot we decided on a lag-time of 50 frames (5ns). Additionally the ITS plot showed us that there is a separation between 4 slow timescales and the rest of the timescales which are fast. Therefore we choose to lump our microstates together into 5 macrostates. "
   ]
  },
  {
   "cell_type": "code",
   "execution_count": 12,
   "metadata": {
    "collapsed": false,
    "scrolled": true
   },
   "outputs": [
    {
     "name": "stderr",
     "output_type": "stream",
     "text": [
      "2016-07-04 11:01:06,600 - htmd.model - INFO - 100.0% of the data was used\n",
      "2016-07-04 11:01:06,680 - htmd.model - INFO - Number of trajectories that visited each macrostate:\n",
      "2016-07-04 11:01:06,680 - htmd.model - INFO - [172 212 172 405 210]\n"
     ]
    }
   ],
   "source": [
    "model.markovModel(5, 5, units='ns')"
   ]
  },
  {
   "cell_type": "markdown",
   "metadata": {},
   "source": [
    "## Visualizing the states\n",
    "\n",
    "To see what the states look like we use a Matlab integration of VMD. We load the 3 macrostates and add a ligand representation using the ligand atomselection. "
   ]
  },
  {
   "cell_type": "code",
   "execution_count": 13,
   "metadata": {
    "collapsed": false
   },
   "outputs": [
    {
     "name": "stderr",
     "output_type": "stream",
     "text": [
      "[Parallel(n_jobs=1)]: Done   1 tasks       | elapsed:    5.8s\n",
      "[Parallel(n_jobs=1)]: Done   2 tasks       | elapsed:    8.1s\n",
      "[Parallel(n_jobs=1)]: Done   3 tasks       | elapsed:    9.9s\n",
      "[Parallel(n_jobs=1)]: Done   4 tasks       | elapsed:   11.5s\n",
      "[Parallel(n_jobs=1)]: Done   5 tasks       | elapsed:   13.0s\n",
      "[Parallel(n_jobs=1)]: Done   5 out of   5 | elapsed:   13.0s finished\n"
     ]
    }
   ],
   "source": [
    "model.viewStates(ligand='resname MOL and noh')"
   ]
  },
  {
   "cell_type": "markdown",
   "metadata": {},
   "source": [
    "## Calculating the kinetics\n",
    "\n",
    "One of the major advantages of Markov state models is that they can provide quantitative results about the kinetics between states.\n",
    "\n",
    "Provide the Kinetics constructor with the system temperature and ligand concentration. It automatically then calculates the source and sink states. "
   ]
  },
  {
   "cell_type": "code",
   "execution_count": 14,
   "metadata": {
    "collapsed": false
   },
   "outputs": [
    {
     "name": "stderr",
     "output_type": "stream",
     "text": [
      "2016-07-04 11:01:33,544 - htmd.kinetics - INFO - Detecting source state...\n",
      "2016-07-04 11:01:34,067 - htmd.kinetics - INFO - Guessing the source state as the state with minimum contacts.\n",
      "2016-07-04 11:01:34,068 - htmd.kinetics - INFO - Source macro = 3\n",
      "2016-07-04 11:01:34,068 - htmd.kinetics - INFO - Detecting sink state...\n",
      "2016-07-04 11:01:34,069 - htmd.kinetics - INFO - Sink macro = 4\n"
     ]
    }
   ],
   "source": [
    "kin = Kinetics(model, temperature=298, concentration=0.0037)"
   ]
  },
  {
   "cell_type": "markdown",
   "metadata": {},
   "source": [
    "To see the rates between the source and sink states we use the getRates method."
   ]
  },
  {
   "cell_type": "code",
   "execution_count": 15,
   "metadata": {
    "collapsed": false
   },
   "outputs": [
    {
     "name": "stderr",
     "output_type": "stream",
     "text": [
      "2016-07-04 11:01:35,973 - htmd.kinetics - INFO - Calculating rates between source: 3 and sink: 4 states.\n",
      "2016-07-04 11:01:36,078 - htmd.kinetics - INFO - Concentration correction of -3.32 kcal/mol.\n"
     ]
    },
    {
     "name": "stdout",
     "output_type": "stream",
     "text": [
      "mfpton = 1.22E+03 (ns)\n",
      "mfptoff = 3.00E+03 (ns)\n",
      "kon = 2.21E+08 (1/M 1/s)\n",
      "koff = 3.33E+05 (1/s)\n",
      "koff/kon = 1.51E-03 (M)\n",
      "kdeq = 1.17E-03 (M)\n",
      "g0eq = -4.00 (kcal/mol)\n",
      "\n"
     ]
    }
   ],
   "source": [
    "r = kin.getRates()\n",
    "print(r)"
   ]
  },
  {
   "cell_type": "markdown",
   "metadata": {},
   "source": [
    "To plot the free energies and mean first passage times of all state use the plotRates command."
   ]
  },
  {
   "cell_type": "code",
   "execution_count": 16,
   "metadata": {
    "collapsed": false
   },
   "outputs": [
    {
     "name": "stderr",
     "output_type": "stream",
     "text": [
      "2016-07-04 11:01:39,356 - htmd.kinetics - INFO - Calculating rates between source: 3 and sink: 0 states.\n",
      "2016-07-04 11:01:39,474 - htmd.kinetics - INFO - Concentration correction of -3.32 kcal/mol.\n",
      "2016-07-04 11:01:39,474 - htmd.kinetics - INFO - Calculating rates between source: 3 and sink: 1 states.\n",
      "2016-07-04 11:01:39,585 - htmd.kinetics - INFO - Concentration correction of -3.32 kcal/mol.\n",
      "2016-07-04 11:01:39,585 - htmd.kinetics - INFO - Calculating rates between source: 3 and sink: 2 states.\n",
      "2016-07-04 11:01:39,683 - htmd.kinetics - INFO - Concentration correction of -3.32 kcal/mol.\n",
      "2016-07-04 11:01:39,684 - htmd.kinetics - INFO - Calculating rates between source: 3 and sink: 4 states.\n",
      "2016-07-04 11:01:39,784 - htmd.kinetics - INFO - Concentration correction of -3.32 kcal/mol.\n"
     ]
    },
    {
     "data": {
      "image/png": "[encoded data removed]",
      "text/plain": [
       "<matplotlib.figure.Figure at 0x7fcba1cb2a58>"
      ]
     },
     "metadata": {},
     "output_type": "display_data"
    },
    {
     "data": {
      "image/png": "[encoded data removed]",
      "text/plain": [
       "<matplotlib.figure.Figure at 0x7fcba1bcbbe0>"
      ]
     },
     "metadata": {},
     "output_type": "display_data"
    },
    {
     "data": {
      "image/png": "[encoded data removed]",
      "text/plain": [
       "<matplotlib.figure.Figure at 0x7fcba1889208>"
      ]
     },
     "metadata": {},
     "output_type": "display_data"
    }
   ],
   "source": [
    "kin.plotRates()"
   ]
  },
  {
   "cell_type": "code",
   "execution_count": 17,
   "metadata": {
    "collapsed": false
   },
   "outputs": [
    {
     "name": "stdout",
     "output_type": "stream",
     "text": [
      "Path flux\t\t%path\t%of total\tpath\n",
      "0.0007972434873301726\t65.6%\t65.6%\t\t[3 2 4]\n",
      "0.00031891080510217286\t26.2%\t91.9%\t\t[3 4]\n",
      "7.332043096591014e-05\t6.0%\t97.9%\t\t[3 1 4]\n",
      "2.3997363231084676e-05\t2.0%\t99.9%\t\t[3 1 2 4]\n",
      "1.6986228160461858e-06\t0.1%\t100.0%\t\t[3 0 1 2 4]\n"
     ]
    },
    {
     "data": {
      "image/png": "[encoded data removed]",
      "text/plain": [
       "<matplotlib.figure.Figure at 0x7fcba1b74518>"
      ]
     },
     "metadata": {},
     "output_type": "display_data"
    }
   ],
   "source": [
    "kin.plotFluxPathways()"
   ]
  },
  {
   "cell_type": "code",
   "execution_count": null,
   "metadata": {
    "collapsed": true
   },
   "outputs": [],
   "source": []
  }
 ],
 "metadata": {
  "kernelspec": {
   "display_name": "Python 3",
   "language": "python",
   "name": "python3"
  },
  "language_info": {
   "codemirror_mode": {
    "name": "ipython",
    "version": 3
   },
   "file_extension": ".py",
   "mimetype": "text/x-python",
   "name": "python",
   "nbconvert_exporter": "python",
   "pygments_lexer": "ipython3",
   "version": "3.5.1"
  }
 },
 "nbformat": 4,
 "nbformat_minor": 0
}
