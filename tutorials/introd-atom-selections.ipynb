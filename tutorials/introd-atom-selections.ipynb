{
 "cells": [
  {
   "cell_type": "markdown",
   "metadata": {
    "slideshow": {
     "slide_type": "slide"
    }
   },
   "source": [
    "# Atom selections"
   ]
  },
  {
   "cell_type": "markdown",
   "metadata": {
    "slideshow": {
     "slide_type": "-"
    }
   },
   "source": [
    "[Toni Giorgino](https://github.com/tonigi)  \n",
    "Institute of Neurosciences (IN-CNR), Padua, Italy"
   ]
  },
  {
   "cell_type": "markdown",
   "metadata": {
    "slideshow": {
     "slide_type": "slide"
    }
   },
   "source": [
    "## A `Molecule` object has..."
   ]
  },
  {
   "cell_type": "markdown",
   "metadata": {
    "slideshow": {
     "slide_type": "-"
    }
   },
   "source": [
    "* Frames (&ge; 0), usually corresponding a given point on the trajectory's time\n",
    "* Atoms (a constant number, &ge; 0)\n",
    "* Representations\n",
    "* Name, time step, box, etc.\n",
    "* Connectivity"
   ]
  },
  {
   "cell_type": "markdown",
   "metadata": {
    "slideshow": {
     "slide_type": "slide"
    }
   },
   "source": [
    "## Note:"
   ]
  },
  {
   "cell_type": "markdown",
   "metadata": {
    "slideshow": {
     "slide_type": "-"
    }
   },
   "source": [
    "The word `Molecule` is somewhat a misnomer. It is more like a *System*: in general, it may contain several \"chemical\" molecules. E.g.:\n",
    "\n",
    "* protein + solvent + ions can be __one__ single HTMD `Molecule`\n",
    "\n",
    "The HTMD `Molecule` nomenclature is drawn from VMD Molecules.\n",
    "\n",
    "In HTMD, to define \"chemical molecules\", one uses **segment ID**s"
   ]
  },
  {
   "cell_type": "markdown",
   "metadata": {
    "slideshow": {
     "slide_type": "slide"
    }
   },
   "source": [
    "## Atoms"
   ]
  },
  {
   "cell_type": "markdown",
   "metadata": {
    "slideshow": {
     "slide_type": "-"
    }
   },
   "source": [
    "A `Molecule` object contains several *atom*s. Each *atom* has several **properties**:\n",
    "\n",
    "* They most obviously mirror PDB fields\n",
    "* Some are computed via heuristics (!)\n",
    "* *Constant* properties do not depend on the frame. E.g.:\n",
    "  * `type`, `name`, `mass`, ...\n",
    "* *Variable* properties depend on the frame. E.g.:\n",
    "  * `x(t)`, `y(t)`, `z(t)`, `user(t)` (in VMD)\n",
    "  * `coords`[`serial`,`axis`,`frame`] (in HTMD code)"
   ]
  },
  {
   "cell_type": "markdown",
   "metadata": {
    "slideshow": {
     "slide_type": "slide"
    }
   },
   "source": [
    "| Property | Description | \n",
    "|-----|-----|\n",
    "| `serial` | Unique identifier starting on 1| \n",
    "| `name`   | Atom name from PDB, unique in the residue |\n",
    "| `resname`| 3-letter residue type, from PDB |\n",
    "| `resid`  | The usual residue number, **possibly not unique** |\n",
    "| `chain`  | Chain identifier, also from PDB | \n",
    "| `segid`  | Use to define *chemical molecule*: important for system building |\n",
    "| `element`  | Element of the atom, also from PDB |\n",
    "| `coords`  | These depend on the trajectory frame  |"
   ]
  },
  {
   "cell_type": "markdown",
   "metadata": {
    "slideshow": {
     "slide_type": "slide"
    }
   },
   "source": [
    "## What for? Atom selections!\n",
    "\n",
    "Properties of atoms in a `Molecule` object can be used to build **boolean expressions**.\n",
    "\n",
    "* E.g: `\"water\"` or `\"name CA and helix\"`\n",
    "\n",
    "As each expression is evaluated, it can match (or not) a set of atoms. The rest is boolean operations.\n",
    "\n",
    "Therefore, a selection expression yields an **atom selection**, i.e. a subset of the original set.\n",
    "\n",
    "We can then manipulate these subsets, e.g. `get` and `set` methods of `Molecule`."
   ]
  },
  {
   "cell_type": "markdown",
   "metadata": {
    "slideshow": {
     "slide_type": "slide"
    }
   },
   "source": [
    "| Example | Meaning |\n",
    "|---------|---------|\n",
    "| `chain A`  | true *if* the atom's `chain` property equals string `A` | \n",
    "| `resid 40 to 50`  | as intended |\n",
    "| `mass < 15` | you guessed it |\n",
    "| `name CA`  | true *if* atom is a C&alpha; |\n",
    "| `water`  | true *if* the atom belongs to a water molecule (VMD definition) |\n",
    "\n",
    "**Important:**\n",
    "* all are *boolean* expressions. Each atom in a molecule either matches, or it doesn't.\n",
    "* keywords follow the VMD atom selections. See Table 6.5 of VMD User manual for reference."
   ]
  },
  {
   "cell_type": "markdown",
   "metadata": {
    "slideshow": {
     "slide_type": "slide"
    }
   },
   "source": [
    "## Advanced expressions and keywords\n",
    "\n",
    "| Type | Example | \n",
    "|---------|---------|\n",
    "| Chemistry | `protein and not hydrogen` |\n",
    "| Secondary structure | `helix or sheet` |\n",
    "| Sequence | `sequence \"N..T\"` |\n",
    "| Maths | `x^2 + y^2 < 40` |\n",
    "| ... within N of ... | `water within 4 of protein` | \n",
    "| same ... as ... | `same chain as resid 15` |\n",
    "\n",
    "    water     within 4 of protein\n",
    "    \\___/ and \\___________\\_____/\n",
    "\n",
    "> selects all `water` atoms within 4 &Aring; of `protein` atoms.\n",
    "\n",
    "    same chain as  resid 15\n",
    "    \\___________/  \\______/\n",
    "\n",
    "> selects all atoms that are in the same chain as any atoms belonding to residue 15"
   ]
  },
  {
   "cell_type": "markdown",
   "metadata": {
    "slideshow": {
     "slide_type": "slide"
    }
   },
   "source": [
    "## Atom Selection useful for Representations\n",
    "\n",
    "* A `Molecule` may contains several `Representation`s\n",
    "* A `Representation` has...\n",
    "  * *Selection*: which part of the molecule to show\n",
    "  * *Style*: ribbon, lines, VdW, ...\n",
    "  * *Color*: either a number, or a property (e.g: secondary structure)\n",
    "  * Other style-dependent properties\n",
    "  * *Material*\n",
    "  * *Visibility*: hidden or shown (double-click)"
   ]
  }
 ],
 "metadata": {
  "anaconda-cloud": {},
  "celltoolbar": "Slideshow",
  "kernelspec": {
   "display_name": "Python [default]",
   "language": "python",
   "name": "python3"
  },
  "language_info": {
   "codemirror_mode": {
    "name": "ipython",
    "version": 3
   },
   "file_extension": ".py",
   "mimetype": "text/x-python",
   "name": "python",
   "nbconvert_exporter": "python",
   "pygments_lexer": "ipython3",
   "version": "3.5.2"
  },
  "livereveal": {
   "minScale": 0.5
  }
 },
 "nbformat": 4,
 "nbformat_minor": 0
}
