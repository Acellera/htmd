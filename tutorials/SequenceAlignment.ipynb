{
 "cells": [
  {
   "cell_type": "markdown",
   "metadata": {},
   "source": [
    "# Structural alignment of proteins by sequence"
   ]
  },
  {
   "cell_type": "markdown",
   "metadata": {},
   "source": [
    "In the field of Bioinformatics it is usual to perform a BLAST search in order to find\n",
    "similar proteins to the one of your interest. If the structures of some of the results\n",
    "are available, you might want to align them all together to see the differences. \n",
    "These structures might not have the same number of residues, or the exact same residues,\n",
    "or even the labeling of the atoms can be different, which makes trivial, atom-index based alignment functions fail.\n",
    "Therefore, HTMD provides the function ```htmd.molecule.util.sequenceStructureAlignment```, which takes two proteins and\n",
    "aligns both structures using their longest **sequence** aligment.\n",
    "\n",
    "In this example, we will use Dopamine receptor (PDB code: '3PBL') and Beta Adrenergic receptor (PDB code: '3NYA').\n",
    "Both are GPCR proteins, so they share a great fraction of their sequence. We will use this feature to align their structures."
   ]
  },
  {
   "cell_type": "markdown",
   "metadata": {},
   "source": [
    "## Quick Example\n",
    "\n",
    "Adrenergic receptor will be used as the reference"
   ]
  },
  {
   "cell_type": "code",
   "execution_count": 2,
   "metadata": {},
   "outputs": [
    {
     "name": "stderr",
     "output_type": "stream",
     "text": [
      "2018-07-27 09:48:52,081 - htmd.molecule.readers - INFO - Attempting PDB query for 3PBL\n",
      "2018-07-27 09:48:56,135 - htmd.molecule.readers - INFO - Attempting PDB query for 3NYA\n",
      "2018-07-27 09:48:57,178 - htmd.molecule.molecule - INFO - Removed 81 atoms. 3527 atoms remaining in the molecule.\n",
      "2018-07-27 09:48:57,843 - htmd.molecule.util - WARNING - 15 alignments found. Limiting to 10 as specified in the `maxalignments` argument.\n",
      "2018-07-27 09:48:57,846 - htmd.molecule.util - INFO - Alignment #0 was done on 7 residues: mol segid 0 resid 41-47\n",
      "2018-07-27 09:48:57,873 - htmd.molecule.util - INFO - Alignment #1 was done on 7 residues: mol segid 0 resid 41-47\n",
      "2018-07-27 09:48:57,899 - htmd.molecule.util - INFO - Alignment #2 was done on 7 residues: mol segid 0 resid 41-47\n",
      "2018-07-27 09:48:57,925 - htmd.molecule.util - INFO - Alignment #3 was done on 7 residues: mol segid 0 resid 41-47\n",
      "2018-07-27 09:48:57,951 - htmd.molecule.util - INFO - Alignment #4 was done on 7 residues: mol segid 0 resid 41-47\n",
      "2018-07-27 09:48:57,976 - htmd.molecule.util - INFO - Alignment #5 was done on 7 residues: mol segid 0 resid 41-47\n",
      "2018-07-27 09:48:58,002 - htmd.molecule.util - INFO - Alignment #6 was done on 7 residues: mol segid 0 resid 41-47\n",
      "2018-07-27 09:48:58,028 - htmd.molecule.util - INFO - Alignment #7 was done on 7 residues: mol segid 0 resid 41-47\n",
      "2018-07-27 09:48:58,054 - htmd.molecule.util - INFO - Alignment #8 was done on 7 residues: mol segid 0 resid 41-47\n",
      "2018-07-27 09:48:58,081 - htmd.molecule.util - INFO - Alignment #9 was done on 7 residues: mol segid 0 resid 41-47\n"
     ]
    }
   ],
   "source": [
    "from htmd.ui import *\n",
    "from htmd.molecule.util import sequenceStructureAlignment\n",
    "\n",
    "# We will use adrenaline receptor as the reference/template\n",
    "\n",
    "# Load dopamine receptor and display in red\n",
    "dop_receptor = Molecule('3PBL')\n",
    "dop_receptor.filter('protein and chain A',_logger=False) # the crystal is a dimer, discard one of the units\n",
    "dop_receptor.view(style='NewCartoon',color='1',name='DopRec')  \n",
    "\n",
    "\n",
    "# Load adrenergic receptor and display in dark blue\n",
    "adr_receptor = Molecule('3NYA')\n",
    "adr_receptor.filter('protein')\n",
    "adr_receptor.filter('resid 0 to 342',_logger=False) # filter out the G-protein\n",
    "adr_receptor.view(style='NewCartoon',color='0',name='AdrRec')\n",
    "\n",
    "# adr_receptor acts as the template\n",
    "dop_receptor_results = sequenceStructureAlignment(dop_receptor,adr_receptor) \n",
    "\n",
    "dop_receptor_aligned = dop_receptor_results[0] # pick the best result\n",
    "\n",
    "# See the result, dopamine receptor is now aligned and displayed in green\n",
    "dop_receptor_aligned.view(style='NewCartoon',color='7',name='DopAligned')"
   ]
  },
  {
   "cell_type": "markdown",
   "metadata": {},
   "source": [
    "## Detailed Explanation\n",
    "\n",
    "First, we load the dopamine receptor. The crystal is a dimer of two receptors, so we discard one of the units."
   ]
  },
  {
   "cell_type": "code",
   "execution_count": 3,
   "metadata": {},
   "outputs": [
    {
     "name": "stderr",
     "output_type": "stream",
     "text": [
      "2018-07-27 09:49:02,328 - htmd.molecule.readers - INFO - Attempting PDB query for 3PBL\n",
      "2018-07-27 09:49:03,729 - htmd.molecule.molecule - INFO - Removed 3398 atoms. 3389 atoms remaining in the molecule.\n"
     ]
    },
    {
     "data": {
      "text/plain": [
       "array([3389, 3390, 3391, ..., 6784, 6785, 6786], dtype=int32)"
      ]
     },
     "execution_count": 3,
     "metadata": {},
     "output_type": "execute_result"
    }
   ],
   "source": [
    "from htmd.ui import *\n",
    "from htmd.molecule.util import sequenceStructureAlignment\n",
    "\n",
    "dop_receptor = Molecule('3PBL')\n",
    "dop_receptor.filter('protein and chain A') # discard one of the units"
   ]
  },
  {
   "cell_type": "markdown",
   "metadata": {},
   "source": [
    "Next, we load the beta adrenergic receptor. The G-protein from the Adrenergic receptor (residues from 343 to last) is discarded, to ensure that these region is not used to align both proteins"
   ]
  },
  {
   "cell_type": "code",
   "execution_count": 4,
   "metadata": {},
   "outputs": [
    {
     "name": "stderr",
     "output_type": "stream",
     "text": [
      "2018-07-27 09:49:05,262 - htmd.molecule.readers - INFO - Attempting PDB query for 3NYA\n",
      "2018-07-27 09:49:06,294 - htmd.molecule.molecule - INFO - Removed 81 atoms. 3527 atoms remaining in the molecule.\n",
      "2018-07-27 09:49:06,343 - htmd.molecule.molecule - INFO - Removed 1275 atoms. 2252 atoms remaining in the molecule.\n"
     ]
    },
    {
     "data": {
      "text/plain": [
       "array([1589, 1590, 1591, ..., 2861, 2862, 2863], dtype=int32)"
      ]
     },
     "execution_count": 4,
     "metadata": {},
     "output_type": "execute_result"
    }
   ],
   "source": [
    "adr_receptor = Molecule('3NYA')\n",
    "adr_receptor.filter('protein')\n",
    "adr_receptor.filter('resid 0 to 342') # discard the G-protein "
   ]
  },
  {
   "cell_type": "markdown",
   "metadata": {},
   "source": [
    "Let's see the two proteins together before the alignment. The dopamine receptor is displayed in red."
   ]
  },
  {
   "cell_type": "code",
   "execution_count": 5,
   "metadata": {},
   "outputs": [],
   "source": [
    "dop_receptor.view(style='NewCartoon',color='1',name='DopRec') # visualize it in red \n",
    "adr_receptor.view(style='NewCartoon',color='0',name='AdrRec') # visualize it in dark blue"
   ]
  },
  {
   "cell_type": "markdown",
   "metadata": {},
   "source": [
    "Now, both proteins are ready to be aligned, so we call the ```sequenceStructureAlignment``` function. The second protein molecule passed to the function acts as the reference, in our case, the adrenaline receptor"
   ]
  },
  {
   "cell_type": "code",
   "execution_count": 6,
   "metadata": {},
   "outputs": [
    {
     "name": "stderr",
     "output_type": "stream",
     "text": [
      "2018-07-27 09:49:20,919 - htmd.molecule.util - WARNING - 15 alignments found. Limiting to 10 as specified in the `maxalignments` argument.\n",
      "2018-07-27 09:49:20,921 - htmd.molecule.util - INFO - Alignment #0 was done on 7 residues: mol segid 0 resid 41-47\n",
      "2018-07-27 09:49:20,948 - htmd.molecule.util - INFO - Alignment #1 was done on 7 residues: mol segid 0 resid 41-47\n",
      "2018-07-27 09:49:20,974 - htmd.molecule.util - INFO - Alignment #2 was done on 7 residues: mol segid 0 resid 41-47\n",
      "2018-07-27 09:49:20,999 - htmd.molecule.util - INFO - Alignment #3 was done on 7 residues: mol segid 0 resid 41-47\n",
      "2018-07-27 09:49:21,025 - htmd.molecule.util - INFO - Alignment #4 was done on 7 residues: mol segid 0 resid 41-47\n",
      "2018-07-27 09:49:21,052 - htmd.molecule.util - INFO - Alignment #5 was done on 7 residues: mol segid 0 resid 41-47\n",
      "2018-07-27 09:49:21,077 - htmd.molecule.util - INFO - Alignment #6 was done on 7 residues: mol segid 0 resid 41-47\n",
      "2018-07-27 09:49:21,103 - htmd.molecule.util - INFO - Alignment #7 was done on 7 residues: mol segid 0 resid 41-47\n",
      "2018-07-27 09:49:21,129 - htmd.molecule.util - INFO - Alignment #8 was done on 7 residues: mol segid 0 resid 41-47\n",
      "2018-07-27 09:49:21,155 - htmd.molecule.util - INFO - Alignment #9 was done on 7 residues: mol segid 0 resid 41-47\n"
     ]
    }
   ],
   "source": [
    "dop_receptor_results = sequenceStructureAlignment(dop_receptor,adr_receptor)"
   ]
  },
  {
   "cell_type": "markdown",
   "metadata": {},
   "source": [
    "```dop_receptor_results``` stores different structural alignments, each using a different portion of the sequence alignment.\n",
    "By default, only the best 10 alignments are stored, but you can modify this behaviour setting the parameter ```maxalignments``` to an arbitrary number.\n",
    "\n",
    "Let's look at the best result by choosing the first item in ```dop_receptor_results```. Dopamine receptor is shown in green."
   ]
  },
  {
   "cell_type": "code",
   "execution_count": 7,
   "metadata": {},
   "outputs": [],
   "source": [
    "dop_receptor_aligned = dop_receptor_results[0] # pick the best result \n",
    "dop_receptor_aligned.view(style='NewCartoon',color='7',name='DopAligned')"
   ]
  },
  {
   "cell_type": "code",
   "execution_count": null,
   "metadata": {},
   "outputs": [],
   "source": []
  }
 ],
 "metadata": {
  "kernelspec": {
   "display_name": "Python 3",
   "language": "python",
   "name": "python3"
  },
  "language_info": {
   "codemirror_mode": {
    "name": "ipython",
    "version": 3
   },
   "file_extension": ".py",
   "mimetype": "text/x-python",
   "name": "python",
   "nbconvert_exporter": "python",
   "pygments_lexer": "ipython3",
   "version": "3.6.3"
  }
 },
 "nbformat": 4,
 "nbformat_minor": 2
}
