{
 "cells": [
  {
   "cell_type": "markdown",
   "metadata": {},
   "source": [
    "# Structural alignment of proteins by sequence"
   ]
  },
  {
   "cell_type": "markdown",
   "metadata": {},
   "source": [
    "In the field of Bioinformatics is usual to perform a BLAST search in order to find\n",
    "similar proteins to the one of your interest. If the structures of some of the results\n",
    "are available, you might want to align them all together to see the differences. \n",
    "These structures might not have the same number of residues, or the exact same residues,\n",
    "or even the labeling of the atoms can be different, which makes a typical alignment function fail.\n",
    "However, HTMD provides the function ```htmd.molecule.util.sequenceStructureAlignment```, which takes two proteins and\n",
    "aligns both structures using their longest **sequence** aligment.\n",
    "\n",
    "In this example, we will use Dopamine receptor (PDB code: '3PBL') and Beta Adrenergic recptor (PDB code: '3NYA').\n",
    "Both are GPCR proteins, so they share a great fraction of their sequence. We will use this feature to align their structures."
   ]
  },
  {
   "cell_type": "markdown",
   "metadata": {},
   "source": [
    "## Quick Example\n",
    "\n",
    "Adrenaline receptor will be used as the reference"
   ]
  },
  {
   "cell_type": "code",
   "execution_count": 1,
   "metadata": {},
   "outputs": [
    {
     "name": "stdout",
     "output_type": "stream",
     "text": [
      "ffevaluate module is in beta version\n",
      "\n",
      "Please cite HTMD: Doerr et al.(2016)JCTC,12,1845. \n",
      "https://dx.doi.org/10.1021/acs.jctc.6b00049\n",
      "Documentation: http://software.acellera.com/\n",
      "To update: conda update htmd -c acellera -c psi4\n",
      "\n",
      "You are on the latest HTMD version (unpackaged : /shared/alejandro/software/latest_htmd/htmd).\n",
      "\n"
     ]
    },
    {
     "name": "stderr",
     "output_type": "stream",
     "text": [
      "2018-07-25 12:33:00,336 - htmd.molecule.molecule - INFO - Removed 81 atoms. 3527 atoms remaining in the molecule.\n",
      "2018-07-25 12:33:01,052 - htmd.molecule.util - WARNING - 15 alignments found. Limiting to 10 as specified in the `maxalignments` argument.\n",
      "2018-07-25 12:33:01,053 - htmd.molecule.util - INFO - Alignment #0 was done on 7 residues: mol segid DOP resid 41-47\n",
      "2018-07-25 12:33:01,081 - htmd.molecule.util - INFO - Alignment #1 was done on 7 residues: mol segid DOP resid 41-47\n",
      "2018-07-25 12:33:01,107 - htmd.molecule.util - INFO - Alignment #2 was done on 7 residues: mol segid DOP resid 41-47\n",
      "2018-07-25 12:33:01,133 - htmd.molecule.util - INFO - Alignment #3 was done on 7 residues: mol segid DOP resid 41-47\n",
      "2018-07-25 12:33:01,159 - htmd.molecule.util - INFO - Alignment #4 was done on 7 residues: mol segid DOP resid 41-47\n",
      "2018-07-25 12:33:01,185 - htmd.molecule.util - INFO - Alignment #5 was done on 7 residues: mol segid DOP resid 41-47\n",
      "2018-07-25 12:33:01,212 - htmd.molecule.util - INFO - Alignment #6 was done on 7 residues: mol segid DOP resid 41-47\n",
      "2018-07-25 12:33:01,238 - htmd.molecule.util - INFO - Alignment #7 was done on 7 residues: mol segid DOP resid 41-47\n",
      "2018-07-25 12:33:01,265 - htmd.molecule.util - INFO - Alignment #8 was done on 7 residues: mol segid DOP resid 41-47\n",
      "2018-07-25 12:33:01,291 - htmd.molecule.util - INFO - Alignment #9 was done on 7 residues: mol segid DOP resid 41-47\n"
     ]
    },
    {
     "data": {
      "application/vnd.jupyter.widget-view+json": {
       "model_id": "90dcb19d0bf74615bb93fd5ba98ff5a5",
       "version_major": 2,
       "version_minor": 0
      },
      "text/plain": [
       "A Jupyter Widget"
      ]
     },
     "metadata": {},
     "output_type": "display_data"
    }
   ],
   "source": [
    "from htmd.ui import *\n",
    "from htmd.molecule.util import sequenceStructureAlignment\n",
    "config(viewer='ngl')\n",
    "\n",
    "#We will use adrenaline receptor as the reference/template\n",
    "\n",
    "#Load dopamine receptor\n",
    "dop_receptor = Molecule('3PBL.pdb')\n",
    "dop_receptor.filter('protein and chain A',_logger=False) #the crystal is a dimer, discard one of the units\n",
    "dop_receptor.set('segid','DOP',sel='all') #identify the protein with a segid to visualize it \n",
    "\n",
    "#Load adrenaline receptor\n",
    "adr_receptor = Molecule('3NYA.pdb')\n",
    "adr_receptor.filter('protein')\n",
    "adr_receptor.filter('resid 0 to 342',_logger=False) # filter out the G-protein\n",
    "adr_receptor.set('segid','ADR',sel='all') #identify the protein with a segid\n",
    "\n",
    "#adr_receptor acts as the template\n",
    "dop_receptor_results = sequenceStructureAlignment(dop_receptor,adr_receptor) \n",
    "\n",
    "aligned_proteins = dop_receptor_results[0].copy() #pick the best result\n",
    "\n",
    "#see the result, dopamine receptor is displayed in blue\n",
    "aligned_proteins.append(adr_receptor)\n",
    "aligned_proteins.view(style='NewCartoon',sel='segid ADR',hold=True)\n",
    "aligned_proteins.view(style='NewCartoon',sel='segid DOP',color='blue')"
   ]
  },
  {
   "cell_type": "markdown",
   "metadata": {},
   "source": [
    "## Detailed Explanation\n",
    "\n",
    "First, we load the dopamine receptor. The crystal is a dimer of two receptors, so we discard one of the units."
   ]
  },
  {
   "cell_type": "code",
   "execution_count": 2,
   "metadata": {},
   "outputs": [
    {
     "name": "stderr",
     "output_type": "stream",
     "text": [
      "2018-07-25 12:33:52,934 - htmd.molecule.molecule - INFO - Removed 3398 atoms. 3389 atoms remaining in the molecule.\n"
     ]
    }
   ],
   "source": [
    "from htmd.ui import *\n",
    "from htmd.molecule.util import sequenceStructureAlignment\n",
    "config(viewer='ngl')\n",
    "\n",
    "dop_receptor = Molecule('3PBL.pdb')\n",
    "dop_receptor.filter('protein and chain A') #discard one of the units\n",
    "dop_receptor.set('segid','DOP',sel='all') #identify the protein with a segid"
   ]
  },
  {
   "cell_type": "markdown",
   "metadata": {},
   "source": [
    "Next, we load the beta adrenergic receptor. The G-protein from the Adrenergic receptor (residues from 0 to 342) is discarded, to ensure that these region\n",
    "is not used to align both proteins"
   ]
  },
  {
   "cell_type": "code",
   "execution_count": 3,
   "metadata": {},
   "outputs": [
    {
     "name": "stderr",
     "output_type": "stream",
     "text": [
      "2018-07-25 12:33:58,683 - htmd.molecule.molecule - INFO - Removed 81 atoms. 3527 atoms remaining in the molecule.\n",
      "2018-07-25 12:33:58,730 - htmd.molecule.molecule - INFO - Removed 1275 atoms. 2252 atoms remaining in the molecule.\n"
     ]
    }
   ],
   "source": [
    "adr_receptor = Molecule('3NYA.pdb')\n",
    "adr_receptor.filter('protein')\n",
    "adr_receptor.filter('resid 0 to 342') # filter out the G-protein\n",
    "adr_receptor.set('segid','ADR',sel='all') #identify the protein with a segid"
   ]
  },
  {
   "cell_type": "markdown",
   "metadata": {},
   "source": [
    "Let's see the two proteins together before the alignment. The dopamine receptor is displayed in blue."
   ]
  },
  {
   "cell_type": "code",
   "execution_count": 4,
   "metadata": {},
   "outputs": [
    {
     "data": {
      "application/vnd.jupyter.widget-view+json": {
       "model_id": "37253469555a477f8ef43356834b1a4f",
       "version_major": 2,
       "version_minor": 0
      },
      "text/plain": [
       "A Jupyter Widget"
      ]
     },
     "metadata": {},
     "output_type": "display_data"
    }
   ],
   "source": [
    "both_proteins = adr_receptor.copy()\n",
    "both_proteins.append(dop_receptor)\n",
    "both_proteins.view(sel='segid ADR',style='NewCartoon',hold=True)\n",
    "both_proteins.view(sel='segid DOP',style='NewCartoon',color='blue')"
   ]
  },
  {
   "cell_type": "markdown",
   "metadata": {},
   "source": [
    "Now, both proteins are ready to be aligned, so we call the ```sequenceStructureAlignment``` function. The second protein molecule passed to the function acts as the reference, in our case, the adrenaline receptor"
   ]
  },
  {
   "cell_type": "code",
   "execution_count": 5,
   "metadata": {},
   "outputs": [
    {
     "name": "stderr",
     "output_type": "stream",
     "text": [
      "2018-07-25 12:34:43,583 - htmd.molecule.util - WARNING - 15 alignments found. Limiting to 10 as specified in the `maxalignments` argument.\n",
      "2018-07-25 12:34:43,585 - htmd.molecule.util - INFO - Alignment #0 was done on 7 residues: mol segid DOP resid 41-47\n",
      "2018-07-25 12:34:43,611 - htmd.molecule.util - INFO - Alignment #1 was done on 7 residues: mol segid DOP resid 41-47\n",
      "2018-07-25 12:34:43,638 - htmd.molecule.util - INFO - Alignment #2 was done on 7 residues: mol segid DOP resid 41-47\n",
      "2018-07-25 12:34:43,664 - htmd.molecule.util - INFO - Alignment #3 was done on 7 residues: mol segid DOP resid 41-47\n",
      "2018-07-25 12:34:43,690 - htmd.molecule.util - INFO - Alignment #4 was done on 7 residues: mol segid DOP resid 41-47\n",
      "2018-07-25 12:34:43,717 - htmd.molecule.util - INFO - Alignment #5 was done on 7 residues: mol segid DOP resid 41-47\n",
      "2018-07-25 12:34:43,743 - htmd.molecule.util - INFO - Alignment #6 was done on 7 residues: mol segid DOP resid 41-47\n",
      "2018-07-25 12:34:43,770 - htmd.molecule.util - INFO - Alignment #7 was done on 7 residues: mol segid DOP resid 41-47\n",
      "2018-07-25 12:34:43,796 - htmd.molecule.util - INFO - Alignment #8 was done on 7 residues: mol segid DOP resid 41-47\n",
      "2018-07-25 12:34:43,822 - htmd.molecule.util - INFO - Alignment #9 was done on 7 residues: mol segid DOP resid 41-47\n"
     ]
    }
   ],
   "source": [
    "dop_receptor_results = sequenceStructureAlignment(dop_receptor,adr_receptor)"
   ]
  },
  {
   "cell_type": "markdown",
   "metadata": {},
   "source": [
    "```dop_receptor_results``` stores different structural alignments, each using a different portion of the sequence alignment.\n",
    "By default, only the best 10 alignments are stored, but you can modify this behaviour setting the parameter ```maxalignments``` to an arbitrary number.\n",
    "\n",
    "Let's look at the best result by choosing the first item in ```dop_receptor_results```. Dopamine receptor is shown in blue."
   ]
  },
  {
   "cell_type": "code",
   "execution_count": 6,
   "metadata": {},
   "outputs": [
    {
     "data": {
      "application/vnd.jupyter.widget-view+json": {
       "model_id": "17565e6eee534108a3d91869d492cec1",
       "version_major": 2,
       "version_minor": 0
      },
      "text/plain": [
       "A Jupyter Widget"
      ]
     },
     "metadata": {},
     "output_type": "display_data"
    }
   ],
   "source": [
    "aligned_proteins = dop_receptor_results[0].copy() #pick the best result \n",
    "aligned_proteins.append(adr_receptor)\n",
    "aligned_proteins.view(style='NewCartoon',sel='segid ADR',hold=True)\n",
    "aligned_proteins.view(style='NewCartoon',sel='segid DOP',color='blue')"
   ]
  }
 ],
 "metadata": {
  "kernelspec": {
   "display_name": "Python 3",
   "language": "python",
   "name": "python3"
  },
  "language_info": {
   "codemirror_mode": {
    "name": "ipython",
    "version": 3
   },
   "file_extension": ".py",
   "mimetype": "text/x-python",
   "name": "python",
   "nbconvert_exporter": "python",
   "pygments_lexer": "ipython3",
   "version": "3.6.3"
  }
 },
 "nbformat": 4,
 "nbformat_minor": 2
}
