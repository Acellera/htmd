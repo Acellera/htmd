{
 "cells": [
  {
   "cell_type": "markdown",
   "metadata": {
    "slideshow": {
     "slide_type": "slide"
    }
   },
   "source": [
    "# Conformational analysis of CXCL12"
   ]
  },
  {
   "cell_type": "markdown",
   "metadata": {
    "slideshow": {
     "slide_type": "-"
    }
   },
   "source": [
    "In this tutorial, we demonstrate how to use the HTMD code for doing conformational analysis.\n",
    "\n",
    "To analyze, one needs MD trajectories first, which can be generated with HTMD. Here, we already provide the trajectories (data) to analyze. You can download the data from [here](http://pub.htmd.org/tutorials/cxcl12-conformational-analysis/cxcl12_filtered.tar.gz). (**Warning: 2.6 GB filesize**)\n",
    "\n",
    "Alternatively, you can download the dataset using `wget`."
   ]
  },
  {
   "cell_type": "code",
   "execution_count": null,
   "metadata": {},
   "outputs": [],
   "source": [
    "import os\n",
    "assert os.system('wget -rcN -np -nH -q --cut-dirs=2 -R index.html* http://pub.htmd.org/tutorials/cxcl12-conformational-analysis/cxcl12_filtered/') == 0"
   ]
  },
  {
   "cell_type": "markdown",
   "metadata": {
    "slideshow": {
     "slide_type": "slide"
    }
   },
   "source": [
    "## Getting started"
   ]
  },
  {
   "cell_type": "markdown",
   "metadata": {},
   "source": [
    "First we import the modules we are going to need for the tutorial:"
   ]
  },
  {
   "cell_type": "code",
   "execution_count": 1,
   "metadata": {
    "slideshow": {
     "slide_type": "-"
    }
   },
   "outputs": [
    {
     "name": "stderr",
     "output_type": "stream",
     "text": [
      "2024-06-12 11:53:02,703 - numexpr.utils - INFO - Note: NumExpr detected 20 cores but \"NUMEXPR_MAX_THREADS\" not set, so enforcing safe limit of 8.\n",
      "2024-06-12 11:53:02,704 - numexpr.utils - INFO - NumExpr defaulting to 8 threads.\n",
      "2024-06-12 11:53:02,858 - rdkit - INFO - Enabling RDKit 2022.09.1 jupyter extensions\n"
     ]
    },
    {
     "name": "stdout",
     "output_type": "stream",
     "text": [
      "\n",
      "Please cite HTMD: Doerr et al.(2016)JCTC,12,1845. https://dx.doi.org/10.1021/acs.jctc.6b00049\n",
      "HTMD Documentation at: https://software.acellera.com/htmd/\n",
      "\n",
      "You are on the latest HTMD version (2.3.28+8.g0ec8f27eb.dirty).\n",
      "\n"
     ]
    }
   ],
   "source": [
    "from htmd.ui import *\n",
    "from matplotlib import pylab as plt\n",
    "from moleculekit.config import config\n",
    "\n",
    "config(viewer='webgl')"
   ]
  },
  {
   "cell_type": "markdown",
   "metadata": {
    "slideshow": {
     "slide_type": "slide"
    }
   },
   "source": [
    "## Introduction to CXCL12"
   ]
  },
  {
   "cell_type": "markdown",
   "metadata": {
    "slideshow": {
     "slide_type": "-"
    }
   },
   "source": [
    "CXCL12 is a chemokine involved in...\n",
    "\n",
    "*  many types of cancer \n",
    "*  inflammatory diseases \n",
    "*  early development events"
   ]
  },
  {
   "cell_type": "markdown",
   "metadata": {
    "slideshow": {
     "slide_type": "-"
    }
   },
   "source": [
    "![system](img/system-protein2.png)"
   ]
  },
  {
   "cell_type": "markdown",
   "metadata": {
    "slideshow": {
     "slide_type": "slide"
    }
   },
   "source": [
    "## Sampling major conformational states"
   ]
  },
  {
   "cell_type": "markdown",
   "metadata": {
    "slideshow": {
     "slide_type": "-"
    }
   },
   "source": [
    "There are many different metrics to assess the overall conformational changes of a protein. From them all, phi and psi angles of the protein backbone (dihedrals) have been the most successful descriptors in \"blindly\" capturing the major protein conformations.\n",
    "\n",
    "In this section we will project our trajectories on the backbone dihedrals and, we will reduce the dimensionality by using tICA and then we will build a Markov Model to asses the major protein conformations in equilibrium."
   ]
  },
  {
   "cell_type": "markdown",
   "metadata": {
    "slideshow": {
     "slide_type": "-"
    }
   },
   "source": [
    "![conformations](img/conformations.png)"
   ]
  },
  {
   "cell_type": "markdown",
   "metadata": {
    "slideshow": {
     "slide_type": "slide"
    }
   },
   "source": [
    "## Load the trajectories into a simlist"
   ]
  },
  {
   "cell_type": "code",
   "execution_count": 3,
   "metadata": {
    "slideshow": {
     "slide_type": "-"
    }
   },
   "outputs": [
    {
     "name": "stderr",
     "output_type": "stream",
     "text": [
      "Creating simlist: 100%|█████████████████████████████████████████████████████████████████████████████████████████████████████████████| 289/289 [00:01<00:00, 226.23it/s]\n"
     ]
    }
   ],
   "source": [
    "fsims = simlist(glob('./cxcl12_filtered/*/'), './cxcl12_filtered/')"
   ]
  },
  {
   "cell_type": "markdown",
   "metadata": {
    "slideshow": {
     "slide_type": "slide"
    }
   },
   "source": [
    "## Calculate metrics: protein backbone dihedrals"
   ]
  },
  {
   "cell_type": "markdown",
   "metadata": {},
   "source": [
    "CXCL12 has a very flexible C-terminus loop as well as a transiently disorderable N-terminal alfa helix. In this study we are not interested in them but in the core of the chemokine. For this reason, we will select residues from 10 to 54. "
   ]
  },
  {
   "cell_type": "code",
   "execution_count": 4,
   "metadata": {
    "slideshow": {
     "slide_type": "-"
    }
   },
   "outputs": [
    {
     "name": "stderr",
     "output_type": "stream",
     "text": [
      "Projecting trajectories: 100%|███████████████████████████████████████████████████████████████████████████████████████████████████████| 289/289 [00:37<00:00,  7.79it/s]\n",
      "2024-06-12 11:48:59,344 - htmd.projections.metric - WARNING - Multiple framesteps [0.0, 0.1] ns were read from the simulations. Taking the statistical mode: 0.1ns. If it looks wrong, you can modify it by manually setting the MetricData.fstep property.\n"
     ]
    }
   ],
   "source": [
    "metr = Metric(fsims)\n",
    "metr.set(MetricDihedral(protsel='protein and resid 10 to 54', sincos=True))\n",
    "data = metr.project()\n",
    "data.fstep = 0.1"
   ]
  },
  {
   "cell_type": "code",
   "execution_count": 5,
   "metadata": {
    "scrolled": true,
    "slideshow": {
     "slide_type": "slide"
    }
   },
   "outputs": [
    {
     "data": {
      "image/png": "[encoded data removed]",
      "text/plain": [
       "<Figure size 640x480 with 1 Axes>"
      ]
     },
     "metadata": {},
     "output_type": "display_data"
    }
   ],
   "source": [
    "data.plotTrajSizes()"
   ]
  },
  {
   "cell_type": "code",
   "execution_count": 6,
   "metadata": {},
   "outputs": [
    {
     "name": "stderr",
     "output_type": "stream",
     "text": [
      "2024-06-12 11:48:59,461 - htmd.metricdata - INFO - Dropped 1 trajectories from 289 resulting in 288\n"
     ]
    },
    {
     "data": {
      "text/plain": [
       "array([145])"
      ]
     },
     "execution_count": 6,
     "metadata": {},
     "output_type": "execute_result"
    }
   ],
   "source": [
    "data.dropTraj()"
   ]
  },
  {
   "cell_type": "markdown",
   "metadata": {
    "slideshow": {
     "slide_type": "slide"
    }
   },
   "source": [
    "##  Dimensionality reduction"
   ]
  },
  {
   "cell_type": "code",
   "execution_count": 7,
   "metadata": {
    "slideshow": {
     "slide_type": "-"
    }
   },
   "outputs": [],
   "source": [
    "tica = TICA(data, 20)\n",
    "dataTica = tica.project(3)"
   ]
  },
  {
   "cell_type": "markdown",
   "metadata": {
    "slideshow": {
     "slide_type": "slide"
    }
   },
   "source": [
    "## Clustering"
   ]
  },
  {
   "cell_type": "code",
   "execution_count": 8,
   "metadata": {
    "scrolled": true,
    "slideshow": {
     "slide_type": "-"
    }
   },
   "outputs": [
    {
     "name": "stderr",
     "output_type": "stream",
     "text": [
      "2024-06-12 11:49:04,110 - htmd.metricdata - INFO - Mergesmall removed 0 clusters. Original ncluster 200, new ncluster 200.\n"
     ]
    }
   ],
   "source": [
    "dataTica.cluster(MiniBatchKMeans(n_clusters=200), mergesmall=5)"
   ]
  },
  {
   "cell_type": "markdown",
   "metadata": {
    "slideshow": {
     "slide_type": "slide"
    }
   },
   "source": [
    "## MSM analysis and visualization"
   ]
  },
  {
   "cell_type": "code",
   "execution_count": 9,
   "metadata": {
    "slideshow": {
     "slide_type": "-"
    }
   },
   "outputs": [
    {
     "name": "stderr",
     "output_type": "stream",
     "text": [
      "Estimating Timescales: 100%|███████████████████████████████████████████████████████████████████████████████████████████████████████████| 20/20 [00:16<00:00,  1.20it/s]\n"
     ]
    },
    {
     "data": {
      "image/png": "[encoded data removed]",
      "text/plain": [
       "<Figure size 640x480 with 1 Axes>"
      ]
     },
     "metadata": {},
     "output_type": "display_data"
    }
   ],
   "source": [
    "model = Model(dataTica)\n",
    "model.plotTimescales(lags=list(range(1,100,5)), units=\"ns\")"
   ]
  },
  {
   "cell_type": "markdown",
   "metadata": {
    "slideshow": {
     "slide_type": "slide"
    }
   },
   "source": [
    "## Build Markov Model"
   ]
  },
  {
   "cell_type": "code",
   "execution_count": 10,
   "metadata": {
    "scrolled": true,
    "slideshow": {
     "slide_type": "-"
    }
   },
   "outputs": [
    {
     "name": "stderr",
     "output_type": "stream",
     "text": [
      "2024-06-12 11:49:23,206 - htmd.model - WARNING - PCCA returned empty macrostates. Reducing the number of macrostates to 7.\n",
      "2024-06-12 11:49:23,701 - htmd.model - INFO - 99.7% of the data was used\n",
      "2024-06-12 11:49:23,721 - htmd.model - INFO - Number of trajectories that visited each macrostate:\n",
      "2024-06-12 11:49:23,722 - htmd.model - INFO - [ 38  62  29   8 288  11  11]\n"
     ]
    },
    {
     "data": {
      "image/png": "[encoded data removed]",
      "text/plain": [
       "<Figure size 640x480 with 1 Axes>"
      ]
     },
     "metadata": {},
     "output_type": "display_data"
    }
   ],
   "source": [
    "model.markovModel(60, 8, units=\"ns\")\n",
    "eqDist = model.eqDistribution()"
   ]
  },
  {
   "cell_type": "markdown",
   "metadata": {
    "slideshow": {
     "slide_type": "slide"
    }
   },
   "source": [
    "We can now visualize representatives for each of the equilibrium species"
   ]
  },
  {
   "cell_type": "code",
   "execution_count": 11,
   "metadata": {
    "slideshow": {
     "slide_type": "-"
    }
   },
   "outputs": [
    {
     "name": "stderr",
     "output_type": "stream",
     "text": [
      "Getting state Molecules: 100%|███████████████████████████████████████████████████████████████████████████████████████████████████████████| 7/7 [00:00<00:00, 26.20it/s]\n"
     ]
    },
    {
     "data": {
      "application/vnd.jupyter.widget-view+json": {
       "model_id": "2f39c12d4fa14ea5bbc803a702423a40",
       "version_major": 2,
       "version_minor": 0
      },
      "text/plain": []
     },
     "metadata": {},
     "output_type": "display_data"
    },
    {
     "data": {
      "application/vnd.jupyter.widget-view+json": {
       "model_id": "9f56625ad8f74e1593ce1fea517e3f37",
       "version_major": 2,
       "version_minor": 0
      },
      "text/plain": [
       "HBox(children=(Checkbox(value=True, description='macro 0'), Checkbox(value=True, description='macro 1'), Check…"
      ]
     },
     "metadata": {},
     "output_type": "display_data"
    },
    {
     "data": {
      "application/vnd.jupyter.widget-view+json": {
       "model_id": "71353c3c09a74c0180a5e3b7a76770cc",
       "version_major": 2,
       "version_minor": 0
      },
      "text/plain": [
       "NGLWidget()"
      ]
     },
     "metadata": {},
     "output_type": "display_data"
    }
   ],
   "source": [
    "model.numsamples=1\n",
    "model.viewStates(protein=True)"
   ]
  },
  {
   "cell_type": "markdown",
   "metadata": {
    "slideshow": {
     "slide_type": "slide"
    }
   },
   "source": [
    "## Statistics: What are the major differences between the states X and Y?"
   ]
  },
  {
   "cell_type": "code",
   "execution_count": 12,
   "metadata": {
    "slideshow": {
     "slide_type": "-"
    }
   },
   "outputs": [
    {
     "data": {
      "text/html": [
       "<div>\n",
       "<style scoped>\n",
       "    .dataframe tbody tr th:only-of-type {\n",
       "        vertical-align: middle;\n",
       "    }\n",
       "\n",
       "    .dataframe tbody tr th {\n",
       "        vertical-align: top;\n",
       "    }\n",
       "\n",
       "    .dataframe thead th {\n",
       "        text-align: right;\n",
       "    }\n",
       "</style>\n",
       "<table border=\"1\" class=\"dataframe\">\n",
       "  <thead>\n",
       "    <tr style=\"text-align: right;\">\n",
       "      <th></th>\n",
       "      <th>type</th>\n",
       "      <th>atomIndexes</th>\n",
       "      <th>description</th>\n",
       "    </tr>\n",
       "  </thead>\n",
       "  <tbody>\n",
       "    <tr>\n",
       "      <th>24</th>\n",
       "      <td>dihedral</td>\n",
       "      <td>[253, 255, 262, 264]</td>\n",
       "      <td>Sine of angle of (SER 16 N A A) (SER 16 CA A A...</td>\n",
       "    </tr>\n",
       "    <tr>\n",
       "      <th>25</th>\n",
       "      <td>dihedral</td>\n",
       "      <td>[253, 255, 262, 264]</td>\n",
       "      <td>Cosine of angle of (SER 16 N A A) (SER 16 CA A...</td>\n",
       "    </tr>\n",
       "    <tr>\n",
       "      <th>26</th>\n",
       "      <td>dihedral</td>\n",
       "      <td>[262, 264, 266, 279]</td>\n",
       "      <td>Sine of angle of (SER 16 C A A) (HSD 17 N A A)...</td>\n",
       "    </tr>\n",
       "    <tr>\n",
       "      <th>57</th>\n",
       "      <td>dihedral</td>\n",
       "      <td>[371, 373, 391, 393]</td>\n",
       "      <td>Cosine of angle of (LYS 24 N A A) (LYS 24 CA A...</td>\n",
       "    </tr>\n",
       "    <tr>\n",
       "      <th>59</th>\n",
       "      <td>dihedral</td>\n",
       "      <td>[391, 393, 395, 408]</td>\n",
       "      <td>Cosine of angle of (LYS 24 C A A) (HSD 25 N A ...</td>\n",
       "    </tr>\n",
       "    <tr>\n",
       "      <th>88</th>\n",
       "      <td>dihedral</td>\n",
       "      <td>[517, 521, 529, 531]</td>\n",
       "      <td>Sine of angle of (PRO 32 N A A) (PRO 32 CA A A...</td>\n",
       "    </tr>\n",
       "    <tr>\n",
       "      <th>89</th>\n",
       "      <td>dihedral</td>\n",
       "      <td>[517, 521, 529, 531]</td>\n",
       "      <td>Cosine of angle of (PRO 32 N A A) (PRO 32 CA A...</td>\n",
       "    </tr>\n",
       "    <tr>\n",
       "      <th>90</th>\n",
       "      <td>dihedral</td>\n",
       "      <td>[529, 531, 533, 543]</td>\n",
       "      <td>Sine of angle of (PRO 32 C A A) (ASN 33 N A A)...</td>\n",
       "    </tr>\n",
       "    <tr>\n",
       "      <th>136</th>\n",
       "      <td>dihedral</td>\n",
       "      <td>[711, 713, 723, 725]</td>\n",
       "      <td>Sine of angle of (ASN 44 N A A) (ASN 44 CA A A...</td>\n",
       "    </tr>\n",
       "    <tr>\n",
       "      <th>137</th>\n",
       "      <td>dihedral</td>\n",
       "      <td>[711, 713, 723, 725]</td>\n",
       "      <td>Cosine of angle of (ASN 44 N A A) (ASN 44 CA A...</td>\n",
       "    </tr>\n",
       "    <tr>\n",
       "      <th>138</th>\n",
       "      <td>dihedral</td>\n",
       "      <td>[723, 725, 727, 737]</td>\n",
       "      <td>Sine of angle of (ASN 44 C A A) (ASN 45 N A A)...</td>\n",
       "    </tr>\n",
       "  </tbody>\n",
       "</table>\n",
       "</div>"
      ],
      "text/plain": [
       "         type           atomIndexes  \\\n",
       "24   dihedral  [253, 255, 262, 264]   \n",
       "25   dihedral  [253, 255, 262, 264]   \n",
       "26   dihedral  [262, 264, 266, 279]   \n",
       "57   dihedral  [371, 373, 391, 393]   \n",
       "59   dihedral  [391, 393, 395, 408]   \n",
       "88   dihedral  [517, 521, 529, 531]   \n",
       "89   dihedral  [517, 521, 529, 531]   \n",
       "90   dihedral  [529, 531, 533, 543]   \n",
       "136  dihedral  [711, 713, 723, 725]   \n",
       "137  dihedral  [711, 713, 723, 725]   \n",
       "138  dihedral  [723, 725, 727, 737]   \n",
       "\n",
       "                                           description  \n",
       "24   Sine of angle of (SER 16 N A A) (SER 16 CA A A...  \n",
       "25   Cosine of angle of (SER 16 N A A) (SER 16 CA A...  \n",
       "26   Sine of angle of (SER 16 C A A) (HSD 17 N A A)...  \n",
       "57   Cosine of angle of (LYS 24 N A A) (LYS 24 CA A...  \n",
       "59   Cosine of angle of (LYS 24 C A A) (HSD 25 N A ...  \n",
       "88   Sine of angle of (PRO 32 N A A) (PRO 32 CA A A...  \n",
       "89   Cosine of angle of (PRO 32 N A A) (PRO 32 CA A...  \n",
       "90   Sine of angle of (PRO 32 C A A) (ASN 33 N A A)...  \n",
       "136  Sine of angle of (ASN 44 N A A) (ASN 44 CA A A...  \n",
       "137  Cosine of angle of (ASN 44 N A A) (ASN 44 CA A...  \n",
       "138  Sine of angle of (ASN 44 C A A) (ASN 45 N A A)...  "
      ]
     },
     "execution_count": 12,
     "metadata": {},
     "output_type": "execute_result"
    },
    {
     "data": {
      "image/png": "[encoded data removed]",
      "text/plain": [
       "<Figure size 640x480 with 1 Axes>"
      ]
     },
     "metadata": {},
     "output_type": "display_data"
    }
   ],
   "source": [
    "means = getStateStatistic(model, data, range(model.macronum))\n",
    "plt.figure()\n",
    "plt.bar(range(len(means[0])), means[-1] - means[-2])\n",
    "idx = np.where(np.abs(means[-1] - means[-2]) > 0.6)[0]\n",
    "data.map.iloc[idx]"
   ]
  },
  {
   "cell_type": "code",
   "execution_count": 13,
   "metadata": {
    "slideshow": {
     "slide_type": "subslide"
    }
   },
   "outputs": [
    {
     "data": {
      "application/vnd.jupyter.widget-view+json": {
       "model_id": "74439bcf56d94c5d9d095f01e7d9300b",
       "version_major": 2,
       "version_minor": 0
      },
      "text/plain": [
       "NGLWidget()"
      ]
     },
     "metadata": {},
     "output_type": "display_data"
    }
   ],
   "source": [
    "# we can visualize which residues are different between states\n",
    "filtered = Molecule('./cxcl12_filtered/filtered.pdb')\n",
    "filtered.view(sel='protein',style='NewCartoon',hold=True)\n",
    "filtered.view(sel='resid 16 17 24 25 32 33 44 45',style='Licorice')"
   ]
  },
  {
   "cell_type": "markdown",
   "metadata": {
    "slideshow": {
     "slide_type": "slide"
    }
   },
   "source": [
    "## Mapping back: Which trajectory originated the state X?"
   ]
  },
  {
   "cell_type": "code",
   "execution_count": 14,
   "metadata": {
    "slideshow": {
     "slide_type": "-"
    }
   },
   "outputs": [
    {
     "data": {
      "text/plain": [
       "(array([  3, 100, 110, 168, 184]),)"
      ]
     },
     "execution_count": 14,
     "metadata": {},
     "output_type": "execute_result"
    }
   ],
   "source": [
    "np.where(model.macro_ofmicro == 6)"
   ]
  },
  {
   "cell_type": "code",
   "execution_count": 15,
   "metadata": {
    "slideshow": {
     "slide_type": "-"
    }
   },
   "outputs": [
    {
     "name": "stdout",
     "output_type": "stream",
     "text": [
      "[array([[ 264, 1527],\n",
      "       [ 264,  690],\n",
      "       [ 264, 1176],\n",
      "       [ 264, 1657],\n",
      "       [ 264,  466],\n",
      "       [ 264, 1335],\n",
      "       [ 264, 1019],\n",
      "       [ 264, 1853],\n",
      "       [ 264,  583],\n",
      "       [ 264,  862]])]\n"
     ]
    }
   ],
   "source": [
    "_,rel = model.sampleStates(10, 10, statetype='micro')\n",
    "print(rel)"
   ]
  },
  {
   "cell_type": "code",
   "execution_count": 16,
   "metadata": {
    "slideshow": {
     "slide_type": "-"
    }
   },
   "outputs": [
    {
     "name": "stdout",
     "output_type": "stream",
     "text": [
      "\n",
      "simid = 233\n",
      "parent = None\n",
      "input = []\n",
      "trajectory = ['./cxcl12_filtered/9x10/9x10-GERARD_VERYLONG_CXCL12_confAna-0-1-RND1051_9.filtered.xtc']\n",
      "molfile = ['./cxcl12_filtered/filtered.pdb', './cxcl12_filtered/filtered.psf']\n",
      "numframes = [2000]\n",
      "\n"
     ]
    }
   ],
   "source": [
    "print(model.data.simlist[232])"
   ]
  },
  {
   "cell_type": "markdown",
   "metadata": {
    "slideshow": {
     "slide_type": "slide"
    }
   },
   "source": [
    "## Studying a defined reaction coordinate"
   ]
  },
  {
   "cell_type": "markdown",
   "metadata": {
    "slideshow": {
     "slide_type": "-"
    }
   },
   "source": [
    "Revising the literature related to CXCL12, we find a paper published by Andrea Bernini et al. (2014), where they describe the opening of a pocket in CXCL12 located between the 2nd and 3rd beta sheet (see figure). To try to capture this phenomenon in our simulations, we will project our trajectories along the 2nd and 3rd beta-sheet distance."
   ]
  },
  {
   "cell_type": "markdown",
   "metadata": {
    "slideshow": {
     "slide_type": "-"
    }
   },
   "source": [
    "![openclose_struc](img/openclose_struc.jpg)"
   ]
  },
  {
   "cell_type": "markdown",
   "metadata": {
    "slideshow": {
     "slide_type": "-"
    }
   },
   "source": [
    "_Figure taken from Bernini et al., 2014, 1844(3):561-6. DOI:10.1016/j.bbapap.2013.12.012._"
   ]
  },
  {
   "cell_type": "markdown",
   "metadata": {
    "slideshow": {
     "slide_type": "slide"
    }
   },
   "source": [
    "The first selection corresponds to beta-sheet 2 carbons alpha, the second one to beta-sheet 3 CA.\n",
    "We specify `metric='contacts'` to create contact maps instead of proper distances. This means: create an interatom matrix and with 1's if the distance is below cutoff and 0's otherwise."
   ]
  },
  {
   "cell_type": "code",
   "execution_count": 17,
   "metadata": {
    "slideshow": {
     "slide_type": "-"
    }
   },
   "outputs": [
    {
     "name": "stderr",
     "output_type": "stream",
     "text": [
      "Projecting trajectories: 100%|███████████████████████████████████████████████████████████████████████████████████████████████████████| 289/289 [00:38<00:00,  7.50it/s]\n",
      "2024-06-12 11:50:32,963 - htmd.projections.metric - WARNING - Multiple framesteps [0.0, 0.1] ns were read from the simulations. Taking the statistical mode: 0.1ns. If it looks wrong, you can modify it by manually setting the MetricData.fstep property.\n"
     ]
    }
   ],
   "source": [
    "metr = Metric(fsims)\n",
    "metr.set(MetricDistance('resid 38 to 42 and noh', 'resid 22 to 28 and noh', periodic=None, metric='contacts'))\n",
    "data3 = metr.project()"
   ]
  },
  {
   "cell_type": "markdown",
   "metadata": {
    "slideshow": {
     "slide_type": "slide"
    }
   },
   "source": [
    "## tICA projection"
   ]
  },
  {
   "cell_type": "markdown",
   "metadata": {
    "slideshow": {
     "slide_type": "-"
    }
   },
   "source": [
    "Dimensionality reduction along the slow process"
   ]
  },
  {
   "cell_type": "code",
   "execution_count": null,
   "metadata": {
    "slideshow": {
     "slide_type": "-"
    }
   },
   "outputs": [],
   "source": [
    "tica3 = TICA(data3, 20)\n",
    "dataTica3 = tica3.project(3)"
   ]
  },
  {
   "cell_type": "markdown",
   "metadata": {
    "slideshow": {
     "slide_type": "slide"
    }
   },
   "source": [
    "## Clustering"
   ]
  },
  {
   "cell_type": "code",
   "execution_count": null,
   "metadata": {
    "slideshow": {
     "slide_type": "-"
    }
   },
   "outputs": [],
   "source": [
    "dataTica3.cluster(MiniBatchKMeans(n_clusters=200), mergesmall=5)"
   ]
  },
  {
   "cell_type": "markdown",
   "metadata": {
    "slideshow": {
     "slide_type": "slide"
    }
   },
   "source": [
    "## Plot timescales"
   ]
  },
  {
   "cell_type": "code",
   "execution_count": null,
   "metadata": {
    "slideshow": {
     "slide_type": "-"
    }
   },
   "outputs": [],
   "source": [
    "model3 = Model(dataTica3)\n",
    "model3.plotTimescales(lags=list(range(1,100,5)), units=\"ns\")"
   ]
  },
  {
   "cell_type": "markdown",
   "metadata": {
    "slideshow": {
     "slide_type": "slide"
    }
   },
   "source": [
    "## Build a Markov Model"
   ]
  },
  {
   "cell_type": "markdown",
   "metadata": {
    "slideshow": {
     "slide_type": "-"
    }
   },
   "source": [
    "We want to pick a lagtime where the timescales are converged (timescale is flat). 600 is the lagtime we want to use (600 frames is equivalent to 60ns). 4 is the number of macrostates."
   ]
  },
  {
   "cell_type": "code",
   "execution_count": null,
   "metadata": {
    "slideshow": {
     "slide_type": "-"
    }
   },
   "outputs": [],
   "source": [
    "model3.markovModel(60, 4, units=\"ns\")\n",
    "eqDist = model3.eqDistribution(plot=True)"
   ]
  },
  {
   "cell_type": "markdown",
   "metadata": {
    "slideshow": {
     "slide_type": "slide"
    }
   },
   "source": [
    "## Visualize states"
   ]
  },
  {
   "cell_type": "code",
   "execution_count": null,
   "metadata": {
    "slideshow": {
     "slide_type": "-"
    }
   },
   "outputs": [],
   "source": [
    "model3.viewStates(protein=True, numsamples=1)"
   ]
  },
  {
   "cell_type": "markdown",
   "metadata": {
    "slideshow": {
     "slide_type": "slide"
    }
   },
   "source": [
    "## Analyse Open Conformation"
   ]
  },
  {
   "cell_type": "markdown",
   "metadata": {},
   "source": [
    "Did you see any macrostate where the pocket is open? What is the equilibrium population probability? Let's try to find the trajectory that produced the state..."
   ]
  },
  {
   "cell_type": "code",
   "execution_count": null,
   "metadata": {
    "slideshow": {
     "slide_type": "-"
    }
   },
   "outputs": [],
   "source": [
    "# Map back the trajectory/ies that originated the macro. Substitute 1 for the macro that showed the pocket opening.\n",
    "# This function is giving you the microclusters that are inside a given macrocluster"
   ]
  },
  {
   "cell_type": "code",
   "execution_count": null,
   "metadata": {
    "slideshow": {
     "slide_type": "-"
    }
   },
   "outputs": [],
   "source": [
    "np.where(model3.macro_ofmicro ==1)"
   ]
  },
  {
   "cell_type": "code",
   "execution_count": null,
   "metadata": {
    "slideshow": {
     "slide_type": "-"
    }
   },
   "outputs": [],
   "source": [
    "# substitute 48 for the micro number from the previous step\n",
    "# This function gives you trajectory-frame pairs that visited a given micro\n",
    "_, rel = model3.sampleStates(48, 5, statetype='micro')\n",
    "print(rel)"
   ]
  },
  {
   "cell_type": "code",
   "execution_count": null,
   "metadata": {
    "slideshow": {
     "slide_type": "-"
    }
   },
   "outputs": [],
   "source": [
    "print(model3.data.simlist[277])"
   ]
  },
  {
   "cell_type": "markdown",
   "metadata": {
    "slideshow": {
     "slide_type": "slide"
    }
   },
   "source": [
    "## Calculate RMSD of the site of interest for a selected trajectory"
   ]
  },
  {
   "cell_type": "code",
   "execution_count": 4,
   "metadata": {
    "slideshow": {
     "slide_type": "-"
    }
   },
   "outputs": [
    {
     "name": "stderr",
     "output_type": "stream",
     "text": [
      "Creating simlist: 100%|█████████████████████████████████████████████████████████████████████████████████████████████████████████████████| 1/1 [00:00<00:00, 105.15it/s]\n"
     ]
    }
   ],
   "source": [
    "simus = simlist(glob('./cxcl12_filtered/10x23/'), './cxcl12_filtered/')"
   ]
  },
  {
   "cell_type": "code",
   "execution_count": 6,
   "metadata": {
    "slideshow": {
     "slide_type": "-"
    }
   },
   "outputs": [
    {
     "name": "stderr",
     "output_type": "stream",
     "text": [
      "Projecting trajectories: 100%|███████████████████████████████████████████████████████████████████████████████████████████████████████████| 1/1 [00:00<00:00,  2.77it/s]\n",
      "2024-06-12 11:53:43,783 - htmd.projections.metric - INFO - Frame step 0.1ns was read from the trajectories. If it looks wrong, redefine it by manually setting the MetricData.fstep property.\n"
     ]
    }
   ],
   "source": [
    "refmol = Molecule('./cxcl12_filtered/filtered.pdb')\n",
    "metr = Metric(simus)\n",
    "metr.set(MetricRmsd(refmol, 'resid 38 to 42 or resid 22 to 28 and noh'))\n",
    "rmsd = metr.project()"
   ]
  },
  {
   "cell_type": "markdown",
   "metadata": {
    "slideshow": {
     "slide_type": "slide"
    }
   },
   "source": [
    "## Do you see the pocket opening at 50ns?"
   ]
  },
  {
   "cell_type": "code",
   "execution_count": 7,
   "metadata": {
    "slideshow": {
     "slide_type": "-"
    }
   },
   "outputs": [
    {
     "data": {
      "image/png": "[encoded data removed]",
      "text/plain": [
       "<Figure size 640x480 with 1 Axes>"
      ]
     },
     "metadata": {},
     "output_type": "display_data"
    }
   ],
   "source": [
    "plt.plot(rmsd.dat[0])\n",
    "plt.xlabel('Simulation length (frames; 0.1ns)', fontsize=10)\n",
    "plt.ylabel('RMSD (Angstroms)', fontsize=10)\n",
    "plt.show()"
   ]
  },
  {
   "cell_type": "markdown",
   "metadata": {
    "slideshow": {
     "slide_type": "slide"
    }
   },
   "source": [
    "## Visualize the trajectory from your browser"
   ]
  },
  {
   "cell_type": "code",
   "execution_count": 9,
   "metadata": {
    "slideshow": {
     "slide_type": "-"
    }
   },
   "outputs": [
    {
     "data": {
      "application/vnd.jupyter.widget-view+json": {
       "model_id": "bd73220444514896890b9b7e90b39bd1",
       "version_major": 2,
       "version_minor": 0
      },
      "text/plain": []
     },
     "metadata": {},
     "output_type": "display_data"
    },
    {
     "data": {
      "application/vnd.jupyter.widget-view+json": {
       "model_id": "5913854a79004723aafdd818869d76f6",
       "version_major": 2,
       "version_minor": 0
      },
      "text/plain": [
       "NGLWidget(max_frame=1999)"
      ]
     },
     "metadata": {},
     "output_type": "display_data"
    }
   ],
   "source": [
    "refmol.read('./cxcl12_filtered/10x23/10x23-GERARD_VERYLONG_CXCL12_confAna-0-1-RND9861_9.filtered.xtc')\n",
    "refmol.align('protein')\n",
    "refmol.view()"
   ]
  },
  {
   "cell_type": "markdown",
   "metadata": {},
   "source": [
    "This concludes the conformational analysis tutorial"
   ]
  }
 ],
 "metadata": {
  "celltoolbar": "Slideshow",
  "kernelspec": {
   "display_name": "Python 3 (ipykernel)",
   "language": "python",
   "name": "python3"
  },
  "language_info": {
   "codemirror_mode": {
    "name": "ipython",
    "version": 3
   },
   "file_extension": ".py",
   "mimetype": "text/x-python",
   "name": "python",
   "nbconvert_exporter": "python",
   "pygments_lexer": "ipython3",
   "version": "3.10.13"
  }
 },
 "nbformat": 4,
 "nbformat_minor": 4
}
