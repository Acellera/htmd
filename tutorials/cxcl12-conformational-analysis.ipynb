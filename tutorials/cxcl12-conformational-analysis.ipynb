{
 "cells": [
  {
   "cell_type": "markdown",
   "metadata": {
    "collapsed": false,
    "deletable": true,
    "editable": true,
    "slideshow": {
     "slide_type": "slide"
    }
   },
   "source": [
    "# Conformational analysis of CXCL12\n",
    "by Gerard Martinez\n",
    "\n",
    "Download all the required files for the tutorial from this [link](http://pub.htmd.org/confana1036hbl2450olw/filtered.tar.gz)\n",
    "\n",
    "(warning: 2.6 Gb)\n",
    "\n",
    "You can watch the presentation [here](https://youtu.be/I9VISC29Gc4)"
   ]
  },
  {
   "cell_type": "code",
   "execution_count": 1,
   "metadata": {
    "collapsed": false,
    "deletable": true,
    "editable": true,
    "slideshow": {
     "slide_type": "skip"
    }
   },
   "outputs": [
    {
     "name": "stdout",
     "output_type": "stream",
     "text": [
      "Populating the interactive namespace from numpy and matplotlib\n",
      "\n",
      "Please cite HTMD: Doerr et al.(2016)JCTC,12,1845. https://dx.doi.org/10.1021/acs.jctc.6b00049\n",
      "\n",
      "HTMD Documentation at: https://www.htmd.org/docs/latest/\n",
      "\n",
      "You are on the latest HTMD version (1.7.15).\n",
      "\n"
     ]
    }
   ],
   "source": [
    "%pylab inline\n",
    "from htmd.ui import *\n",
    "config(viewer='ngl')\n",
    "os.chdir('/webdata/confana1036hbl2450olw/')  # Skip this command."
   ]
  },
  {
   "cell_type": "markdown",
   "metadata": {
    "deletable": true,
    "editable": true,
    "slideshow": {
     "slide_type": "slide"
    }
   },
   "source": [
    "## 1. Introduction\n",
    "\n",
    "### CXCL12 is a chemokine involved in...\n",
    "*  many types of cancer \n",
    "*  inflammatory diseases \n",
    "*  early development events\n",
    "\n",
    "### We performed...\n",
    "* ~300 simulations x 200ns each (~60 microseconds in total)\n",
    "* we filtered out the water from our trajectories \n",
    "\n",
    "![](http://pub.htmd.org/confana1036hbl2450olw/system-protein2.png)"
   ]
  },
  {
   "cell_type": "markdown",
   "metadata": {
    "deletable": true,
    "editable": true,
    "slideshow": {
     "slide_type": "slide"
    }
   },
   "source": [
    "## 2. Sampling major conformational states\n",
    "\n",
    "In our lab we have tried many different metrics to assess the overall conformational changes of a protein. From them all, phi and psi angles of the protein backbone (dihedrals) have been the most successful descriptors in \"blindly\" capturing the major protein conformations.\n",
    "\n",
    "In this section we will project our trajectories on the backbone dihedrals and, we will reduce the dimensionality by using tICA and then we will build a Markov Model to asses the major protein conformations in equilibrium. \n",
    "\n",
    "![](http://pub.htmd.org/confana1036hbl2450olw/conformations.png)"
   ]
  },
  {
   "cell_type": "markdown",
   "metadata": {
    "deletable": true,
    "editable": true,
    "slideshow": {
     "slide_type": "subslide"
    }
   },
   "source": [
    "## Calculate metrics: protein backbone dihedrals"
   ]
  },
  {
   "cell_type": "code",
   "execution_count": 2,
   "metadata": {
    "collapsed": false,
    "deletable": true,
    "editable": true,
    "slideshow": {
     "slide_type": "-"
    }
   },
   "outputs": [
    {
     "name": "stdout",
     "output_type": "stream",
     "text": [
      "Creating simlist: 100% (289/289) [#################################] eta 00:00 -\n"
     ]
    }
   ],
   "source": [
    "fsims = simlist(glob('./filtered/*/'), './filtered/filtered.pdb')"
   ]
  },
  {
   "cell_type": "markdown",
   "metadata": {
    "deletable": true,
    "editable": true
   },
   "source": [
    "CXCL12 has a very flexible C-terminus loop as well as a transiently disorderable N-terminal alfa helix. In this study we are not interested in them but in the core of the chemokine. For this reason, we will select residues from 10 to 54. "
   ]
  },
  {
   "cell_type": "code",
   "execution_count": 3,
   "metadata": {
    "collapsed": false,
    "deletable": true,
    "editable": true,
    "slideshow": {
     "slide_type": "-"
    }
   },
   "outputs": [
    {
     "name": "stderr",
     "output_type": "stream",
     "text": [
      "/home/joao/miniconda3/lib/python3.5/site-packages/ipykernel/__main__.py:2: DeprecationWarning: The `projection` function/method has been deprecated since version 1.3.2. Use `htmd.projections.metric.Metric.set` instead.\n",
      "  from ipykernel import kernelapp as app\n"
     ]
    },
    {
     "name": "stdout",
     "output_type": "stream",
     "text": [
      "Projecting trajectories: 100% (289/289) [##########################] eta 00:00 \\\n"
     ]
    },
    {
     "name": "stderr",
     "output_type": "stream",
     "text": [
      "2017-04-05 16:06:50,259 - htmd.projections.metric - WARNING - Multiple framesteps [0.0, 0.1] ns were read from the simulations. Taking the statistical mode: 0.1ns. If it looks wrong, you can modify it by manually setting the MetricData.fstep property.\n"
     ]
    }
   ],
   "source": [
    "metr = Metric(fsims)\n",
    "metr.set(MetricDihedral(protsel='protein and resid 10 to 54', sincos=True))\n",
    "data = metr.project()\n",
    "data.fstep = 0.1"
   ]
  },
  {
   "cell_type": "code",
   "execution_count": 4,
   "metadata": {
    "collapsed": false,
    "deletable": true,
    "editable": true,
    "scrolled": true,
    "slideshow": {
     "slide_type": "subslide"
    }
   },
   "outputs": [
    {
     "data": {
      "image/png": "[encoded data removed]",
      "text/plain": [
       "<matplotlib.figure.Figure at 0x7f7b4efb2978>"
      ]
     },
     "metadata": {},
     "output_type": "display_data"
    }
   ],
   "source": [
    "data.plotTrajSizes()"
   ]
  },
  {
   "cell_type": "markdown",
   "metadata": {
    "deletable": true,
    "editable": true,
    "slideshow": {
     "slide_type": "subslide"
    }
   },
   "source": [
    "##  Dimensionality reduction"
   ]
  },
  {
   "cell_type": "code",
   "execution_count": 5,
   "metadata": {
    "collapsed": false,
    "deletable": true,
    "editable": true,
    "slideshow": {
     "slide_type": "-"
    }
   },
   "outputs": [
    {
     "name": "stdout",
     "output_type": "stream",
     "text": [
      "getting output of TICA: 100% (577/577) [###########################] eta 00:01 -"
     ]
    }
   ],
   "source": [
    "tica = TICA(data, 20)\n",
    "dataTica = tica.project(3)"
   ]
  },
  {
   "cell_type": "markdown",
   "metadata": {
    "collapsed": false,
    "deletable": true,
    "editable": true,
    "slideshow": {
     "slide_type": "subslide"
    }
   },
   "source": [
    "## Clustering"
   ]
  },
  {
   "cell_type": "code",
   "execution_count": 6,
   "metadata": {
    "collapsed": false,
    "deletable": true,
    "editable": true,
    "scrolled": true,
    "slideshow": {
     "slide_type": "-"
    }
   },
   "outputs": [
    {
     "name": "stderr",
     "output_type": "stream",
     "text": [
      "2017-04-05 16:07:23,029 - htmd.metricdata - INFO - Mergesmall removed 0 clusters. Original ncluster 200, new ncluster 200.\n"
     ]
    }
   ],
   "source": [
    "dataTica.cluster(MiniBatchKMeans(n_clusters=200), mergesmall=5)"
   ]
  },
  {
   "cell_type": "markdown",
   "metadata": {
    "collapsed": true,
    "deletable": true,
    "editable": true,
    "slideshow": {
     "slide_type": "subslide"
    }
   },
   "source": [
    "## MSM analysis and visualization"
   ]
  },
  {
   "cell_type": "code",
   "execution_count": 7,
   "metadata": {
    "collapsed": false,
    "deletable": true,
    "editable": true,
    "slideshow": {
     "slide_type": "-"
    }
   },
   "outputs": [
    {
     "name": "stdout",
     "output_type": "stream",
     "text": [
      "estimating MaximumLikelihoodMSM: 100% (20/20) [####################] eta 00:00 \\"
     ]
    },
    {
     "data": {
      "image/png": "[encoded data removed]",
      "text/plain": [
       "<matplotlib.figure.Figure at 0x7f7b44155eb8>"
      ]
     },
     "metadata": {},
     "output_type": "display_data"
    }
   ],
   "source": [
    "model = Model(dataTica)\n",
    "model.plotTimescales(lags=list(range(1,1000,50)))"
   ]
  },
  {
   "cell_type": "code",
   "execution_count": 8,
   "metadata": {
    "collapsed": false,
    "deletable": true,
    "editable": true,
    "scrolled": true,
    "slideshow": {
     "slide_type": "subslide"
    }
   },
   "outputs": [
    {
     "name": "stderr",
     "output_type": "stream",
     "text": [
      "2017-04-05 16:09:18,533 - htmd.model - INFO - 99.7% of the data was used\n",
      "2017-04-05 16:09:18,620 - htmd.model - INFO - Number of trajectories that visited each macrostate:\n",
      "2017-04-05 16:09:18,622 - htmd.model - INFO - [ 64  45   2  31 289  16  15  10]\n",
      "2017-04-05 16:09:18,624 - htmd.model - INFO - Take care! Macro 2 has been visited only in 2 trajectories:\n",
      "2017-04-05 16:09:18,625 - htmd.model - INFO - \n",
      "simid = 232\n",
      "parent = None\n",
      "input = []\n",
      "trajectory = ['./filtered/9x9/9x9-GERARD_VERYLONG_CXCL12_confAna-0-1-RND2283_9.filtered.xtc']\n",
      "molfile = ./filtered/filtered.pdb\n",
      "numframes = [2000]\n",
      "\n",
      "2017-04-05 16:09:18,634 - htmd.model - INFO - \n",
      "simid = 265\n",
      "parent = None\n",
      "input = []\n",
      "trajectory = ['./filtered/10x11/10x11-GERARD_VERYLONG_CXCL12_confAna-0-1-RND4691_9.filtered.xtc']\n",
      "molfile = ./filtered/filtered.pdb\n",
      "numframes = [2000]\n",
      "\n"
     ]
    },
    {
     "data": {
      "image/png": "[encoded data removed]",
      "text/plain": [
       "<matplotlib.figure.Figure at 0x7f7b44168898>"
      ]
     },
     "metadata": {},
     "output_type": "display_data"
    },
    {
     "name": "stdout",
     "output_type": "stream",
     "text": [
      "[ 0.0053318   0.0216567   0.02094427  0.0179421   0.14541308  0.25231467\n",
      "  0.20907099  0.3273264 ]\n"
     ]
    }
   ],
   "source": [
    "model.markovModel(600, 8)\n",
    "eqDist = model.eqDistribution()\n",
    "print(eqDist)"
   ]
  },
  {
   "cell_type": "code",
   "execution_count": 9,
   "metadata": {
    "collapsed": false,
    "deletable": true,
    "editable": true,
    "slideshow": {
     "slide_type": "-"
    }
   },
   "outputs": [
    {
     "name": "stdout",
     "output_type": "stream",
     "text": [
      "Getting state Molecules: 100% (8/8) [##############################] eta 00:01 |\n"
     ]
    },
    {
     "name": "stderr",
     "output_type": "stream",
     "text": [
      "The installed widget Javascript is the wrong version.\n",
      "The installed widget Javascript is the wrong version.\n"
     ]
    }
   ],
   "source": [
    "#we can now visualize representatives for each of the equilibrium species \n",
    "model.numsamples=1\n",
    "model.viewStates(protein=True)"
   ]
  },
  {
   "cell_type": "markdown",
   "metadata": {
    "deletable": true,
    "editable": true,
    "slideshow": {
     "slide_type": "subslide"
    }
   },
   "source": [
    "## Statistics\n",
    "### What are the major differences between the states X and Y?"
   ]
  },
  {
   "cell_type": "code",
   "execution_count": 10,
   "metadata": {
    "collapsed": false,
    "deletable": true,
    "editable": true,
    "slideshow": {
     "slide_type": "-"
    }
   },
   "outputs": [
    {
     "name": "stdout",
     "output_type": "stream",
     "text": [
      "              atomIndexes                                        description  \\\n",
      "23   [253, 255, 262, 264]  Cosine of angle of (SER 16 N A A) (SER 16 CA A...   \n",
      "28   [262, 264, 266, 279]  Sine of angle of (SER 16 C A A) (HSD 17 N A A)...   \n",
      "86   [517, 521, 529, 531]  Sine of angle of (PRO 32 N A A) (PRO 32 CA A A...   \n",
      "87   [517, 521, 529, 531]  Cosine of angle of (PRO 32 N A A) (PRO 32 CA A...   \n",
      "92   [529, 531, 533, 543]  Sine of angle of (PRO 32 C A A) (ASN 33 N A A)...   \n",
      "134  [711, 713, 723, 725]  Sine of angle of (ASN 44 N A A) (ASN 44 CA A A...   \n",
      "135  [711, 713, 723, 725]  Cosine of angle of (ASN 44 N A A) (ASN 44 CA A...   \n",
      "139  [725, 727, 737, 739]  Cosine of angle of (ASN 45 N A A) (ASN 45 CA A...   \n",
      "140  [723, 725, 727, 737]  Sine of angle of (ASN 44 C A A) (ASN 45 N A A)...   \n",
      "141  [723, 725, 727, 737]  Cosine of angle of (ASN 44 C A A) (ASN 45 N A ...   \n",
      "144  [737, 739, 741, 751]  Sine of angle of (ASN 45 C A A) (ASN 46 N A A)...   \n",
      "\n",
      "         type  \n",
      "23   dihedral  \n",
      "28   dihedral  \n",
      "86   dihedral  \n",
      "87   dihedral  \n",
      "92   dihedral  \n",
      "134  dihedral  \n",
      "135  dihedral  \n",
      "139  dihedral  \n",
      "140  dihedral  \n",
      "141  dihedral  \n",
      "144  dihedral  \n"
     ]
    },
    {
     "data": {
      "image/png": "[encoded data removed]",
      "text/plain": [
       "<matplotlib.figure.Figure at 0x7f7b44143eb8>"
      ]
     },
     "metadata": {},
     "output_type": "display_data"
    }
   ],
   "source": [
    "means = getStateStatistic(model, data, range(model.macronum))\n",
    "plt.figure()\n",
    "plt.bar(range(len(means[0])), means[7] - means[6])\n",
    "idx = np.where(np.abs(means[7] - means[6]) > 0.6)[0]\n",
    "print(data.map.ix[idx])"
   ]
  },
  {
   "cell_type": "code",
   "execution_count": 11,
   "metadata": {
    "collapsed": false,
    "deletable": true,
    "editable": true,
    "slideshow": {
     "slide_type": "subslide"
    }
   },
   "outputs": [
    {
     "name": "stderr",
     "output_type": "stream",
     "text": [
      "The installed widget Javascript is the wrong version.\n"
     ]
    }
   ],
   "source": [
    "# we can visualize which residues are different between states\n",
    "filtered = Molecule('./filtered/filtered.pdb')\n",
    "filtered.view(sel='protein',style='NewCartoon',hold=True)\n",
    "filtered.view(sel='resid 16 17 24 25 32 33 44 45',style='Licorice')"
   ]
  },
  {
   "cell_type": "markdown",
   "metadata": {
    "deletable": true,
    "editable": true,
    "slideshow": {
     "slide_type": "subslide"
    }
   },
   "source": [
    "## Mapping back\n",
    "### Which trajectory originated the state X?"
   ]
  },
  {
   "cell_type": "code",
   "execution_count": 12,
   "metadata": {
    "collapsed": false,
    "deletable": true,
    "editable": true,
    "slideshow": {
     "slide_type": "-"
    }
   },
   "outputs": [
    {
     "data": {
      "text/plain": [
       "(array([ 4,  8, 50]),)"
      ]
     },
     "execution_count": 12,
     "metadata": {},
     "output_type": "execute_result"
    }
   ],
   "source": [
    "np.where(model.macro_ofmicro == 6)"
   ]
  },
  {
   "cell_type": "code",
   "execution_count": 13,
   "metadata": {
    "collapsed": false,
    "deletable": true,
    "editable": true,
    "slideshow": {
     "slide_type": "-"
    }
   },
   "outputs": [
    {
     "name": "stdout",
     "output_type": "stream",
     "text": [
      "[array([[ 132,  986],\n",
      "       [ 247,  670],\n",
      "       [  35, 1354],\n",
      "       [ 132, 1767],\n",
      "       [ 132, 1412],\n",
      "       [ 132, 1943],\n",
      "       [ 133, 1895],\n",
      "       [  35, 1322],\n",
      "       [ 249,  953],\n",
      "       [ 247, 1568]])]\n"
     ]
    }
   ],
   "source": [
    "_,rel = model.sampleStates(10, 10, statetype='micro')\n",
    "print(rel)"
   ]
  },
  {
   "cell_type": "code",
   "execution_count": 14,
   "metadata": {
    "collapsed": false,
    "deletable": true,
    "editable": true,
    "slideshow": {
     "slide_type": "-"
    }
   },
   "outputs": [
    {
     "name": "stdout",
     "output_type": "stream",
     "text": [
      "\n",
      "simid = 232\n",
      "parent = None\n",
      "input = []\n",
      "trajectory = ['./filtered/9x9/9x9-GERARD_VERYLONG_CXCL12_confAna-0-1-RND2283_9.filtered.xtc']\n",
      "molfile = ./filtered/filtered.pdb\n",
      "numframes = [2000]\n",
      "\n"
     ]
    }
   ],
   "source": [
    "print(model.data.simlist[232])"
   ]
  },
  {
   "cell_type": "markdown",
   "metadata": {
    "deletable": true,
    "editable": true,
    "slideshow": {
     "slide_type": "slide"
    }
   },
   "source": [
    "## 3. Studying a defined reaction coordinate\n",
    "\n",
    "Revising the literature related to CXCL12, we find a paper published by Andrea Bernini et al. (2014) where they describe the opening of a pocket in CXCL12 located between the 2nd and 3rd beta sheet (see pictures attached). To try to capture this phenomenon in our simulations, we will project our trajectories along the 2nd and 3rd beta-sheet distance. \n",
    "\n",
    "![](http://pub.htmd.org/confana1036hbl2450olw/openclose_struc.jpg)\n",
    "![](http://pub.htmd.org/confana1036hbl2450olw/openclose_asa.png)\n",
    "\n",
    "*Figures extracted from \"Searching for protein binding sites from Molecular Dynamics simulations and paramagnetic fragment-based NMR studies\", Andrea bernini et al., 2014 Mar;1844(3):561-6. doi: 10.1016/j.bbapap.2013.12.012. Epub 2013 Dec 27*"
   ]
  },
  {
   "cell_type": "code",
   "execution_count": 15,
   "metadata": {
    "collapsed": false,
    "deletable": true,
    "editable": true,
    "slideshow": {
     "slide_type": "-"
    }
   },
   "outputs": [
    {
     "name": "stderr",
     "output_type": "stream",
     "text": [
      "/home/joao/miniconda3/lib/python3.5/site-packages/ipykernel/__main__.py:5: DeprecationWarning: The `projection` function/method has been deprecated since version 1.3.2. Use `htmd.projections.metric.Metric.set` instead.\n"
     ]
    },
    {
     "name": "stdout",
     "output_type": "stream",
     "text": [
      "Projecting trajectories: 100% (289/289) [##########################] eta 00:01 /\n"
     ]
    },
    {
     "name": "stderr",
     "output_type": "stream",
     "text": [
      "2017-04-05 16:10:15,167 - htmd.projections.metric - WARNING - Multiple framesteps [0.0, 0.1] ns were read from the simulations. Taking the statistical mode: 0.1ns. If it looks wrong, you can modify it by manually setting the MetricData.fstep property.\n"
     ]
    }
   ],
   "source": [
    "# The first selection corresponds to beta-sheet 2 carbons alpha, the second one to beta-sheet 3 CA.\n",
    "# We specify metric='contacts' to create contact maps instead of proper distances,\n",
    "# this means: create an interatom matrix and put 1 if the distance is below cutoff; 0 otherwise. \n",
    "metr = Metric(fsims)\n",
    "metr.set(MetricDistance('resid 38 to 42 and noh', 'resid 22 to 28 and noh', metric='contacts'))\n",
    "data3 = metr.project()\n",
    "data3.fstep = 0.1"
   ]
  },
  {
   "cell_type": "code",
   "execution_count": 16,
   "metadata": {
    "collapsed": false,
    "deletable": true,
    "editable": true,
    "slideshow": {
     "slide_type": "subslide"
    }
   },
   "outputs": [
    {
     "name": "stdout",
     "output_type": "stream",
     "text": [
      "getting output of TICA: 100% (577/577) [###########################] eta 00:01 /"
     ]
    }
   ],
   "source": [
    "# tICA projection (dimensionality reduction along the slow process)\n",
    "tica3 = TICA(data3, 20)\n",
    "dataTica3 = tica3.project(3)"
   ]
  },
  {
   "cell_type": "code",
   "execution_count": 17,
   "metadata": {
    "collapsed": false,
    "deletable": true,
    "editable": true,
    "slideshow": {
     "slide_type": "-"
    }
   },
   "outputs": [
    {
     "name": "stderr",
     "output_type": "stream",
     "text": [
      "2017-04-05 16:16:49,252 - htmd.metricdata - INFO - Mergesmall removed 0 clusters. Original ncluster 200, new ncluster 200.\n"
     ]
    }
   ],
   "source": [
    "# Clustering\n",
    "dataTica3.cluster(MiniBatchKMeans(n_clusters=200), mergesmall=5)"
   ]
  },
  {
   "cell_type": "code",
   "execution_count": 18,
   "metadata": {
    "collapsed": false,
    "deletable": true,
    "editable": true,
    "slideshow": {
     "slide_type": "-"
    }
   },
   "outputs": [
    {
     "name": "stdout",
     "output_type": "stream",
     "text": [
      "estimating MaximumLikelihoodMSM: 100% (20/20) [####################] eta 00:01 -"
     ]
    },
    {
     "data": {
      "image/png": "[encoded data removed]",
      "text/plain": [
       "<matplotlib.figure.Figure at 0x7f7b44145588>"
      ]
     },
     "metadata": {},
     "output_type": "display_data"
    }
   ],
   "source": [
    "# Plot timescales\n",
    "model3 = Model(dataTica3)\n",
    "model3.plotTimescales(lags=list(range(1,1000,50)))"
   ]
  },
  {
   "cell_type": "code",
   "execution_count": 19,
   "metadata": {
    "collapsed": false,
    "deletable": true,
    "editable": true,
    "slideshow": {
     "slide_type": "subslide"
    }
   },
   "outputs": [
    {
     "name": "stderr",
     "output_type": "stream",
     "text": [
      "2017-04-05 16:17:04,181 - htmd.model - INFO - 100.0% of the data was used\n",
      "2017-04-05 16:17:04,208 - htmd.model - INFO - Number of trajectories that visited each macrostate:\n",
      "2017-04-05 16:17:04,210 - htmd.model - INFO - [  4   3  19 289]\n",
      "2017-04-05 16:17:04,212 - htmd.model - INFO - Take care! Macro 1 has been visited only in 3 trajectories:\n",
      "2017-04-05 16:17:04,214 - htmd.model - INFO - \n",
      "simid = 59\n",
      "parent = None\n",
      "input = []\n",
      "trajectory = ['./filtered/3x9/3x9-GERARD_VERYLONG_CXCL12_confAna-0-1-RND1251_9.filtered.xtc']\n",
      "molfile = ./filtered/filtered.pdb\n",
      "numframes = [2000]\n",
      "\n",
      "2017-04-05 16:17:04,216 - htmd.model - INFO - \n",
      "simid = 277\n",
      "parent = None\n",
      "input = []\n",
      "trajectory = ['./filtered/10x23/10x23-GERARD_VERYLONG_CXCL12_confAna-0-1-RND9861_9.filtered.xtc']\n",
      "molfile = ./filtered/filtered.pdb\n",
      "numframes = [2000]\n",
      "\n",
      "2017-04-05 16:17:04,219 - htmd.model - INFO - \n",
      "simid = 280\n",
      "parent = None\n",
      "input = []\n",
      "trajectory = ['./filtered/10x27/10x27-GERARD_VERYLONG_CXCL12_confAna-0-1-RND0101_9.filtered.xtc']\n",
      "molfile = ./filtered/filtered.pdb\n",
      "numframes = [2000]\n",
      "\n"
     ]
    },
    {
     "data": {
      "image/png": "[encoded data removed]",
      "text/plain": [
       "<matplotlib.figure.Figure at 0x7f7b4413a9b0>"
      ]
     },
     "metadata": {},
     "output_type": "display_data"
    },
    {
     "name": "stdout",
     "output_type": "stream",
     "text": [
      "[ 0.0113379   0.02560474  0.05651182  0.90654554]\n"
     ]
    }
   ],
   "source": [
    "# Make Markov Model. we want to pick a lagtime where the timescales are converged (timescale is flat).\n",
    "# 600 is the lagtime we want to use (600 frames is equivalent to 60ns). 4 is the number of macrostates.\n",
    "model3.markovModel(600, 4)\n",
    "eqDist = model3.eqDistribution()\n",
    "print(eqDist)"
   ]
  },
  {
   "cell_type": "code",
   "execution_count": 20,
   "metadata": {
    "collapsed": false,
    "deletable": true,
    "editable": true,
    "slideshow": {
     "slide_type": "-"
    }
   },
   "outputs": [
    {
     "name": "stdout",
     "output_type": "stream",
     "text": [
      "Getting state Molecules: 100% (4/4) [##############################] eta 00:00 -\n"
     ]
    },
    {
     "name": "stderr",
     "output_type": "stream",
     "text": [
      "The installed widget Javascript is the wrong version.\n",
      "The installed widget Javascript is the wrong version.\n"
     ]
    }
   ],
   "source": [
    "# Visualize states\n",
    "model3.viewStates(protein=True, numsamples=1)"
   ]
  },
  {
   "cell_type": "markdown",
   "metadata": {
    "deletable": true,
    "editable": true
   },
   "source": [
    "![](http://pub.htmd.org/confana1036hbl2450olw/conformation_open.png)"
   ]
  },
  {
   "cell_type": "markdown",
   "metadata": {
    "deletable": true,
    "editable": true
   },
   "source": [
    "Did you see any macrostate where the pocket is open? what is the equilibrium population probability? Let's try to find the trajectory that produced the state..."
   ]
  },
  {
   "cell_type": "code",
   "execution_count": 21,
   "metadata": {
    "collapsed": false,
    "deletable": true,
    "editable": true,
    "slideshow": {
     "slide_type": "-"
    }
   },
   "outputs": [
    {
     "data": {
      "text/plain": [
       "(array([4]),)"
      ]
     },
     "execution_count": 21,
     "metadata": {},
     "output_type": "execute_result"
    }
   ],
   "source": [
    "# Map back the trajectory/ies that originated the macro. Substitute 1 for the macro that showed the pocket opening.\n",
    "# This function is giving you the microclusters that are inside a given macrocluster\n",
    "np.where(model3.macro_ofmicro ==1)"
   ]
  },
  {
   "cell_type": "code",
   "execution_count": 22,
   "metadata": {
    "collapsed": false,
    "deletable": true,
    "editable": true,
    "slideshow": {
     "slide_type": "-"
    }
   },
   "outputs": [
    {
     "name": "stdout",
     "output_type": "stream",
     "text": [
      "[array([[ 225,  939],\n",
      "       [ 184, 1082],\n",
      "       [ 233, 1927],\n",
      "       [ 206, 1849],\n",
      "       [ 227,  983]])]\n"
     ]
    }
   ],
   "source": [
    "# substitute 48 for the micro number from the previous step\n",
    "# This function gives you trajectory-frame pairs that visited a given micro\n",
    "_, rel = model3.sampleStates(48, 5, statetype='micro')\n",
    "print(rel)"
   ]
  },
  {
   "cell_type": "code",
   "execution_count": 23,
   "metadata": {
    "collapsed": false,
    "deletable": true,
    "editable": true,
    "slideshow": {
     "slide_type": "-"
    }
   },
   "outputs": [
    {
     "name": "stdout",
     "output_type": "stream",
     "text": [
      "\n",
      "simid = 277\n",
      "parent = None\n",
      "input = []\n",
      "trajectory = ['./filtered/10x23/10x23-GERARD_VERYLONG_CXCL12_confAna-0-1-RND9861_9.filtered.xtc']\n",
      "molfile = ./filtered/filtered.pdb\n",
      "numframes = [2000]\n",
      "\n"
     ]
    }
   ],
   "source": [
    "print(model3.data.simlist[277])"
   ]
  },
  {
   "cell_type": "code",
   "execution_count": 24,
   "metadata": {
    "collapsed": false,
    "deletable": true,
    "editable": true,
    "slideshow": {
     "slide_type": "subslide"
    }
   },
   "outputs": [
    {
     "name": "stdout",
     "output_type": "stream",
     "text": [
      "Creating simlist: 100% (1/1) [#####################################] eta --:-- |\n"
     ]
    }
   ],
   "source": [
    "# Calculate RMSD of the site of interest for a selected trajectory\n",
    "simus = simlist(glob('./filtered/10x23/'), './filtered/filtered.pdb')"
   ]
  },
  {
   "cell_type": "code",
   "execution_count": 25,
   "metadata": {
    "collapsed": false,
    "deletable": true,
    "editable": true,
    "slideshow": {
     "slide_type": "-"
    }
   },
   "outputs": [
    {
     "name": "stderr",
     "output_type": "stream",
     "text": [
      "/home/joao/miniconda3/lib/python3.5/site-packages/ipykernel/__main__.py:3: DeprecationWarning: The `projection` function/method has been deprecated since version 1.3.2. Use `htmd.projections.metric.Metric.set` instead.\n",
      "  app.launch_new_instance()\n"
     ]
    },
    {
     "name": "stdout",
     "output_type": "stream",
     "text": [
      "Projecting trajectories: 100% (1/1) [##############################] eta --:-- -\n"
     ]
    },
    {
     "name": "stderr",
     "output_type": "stream",
     "text": [
      "2017-04-05 16:17:25,838 - htmd.projections.metric - INFO - Frame step 0.1ns was read from the trajectories. If it looks wrong, redefine it by manually setting the MetricData.fstep property.\n"
     ]
    }
   ],
   "source": [
    "refmol = Molecule('./filtered/filtered.pdb')\n",
    "metr = Metric(simus)\n",
    "metr.set(MetricRmsd(refmol, 'resid 38 to 42 or resid 22 to 28 and noh', trajalnstr='protein'))\n",
    "rmsd = metr.project()"
   ]
  },
  {
   "cell_type": "code",
   "execution_count": 26,
   "metadata": {
    "collapsed": false,
    "deletable": true,
    "editable": true,
    "slideshow": {
     "slide_type": "-"
    }
   },
   "outputs": [
    {
     "data": {
      "text/plain": [
       "<matplotlib.text.Text at 0x7f7b340b9ba8>"
      ]
     },
     "execution_count": 26,
     "metadata": {},
     "output_type": "execute_result"
    },
    {
     "data": {
      "image/png": "[encoded data removed]",
      "text/plain": [
       "<matplotlib.figure.Figure at 0x7f7b340f0438>"
      ]
     },
     "metadata": {},
     "output_type": "display_data"
    }
   ],
   "source": [
    "# Do you see the pocket opening at 50ns?\n",
    "plt.plot(rmsd.dat[0])\n",
    "plt.xlabel('Simulation length (frames; 0.1ns)', fontsize=10)\n",
    "plt.ylabel('RMSD (Angstroms)', fontsize=10)"
   ]
  },
  {
   "cell_type": "code",
   "execution_count": 27,
   "metadata": {
    "collapsed": false,
    "deletable": true,
    "editable": true,
    "slideshow": {
     "slide_type": "-"
    }
   },
   "outputs": [
    {
     "name": "stderr",
     "output_type": "stream",
     "text": [
      "The installed widget Javascript is the wrong version.\n"
     ]
    }
   ],
   "source": [
    "# You can also visualize the trajectory from your browser\n",
    "refmol.read('./filtered/10x23/10x23-GERARD_VERYLONG_CXCL12_confAna-0-1-RND9861_9.filtered.xtc')\n",
    "refmol.align('protein')\n",
    "refmol.view()"
   ]
  },
  {
   "cell_type": "markdown",
   "metadata": {
    "deletable": true,
    "editable": true
   },
   "source": [
    "![](http://pub.htmd.org/confana1036hbl2450olw/view_trajectory.png)"
   ]
  }
 ],
 "metadata": {
  "celltoolbar": "Slideshow",
  "kernelspec": {
   "display_name": "Python [default]",
   "language": "python",
   "name": "python3"
  },
  "language_info": {
   "codemirror_mode": {
    "name": "ipython",
    "version": 3.0
   },
   "file_extension": ".py",
   "mimetype": "text/x-python",
   "name": "python",
   "nbconvert_exporter": "python",
   "pygments_lexer": "ipython3",
   "version": "3.5.3"
  }
 },
 "nbformat": 4,
 "nbformat_minor": 0
}