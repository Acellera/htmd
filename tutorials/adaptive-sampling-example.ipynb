{
 "cells": [
  {
   "cell_type": "markdown",
   "metadata": {},
   "source": [
    "# Adaptive sampling\n",
    "by G. De Fabritiis\n",
    "<img src=https://www.acellera.com/wp-content/uploads/2014/05/Adaptive-sampling-spawning-tree.png width=\"800\"></img>"
   ]
  },
  {
   "cell_type": "markdown",
   "metadata": {},
   "source": [
    "## Concept\n",
    "* AdaptiveRun executes adaptive runs on a given resource. It starts from a set of initial input directories containing all input files and generates new simulations based on these generators by building a (Markov) model of the data on-the-fly and deciding using a criteria where sampling is more needed.\n",
    "\n",
    "S. Doerr and G. De Fabritiis, On-the-fly learning and sampling of ligand binding by high-throughput molecular simulations, J. Chem. Theory Comput. 10 (5), pp 2064–2069(2014).\n",
    "\n",
    "\n"
   ]
  },
  {
   "cell_type": "markdown",
   "metadata": {},
   "source": [
    "## Unit of execution\n",
    "\n",
    "Each simulation is associated to a single directory which contains all files to run it. To run a project it is therefore necessary to provide one or more initial simulation directories, called generators."
   ]
  },
  {
   "cell_type": "markdown",
   "metadata": {},
   "source": [
    "## How it works\n",
    "\n",
    "1. Adaptive takes one or more generator simulations and construct on-the-fly new input coordinate files for new simulations based on these generators. \n",
    "1. Generator simulations consist individual subdirectories in the ''genereratorpath'' directory. \n",
    "1. Each directory must corresponds to a single simulation and names of directories are not important. "
   ]
  },
  {
   "cell_type": "markdown",
   "metadata": {},
   "source": [
    "## How it works\n",
    "\n",
    "1. Instead of launching many simulations at once, this scheme launches simulations in sequential batches called epochs. \n",
    "\n",
    "1. At every epoch new input coordinatates are created while velocities are reinitialized to the Maxwell Boltzmann distribution at the given temperature."
   ]
  },
  {
   "cell_type": "markdown",
   "metadata": {},
   "source": [
    "## Simulation length\n",
    "1. The length of each simulation is really system dependent. \n",
    "1. It could be anything like tens of nanoseconds to hundred of nanoseconds. \n",
    "1. As a rule of thumb use twice the expected lag time for your molecular process (e.g. for binding anything between 30 and 100 ns)."
   ]
  },
  {
   "cell_type": "markdown",
   "metadata": {},
   "source": [
    "## Simulation details\n",
    "As only the coordinates files are seeded for every new epoch, simulations cannot use a velocity file. E.g. using Acemd"
   ]
  },
  {
   "cell_type": "markdown",
   "metadata": {},
   "source": [
    "```python\n",
    "acemd.binvelocities = None # remove binvelocities for respawning\n",
    "acemd.temperature = 300 # set velocities generation automatically\n",
    "```"
   ]
  },
  {
   "cell_type": "markdown",
   "metadata": {},
   "source": [
    "## Adaptive script example"
   ]
  },
  {
   "cell_type": "code",
   "execution_count": null,
   "metadata": {},
   "outputs": [],
   "source": [
    "md = AdaptiveRun()\n",
    "md.nmin=5\n",
    "md.nmax=10\n",
    "md.nepochs = 30\n",
    "md.app = AcemdLocal()\n",
    "md.dryrun = True  # creates everything but does not submit anything\n",
    "md.metricsel1 = 'name CA'\n",
    "md.metricsel2 = '(resname BEN) and ((name C7) or (name C6))'\n",
    "md.metrictype = 'contacts'\n",
    "md.metricticadim = 3\n",
    "md.updateperiod = 14400 # execute every 4 hours\n",
    "md.run()"
   ]
  },
  {
   "cell_type": "markdown",
   "metadata": {},
   "source": [
    "## Execution in a notebook \n",
    "\n",
    "1. It is possible to run the adaptive scheme syncronosly or asyncrounsly. \n",
    "1. The command ''updateperiod'' controls this behaviour. \n",
    "1. The default is to run and exist, so updateperiod needs to be specified if adaptive is run from the notebook\n",
    "\n"
   ]
  },
  {
   "cell_type": "markdown",
   "metadata": {},
   "source": [
    "## Setting a simple cron job\n",
    "\n",
    "1. This is useful for having the script to execute automatically every x hours.\n",
    "1. Do not set updateperiod then, or set it to zero such that the program will execute and exit"
   ]
  },
  {
   "cell_type": "markdown",
   "metadata": {},
   "source": [
    "```bash\n",
    "#!/bin/bash -login\n",
    "# cron.sh file\n",
    "# use crontab -e to add this line:\n",
    "# 0 */4 * * * cd /pathtomydir/; ./cron.sh\n",
    "#\n",
    "python conf.py\n",
    "```"
   ]
  },
  {
   "cell_type": "code",
   "execution_count": null,
   "metadata": {},
   "outputs": [],
   "source": [
    ""
   ]
  }
 ],
 "metadata": {
  "celltoolbar": "Slideshow",
  "kernelspec": {
   "display_name": "Python 3",
   "language": "python",
   "name": "python3"
  },
  "language_info": {
   "codemirror_mode": {
    "name": "ipython",
    "version": 3.0
   },
   "file_extension": ".py",
   "mimetype": "text/x-python",
   "name": "python",
   "nbconvert_exporter": "python",
   "pygments_lexer": "ipython3",
   "version": "3.4.3"
  }
 },
 "nbformat": 4,
 "nbformat_minor": 0
}