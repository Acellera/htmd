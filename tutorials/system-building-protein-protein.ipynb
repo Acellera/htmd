{
 "cells": [
  {
   "cell_type": "code",
   "execution_count": null,
   "metadata": {
    "collapsed": false,
    "slideshow": {
     "slide_type": "skip"
    }
   },
   "outputs": [],
   "source": [
    "from htmd import *\n",
    "htmd.config(viewer='webgl')"
   ]
  },
  {
   "cell_type": "markdown",
   "metadata": {
    "slideshow": {
     "slide_type": "slide"
    }
   },
   "source": [
    "# Barnase - Barstar. Building, simulation and adaptive setup"
   ]
  },
  {
   "cell_type": "markdown",
   "metadata": {
    "slideshow": {
     "slide_type": "-"
    }
   },
   "source": [
    "![](http://pub.htmd.org/73hboiwia98hdj209jq0/barnasebarstar.png)"
   ]
  },
  {
   "cell_type": "markdown",
   "metadata": {
    "slideshow": {
     "slide_type": "slide"
    }
   },
   "source": [
    "## Download the two proteins and view them"
   ]
  },
  {
   "cell_type": "markdown",
   "metadata": {},
   "source": [
    "You can look at their PDB information here and find out their PDB IDs. Then download them using those IDs.\n",
    "\n",
    "* [Barnase](http://www.rcsb.org/pdb/explore.do?structureId=2f4y)\n",
    "* [Barstar](http://www.rcsb.org/pdb/explore/explore.do?structureId=2hxx)\n",
    "\n",
    "You will need to create Molecule objects. Check the documentation on the [Molecule](https://www.htmd.org/docs/htmd.molecule.molecule.html) class."
   ]
  },
  {
   "cell_type": "code",
   "execution_count": null,
   "metadata": {
    "collapsed": false
   },
   "outputs": [],
   "source": [
    "# Load the molecules here\n",
    "barnase = Molecule('2f4y')\n",
    "barstar = Molecule('2hxx')"
   ]
  },
  {
   "cell_type": "markdown",
   "metadata": {
    "slideshow": {
     "slide_type": "slide"
    }
   },
   "source": [
    "## Filter the structures to keep only one chain of each"
   ]
  },
  {
   "cell_type": "markdown",
   "metadata": {},
   "source": [
    "Visualize the structures in VMD. Check the names of the chains and pick only one chain of each.\n",
    "You can keep the crystalized waters if you want."
   ]
  },
  {
   "cell_type": "code",
   "execution_count": null,
   "metadata": {
    "collapsed": true
   },
   "outputs": [],
   "source": [
    "# Filter here\n",
    "barnase.filter('chain A')\n",
    "barstar.filter('chain A')"
   ]
  },
  {
   "cell_type": "markdown",
   "metadata": {},
   "source": [
    "Visualize the filtered structures"
   ]
  },
  {
   "cell_type": "markdown",
   "metadata": {},
   "source": [
    "Assign a different chain (A, B) and segment to each protein (BRN, STR). If you kept the waters, assign them to segid W1 and W2 for both molecules.\n",
    "\n",
    "Assigning waters of both molecules to the same segid can cause problems as they have same resids."
   ]
  },
  {
   "cell_type": "code",
   "execution_count": null,
   "metadata": {
    "collapsed": true
   },
   "outputs": [],
   "source": [
    "# Assign the chains for the proteins here\n",
    "barnase.set('chain', 'A', 'protein')\n",
    "barstar.set('chain', 'B', 'protein')"
   ]
  },
  {
   "cell_type": "code",
   "execution_count": null,
   "metadata": {
    "collapsed": true
   },
   "outputs": [],
   "source": [
    "# Assign the segments for the proteins and water here\n",
    "barnase.set('segid', 'BRN')\n",
    "barstar.set('segid', 'STR')\n",
    "barnase.set('segid', 'W1', 'water')\n",
    "barstar.set('segid', 'W2', 'water')"
   ]
  },
  {
   "cell_type": "markdown",
   "metadata": {},
   "source": [
    "[Barstar](http://www.rcsb.org/pdb/explore/explore.do?structureId=2hxx) has a modified residue for which we lack the parametrization (check under \"small molecules\"). Mutate the modified Tryptophan in Barstar (resname 4IN) to a normal Tryptophan (TRP)"
   ]
  },
  {
   "cell_type": "code",
   "execution_count": null,
   "metadata": {
    "collapsed": true
   },
   "outputs": [],
   "source": [
    "# Mutate the residue here\n",
    "barstar.mutateResidue('resname 4IN', 'TRP')"
   ]
  },
  {
   "cell_type": "markdown",
   "metadata": {},
   "source": [
    "### Combine the proteins and center them\n",
    "Create a new molecule which will contain both other molecules."
   ]
  },
  {
   "cell_type": "code",
   "execution_count": null,
   "metadata": {
    "collapsed": true
   },
   "outputs": [],
   "source": [
    "# Combine here\n",
    "mol = Molecule()\n",
    "mol.append(barnase)\n",
    "mol.append(barstar)"
   ]
  },
  {
   "cell_type": "code",
   "execution_count": null,
   "metadata": {
    "collapsed": true
   },
   "outputs": [],
   "source": [
    "# Center here\n",
    "mol.center()"
   ]
  },
  {
   "cell_type": "markdown",
   "metadata": {},
   "source": [
    "### Solvate the combined system"
   ]
  },
  {
   "cell_type": "markdown",
   "metadata": {},
   "source": [
    "Find the maximum distance of the atoms from the center point.\n",
    "\n",
    "Create a 2D minmax array.\n",
    "\n",
    "Subtract 5 A from the min coordinates and add 5 A to the max coordinates to add some space in the box."
   ]
  },
  {
   "cell_type": "code",
   "execution_count": null,
   "metadata": {
    "collapsed": false
   },
   "outputs": [],
   "source": [
    "from htmd.molecule.util import maxDistance\n",
    "# Calculate the maximum distance here.\n",
    "D = maxDistance(mol)\n",
    "print(D)"
   ]
  },
  {
   "cell_type": "markdown",
   "metadata": {},
   "source": [
    "Solvate (no need to add a salt concentration)"
   ]
  },
  {
   "cell_type": "code",
   "execution_count": null,
   "metadata": {
    "collapsed": false,
    "scrolled": true
   },
   "outputs": [],
   "source": [
    "# Solvate here\n",
    "D += 5\n",
    "smol = solvate(mol, minmax=[[-D, -D, -D],[D, D, D]])"
   ]
  },
  {
   "cell_type": "markdown",
   "metadata": {},
   "source": [
    "View the solvated system (can take a minute to load in VMD)."
   ]
  },
  {
   "cell_type": "markdown",
   "metadata": {},
   "source": [
    "### Build the solvated system in CHARMM"
   ]
  },
  {
   "cell_type": "code",
   "execution_count": null,
   "metadata": {
    "collapsed": false
   },
   "outputs": [],
   "source": [
    "# Build here using charmm\n",
    "molbuilt = charmm.build(smol, outdir='./build/')"
   ]
  },
  {
   "cell_type": "markdown",
   "metadata": {},
   "source": [
    "### Prepare the equilibration folder\n",
    "Now that we have built our system in a folder, we can use the equilibration protocol to create a new directory containing all files needed for equilibrating the system. \n",
    "\n",
    "The number of equilibration steps is set very low here to speed up the tutorial. In a real case you should use a larger number."
   ]
  },
  {
   "cell_type": "code",
   "execution_count": null,
   "metadata": {
    "collapsed": false
   },
   "outputs": [],
   "source": [
    "from htmd.protocols.equilibration_v1 import Equilibration\n",
    "md = Equilibration()\n",
    "md.numsteps = 1000\n",
    "md.temperature = 300\n",
    "md.write('./build', './equil')"
   ]
  },
  {
   "cell_type": "markdown",
   "metadata": {},
   "source": [
    "Run the equilibration on the local GPU. Takes roughly 5 minutes."
   ]
  },
  {
   "cell_type": "code",
   "execution_count": null,
   "metadata": {
    "collapsed": false
   },
   "outputs": [],
   "source": [
    "mdx = AcemdLocal()\n",
    "mdx.submit('./equil')\n",
    "mdx.wait()"
   ]
  },
  {
   "cell_type": "markdown",
   "metadata": {},
   "source": [
    "### Prepare the production folder"
   ]
  },
  {
   "cell_type": "code",
   "execution_count": null,
   "metadata": {
    "collapsed": false
   },
   "outputs": [],
   "source": [
    "from htmd.protocols.production_v1 import Production\n",
    "md = Production()\n",
    "md.acemd.show()"
   ]
  },
  {
   "cell_type": "code",
   "execution_count": null,
   "metadata": {
    "collapsed": true
   },
   "outputs": [],
   "source": [
    "md.acemd.bincoordinates = 'output.coor'\n",
    "md.acemd.extendedsystem  = 'output.xsc'\n",
    "md.acemd.binvelocities=None\n",
    "md.acemd.binindex=None\n",
    "md.acemd.run='50ns'"
   ]
  },
  {
   "cell_type": "code",
   "execution_count": null,
   "metadata": {
    "collapsed": true
   },
   "outputs": [],
   "source": [
    "md.temperature = 300"
   ]
  },
  {
   "cell_type": "code",
   "execution_count": null,
   "metadata": {
    "collapsed": false
   },
   "outputs": [],
   "source": [
    "md.write('./equil', './generators/s1')"
   ]
  },
  {
   "cell_type": "markdown",
   "metadata": {},
   "source": [
    "### Prepare adaptive"
   ]
  },
  {
   "cell_type": "code",
   "execution_count": null,
   "metadata": {
    "collapsed": false
   },
   "outputs": [],
   "source": [
    "md = AdaptiveRun()\n",
    "md.nmin=2\n",
    "md.nmax=4\n",
    "md.nepochs = 30\n",
    "md.app = AcemdLocal()\n",
    "md.metricsel1 = 'name CA and chain A'\n",
    "md.metricsel2 = 'name CA and chain B'\n",
    "md.metrictype = 'contacts'\n",
    "md.ticadim = 3\n",
    "md.run()"
   ]
  }
 ],
 "metadata": {
  "celltoolbar": "Slideshow",
  "kernelspec": {
   "display_name": "Python 3",
   "language": "python",
   "name": "python3"
  },
  "language_info": {
   "codemirror_mode": {
    "name": "ipython",
    "version": 3
   },
   "file_extension": ".py",
   "mimetype": "text/x-python",
   "name": "python",
   "nbconvert_exporter": "python",
   "pygments_lexer": "ipython3",
   "version": "3.5.1"
  }
 },
 "nbformat": 4,
 "nbformat_minor": 0
}
