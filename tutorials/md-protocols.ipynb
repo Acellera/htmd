{
 "cells": [
  {
   "cell_type": "markdown",
   "metadata": {
    "slideshow": {
     "slide_type": "slide"
    }
   },
   "source": [
    "# Molecular dynamics protocols in HTMD"
   ]
  },
  {
   "cell_type": "markdown",
   "metadata": {
    "slideshow": {
     "slide_type": "-"
    }
   },
   "source": [
    "In this tutorial, we should how to equilibrate and prepare a system for productive simulations in HTMD.\n",
    "\n",
    "First, let's import HTMD:"
   ]
  },
  {
   "cell_type": "code",
   "execution_count": 1,
   "metadata": {
    "slideshow": {
     "slide_type": "-"
    }
   },
   "outputs": [
    {
     "name": "stderr",
     "output_type": "stream",
     "text": [
      "2024-06-11 15:59:07,979 - numexpr.utils - INFO - Note: NumExpr detected 20 cores but \"NUMEXPR_MAX_THREADS\" not set, so enforcing safe limit of 8.\n",
      "2024-06-11 15:59:07,980 - numexpr.utils - INFO - NumExpr defaulting to 8 threads.\n",
      "2024-06-11 15:59:08,093 - rdkit - INFO - Enabling RDKit 2022.09.1 jupyter extensions\n"
     ]
    },
    {
     "name": "stdout",
     "output_type": "stream",
     "text": [
      "\n",
      "Please cite HTMD: Doerr et al.(2016)JCTC,12,1845. https://dx.doi.org/10.1021/acs.jctc.6b00049\n",
      "HTMD Documentation at: https://software.acellera.com/htmd/\n",
      "\n",
      "You are on the latest HTMD version (2.3.28+3.ga08b1aa18.dirty).\n",
      "\n"
     ]
    }
   ],
   "source": [
    "from htmd.ui import *\n",
    "from moleculekit.config import config\n",
    "\n",
    "config(viewer='webgl')"
   ]
  },
  {
   "cell_type": "markdown",
   "metadata": {
    "slideshow": {
     "slide_type": "slide"
    }
   },
   "source": [
    "## Build a sample system"
   ]
  },
  {
   "cell_type": "markdown",
   "metadata": {},
   "source": [
    "We need a built system to perform simulations. We can easily build one with:"
   ]
  },
  {
   "cell_type": "code",
   "execution_count": 2,
   "metadata": {
    "slideshow": {
     "slide_type": "-"
    }
   },
   "outputs": [
    {
     "name": "stderr",
     "output_type": "stream",
     "text": [
      "2024-06-11 15:59:10,521 - moleculekit.molecule - INFO - Removed 72 atoms. 1629 atoms remaining in the molecule.\n"
     ]
    },
    {
     "name": "stdout",
     "output_type": "stream",
     "text": [
      "\n",
      "---- Molecule chain report ----\n",
      "Chain A:\n",
      "    First residue: ILE    16  \n",
      "    Final residue: ASN   245  \n",
      "---- End of chain report ----\n",
      "\n"
     ]
    },
    {
     "name": "stderr",
     "output_type": "stream",
     "text": [
      "2024-06-11 15:59:11,807 - moleculekit.tools.preparation - INFO - Modified residue CYS    22 A to CYX\n",
      "2024-06-11 15:59:11,808 - moleculekit.tools.preparation - INFO - Modified residue HIS    40 A to HIE\n",
      "2024-06-11 15:59:11,809 - moleculekit.tools.preparation - INFO - Modified residue CYS    42 A to CYX\n",
      "2024-06-11 15:59:11,809 - moleculekit.tools.preparation - INFO - Modified residue HIS    57 A to HIP\n",
      "2024-06-11 15:59:11,810 - moleculekit.tools.preparation - INFO - Modified residue CYS    58 A to CYX\n",
      "2024-06-11 15:59:11,811 - moleculekit.tools.preparation - INFO - Modified residue HIS    91 A to HID\n",
      "2024-06-11 15:59:11,811 - moleculekit.tools.preparation - INFO - Modified residue CYS   128 A to CYX\n",
      "2024-06-11 15:59:11,812 - moleculekit.tools.preparation - INFO - Modified residue CYS   136 A to CYX\n",
      "2024-06-11 15:59:11,812 - moleculekit.tools.preparation - INFO - Modified residue CYS   157 A to CYX\n",
      "2024-06-11 15:59:11,813 - moleculekit.tools.preparation - INFO - Modified residue CYS   168 A to CYX\n",
      "2024-06-11 15:59:11,813 - moleculekit.tools.preparation - INFO - Modified residue CYS   182 A to CYX\n",
      "2024-06-11 15:59:11,814 - moleculekit.tools.preparation - INFO - Modified residue CYS   191 A to CYX\n",
      "2024-06-11 15:59:11,814 - moleculekit.tools.preparation - INFO - Modified residue CYS   201 A to CYX\n",
      "2024-06-11 15:59:11,814 - moleculekit.tools.preparation - INFO - Modified residue CYS   220 A to CYX\n",
      "2024-06-11 15:59:11,815 - moleculekit.tools.preparation - INFO - Modified residue CYS   232 A to CYX\n",
      "2024-06-11 15:59:11,815 - moleculekit.tools.preparation - WARNING - Dubious protonation state: the pKa of 4 residues is within 1.0 units of pH 7.4.\n",
      "2024-06-11 15:59:11,816 - moleculekit.tools.preparation - WARNING - Dubious protonation state:    TYR    39 A (pKa= 8.24)\n",
      "2024-06-11 15:59:11,816 - moleculekit.tools.preparation - WARNING - Dubious protonation state:    HIS    57 A (pKa= 7.46)\n",
      "2024-06-11 15:59:11,817 - moleculekit.tools.preparation - WARNING - Dubious protonation state:    GLU    70 A (pKa= 7.06)\n",
      "2024-06-11 15:59:11,817 - moleculekit.tools.preparation - WARNING - Dubious protonation state:    ASP   189 A (pKa= 6.49)\n",
      "2024-06-11 15:59:11,828 - moleculekit.tools.autosegment - INFO - Created segment P0 between resid 16 and 245.\n",
      "2024-06-11 15:59:11,834 - htmd.builder.solvate - INFO - Using water pdb file at: /home/sdoerr/Work/htmd/htmd/share/solvate/wat.pdb\n",
      "2024-06-11 15:59:12,080 - htmd.builder.solvate - INFO - Replicating 4 water segments, 2 by 1 by 2\n",
      "Solvating: 100%|█████████████████████████████████████████████████████████████████████████████████████████████████████████████████████████| 4/4 [00:01<00:00,  3.99it/s]\n",
      "2024-06-11 15:59:13,127 - htmd.builder.solvate - INFO - 6943 water molecules were added to the system.\n"
     ]
    }
   ],
   "source": [
    "tryp = Molecule(\"3PTB\")\n",
    "tryp.filter(\"protein\")\n",
    "tryp_op = systemPrepare(tryp)\n",
    "tryp_seg = autoSegment(tryp_op)\n",
    "tryp_solv = solvate(tryp_seg,pad=10)"
   ]
  },
  {
   "cell_type": "markdown",
   "metadata": {
    "slideshow": {
     "slide_type": "slide"
    }
   },
   "source": [
    "With this solvated system and since HTMD is force-field agnostic, one can either build in CHARMM or Amber (for details on system building, see the corresponding tutorials):"
   ]
  },
  {
   "cell_type": "code",
   "execution_count": 3,
   "metadata": {
    "slideshow": {
     "slide_type": "-"
    }
   },
   "outputs": [
    {
     "name": "stderr",
     "output_type": "stream",
     "text": [
      "2024-06-11 15:59:13,940 - htmd.builder.amber - INFO - Detecting disulfide bonds.\n",
      "2024-06-11 15:59:13,944 - htmd.builder.builder - INFO - 6 disulfide bonds were added\n"
     ]
    },
    {
     "name": "stdout",
     "output_type": "stream",
     "text": [
      "Disulfide Bond between: UniqueResidueID<resname: 'CYX', chain: 'A', resid: 26, insertion: '', segid: 'P0'>\n",
      "                   and: UniqueResidueID<resname: 'CYX', chain: 'A', resid: 42, insertion: '', segid: 'P0'>\n",
      "\n",
      "Disulfide Bond between: UniqueResidueID<resname: 'CYX', chain: 'A', resid: 117, insertion: '', segid: 'P0'>\n",
      "                   and: UniqueResidueID<resname: 'CYX', chain: 'A', resid: 184, insertion: '', segid: 'P0'>\n",
      "\n",
      "Disulfide Bond between: UniqueResidueID<resname: 'CYX', chain: 'A', resid: 174, insertion: '', segid: 'P0'>\n",
      "                   and: UniqueResidueID<resname: 'CYX', chain: 'A', resid: 198, insertion: '', segid: 'P0'>\n",
      "\n",
      "Disulfide Bond between: UniqueResidueID<resname: 'CYX', chain: 'A', resid: 149, insertion: '', segid: 'P0'>\n",
      "                   and: UniqueResidueID<resname: 'CYX', chain: 'A', resid: 163, insertion: '', segid: 'P0'>\n",
      "\n",
      "Disulfide Bond between: UniqueResidueID<resname: 'CYX', chain: 'A', resid: 8, insertion: '', segid: 'P0'>\n",
      "                   and: UniqueResidueID<resname: 'CYX', chain: 'A', resid: 138, insertion: '', segid: 'P0'>\n",
      "\n",
      "Disulfide Bond between: UniqueResidueID<resname: 'CYX', chain: 'A', resid: 110, insertion: '', segid: 'P0'>\n",
      "                   and: UniqueResidueID<resname: 'CYX', chain: 'A', resid: 211, insertion: '', segid: 'P0'>\n",
      "\n"
     ]
    },
    {
     "name": "stderr",
     "output_type": "stream",
     "text": [
      "2024-06-11 15:59:14,415 - htmd.builder.amber - INFO - Starting the build.\n",
      "2024-06-11 15:59:15,264 - htmd.builder.amber - INFO - Finished building.\n",
      "2024-06-11 15:59:17,575 - htmd.builder.ionize - INFO - Adding 7 anions + 0 cations for neutralizing and 0 ions for the given salt concentration 0 M.\n",
      "2024-06-11 15:59:18,458 - htmd.builder.amber - INFO - Starting the build.\n",
      "2024-06-11 15:59:19,344 - htmd.builder.amber - INFO - Finished building.\n",
      "2024-06-11 15:59:21,460 - py.warnings - WARNING - /home/sdoerr/miniforge3/envs/htmd/lib/python3.10/site-packages/Bio/pairwise2.py:278: BiopythonDeprecationWarning: Bio.pairwise2 has been deprecated, and we intend to remove it in a future release of Biopython. As an alternative, please consider using Bio.Align.PairwiseAligner as a replacement, and contact the Biopython developers if you still need the Bio.pairwise2 module.\n",
      "  warnings.warn(\n",
      "\n",
      "2024-06-11 15:59:22,474 - moleculekit.tools.sequencestructuralalignment - INFO - Alignment #0 was done on 223 residues: 2-224\n"
     ]
    }
   ],
   "source": [
    "tryp_amber = amber.build(tryp_solv, outdir='build-amber')"
   ]
  },
  {
   "cell_type": "markdown",
   "metadata": {
    "slideshow": {
     "slide_type": "slide"
    }
   },
   "source": [
    "## Equilibration protocol"
   ]
  },
  {
   "cell_type": "markdown",
   "metadata": {},
   "source": [
    "First, let's import the `Equilibration` class, which is an MD protocol:"
   ]
  },
  {
   "cell_type": "code",
   "execution_count": 4,
   "metadata": {},
   "outputs": [],
   "source": [
    "from htmd.protocols.equilibration_v3 import Equilibration"
   ]
  },
  {
   "cell_type": "markdown",
   "metadata": {},
   "source": [
    "The MD protocols are not imported automatically, the user must choose which one to use."
   ]
  },
  {
   "cell_type": "markdown",
   "metadata": {
    "slideshow": {
     "slide_type": "slide"
    }
   },
   "source": [
    "Now let's start an `Equilibration` object, which already has sensible defaults for an equilibration MD simulation and let's define the remaining ones:"
   ]
  },
  {
   "cell_type": "code",
   "execution_count": 5,
   "metadata": {},
   "outputs": [],
   "source": [
    "md = Equilibration()\n",
    "md.runtime = 1000\n",
    "md.timeunits = 'fs'\n",
    "md.temperature = 300\n",
    "md.useconstantratio = False  # only for membrane sims\n",
    "# # Add a 10A flat bottom potential to prevent the ligand from diffusing from original position during equilibration\n",
    "# width = np.array([10, 10, 10])\n",
    "# flatbot = GroupRestraint('segname L and noh', width, [(5, '0ns')])\n",
    "# md.restraints = [flatbot] + md.defaultEquilRestraints('20ns')\n",
    "md.write('./build-amber/', './equil')"
   ]
  },
  {
   "cell_type": "markdown",
   "metadata": {},
   "source": [
    "One can inspect what the `Equilibration` object has created with the `write` method:"
   ]
  },
  {
   "cell_type": "code",
   "execution_count": 6,
   "metadata": {},
   "outputs": [
    {
     "name": "stdout",
     "output_type": "stream",
     "text": [
      "input  parameters  \u001b[0m\u001b[01;32mrun.sh\u001b[0m*  structure.pdb  structure.prmtop\n"
     ]
    }
   ],
   "source": [
    "%ls equil/"
   ]
  },
  {
   "cell_type": "markdown",
   "metadata": {
    "slideshow": {
     "slide_type": "slide"
    }
   },
   "source": [
    "## Run the equilibration"
   ]
  },
  {
   "cell_type": "markdown",
   "metadata": {},
   "source": [
    "Now, let's use the queue resources of HTMD to run the simulation. One can use the local computer and the `LocalGPUQueue` class to submit a job. The equilibration time is short (see above) for demonstration purposes:"
   ]
  },
  {
   "cell_type": "code",
   "execution_count": 7,
   "metadata": {},
   "outputs": [
    {
     "name": "stderr",
     "output_type": "stream",
     "text": [
      "2024-06-11 15:59:25,712 - jobqueues.util - INFO - Trying to determine all GPU devices\n",
      "2024-06-11 15:59:25,752 - jobqueues.localqueue - INFO - Using GPU devices 0\n",
      "2024-06-11 15:59:25,753 - jobqueues.util - INFO - Trying to determine all GPU devices\n",
      "2024-06-11 15:59:25,783 - jobqueues.localqueue - INFO - Queueing /home/sdoerr/Work/htmd/tutorials/equil\n",
      "2024-06-11 15:59:25,784 - jobqueues.localqueue - INFO - Running /home/sdoerr/Work/htmd/tutorials/equil on device 0\n",
      "2024-06-11 15:59:42,979 - jobqueues.localqueue - INFO - Completed /home/sdoerr/Work/htmd/tutorials/equil\n"
     ]
    }
   ],
   "source": [
    "local = LocalGPUQueue()\n",
    "local.submit('./equil/')\n",
    "local.wait()"
   ]
  },
  {
   "cell_type": "markdown",
   "metadata": {
    "slideshow": {
     "slide_type": "slide"
    }
   },
   "source": [
    "## Production protocol"
   ]
  },
  {
   "cell_type": "markdown",
   "metadata": {},
   "source": [
    "Now let's use the `Production` class and do the same as before to perform a short production MD simulation:"
   ]
  },
  {
   "cell_type": "code",
   "execution_count": 8,
   "metadata": {},
   "outputs": [],
   "source": [
    "from htmd.protocols.production_v6 import Production"
   ]
  },
  {
   "cell_type": "code",
   "execution_count": 9,
   "metadata": {},
   "outputs": [],
   "source": [
    "md = Production()\n",
    "md.runtime = 1\n",
    "md.timeunits = 'ns'\n",
    "md.temperature  = 300\n",
    "md.acemd.bincoordinates = 'output.coor'\n",
    "md.acemd.extendedsystem  = 'output.xsc'\n",
    "md.write('equil','prod')"
   ]
  },
  {
   "cell_type": "code",
   "execution_count": 11,
   "metadata": {},
   "outputs": [
    {
     "name": "stdout",
     "output_type": "stream",
     "text": [
      "input       input.xsc   \u001b[0m\u001b[01;32mrun.sh\u001b[0m*        structure.prmtop\n",
      "input.coor  parameters  structure.pdb\n"
     ]
    }
   ],
   "source": [
    "%ls prod/"
   ]
  },
  {
   "cell_type": "markdown",
   "metadata": {
    "slideshow": {
     "slide_type": "slide"
    }
   },
   "source": [
    "## Run the production"
   ]
  },
  {
   "cell_type": "code",
   "execution_count": 12,
   "metadata": {},
   "outputs": [
    {
     "name": "stderr",
     "output_type": "stream",
     "text": [
      "2024-06-11 16:00:02,235 - jobqueues.util - INFO - Trying to determine all GPU devices\n",
      "2024-06-11 16:00:02,280 - jobqueues.localqueue - INFO - Using GPU devices 0\n",
      "2024-06-11 16:00:02,281 - jobqueues.util - INFO - Trying to determine all GPU devices\n",
      "2024-06-11 16:00:02,309 - jobqueues.localqueue - INFO - Queueing /home/sdoerr/Work/htmd/tutorials/prod\n",
      "2024-06-11 16:00:02,310 - jobqueues.localqueue - INFO - Running /home/sdoerr/Work/htmd/tutorials/prod on device 0\n",
      "2024-06-11 16:02:42,625 - jobqueues.localqueue - INFO - Completed /home/sdoerr/Work/htmd/tutorials/prod\n"
     ]
    }
   ],
   "source": [
    "local = LocalGPUQueue()\n",
    "local.submit('./prod/')\n",
    "local.wait()"
   ]
  },
  {
   "cell_type": "markdown",
   "metadata": {},
   "source": [
    "When the above process finished, one can check that a trajectory was produced:"
   ]
  },
  {
   "cell_type": "code",
   "execution_count": 13,
   "metadata": {},
   "outputs": [
    {
     "name": "stdout",
     "output_type": "stream",
     "text": [
      "prod/output.xtc\n"
     ]
    }
   ],
   "source": [
    "%ls prod/output.xtc"
   ]
  },
  {
   "cell_type": "markdown",
   "metadata": {
    "slideshow": {
     "slide_type": "slide"
    }
   },
   "source": [
    "## Quickly visualize the trajectory"
   ]
  },
  {
   "cell_type": "code",
   "execution_count": 14,
   "metadata": {},
   "outputs": [
    {
     "name": "stderr",
     "output_type": "stream",
     "text": [
      "2024-06-11 16:02:47,993 - moleculekit.molecule - WARNING - Wrapping detected 0 bonds and 24045 atoms. Ignore this message if you believe this is accurate, otherwise make sure you have loaded a topology containing all the bonds of the system before wrapping. The results may be inaccurate. If you want to use guessed bonds use the guessBonds argument.\n"
     ]
    },
    {
     "data": {
      "application/vnd.jupyter.widget-view+json": {
       "model_id": "7f97d03805c94ed48bd7668437231a28",
       "version_major": 2,
       "version_minor": 0
      },
      "text/plain": []
     },
     "metadata": {},
     "output_type": "display_data"
    },
    {
     "data": {
      "application/vnd.jupyter.widget-view+json": {
       "model_id": "a6938a1a84f34fd58098ee2db8dfb152",
       "version_major": 2,
       "version_minor": 0
      },
      "text/plain": [
       "NGLWidget(max_frame=9)"
      ]
     },
     "metadata": {},
     "output_type": "display_data"
    }
   ],
   "source": [
    "traj = Molecule('prod/structure.pdb')\n",
    "traj.read('prod/output.xtc')\n",
    "traj.wrap()\n",
    "traj.align('protein and name CA')\n",
    "traj.view()"
   ]
  },
  {
   "cell_type": "markdown",
   "metadata": {},
   "source": [
    "**Note:** Waters are not shown for clarity"
   ]
  },
  {
   "cell_type": "code",
   "execution_count": null,
   "metadata": {},
   "outputs": [],
   "source": []
  }
 ],
 "metadata": {
  "anaconda-cloud": {},
  "celltoolbar": "Slideshow",
  "kernelspec": {
   "display_name": "Python 3 (ipykernel)",
   "language": "python",
   "name": "python3"
  },
  "language_info": {
   "codemirror_mode": {
    "name": "ipython",
    "version": 3
   },
   "file_extension": ".py",
   "mimetype": "text/x-python",
   "name": "python",
   "nbconvert_exporter": "python",
   "pygments_lexer": "ipython3",
   "version": "3.10.13"
  }
 },
 "nbformat": 4,
 "nbformat_minor": 4
}
