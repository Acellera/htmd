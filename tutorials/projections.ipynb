{
 "cells": [
  {
   "cell_type": "markdown",
   "metadata": {
    "slideshow": {
     "slide_type": "slide"
    }
   },
   "source": [
    "# Getting Started with Projections"
   ]
  },
  {
   "cell_type": "markdown",
   "metadata": {},
   "source": [
    "Here, we are showing some basic functionalities for analysing MD trajectories using `Projection` classes. First, let's import HTMD:"
   ]
  },
  {
   "cell_type": "code",
   "execution_count": 1,
   "metadata": {},
   "outputs": [
    {
     "name": "stderr",
     "output_type": "stream",
     "text": [
      "2024-06-11 18:08:42,913 - numexpr.utils - INFO - Note: NumExpr detected 20 cores but \"NUMEXPR_MAX_THREADS\" not set, so enforcing safe limit of 8.\n",
      "2024-06-11 18:08:42,914 - numexpr.utils - INFO - NumExpr defaulting to 8 threads.\n",
      "2024-06-11 18:08:43,027 - rdkit - INFO - Enabling RDKit 2022.09.1 jupyter extensions\n"
     ]
    },
    {
     "name": "stdout",
     "output_type": "stream",
     "text": [
      "\n",
      "Please cite HTMD: Doerr et al.(2016)JCTC,12,1845. https://dx.doi.org/10.1021/acs.jctc.6b00049\n",
      "HTMD Documentation at: https://software.acellera.com/htmd/\n",
      "\n",
      "You are on the latest HTMD version (2.3.28+7.g46a4ca83e.dirty).\n",
      "\n"
     ]
    }
   ],
   "source": [
    "from htmd.ui import *\n",
    "from moleculekit.config import config\n",
    "from matplotlib import pylab as plt\n",
    "\n",
    "config(viewer='webgl')"
   ]
  },
  {
   "cell_type": "markdown",
   "metadata": {
    "slideshow": {
     "slide_type": "slide"
    }
   },
   "source": [
    "## Projecting simulations"
   ]
  },
  {
   "cell_type": "markdown",
   "metadata": {
    "slideshow": {
     "slide_type": "-"
    }
   },
   "source": [
    "Get the data for this tutorial [here](http://pub.htmd.org/tutorials/projections/data.tar.gz). Alternatively, you can download the data using `wget`:"
   ]
  },
  {
   "cell_type": "code",
   "execution_count": 2,
   "metadata": {},
   "outputs": [],
   "source": [
    "import os\n",
    "assert os.system('wget -rcN -np -nH -q --cut-dirs=2 -R index.html* http://pub.htmd.org/tutorials/projections/data/') == 0"
   ]
  },
  {
   "cell_type": "markdown",
   "metadata": {
    "slideshow": {
     "slide_type": "-"
    }
   },
   "source": [
    "We will be doing two types of data projections:\n",
    "* Projecting single Molecule objects\n",
    "* Projecting lists of simulations"
   ]
  },
  {
   "cell_type": "markdown",
   "metadata": {
    "slideshow": {
     "slide_type": "slide"
    }
   },
   "source": [
    "## Projecting single Molecule objects"
   ]
  },
  {
   "cell_type": "markdown",
   "metadata": {},
   "source": [
    "One can load a previously simulated single MD trajectory (in this case, NTL9 protein) into a `Molecule` object and visualize it using:"
   ]
  },
  {
   "cell_type": "code",
   "execution_count": 3,
   "metadata": {},
   "outputs": [
    {
     "name": "stderr",
     "output_type": "stream",
     "text": [
      "2024-06-11 18:09:06,033 - moleculekit.molecule - INFO - Removed 17 atoms. 631 atoms remaining in the molecule.\n"
     ]
    },
    {
     "data": {
      "application/vnd.jupyter.widget-view+json": {
       "model_id": "28b3ab2842774d8cafec010edd0afd56",
       "version_major": 2,
       "version_minor": 0
      },
      "text/plain": []
     },
     "metadata": {},
     "output_type": "display_data"
    },
    {
     "data": {
      "application/vnd.jupyter.widget-view+json": {
       "model_id": "218b94aa4cd94b84960cca840bc8873d",
       "version_major": 2,
       "version_minor": 0
      },
      "text/plain": [
       "NGLWidget(max_frame=9)"
      ]
     },
     "metadata": {},
     "output_type": "display_data"
    }
   ],
   "source": [
    "mol = Molecule('data/ntl9_structure.psf')\n",
    "mol.read('data/ntl9_trajectory.xtc')\n",
    "mol.filter('protein')\n",
    "mol.view()"
   ]
  },
  {
   "cell_type": "markdown",
   "metadata": {
    "slideshow": {
     "slide_type": "slide"
    }
   },
   "source": [
    "### Getting the RMSD along time"
   ]
  },
  {
   "cell_type": "markdown",
   "metadata": {},
   "source": [
    "HTMD has many projection classes. One of those classes is `MetricRmsd`."
   ]
  },
  {
   "cell_type": "markdown",
   "metadata": {},
   "source": [
    "Using the `MetricRmsd` class, one may calculate the RMSD of a `Molecule` object against a reference structure (`refmol`, e.g. the crystal structure) for a given atom selection (`trajrmsdstr`):"
   ]
  },
  {
   "cell_type": "code",
   "execution_count": 4,
   "metadata": {
    "scrolled": true,
    "slideshow": {
     "slide_type": "-"
    }
   },
   "outputs": [
    {
     "name": "stdout",
     "output_type": "stream",
     "text": [
      "[16.360521  15.793981  14.122061  14.7720175 13.908776  12.928344\n",
      " 11.541591  10.691926  10.778459  12.866117 ]\n"
     ]
    }
   ],
   "source": [
    "crystal = Molecule('data/ntl9_crystal.pdb')\n",
    "metr = MetricRmsd(refmol=crystal, trajrmsdstr='protein and name CA')\n",
    "proj = metr.project(mol)\n",
    "print(proj)"
   ]
  },
  {
   "cell_type": "markdown",
   "metadata": {},
   "source": [
    "The values are in Angstroms. They are quite high values, because the sample trajectory is of the unfolded protein (see the visualization above)."
   ]
  },
  {
   "cell_type": "markdown",
   "metadata": {
    "slideshow": {
     "slide_type": "slide"
    }
   },
   "source": [
    "### Plot the RMSD along time"
   ]
  },
  {
   "cell_type": "markdown",
   "metadata": {},
   "source": [
    "The previously obtained RMSD values can be easily plotted using matplotlib:"
   ]
  },
  {
   "cell_type": "code",
   "execution_count": 5,
   "metadata": {
    "slideshow": {
     "slide_type": "-"
    }
   },
   "outputs": [
    {
     "data": {
      "image/png": "[encoded data removed]",
      "text/plain": [
       "<Figure size 640x480 with 1 Axes>"
      ]
     },
     "metadata": {},
     "output_type": "display_data"
    }
   ],
   "source": [
    "time_range = mol.fstep*np.arange(len(proj))\n",
    "plt.plot(time_range, proj)\n",
    "_ = plt.xlabel('Time (ns)')\n",
    "_ = plt.ylabel('RMSD to crystal')"
   ]
  },
  {
   "cell_type": "markdown",
   "metadata": {
    "slideshow": {
     "slide_type": "slide"
    }
   },
   "source": [
    "## Projecting a list of MD simulations"
   ]
  },
  {
   "cell_type": "markdown",
   "metadata": {},
   "source": [
    "With the arrival of Markov state models, the paradigm of running one single long simulation has shifted to running hundreds or thousands of shorter simulations."
   ]
  },
  {
   "cell_type": "markdown",
   "metadata": {},
   "source": [
    "With the analysis of a large amount of MD trajectories in mind, in HTMD, the `simlist` function can be used to bundle all the trajectories together:"
   ]
  },
  {
   "cell_type": "code",
   "execution_count": 6,
   "metadata": {},
   "outputs": [
    {
     "name": "stderr",
     "output_type": "stream",
     "text": [
      "Creating simlist: 100%|████████████████████████████████████████████████████████████████████████████████████████████████████████████████| 3/3 [00:00<00:00, 2150.56it/s]\n"
     ]
    }
   ],
   "source": [
    "sims = simlist(glob('data/1/filtered/*/'), 'data/1/filtered/filtered.pdb')"
   ]
  },
  {
   "cell_type": "markdown",
   "metadata": {
    "slideshow": {
     "slide_type": "slide"
    }
   },
   "source": [
    "### Use Metric class to project a list of simulations"
   ]
  },
  {
   "cell_type": "markdown",
   "metadata": {},
   "source": [
    "Using the `Metric` class, one can calculate all the projections of an entire simlist at once. In this case, the `MetricDistance` projection class is used, which calculates the matrix of distances between two selections (`sel1` and `sel2`):"
   ]
  },
  {
   "cell_type": "code",
   "execution_count": 7,
   "metadata": {},
   "outputs": [
    {
     "name": "stderr",
     "output_type": "stream",
     "text": [
      "Projecting trajectories: 100%|███████████████████████████████████████████████████████████████████████████████████████████████████████████| 3/3 [00:00<00:00, 12.45it/s]\n",
      "2024-06-11 18:09:18,666 - htmd.projections.metric - INFO - Frame step 0.001ns was read from the trajectories. If it looks wrong, redefine it by manually setting the MetricData.fstep property.\n"
     ]
    }
   ],
   "source": [
    "metr = Metric(sims)\n",
    "metr.set(MetricDistance(sel1='protein and name CA', sel2='resname MOL and noh', periodic='selections', metric='distances'))\n",
    "data = metr.project()\n",
    "data.fstep = 0.1"
   ]
  },
  {
   "cell_type": "markdown",
   "metadata": {},
   "source": [
    "Here, the projection is the matrix of distances between each carbon alpha of the protein and each heavy atom of the MOL molecule (which in the case of these trajectories, it's a ligand binding to the protein)"
   ]
  },
  {
   "cell_type": "markdown",
   "metadata": {
    "slideshow": {
     "slide_type": "slide"
    }
   },
   "source": [
    "The `Metric.project` method returns a `MetricData` object which contains the trajectory and projection information:"
   ]
  },
  {
   "cell_type": "code",
   "execution_count": 8,
   "metadata": {},
   "outputs": [
    {
     "name": "stdout",
     "output_type": "stream",
     "text": [
      "MetricData object with 3 trajectories of 60.0ns aggregate simulation time\n",
      "Centers: None\n",
      "K: None\n",
      "N: None\n",
      "description: <class 'pandas.core.frame.DataFrame'> at 0x78decc2d44f0\n",
      "fstep: 0.1\n",
      "parent: <class 'NoneType'> at 0x55ab3b8027e0\n",
      "trajectories shape: (3,)\n"
     ]
    }
   ],
   "source": [
    "print(data)"
   ]
  },
  {
   "cell_type": "markdown",
   "metadata": {
    "slideshow": {
     "slide_type": "slide"
    }
   },
   "source": [
    "## Working with MetricData objects"
   ]
  },
  {
   "cell_type": "markdown",
   "metadata": {},
   "source": [
    "The `MetricData` object contains the information on each trajectory, including the corresponding projection. For example, for simulation 2:"
   ]
  },
  {
   "cell_type": "code",
   "execution_count": 10,
   "metadata": {},
   "outputs": [
    {
     "name": "stdout",
     "output_type": "stream",
     "text": [
      "sim: simid = 2\n",
      "projection: np.array(shape=(200, 2493))\n",
      "reference: np.array(shape=(200, 2))\n",
      "cluster: None\n",
      "\n"
     ]
    }
   ],
   "source": [
    "print(data.trajectories[2])"
   ]
  },
  {
   "cell_type": "markdown",
   "metadata": {
    "slideshow": {
     "slide_type": "slide"
    }
   },
   "source": [
    "The projection data can be easily accessed as a whole in the `MetricData.dat` property, which is an array of size equal to the number of trajectories. We can check the projection data of simulation 14 with:"
   ]
  },
  {
   "cell_type": "code",
   "execution_count": 11,
   "metadata": {},
   "outputs": [
    {
     "data": {
      "text/plain": [
       "array([[46.903584, 48.459248, 48.862976, ..., 52.245136, 51.477478,\n",
       "        52.081757],\n",
       "       [42.60737 , 42.6003  , 43.467403, ..., 46.8291  , 47.731323,\n",
       "        45.771404],\n",
       "       [45.674603, 44.244358, 44.22837 , ..., 53.92176 , 54.58503 ,\n",
       "        53.017155],\n",
       "       ...,\n",
       "       [37.174904, 38.622143, 39.415646, ..., 37.552174, 37.359898,\n",
       "        36.812588],\n",
       "       [41.236233, 42.631603, 43.36949 , ..., 41.442356, 41.54479 ,\n",
       "        41.618164],\n",
       "       [45.716003, 45.90263 , 46.41945 , ..., 44.92147 , 44.872147,\n",
       "        44.011333]], dtype=float32)"
      ]
     },
     "execution_count": 11,
     "metadata": {},
     "output_type": "execute_result"
    }
   ],
   "source": [
    "data.dat[2]  # equivalent to data.trajectories[2].projection"
   ]
  },
  {
   "cell_type": "code",
   "execution_count": 13,
   "metadata": {},
   "outputs": [
    {
     "data": {
      "text/plain": [
       "(200, 2493)"
      ]
     },
     "execution_count": 13,
     "metadata": {},
     "output_type": "execute_result"
    }
   ],
   "source": [
    "data.dat[2].shape"
   ]
  },
  {
   "cell_type": "code",
   "execution_count": 14,
   "metadata": {},
   "outputs": [
    {
     "name": "stdout",
     "output_type": "stream",
     "text": [
      "(600, 2493)\n"
     ]
    }
   ],
   "source": [
    "bundledprojs = np.vstack(data.dat) # np.concatenate can be used instead as well\n",
    "print(bundledprojs.shape)"
   ]
  },
  {
   "cell_type": "markdown",
   "metadata": {
    "slideshow": {
     "slide_type": "slide"
    }
   },
   "source": [
    "### Operations and calculations"
   ]
  },
  {
   "cell_type": "markdown",
   "metadata": {},
   "source": [
    "One can use numpy functions like `np.min`, `np.max`, `np.average` to do calculations over the projected data:\n",
    "* get the global minimum over all data"
   ]
  },
  {
   "cell_type": "code",
   "execution_count": 15,
   "metadata": {},
   "outputs": [
    {
     "name": "stdout",
     "output_type": "stream",
     "text": [
      "3.2580273\n"
     ]
    }
   ],
   "source": [
    "global_minimum = np.min(bundledprojs)\n",
    "print(global_minimum)"
   ]
  },
  {
   "cell_type": "markdown",
   "metadata": {},
   "source": [
    "* get the maximum distance on each frame:"
   ]
  },
  {
   "cell_type": "code",
   "execution_count": 16,
   "metadata": {},
   "outputs": [
    {
     "name": "stdout",
     "output_type": "stream",
     "text": [
      "(600,)\n"
     ]
    },
    {
     "data": {
      "text/plain": [
       "array([54.39825 , 53.998096, 55.228672, 51.56171 , 47.534378, 48.122726,\n",
       "       54.234592, 52.287495, 56.084633, 59.717773, 58.638866, 59.020008,\n",
       "       58.540077, 61.697826, 62.762337, 64.88375 , 57.164936, 61.46919 ,\n",
       "       61.785923, 51.648315, 50.93795 , 49.167656, 51.03158 , 49.82826 ,\n",
       "       50.78649 , 53.217636, 53.40074 , 54.59295 , 54.21768 , 49.040817,\n",
       "       49.194637, 51.379505, 53.340816, 52.982063, 53.229916, 52.800793,\n",
       "       51.121067, 50.52078 , 50.51849 , 53.35154 , 54.840214, 50.428257,\n",
       "       46.97517 , 48.814857, 46.214386, 47.91875 , 46.25085 , 46.454384,\n",
       "       48.536522, 47.89751 , 48.45051 , 47.181534, 50.3011  , 47.37468 ,\n",
       "       44.809082, 44.76846 , 44.396427, 49.58187 , 49.452393, 44.699467,\n",
       "       49.425236, 49.30479 , 48.831734, 48.04636 , 46.891056, 46.507465,\n",
       "       53.23867 , 52.209763, 51.905357, 52.760147, 53.15323 , 52.926044,\n",
       "       54.556217, 55.611897, 52.046055, 51.92997 , 50.818188, 51.01256 ,\n",
       "       49.769115, 49.608753, 50.520557, 52.815094, 51.304066, 49.99397 ,\n",
       "       50.81137 , 51.18169 , 49.10415 , 48.43612 , 52.17957 , 52.73203 ,\n",
       "       54.345753, 55.31595 , 55.39871 , 54.839466, 53.79522 , 53.284203,\n",
       "       47.44944 , 47.25443 , 46.913074, 48.135517, 46.80235 , 44.899788,\n",
       "       44.704002, 45.82361 , 46.498   , 46.07886 , 46.025085, 44.451492,\n",
       "       43.400375, 44.925617, 42.78121 , 42.454422, 44.038147, 44.447018,\n",
       "       43.457703, 44.942665, 48.482765, 50.187347, 51.073917, 49.428154,\n",
       "       48.50524 , 53.109505, 53.980877, 56.261894, 58.69202 , 58.06872 ,\n",
       "       58.765503, 60.141937, 56.34336 , 58.222004, 59.827217, 57.84348 ,\n",
       "       57.62419 , 59.43873 , 63.62348 , 64.050095, 62.193985, 59.517525,\n",
       "       58.832714, 61.67116 , 60.90755 , 58.634247, 60.395714, 60.144405,\n",
       "       49.775978, 48.653896, 49.283756, 56.077488, 49.26251 , 49.198658,\n",
       "       46.681004, 45.703247, 44.092865, 46.880257, 47.840847, 48.930866,\n",
       "       49.26276 , 48.424484, 51.754177, 53.38187 , 50.517876, 50.88899 ,\n",
       "       48.957874, 50.86398 , 49.52347 , 51.52822 , 48.15141 , 49.787586,\n",
       "       51.295555, 51.341866, 51.10505 , 49.70342 , 49.799862, 51.583054,\n",
       "       50.491463, 52.18646 , 51.79193 , 52.027943, 48.697643, 45.54545 ,\n",
       "       47.359547, 49.45975 , 48.112698, 52.51411 , 55.656136, 56.812218,\n",
       "       57.211945, 61.67162 , 60.73994 , 55.838486, 60.59322 , 52.707558,\n",
       "       59.200516, 55.77005 , 49.959007, 52.27606 , 53.4685  , 50.195663,\n",
       "       51.83982 , 46.972984, 58.02898 , 55.06521 , 56.92774 , 58.603672,\n",
       "       63.162193, 65.49683 , 55.11986 , 53.408955, 56.06107 , 51.011993,\n",
       "       54.8826  , 56.91488 , 58.846996, 59.789986, 60.955803, 62.344776,\n",
       "       61.62976 , 64.16956 , 58.623585, 61.526814, 58.12016 , 59.657608,\n",
       "       54.12708 , 51.00011 , 55.123035, 65.394104, 58.940674, 58.358627,\n",
       "       55.95053 , 56.449535, 52.173878, 55.778507, 57.703293, 57.1664  ,\n",
       "       51.501755, 48.076046, 50.35523 , 49.17984 , 47.47704 , 49.505035,\n",
       "       51.633377, 49.627056, 46.418175, 47.777798, 47.576702, 46.133038,\n",
       "       45.152557, 45.07051 , 47.970413, 48.24823 , 45.96343 , 45.115925,\n",
       "       45.666515, 46.490425, 45.549976, 46.01706 , 45.453964, 45.515446,\n",
       "       45.9844  , 47.13223 , 48.836105, 47.906868, 48.961525, 48.519596,\n",
       "       48.76764 , 51.081234, 46.477844, 46.278347, 44.705566, 44.669548,\n",
       "       44.54288 , 45.592293, 46.39919 , 47.019867, 45.584335, 45.207325,\n",
       "       46.80933 , 47.135063, 45.75573 , 45.835392, 47.149216, 46.10952 ,\n",
       "       47.89244 , 45.813976, 47.050255, 48.913574, 44.89156 , 47.54856 ,\n",
       "       45.633278, 48.73144 , 46.68292 , 46.73932 , 46.027905, 45.327396,\n",
       "       44.535587, 45.38553 , 47.58102 , 45.6692  , 45.515438, 43.811703,\n",
       "       44.08468 , 43.837803, 43.91667 , 44.465282, 44.301987, 44.174892,\n",
       "       46.657036, 48.582195, 47.261246, 50.408527, 49.713585, 47.64656 ,\n",
       "       51.807453, 48.009163, 54.441814, 52.480442, 59.65425 , 58.270264,\n",
       "       55.087585, 49.165928, 48.586834, 45.99378 , 48.621094, 49.504105,\n",
       "       50.48702 , 51.915627, 50.50157 , 51.82167 , 53.708004, 56.92613 ,\n",
       "       57.959114, 55.430756, 55.34785 , 49.523216, 48.99247 , 53.743862,\n",
       "       58.072803, 54.772854, 55.80709 , 55.54166 , 58.58327 , 60.215855,\n",
       "       57.643593, 58.334824, 58.690002, 58.64841 , 59.40299 , 58.352924,\n",
       "       55.96094 , 56.374454, 56.63217 , 62.827335, 63.720257, 62.8327  ,\n",
       "       65.87671 , 66.41088 , 64.80266 , 64.03413 , 67.14985 , 66.259865,\n",
       "       66.994804, 66.42933 , 65.72711 , 67.06555 , 65.66709 , 67.08758 ,\n",
       "       66.65906 , 65.61816 , 66.19741 , 67.06138 , 64.4134  , 57.828926,\n",
       "       55.1021  , 56.112644, 53.194065, 53.170574, 51.061966, 49.55039 ,\n",
       "       53.800117, 48.612778, 45.44221 , 47.68182 , 45.53881 , 44.353558,\n",
       "       52.942116, 54.64368 , 53.352097, 57.189117, 50.115234, 54.437584,\n",
       "       53.27835 , 51.984848, 45.55794 , 48.964207, 44.674267, 46.13538 ,\n",
       "       48.80334 , 45.493282, 52.49222 , 49.369164, 58.97841 , 56.06166 ,\n",
       "       59.335297, 54.887905, 54.104248, 51.059814, 48.11115 , 54.588306,\n",
       "       53.761787, 53.98229 , 52.87779 , 54.162224, 59.98114 , 61.48215 ,\n",
       "       60.23783 , 58.839363, 54.243195, 56.94387 , 55.312115, 59.235455,\n",
       "       55.783768, 51.72166 , 48.023804, 49.09402 , 55.95665 , 52.98509 ,\n",
       "       53.49044 , 55.68321 , 56.54712 , 54.37112 , 57.356087, 53.08747 ,\n",
       "       56.73367 , 57.498043, 53.299854, 53.063465, 49.98735 , 47.216633,\n",
       "       46.92734 , 57.599716, 57.037083, 55.949203, 57.110626, 65.150894,\n",
       "       63.827003, 64.43011 , 63.66299 , 66.6226  , 65.895065, 63.64519 ,\n",
       "       64.096016, 66.76584 , 64.84866 , 62.557846, 64.06469 , 62.43578 ,\n",
       "       64.79868 , 61.621136, 67.271355, 66.31896 , 67.36595 , 63.282326,\n",
       "       59.729267, 62.05453 , 58.38107 , 51.13966 , 53.981583, 48.66814 ,\n",
       "       54.832336, 54.26662 , 52.33797 , 51.29319 , 48.323696, 49.479324,\n",
       "       48.924763, 48.606667, 51.652077, 50.38462 , 47.688026, 48.65353 ,\n",
       "       48.816105, 46.393612, 46.657574, 44.796963, 45.534355, 48.16918 ,\n",
       "       48.30007 , 46.139935, 46.76868 , 45.927097, 45.686913, 45.812035,\n",
       "       48.05082 , 45.105473, 44.635887, 45.34747 , 46.082073, 44.79861 ,\n",
       "       45.04778 , 46.79814 , 46.277466, 46.9441  , 45.258972, 45.755707,\n",
       "       45.79995 , 45.970932, 44.646935, 48.003036, 46.15737 , 46.15521 ,\n",
       "       47.198174, 46.622158, 45.844547, 47.209805, 48.396137, 48.344986,\n",
       "       44.753998, 48.834183, 49.35003 , 51.633755, 49.904186, 49.072594,\n",
       "       49.796757, 50.38063 , 48.495564, 48.504204, 50.45795 , 49.709827,\n",
       "       49.515602, 48.371593, 50.092323, 51.048428, 50.520065, 49.9667  ,\n",
       "       52.122448, 49.67022 , 50.168163, 48.1803  , 49.34701 , 47.397907,\n",
       "       54.972626, 55.23825 , 54.018005, 51.48479 , 48.516758, 47.862297,\n",
       "       47.40332 , 58.441353, 51.811367, 52.852455, 59.88181 , 59.017944,\n",
       "       54.427086, 56.746006, 56.548817, 59.612827, 59.378536, 58.37478 ,\n",
       "       56.771206, 53.756557, 55.679623, 56.572567, 54.465122, 47.28183 ,\n",
       "       49.553474, 49.845093, 50.886894, 50.45243 , 53.55668 , 51.049065,\n",
       "       53.551304, 58.681187, 56.133167, 55.18882 , 56.56295 , 55.322258,\n",
       "       54.262825, 56.165165, 57.029556, 66.84226 , 60.031006, 60.488953,\n",
       "       61.970337, 55.85079 , 54.538193, 51.219833, 54.06704 , 53.40585 ,\n",
       "       53.578785, 47.85516 , 53.82843 , 53.730743, 54.80984 , 55.104183,\n",
       "       49.593353, 53.362053, 46.985603, 49.279034, 52.47066 , 48.883205],\n",
       "      dtype=float32)"
      ]
     },
     "execution_count": 16,
     "metadata": {},
     "output_type": "execute_result"
    }
   ],
   "source": [
    "max_eachframe = np.max(bundledprojs,axis=1)\n",
    "print(max_eachframe.shape)\n",
    "max_eachframe"
   ]
  },
  {
   "cell_type": "markdown",
   "metadata": {
    "slideshow": {
     "slide_type": "slide"
    }
   },
   "source": [
    "* or get the average of each pair across all frames:"
   ]
  },
  {
   "cell_type": "code",
   "execution_count": 17,
   "metadata": {},
   "outputs": [
    {
     "name": "stdout",
     "output_type": "stream",
     "text": [
      "(2493,)\n"
     ]
    },
    {
     "data": {
      "text/plain": [
       "array([34.71057 , 34.667583, 34.678036, ..., 39.51156 , 39.480606,\n",
       "       39.56731 ], dtype=float32)"
      ]
     },
     "execution_count": 17,
     "metadata": {},
     "output_type": "execute_result"
    }
   ],
   "source": [
    "avg_acrossframes = np.average(bundledprojs,axis=0)\n",
    "print(avg_acrossframes.shape)\n",
    "avg_acrossframes"
   ]
  },
  {
   "cell_type": "markdown",
   "metadata": {},
   "source": [
    "The `axis` property is important to make the operation over the desired dimension:\n",
    "\n",
    "* `axis=1`, in this case, operates over all pairs, to give a result for each frame\n",
    "* `axis=0`, in this case, operates over all frames, to give a result for each pair\n",
    "\n",
    "But how can we know to what particular atoms of the system corresponds a given indexed pair?"
   ]
  },
  {
   "cell_type": "markdown",
   "metadata": {
    "slideshow": {
     "slide_type": "slide"
    }
   },
   "source": [
    "### Playing with the projection mapping"
   ]
  },
  {
   "cell_type": "markdown",
   "metadata": {},
   "source": [
    "The mapping (meaning of each index) of the projection can be obtained from the `MetricData.map` property:\n",
    "\n",
    "* the mapping is a pandas `DataFrame` object\n",
    "\n",
    "The `head` method of `DataFrame` can be used to print the top entries of the mapping:"
   ]
  },
  {
   "cell_type": "code",
   "execution_count": 18,
   "metadata": {},
   "outputs": [
    {
     "data": {
      "text/html": [
       "<div>\n",
       "<style scoped>\n",
       "    .dataframe tbody tr th:only-of-type {\n",
       "        vertical-align: middle;\n",
       "    }\n",
       "\n",
       "    .dataframe tbody tr th {\n",
       "        vertical-align: top;\n",
       "    }\n",
       "\n",
       "    .dataframe thead th {\n",
       "        text-align: right;\n",
       "    }\n",
       "</style>\n",
       "<table border=\"1\" class=\"dataframe\">\n",
       "  <thead>\n",
       "    <tr style=\"text-align: right;\">\n",
       "      <th></th>\n",
       "      <th>type</th>\n",
       "      <th>atomIndexes</th>\n",
       "      <th>description</th>\n",
       "    </tr>\n",
       "  </thead>\n",
       "  <tbody>\n",
       "    <tr>\n",
       "      <th>0</th>\n",
       "      <td>distance</td>\n",
       "      <td>[4, 4480]</td>\n",
       "      <td>distance between GLU 1 CA and MOL 278 C3</td>\n",
       "    </tr>\n",
       "    <tr>\n",
       "      <th>1</th>\n",
       "      <td>distance</td>\n",
       "      <td>[4, 4483]</td>\n",
       "      <td>distance between GLU 1 CA and MOL 278 C2</td>\n",
       "    </tr>\n",
       "    <tr>\n",
       "      <th>2</th>\n",
       "      <td>distance</td>\n",
       "      <td>[4, 4486]</td>\n",
       "      <td>distance between GLU 1 CA and MOL 278 C1</td>\n",
       "    </tr>\n",
       "    <tr>\n",
       "      <th>3</th>\n",
       "      <td>distance</td>\n",
       "      <td>[4, 4489]</td>\n",
       "      <td>distance between GLU 1 CA and MOL 278 C6</td>\n",
       "    </tr>\n",
       "    <tr>\n",
       "      <th>4</th>\n",
       "      <td>distance</td>\n",
       "      <td>[4, 4492]</td>\n",
       "      <td>distance between GLU 1 CA and MOL 278 C5</td>\n",
       "    </tr>\n",
       "  </tbody>\n",
       "</table>\n",
       "</div>"
      ],
      "text/plain": [
       "       type atomIndexes                               description\n",
       "0  distance   [4, 4480]  distance between GLU 1 CA and MOL 278 C3\n",
       "1  distance   [4, 4483]  distance between GLU 1 CA and MOL 278 C2\n",
       "2  distance   [4, 4486]  distance between GLU 1 CA and MOL 278 C1\n",
       "3  distance   [4, 4489]  distance between GLU 1 CA and MOL 278 C6\n",
       "4  distance   [4, 4492]  distance between GLU 1 CA and MOL 278 C5"
      ]
     },
     "execution_count": 18,
     "metadata": {},
     "output_type": "execute_result"
    }
   ],
   "source": [
    "data.map.head()"
   ]
  },
  {
   "cell_type": "markdown",
   "metadata": {
    "slideshow": {
     "slide_type": "slide"
    }
   },
   "source": [
    "One can assess particular elements of the mapping through:\n",
    "\n",
    "* `iloc` - i(nteger)loc(ation):"
   ]
  },
  {
   "cell_type": "code",
   "execution_count": 19,
   "metadata": {},
   "outputs": [
    {
     "data": {
      "text/html": [
       "<div>\n",
       "<style scoped>\n",
       "    .dataframe tbody tr th:only-of-type {\n",
       "        vertical-align: middle;\n",
       "    }\n",
       "\n",
       "    .dataframe tbody tr th {\n",
       "        vertical-align: top;\n",
       "    }\n",
       "\n",
       "    .dataframe thead th {\n",
       "        text-align: right;\n",
       "    }\n",
       "</style>\n",
       "<table border=\"1\" class=\"dataframe\">\n",
       "  <thead>\n",
       "    <tr style=\"text-align: right;\">\n",
       "      <th></th>\n",
       "      <th>type</th>\n",
       "      <th>atomIndexes</th>\n",
       "      <th>description</th>\n",
       "    </tr>\n",
       "  </thead>\n",
       "  <tbody>\n",
       "    <tr>\n",
       "      <th>20</th>\n",
       "      <td>distance</td>\n",
       "      <td>[29, 4486]</td>\n",
       "      <td>distance between ASP 3 CA and MOL 278 C1</td>\n",
       "    </tr>\n",
       "    <tr>\n",
       "      <th>21</th>\n",
       "      <td>distance</td>\n",
       "      <td>[29, 4489]</td>\n",
       "      <td>distance between ASP 3 CA and MOL 278 C6</td>\n",
       "    </tr>\n",
       "  </tbody>\n",
       "</table>\n",
       "</div>"
      ],
      "text/plain": [
       "        type atomIndexes                               description\n",
       "20  distance  [29, 4486]  distance between ASP 3 CA and MOL 278 C1\n",
       "21  distance  [29, 4489]  distance between ASP 3 CA and MOL 278 C6"
      ]
     },
     "execution_count": 19,
     "metadata": {},
     "output_type": "execute_result"
    }
   ],
   "source": [
    "data.map.iloc[20:22]"
   ]
  },
  {
   "cell_type": "markdown",
   "metadata": {},
   "source": [
    " * `loc` (using the DataFrame index):"
   ]
  },
  {
   "cell_type": "code",
   "execution_count": 20,
   "metadata": {},
   "outputs": [
    {
     "data": {
      "text/plain": [
       "type                                           distance\n",
       "atomIndexes                                  [29, 4486]\n",
       "description    distance between ASP 3 CA and MOL 278 C1\n",
       "Name: 20, dtype: object"
      ]
     },
     "execution_count": 20,
     "metadata": {},
     "output_type": "execute_result"
    }
   ],
   "source": [
    "data.map.loc[20]"
   ]
  },
  {
   "cell_type": "markdown",
   "metadata": {},
   "source": [
    "* or direct assess to the array elements:"
   ]
  },
  {
   "cell_type": "code",
   "execution_count": 21,
   "metadata": {},
   "outputs": [
    {
     "data": {
      "text/plain": [
       "'distance between ASP 3 CA and MOL 278 C1'"
      ]
     },
     "execution_count": 21,
     "metadata": {},
     "output_type": "execute_result"
    }
   ],
   "source": [
    "data.map['description'][20]"
   ]
  },
  {
   "cell_type": "markdown",
   "metadata": {
    "slideshow": {
     "slide_type": "slide"
    }
   },
   "source": [
    "One can use the mapping to find out to what particular pair of elements the minimum distance found in the trajectories corresponds to."
   ]
  },
  {
   "cell_type": "markdown",
   "metadata": {},
   "source": [
    "The `np.where` functionality gives us the array coordinates where a given condition is matched (in this case, when the distance is equal to the minimum):"
   ]
  },
  {
   "cell_type": "code",
   "execution_count": 22,
   "metadata": {},
   "outputs": [
    {
     "name": "stdout",
     "output_type": "stream",
     "text": [
      "3.2580273\n",
      "[26]\n",
      "[3.2580273]\n"
     ]
    }
   ],
   "source": [
    "print(global_minimum)\n",
    "frame, index = np.where(bundledprojs == global_minimum)\n",
    "print(index)\n",
    "print(bundledprojs[frame, index]) # confirm that indeed these coordinates correspond the inquired value"
   ]
  },
  {
   "cell_type": "markdown",
   "metadata": {},
   "source": [
    "Then, using the index in the mapping shown before:"
   ]
  },
  {
   "cell_type": "code",
   "execution_count": 23,
   "metadata": {},
   "outputs": [
    {
     "data": {
      "text/html": [
       "<div>\n",
       "<style scoped>\n",
       "    .dataframe tbody tr th:only-of-type {\n",
       "        vertical-align: middle;\n",
       "    }\n",
       "\n",
       "    .dataframe tbody tr th {\n",
       "        vertical-align: top;\n",
       "    }\n",
       "\n",
       "    .dataframe thead th {\n",
       "        text-align: right;\n",
       "    }\n",
       "</style>\n",
       "<table border=\"1\" class=\"dataframe\">\n",
       "  <thead>\n",
       "    <tr style=\"text-align: right;\">\n",
       "      <th></th>\n",
       "      <th>type</th>\n",
       "      <th>atomIndexes</th>\n",
       "      <th>description</th>\n",
       "    </tr>\n",
       "  </thead>\n",
       "  <tbody>\n",
       "    <tr>\n",
       "      <th>26</th>\n",
       "      <td>distance</td>\n",
       "      <td>[29, 4500]</td>\n",
       "      <td>distance between ASP 3 CA and MOL 278 N2</td>\n",
       "    </tr>\n",
       "  </tbody>\n",
       "</table>\n",
       "</div>"
      ],
      "text/plain": [
       "        type atomIndexes                               description\n",
       "26  distance  [29, 4500]  distance between ASP 3 CA and MOL 278 N2"
      ]
     },
     "execution_count": 23,
     "metadata": {},
     "output_type": "execute_result"
    }
   ],
   "source": [
    "data.map.iloc[index]"
   ]
  },
  {
   "cell_type": "markdown",
   "metadata": {},
   "source": [
    "gives us the atom indexes and description of the pair."
   ]
  }
 ],
 "metadata": {
  "anaconda-cloud": {},
  "celltoolbar": "Slideshow",
  "kernelspec": {
   "display_name": "Python 3 (ipykernel)",
   "language": "python",
   "name": "python3"
  },
  "language_info": {
   "codemirror_mode": {
    "name": "ipython",
    "version": 3
   },
   "file_extension": ".py",
   "mimetype": "text/x-python",
   "name": "python",
   "nbconvert_exporter": "python",
   "pygments_lexer": "ipython3",
   "version": "3.10.13"
  }
 },
 "nbformat": 4,
 "nbformat_minor": 4
}
