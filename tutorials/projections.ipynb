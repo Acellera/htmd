{
 "cells": [
  {
   "cell_type": "code",
   "execution_count": 1,
   "metadata": {
    "slideshow": {
     "slide_type": "skip"
    }
   },
   "outputs": [
    {
     "name": "stdout",
     "output_type": "stream",
     "text": [
      "\n",
      "Please cite -- HTMD: High-Throughput Molecular Dynamics for Molecular Discovery\n",
      "J. Chem. Theory Comput., 2016, 12 (4), pp 1845-1852. \n",
      "http://pubs.acs.org/doi/abs/10.1021/acs.jctc.6b00049\n",
      "\n",
      "You are on the latest HTMD version (unpackaged : /shared/sdoerr/Work/htmdacellera/htmd).\n",
      "\n",
      "Populating the interactive namespace from numpy and matplotlib\n"
     ]
    },
    {
     "name": "stderr",
     "output_type": "stream",
     "text": [
      "/shared/sdoerr/Software/anaconda3/lib/python3.5/site-packages/IPython/core/magics/pylab.py:161: UserWarning: pylab import has clobbered these variables: ['random']\n",
      "`%matplotlib` prevents importing * from pylab and numpy\n",
      "  \"\\n`%matplotlib` prevents importing * from pylab and numpy\"\n"
     ]
    }
   ],
   "source": [
    "from htmd.ui import *\n",
    "config(viewer='webgl')\n",
    "%pylab inline"
   ]
  },
  {
   "cell_type": "markdown",
   "metadata": {
    "slideshow": {
     "slide_type": "slide"
    }
   },
   "source": [
    "# Projecting simulations\n",
    "\n",
    "Get the data for this tutorial [here](http://pub.htmd.org/ntl9/ntl9_data.tar.gz).\n",
    "\n",
    "* Projecting single Molecule objects\n",
    "* Projecting lists of simulations"
   ]
  },
  {
   "cell_type": "markdown",
   "metadata": {
    "slideshow": {
     "slide_type": "slide"
    }
   },
   "source": [
    "## Projecting single Molecule objects"
   ]
  },
  {
   "cell_type": "code",
   "execution_count": 2,
   "metadata": {},
   "outputs": [
    {
     "name": "stderr",
     "output_type": "stream",
     "text": [
      "2016-11-04 14:19:41,855 - htmd.molecule.molecule - INFO - Removed 17 atoms. 631 atoms remaining in the molecule.\n"
     ]
    }
   ],
   "source": [
    "mol = Molecule('ntl9_structure.pdb')\n",
    "mol.read('ntl9_trajectory.xtc')\n",
    "mol.filter('protein')\n",
    "mol.view()"
   ]
  },
  {
   "cell_type": "code",
   "execution_count": 3,
   "metadata": {},
   "outputs": [],
   "source": [
    "crystal = Molecule('ntl9_crystal.pdb')\n",
    "crystal.view()"
   ]
  },
  {
   "cell_type": "code",
   "execution_count": 17,
   "metadata": {
    "slideshow": {
     "slide_type": "slide"
    }
   },
   "outputs": [
    {
     "data": {
      "image/png": "[encoded data removed]",
      "text/plain": [
       "<matplotlib.figure.Figure at 0x7fc97c337dd8>"
      ]
     },
     "metadata": {},
     "output_type": "display_data"
    }
   ],
   "source": [
    "metr = MetricRmsd(crystal, 'protein and name CA')\n",
    "proj = metr.project(mol)\n",
    "\n",
    "plt.plot(mol.fstep*np.arange(len(proj)), proj)\n",
    "_ = plt.xlabel('Time (ns)')\n",
    "_ = plt.ylabel('RMSD to crystal')"
   ]
  },
  {
   "cell_type": "markdown",
   "metadata": {
    "collapsed": true,
    "slideshow": {
     "slide_type": "slide"
    }
   },
   "source": [
    "## Projecting a simlist"
   ]
  },
  {
   "cell_type": "code",
   "execution_count": 5,
   "metadata": {},
   "outputs": [
    {
     "name": "stdout",
     "output_type": "stream",
     "text": [
      "Creating simlist: 100% (314/314) [#################################] eta 00:01 \\\n",
      "Projecting trajectories: 100% (313/313) [##########################] eta 00:00 /\n"
     ]
    },
    {
     "name": "stderr",
     "output_type": "stream",
     "text": [
      "2016-11-04 14:20:20,574 - htmd.projections.metric - INFO - Frame step 1e-06ns was read from the trajectories. If it looks wrong, redefine it by manually setting the MetricData.fstep property.\n"
     ]
    }
   ],
   "source": [
    "sims = simlist(glob('datasets/1/filtered/*/'), 'datasets/1/filtered/filtered.pdb')\n",
    "metr = Metric(sims)\n",
    "metr.set(MetricDistance('protein and name CA', 'resname MOL and noh', metric='contacts'))\n",
    "data = metr.project()\n",
    "data.fstep = 0.1"
   ]
  },
  {
   "cell_type": "markdown",
   "metadata": {
    "slideshow": {
     "slide_type": "slide"
    }
   },
   "source": [
    "## Working with data maps"
   ]
  },
  {
   "cell_type": "code",
   "execution_count": 6,
   "metadata": {},
   "outputs": [
    {
     "name": "stdout",
     "output_type": "stream",
     "text": [
      "(200, 2493)\n"
     ]
    }
   ],
   "source": [
    "print(data.dat[14].shape)"
   ]
  },
  {
   "cell_type": "markdown",
   "metadata": {},
   "source": [
    "* Each row is a frame of simulation 14\n",
    "* So what does each collumn correspond to?\n",
    "\n",
    "Get mapping from:\n",
    "* Either data.map (if we used `simlists`)\n",
    "* Or from the projection class directly"
   ]
  },
  {
   "cell_type": "code",
   "execution_count": 7,
   "metadata": {},
   "outputs": [
    {
     "data": {
      "text/html": [
       "<div>\n",
       "<table border=\"1\" class=\"dataframe\">\n",
       "  <thead>\n",
       "    <tr style=\"text-align: right;\">\n",
       "      <th></th>\n",
       "      <th>atomIndexes</th>\n",
       "      <th>description</th>\n",
       "      <th>type</th>\n",
       "    </tr>\n",
       "  </thead>\n",
       "  <tbody>\n",
       "    <tr>\n",
       "      <th>0</th>\n",
       "      <td>[4, 4480]</td>\n",
       "      <td>contact between GLU 1 CA and MOL 278 C3</td>\n",
       "      <td>contact</td>\n",
       "    </tr>\n",
       "    <tr>\n",
       "      <th>1</th>\n",
       "      <td>[19, 4480]</td>\n",
       "      <td>contact between ALA 2 CA and MOL 278 C3</td>\n",
       "      <td>contact</td>\n",
       "    </tr>\n",
       "    <tr>\n",
       "      <th>2</th>\n",
       "      <td>[29, 4480]</td>\n",
       "      <td>contact between ASP 3 CA and MOL 278 C3</td>\n",
       "      <td>contact</td>\n",
       "    </tr>\n",
       "    <tr>\n",
       "      <th>3</th>\n",
       "      <td>[41, 4480]</td>\n",
       "      <td>contact between CYX 4 CA and MOL 278 C3</td>\n",
       "      <td>contact</td>\n",
       "    </tr>\n",
       "    <tr>\n",
       "      <th>4</th>\n",
       "      <td>[51, 4480]</td>\n",
       "      <td>contact between GLY 5 CA and MOL 278 C3</td>\n",
       "      <td>contact</td>\n",
       "    </tr>\n",
       "  </tbody>\n",
       "</table>\n",
       "</div>"
      ],
      "text/plain": [
       "  atomIndexes                              description     type\n",
       "0   [4, 4480]  contact between GLU 1 CA and MOL 278 C3  contact\n",
       "1  [19, 4480]  contact between ALA 2 CA and MOL 278 C3  contact\n",
       "2  [29, 4480]  contact between ASP 3 CA and MOL 278 C3  contact\n",
       "3  [41, 4480]  contact between CYX 4 CA and MOL 278 C3  contact\n",
       "4  [51, 4480]  contact between GLY 5 CA and MOL 278 C3  contact"
      ]
     },
     "execution_count": 7,
     "metadata": {},
     "output_type": "execute_result"
    }
   ],
   "source": [
    "data.map.head()"
   ]
  },
  {
   "cell_type": "code",
   "execution_count": 8,
   "metadata": {},
   "outputs": [
    {
     "data": {
      "text/html": [
       "<div>\n",
       "<table border=\"1\" class=\"dataframe\">\n",
       "  <thead>\n",
       "    <tr style=\"text-align: right;\">\n",
       "      <th></th>\n",
       "      <th>atomIndexes</th>\n",
       "      <th>description</th>\n",
       "      <th>type</th>\n",
       "    </tr>\n",
       "  </thead>\n",
       "  <tbody>\n",
       "    <tr>\n",
       "      <th>0</th>\n",
       "      <td>[8, 25]</td>\n",
       "      <td>distance between MET 1 CA and LYS 2 CA</td>\n",
       "      <td>distance</td>\n",
       "    </tr>\n",
       "    <tr>\n",
       "      <th>1</th>\n",
       "      <td>[8, 47]</td>\n",
       "      <td>distance between MET 1 CA and VAL 3 CA</td>\n",
       "      <td>distance</td>\n",
       "    </tr>\n",
       "    <tr>\n",
       "      <th>2</th>\n",
       "      <td>[8, 63]</td>\n",
       "      <td>distance between MET 1 CA and ILE 4 CA</td>\n",
       "      <td>distance</td>\n",
       "    </tr>\n",
       "    <tr>\n",
       "      <th>3</th>\n",
       "      <td>[8, 82]</td>\n",
       "      <td>distance between MET 1 CA and PHE 5 CA</td>\n",
       "      <td>distance</td>\n",
       "    </tr>\n",
       "    <tr>\n",
       "      <th>4</th>\n",
       "      <td>[8, 102]</td>\n",
       "      <td>distance between MET 1 CA and LEU 6 CA</td>\n",
       "      <td>distance</td>\n",
       "    </tr>\n",
       "  </tbody>\n",
       "</table>\n",
       "</div>"
      ],
      "text/plain": [
       "  atomIndexes                             description      type\n",
       "0     [8, 25]  distance between MET 1 CA and LYS 2 CA  distance\n",
       "1     [8, 47]  distance between MET 1 CA and VAL 3 CA  distance\n",
       "2     [8, 63]  distance between MET 1 CA and ILE 4 CA  distance\n",
       "3     [8, 82]  distance between MET 1 CA and PHE 5 CA  distance\n",
       "4    [8, 102]  distance between MET 1 CA and LEU 6 CA  distance"
      ]
     },
     "execution_count": 8,
     "metadata": {},
     "output_type": "execute_result"
    }
   ],
   "source": [
    "mapping = MetricSelfDistance('protein and name CA').getMapping(mol)\n",
    "mapping.head()"
   ]
  },
  {
   "cell_type": "markdown",
   "metadata": {
    "slideshow": {
     "slide_type": "slide"
    }
   },
   "source": [
    "## Indexing pandas DataFrames"
   ]
  },
  {
   "cell_type": "code",
   "execution_count": 19,
   "metadata": {},
   "outputs": [
    {
     "data": {
      "text/html": [
       "<div>\n",
       "<table border=\"1\" class=\"dataframe\">\n",
       "  <thead>\n",
       "    <tr style=\"text-align: right;\">\n",
       "      <th></th>\n",
       "      <th>atomIndexes</th>\n",
       "      <th>description</th>\n",
       "      <th>type</th>\n",
       "    </tr>\n",
       "  </thead>\n",
       "  <tbody>\n",
       "    <tr>\n",
       "      <th>20</th>\n",
       "      <td>[321, 4480]</td>\n",
       "      <td>contact between ARG 21 CA and MOL 278 C3</td>\n",
       "      <td>contact</td>\n",
       "    </tr>\n",
       "    <tr>\n",
       "      <th>21</th>\n",
       "      <td>[345, 4480]</td>\n",
       "      <td>contact between GLU 22 CA and MOL 278 C3</td>\n",
       "      <td>contact</td>\n",
       "    </tr>\n",
       "  </tbody>\n",
       "</table>\n",
       "</div>"
      ],
      "text/plain": [
       "    atomIndexes                               description     type\n",
       "20  [321, 4480]  contact between ARG 21 CA and MOL 278 C3  contact\n",
       "21  [345, 4480]  contact between GLU 22 CA and MOL 278 C3  contact"
      ]
     },
     "execution_count": 19,
     "metadata": {},
     "output_type": "execute_result"
    }
   ],
   "source": [
    "data.map.iloc[20:22]  # i(nteger)loc(ation)"
   ]
  },
  {
   "cell_type": "code",
   "execution_count": 10,
   "metadata": {},
   "outputs": [
    {
     "data": {
      "text/plain": [
       "atomIndexes                                 [321, 4480]\n",
       "description    contact between ARG 21 CA and MOL 278 C3\n",
       "type                                            contact\n",
       "Name: 20, dtype: object"
      ]
     },
     "execution_count": 10,
     "metadata": {},
     "output_type": "execute_result"
    }
   ],
   "source": [
    "data.map.loc[20]   # Using the DataFrame index"
   ]
  },
  {
   "cell_type": "code",
   "execution_count": 11,
   "metadata": {},
   "outputs": [
    {
     "data": {
      "text/plain": [
       "'contact between ARG 21 CA and MOL 278 C3'"
      ]
     },
     "execution_count": 11,
     "metadata": {},
     "output_type": "execute_result"
    }
   ],
   "source": [
    "data.map['description'][20]"
   ]
  }
 ],
 "metadata": {
  "anaconda-cloud": {},
  "celltoolbar": "Slideshow",
  "kernelspec": {
   "display_name": "Python [conda root]",
   "language": "python",
   "name": "conda-root-py"
  },
  "language_info": {
   "codemirror_mode": {
    "name": "ipython",
    "version": 3.0
   },
   "file_extension": ".py",
   "mimetype": "text/x-python",
   "name": "python",
   "nbconvert_exporter": "python",
   "pygments_lexer": "ipython3",
   "version": "3.5.3"
  }
 },
 "nbformat": 4,
 "nbformat_minor": 0
}